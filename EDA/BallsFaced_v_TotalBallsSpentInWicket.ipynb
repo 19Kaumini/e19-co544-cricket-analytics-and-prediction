{
 "cells": [
  {
   "cell_type": "markdown",
   "metadata": {},
   "source": [
    "This is to check the relation between the number of balls a batsman faces and the total time he spents in the pitch"
   ]
  },
  {
   "cell_type": "code",
   "execution_count": 1,
   "metadata": {},
   "outputs": [
    {
     "name": "stdout",
     "output_type": "stream",
     "text": [
      "<class 'pandas.core.frame.DataFrame'>\n",
      "RangeIndex: 217242 entries, 0 to 217241\n",
      "Data columns (total 32 columns):\n",
      " #   Column               Non-Null Count   Dtype  \n",
      "---  ------               --------------   -----  \n",
      " 0   batter               217242 non-null  object \n",
      " 1   bowler               217242 non-null  object \n",
      " 2   non_striker          217242 non-null  object \n",
      " 3   runs_by_bat          217242 non-null  int64  \n",
      " 4   extra_runs           217242 non-null  int64  \n",
      " 5   total_runs_delivery  217242 non-null  int64  \n",
      " 6   current_team_total   217242 non-null  int64  \n",
      " 7   runs_remain          217242 non-null  float64\n",
      " 8   batter_runs          217242 non-null  int64  \n",
      " 9   balls_faced          217242 non-null  int64  \n",
      " 10  wickets_fallen       217242 non-null  int64  \n",
      " 11  extra_type           217242 non-null  object \n",
      " 12  delivery             217242 non-null  float64\n",
      " 13  over                 217242 non-null  int64  \n",
      " 14  wicket_type          217242 non-null  object \n",
      " 15  player_out           217242 non-null  object \n",
      " 16  toss_decision        217242 non-null  object \n",
      " 17  toss_winner          217242 non-null  object \n",
      " 18  innings              217242 non-null  int64  \n",
      " 19  venue                217242 non-null  object \n",
      " 20  year                 217242 non-null  int64  \n",
      " 21  month                217242 non-null  int64  \n",
      " 22  match_id             217242 non-null  object \n",
      " 23  winning_team         217242 non-null  object \n",
      " 24  batting_team         217242 non-null  object \n",
      " 25  bowling_team         217242 non-null  object \n",
      " 26  won                  217242 non-null  float64\n",
      " 27  final_team_total     217242 non-null  int64  \n",
      " 28  batter_type          217242 non-null  object \n",
      " 29  non_striker_type     217242 non-null  object \n",
      " 30  bowler_type          217242 non-null  object \n",
      " 31  replacements         217242 non-null  object \n",
      "dtypes: float64(3), int64(12), object(17)\n",
      "memory usage: 53.0+ MB\n"
     ]
    }
   ],
   "source": [
    "import pandas as pd\n",
    "import numpy as np\n",
    "import matplotlib.pyplot as plt\n",
    "\n",
    "# Load the data\n",
    "data = pd.read_csv('../Data/selected_data/processed_data.csv')\n",
    "data.info()"
   ]
  },
  {
   "cell_type": "code",
   "execution_count": 22,
   "metadata": {},
   "outputs": [
    {
     "name": "stdout",
     "output_type": "stream",
     "text": [
      "1.515623695547232 1.8266195013957072\n"
     ]
    }
   ],
   "source": [
    "\n",
    "gp = data.groupby(['match_id', 'batter'])\n",
    "cols = ['balls_faced', 'over', 'delivery']\n",
    "balls_df= gp.last().loc[:, cols]\n",
    "\n",
    "# get the first ball he faced or at non-striker\n",
    "first_ball = gp.first().loc[:, ['over', 'delivery']]\n",
    "first_ball['first_ball'] = (first_ball['over'] * 6 + first_ball['delivery']).astype(int)\n",
    "\n",
    "balls_df['first_ball'] = first_ball['first_ball']\n",
    "\n",
    "# adding new features\n",
    "# strike rate\n",
    "balls_df['last_ball'] = (balls_df['over'] * 6 + balls_df['delivery']).astype(int)\n",
    "balls_df['balls_spent_in_middle'] = balls_df['last_ball'] - balls_df['first_ball']\n",
    "\n",
    "# drop over and delivery\n",
    "balls_df.drop(['over', 'delivery', 'first_ball', 'last_ball'], inplace=True, axis=1)\n",
    "\n",
    "\n",
    "balls_df['ratio'] = balls_df['balls_spent_in_middle'] / balls_df['balls_faced']\n",
    "\n",
    "mean_ratio = balls_df['ratio'].mean()\n",
    "mean_x_over_mean_y = balls_df['balls_spent_in_middle'].mean() / balls_df['balls_faced'].mean()\n",
    "print(mean_ratio, mean_x_over_mean_y)"
   ]
  }
 ],
 "metadata": {
  "kernelspec": {
   "display_name": "Python 3",
   "language": "python",
   "name": "python3"
  },
  "language_info": {
   "codemirror_mode": {
    "name": "ipython",
    "version": 3
   },
   "file_extension": ".py",
   "mimetype": "text/x-python",
   "name": "python",
   "nbconvert_exporter": "python",
   "pygments_lexer": "ipython3",
   "version": "3.11.5"
  }
 },
 "nbformat": 4,
 "nbformat_minor": 2
}
