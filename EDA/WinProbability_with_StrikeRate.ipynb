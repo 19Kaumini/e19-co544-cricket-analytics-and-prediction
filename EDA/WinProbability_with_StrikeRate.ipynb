{
 "cells": [
  {
   "cell_type": "code",
   "execution_count": 9,
   "id": "60e3de5d-4ad0-40b4-9996-7d05226dd10f",
   "metadata": {},
   "outputs": [
    {
     "name": "stdout",
     "output_type": "stream",
     "text": [
      "   Col1     batter  total_runs_delivery  balls_faced winning_team\n",
      "0     0   AJ Finch                    0            1    Sri Lanka\n",
      "1     1   AJ Finch                    0            2    Sri Lanka\n",
      "2     2   AJ Finch                    1            3    Sri Lanka\n",
      "3     3  M Klinger                    2            1    Sri Lanka\n",
      "4     4  M Klinger                    0            2    Sri Lanka\n"
     ]
    }
   ],
   "source": [
    "import pandas as pd\n",
    "\n",
    "# Specify columns to read\n",
    "usecols = ['Col1', 'batter', 'total_runs_delivery', 'balls_faced', 'winning_team']\n",
    "\n",
    "# Read the CSV file with selected columns\n",
    "df = pd.read_csv(\"merged_data.csv\", usecols=usecols)\n",
    "\n",
    "# Display the first few rows of the DataFrame\n",
    "print(df.head())\n"
   ]
  },
  {
   "cell_type": "code",
   "execution_count": 14,
   "id": "d73be2f7-7f0b-4ef9-a9ae-0a03be380762",
   "metadata": {},
   "outputs": [
    {
     "name": "stdout",
     "output_type": "stream",
     "text": [
      "        Col1        batter  total_runs_delivery  balls_faced winning_team\n",
      "0          0      AJ Finch                    0            1    Sri Lanka\n",
      "1          1      AJ Finch                    0            2    Sri Lanka\n",
      "2          2      AJ Finch                    1            3    Sri Lanka\n",
      "500        3      AJ Finch                    0            4    Australia\n",
      "501        4      AJ Finch                    1            5    Australia\n",
      "...      ...           ...                  ...          ...          ...\n",
      "120910   132    RD Gaikwad                    6           62    Australia\n",
      "29882    133   Hazratullah                    4           73  Afghanistan\n",
      "152917   134     RA Jadeja                    1            5  West Indies\n",
      "125929   135  Taskin Ahmed                    1            3    Sri Lanka\n",
      "152919   136     RA Jadeja                    1            6  West Indies\n",
      "\n",
      "[137 rows x 5 columns]\n"
     ]
    }
   ],
   "source": [
    "import pandas as pd\n",
    "\n",
    "df = pd.read_csv(\"merged_data.csv\", usecols=['Col1', 'batter', 'total_runs_delivery', 'balls_faced', 'winning_team'])\n",
    "\n",
    "innings_groups = df.groupby('Col1')\n",
    "\n",
    "most_balled_batters = []\n",
    "\n",
    "for inning, group in innings_groups:\n",
    "    most_balled_batter = group.loc[group['balls_faced'].idxmax()]\n",
    "    most_balled_batters.append(most_balled_batter)\n",
    "\n",
    "most_balled_batters_df = pd.DataFrame(most_balled_batters)\n",
    "\n",
    "print(most_balled_batters_df)\n"
   ]
  },
  {
   "cell_type": "code",
   "execution_count": 15,
   "id": "ab1d2caf-66a7-4635-b032-18e57ba30fb3",
   "metadata": {},
   "outputs": [
    {
     "name": "stdout",
     "output_type": "stream",
     "text": [
      "     Col1    batter  total_runs_delivery  balls_faced winning_team  \\\n",
      "0       0  AJ Finch                    0            1    Sri Lanka   \n",
      "1       1  AJ Finch                    0            2    Sri Lanka   \n",
      "2       2  AJ Finch                    1            3    Sri Lanka   \n",
      "500     3  AJ Finch                    0            4    Australia   \n",
      "501     4  AJ Finch                    1            5    Australia   \n",
      "\n",
      "     strike_rate  \n",
      "0       0.000000  \n",
      "1       0.000000  \n",
      "2       0.333333  \n",
      "500     0.000000  \n",
      "501     0.200000  \n"
     ]
    }
   ],
   "source": [
    "\n",
    "most_balled_batters_df['strike_rate'] = most_balled_batters_df['total_runs_delivery'] / most_balled_batters_df['balls_faced']\n",
    "\n",
    "print(most_balled_batters_df.head())\n"
   ]
  },
  {
   "cell_type": "code",
   "execution_count": 17,
   "id": "c23a9df8-c8c8-4202-8f98-d7b32f447455",
   "metadata": {},
   "outputs": [
    {
     "name": "stdout",
     "output_type": "stream",
     "text": [
      "     Col1    batter  total_runs_delivery  balls_faced winning_team  \\\n",
      "0       0  AJ Finch                    0            1    Sri Lanka   \n",
      "1       1  AJ Finch                    0            2    Sri Lanka   \n",
      "2       2  AJ Finch                    1            3    Sri Lanka   \n",
      "500     3  AJ Finch                    0            4    Australia   \n",
      "501     4  AJ Finch                    1            5    Australia   \n",
      "\n",
      "     strike_rate  mean_strike_rate  \n",
      "0       0.000000          0.824505  \n",
      "1       0.000000          0.564923  \n",
      "2       0.333333          0.448244  \n",
      "500     0.000000          0.381836  \n",
      "501     0.200000          0.331080  \n"
     ]
    }
   ],
   "source": [
    "\n",
    "innings_groups = df.groupby('Col1')\n",
    "\n",
    "mean_strike_rates = []\n",
    "\n",
    "for inning, group in innings_groups:\n",
    "    most_balled_batter = group.loc[group['balls_faced'].idxmax()]\n",
    "    \n",
    "    other_batters_group = group[group['batter'] != most_balled_batter['batter']]\n",
    "\n",
    "    total_runs = other_batters_group['total_runs_delivery'].sum()\n",
    "    total_balls = other_batters_group['balls_faced'].sum()\n",
    "\n",
    "    if total_balls == 0:\n",
    "        mean_strike_rate = np.nan \n",
    "    else:\n",
    "        mean_strike_rate = total_runs / total_balls\n",
    "    \n",
    "    mean_strike_rates.append(mean_strike_rate)\n",
    "\n",
    "most_balled_batters_df['mean_strike_rate'] = mean_strike_rates\n",
    "\n",
    "print(most_balled_batters_df.head())\n"
   ]
  },
  {
   "cell_type": "code",
   "execution_count": 18,
   "id": "2b450058-3e1f-4a57-8cd0-98cccbb3314d",
   "metadata": {},
   "outputs": [
    {
     "name": "stdout",
     "output_type": "stream",
     "text": [
      "     Col1    batter  total_runs_delivery  balls_faced winning_team  \\\n",
      "0       0  AJ Finch                    0            1    Sri Lanka   \n",
      "1       1  AJ Finch                    0            2    Sri Lanka   \n",
      "2       2  AJ Finch                    1            3    Sri Lanka   \n",
      "500     3  AJ Finch                    0            4    Australia   \n",
      "501     4  AJ Finch                    1            5    Australia   \n",
      "\n",
      "     strike_rate  mean_strike_rate  strike_rate_greater_than_mean  \n",
      "0       0.000000          0.824505                          False  \n",
      "1       0.000000          0.564923                          False  \n",
      "2       0.333333          0.448244                          False  \n",
      "500     0.000000          0.381836                          False  \n",
      "501     0.200000          0.331080                          False  \n"
     ]
    }
   ],
   "source": [
    "\n",
    "most_balled_batters_df['strike_rate_greater_than_mean'] = most_balled_batters_df['strike_rate'] > most_balled_batters_df['mean_strike_rate']\n",
    "\n",
    "print(most_balled_batters_df.head())\n"
   ]
  },
  {
   "cell_type": "code",
   "execution_count": 19,
   "id": "ac1d962a-4fba-4306-8274-3361b945f8b4",
   "metadata": {},
   "outputs": [
    {
     "name": "stdout",
     "output_type": "stream",
     "text": [
      "Win Probability: 0.10948905109489052\n"
     ]
    }
   ],
   "source": [
    "# Count the occurrences where the strike rate is greater than the mean strike rate\n",
    "condition_met_count = most_balled_batters_df['strike_rate_greater_than_mean'].sum()\n",
    "\n",
    "# Calculate the total number of innings\n",
    "total_innings = most_balled_batters_df.shape[0]\n",
    "\n",
    "# Calculate the win probability\n",
    "win_probability = condition_met_count / total_innings\n",
    "\n",
    "print(\"Win Probability:\", win_probability)\n"
   ]
  },
  {
   "cell_type": "code",
   "execution_count": 21,
   "id": "dc9360e6-6341-4bcf-9790-f753d490309d",
   "metadata": {},
   "outputs": [
    {
     "name": "stdout",
     "output_type": "stream",
     "text": [
      "Win Probability if strike rate is greater than mean strike rate: 0.10948905109489052\n",
      "Loss Probability if strike rate is not greater than mean strike rate: 0.8905109489051095\n"
     ]
    }
   ],
   "source": [
    "# Count the number of innings where strike_rate is greater than mean_strike_rate\n",
    "win_probabilities = most_balled_batters_df['strike_rate_greater_than_mean'].value_counts(normalize=True)\n",
    "\n",
    "# Display the win probabilities\n",
    "print(\"Win Probability if strike rate is greater than mean strike rate:\", win_probabilities.get(True, 0))\n",
    "print(\"Loss Probability if strike rate is not greater than mean strike rate:\", win_probabilities.get(False, 0))\n"
   ]
  },
  {
   "cell_type": "code",
   "execution_count": 22,
   "id": "81c4e4af-0b7d-4448-8d8d-45e8cf7d2f12",
   "metadata": {},
   "outputs": [
    {
     "data": {
      "image/png": "[encoded data removed]",
      "text/plain": [
       "<Figure size 1000x600 with 1 Axes>"
      ]
     },
     "metadata": {},
     "output_type": "display_data"
    }
   ],
   "source": [
    "import matplotlib.pyplot as plt\n",
    "\n",
    "# Plot the win probabilities\n",
    "plt.figure(figsize=(10, 6))\n",
    "most_balled_batters_df['strike_rate_greater_than_mean'].value_counts(normalize=True).plot(kind='bar', color=['green', 'red'])\n",
    "plt.title(\"Impact of Win Probability for Each Inning\")\n",
    "plt.xlabel(\"Win Probability if Strike Rate > Mean Strike Rate\")\n",
    "plt.ylabel(\"Frequency\")\n",
    "plt.xticks(ticks=[0, 1], labels=[\"True (Win)\", \"False (Loss)\"], rotation=0)\n",
    "plt.show()\n"
   ]
  },
  {
   "cell_type": "code",
   "execution_count": null,
   "id": "3bcbb92d-bcee-43ad-822c-df46ff9b2d7e",
   "metadata": {},
   "outputs": [],
   "source": []
  }
 ],
 "metadata": {
  "kernelspec": {
   "display_name": "Python 3 (ipykernel)",
   "language": "python",
   "name": "python3"
  },
  "language_info": {
   "codemirror_mode": {
    "name": "ipython",
    "version": 3
   },
   "file_extension": ".py",
   "mimetype": "text/x-python",
   "name": "python",
   "nbconvert_exporter": "python",
   "pygments_lexer": "ipython3",
   "version": "3.11.7"
  }
 },
 "nbformat": 4,
 "nbformat_minor": 5
}
