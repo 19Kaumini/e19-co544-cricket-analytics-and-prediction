{
 "cells": [
  {
   "cell_type": "markdown",
   "metadata": {},
   "source": [
    "Selection criteria of matches:\n",
    "0. Format - T20 // Done\n",
    "1. Gender - Male // Done\n",
    "2. Top 10 Countries only - South Africa, England, Australia, New Zealand, India, Pakistan, Sri Lanka, West Indies, Bangladesh, Zimbabwe // Done\n",
    "3. Associate Countries - Afghanistan 22 June 2017, Ireland // Done\n",
    "\n",
    "Add: batter_style, bowler_style, non_striker_style using player.csv //Leave for now\n",
    "Merged CSV generated in /Data/selected_Data/merged_data.csv"
   ]
  },
  {
   "cell_type": "code",
   "execution_count": 4,
   "metadata": {},
   "outputs": [],
   "source": [
    "\n",
    "import sys\n",
    "sys.path.append('../JSON2CSV')\n",
    "from converters import json_to_csv\n",
    "# import JSON2CSV.converters as converters\n",
    "import os\n",
    "\n",
    "folder_path = '../Data/t20s_male_json'\n",
    "\n",
    "for filename in os.listdir(folder_path):\n",
    "    if filename.endswith('.json'):\n",
    "        \n",
    "        file_path = os.path.join(folder_path, filename)\n",
    "        # print(filename)\n",
    "        json_to_csv(file_path,output_file=True)\n",
    "        # print(f\"Processing file: {filename}\")\n"
   ]
  },
  {
   "cell_type": "markdown",
   "metadata": {},
   "source": []
  },
  {
   "cell_type": "code",
   "execution_count": 5,
   "metadata": {},
   "outputs": [],
   "source": [
    "import pandas as pd\n",
    "\n",
    "folder_path = '../Data/selected_data/csv_files'\n",
    "\n",
    "dataframes = []\n",
    "\n",
    "\n",
    "for filename in os.listdir(folder_path):\n",
    "    # print(filename)\n",
    "    if filename.endswith('.csv'):\n",
    "        file_path = os.path.join(folder_path, filename)\n",
    "        # print(filename)\n",
    "        df = pd.read_csv(file_path)\n",
    "        dataframes.append(df)\n",
    "        # print(f\"Processing file: {filename}\")\n",
    "        \n",
    "combined_df = pd.concat(dataframes)\n",
    "combined_df.to_csv('../Data/selected_data/merged_data.csv', index=False)"
   ]
  }
 ],
 "metadata": {
  "kernelspec": {
   "display_name": "Python 3",
   "language": "python",
   "name": "python3"
  },
  "language_info": {
   "codemirror_mode": {
    "name": "ipython",
    "version": 3
   },
   "file_extension": ".py",
   "mimetype": "text/x-python",
   "name": "python",
   "nbconvert_exporter": "python",
   "pygments_lexer": "ipython3",
   "version": "3.12.2"
  }
 },
 "nbformat": 4,
 "nbformat_minor": 2
}
