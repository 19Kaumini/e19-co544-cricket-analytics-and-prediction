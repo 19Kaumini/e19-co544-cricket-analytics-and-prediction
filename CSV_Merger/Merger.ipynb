{
 "cells": [
  {
   "cell_type": "code",
   "execution_count": null,
   "metadata": {},
   "outputs": [],
   "source": [
    "Selection criteria of matches:\n",
    "0. Format - T20 // Done\n",
    "1. Gender - Male // Done\n",
    "2. Top 10 Countries only - South Africa, England, Australia, New Zealand, India, Pakistan, Sri Lanka, West Indies, Bangladesh, Zimbabwe\n",
    "3. Associate Countries - Afghanistan 22 June 2017, Ireland\n",
    "\n",
    "Add: batter_style, bowler_style, non_striker_style using player.csv //Leave for now\n",
    "Resultant CSVs generated in /Data/data.csv"
   ]
  },
  {
   "cell_type": "markdown",
   "metadata": {},
   "source": []
  }
 ],
 "metadata": {
  "language_info": {
   "name": "python"
  }
 },
 "nbformat": 4,
 "nbformat_minor": 2
}
