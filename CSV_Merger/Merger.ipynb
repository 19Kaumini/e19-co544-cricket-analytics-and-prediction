{
 "cells": [
  {
   "cell_type": "markdown",
   "metadata": {},
   "source": [
    "Selection criteria of matches:\n",
    "0. Format - T20 // Done\n",
    "1. Gender - Male // Done\n",
    "2. Top 10 Countries only - South Africa, England, Australia, New Zealand, India, Pakistan, Sri Lanka, West Indies, Bangladesh, Zimbabwe\n",
    "3. Associate Countries - Afghanistan 22 June 2017, Ireland\n",
    "\n",
    "Add: batter_style, bowler_style, non_striker_style using player.csv //Leave for now\n",
    "Resultant CSVs generated in /Data/data.csv"
   ]
  },
  {
   "cell_type": "code",
   "execution_count": 21,
   "metadata": {},
   "outputs": [],
   "source": [
    "from JSON2CSV.converters import json_to_csv\n"
   ]
  },
  {
   "cell_type": "markdown",
   "metadata": {},
   "source": []
  }
 ],
 "metadata": {
  "kernelspec": {
   "display_name": "Python 3",
   "language": "python",
   "name": "python3"
  },
  "language_info": {
   "codemirror_mode": {
    "name": "ipython",
    "version": 3
   },
   "file_extension": ".py",
   "mimetype": "text/x-python",
   "name": "python",
   "nbconvert_exporter": "python",
   "pygments_lexer": "ipython3",
   "version": "3.12.2"
  }
 },
 "nbformat": 4,
 "nbformat_minor": 2
}
