{
 "cells": [
  {
   "cell_type": "markdown",
   "metadata": {},
   "source": [
    "Selection criteria of matches:\n",
    "0. Format - T20 // Done\n",
    "1. Gender - Male // Done\n",
    "2. Top 10 Countries only - South Africa, England, Australia, New Zealand, India, Pakistan, Sri Lanka, West Indies, Bangladesh, Zimbabwe // Done\n",
    "3. Associate Countries - Afghanistan 22 June 2017, Ireland // Done\n",
    "\n",
    "Add: batter_style, bowler_style, non_striker_style using player.csv //Leave for now\n",
    "Merged CSV generated in /Data/selected_Data/merged_data.csv"
   ]
  },
  {
   "cell_type": "code",
   "execution_count": 1,
   "metadata": {},
   "outputs": [
    {
     "ename": "FileNotFoundError",
     "evalue": "[Errno 2] No such file or directory: '../Data/t20s_male_json/1144172.json'",
     "output_type": "error",
     "traceback": [
      "\u001b[1;31m---------------------------------------------------------------------------\u001b[0m",
      "\u001b[1;31mFileNotFoundError\u001b[0m                         Traceback (most recent call last)",
      "Cell \u001b[1;32mIn[1], line 11\u001b[0m\n\u001b[0;32m      7\u001b[0m folder_path \u001b[38;5;241m=\u001b[39m \u001b[38;5;124m'\u001b[39m\u001b[38;5;124m../Data/t20s_male_json\u001b[39m\u001b[38;5;124m'\u001b[39m\n\u001b[0;32m     10\u001b[0m         \u001b[38;5;66;03m# print(filename)\u001b[39;00m\n\u001b[1;32m---> 11\u001b[0m \u001b[43mjson_to_csv\u001b[49m\u001b[43m(\u001b[49m\u001b[38;5;124;43m\"\u001b[39;49m\u001b[38;5;124;43m../Data/t20s_male_json/1144172.json\u001b[39;49m\u001b[38;5;124;43m\"\u001b[39;49m\u001b[43m,\u001b[49m\u001b[43moutput_file\u001b[49m\u001b[38;5;241;43m=\u001b[39;49m\u001b[38;5;28;43;01mTrue\u001b[39;49;00m\u001b[43m)\u001b[49m\n\u001b[0;32m     12\u001b[0m         \u001b[38;5;66;03m# print(f\"Processing file: {filename}\")\u001b[39;00m\n",
      "File \u001b[1;32mf:\\AAATheCodex\\CE\\CO-544-Project\\Repo\\e19-co544-cricket-analytics-and-prediction\\CSV_Merger\\../JSON2CSV\\converters.py:121\u001b[0m, in \u001b[0;36mjson_to_csv\u001b[1;34m(match_file, output_file)\u001b[0m\n\u001b[0;32m    119\u001b[0m \u001b[38;5;28;01mdef\u001b[39;00m \u001b[38;5;21mjson_to_csv\u001b[39m(match_file, output_file\u001b[38;5;241m=\u001b[39m\u001b[38;5;28;01mFalse\u001b[39;00m):\n\u001b[1;32m--> 121\u001b[0m     \u001b[38;5;28;01mwith\u001b[39;00m \u001b[38;5;28;43mopen\u001b[39;49m\u001b[43m(\u001b[49m\u001b[43mmatch_file\u001b[49m\u001b[43m,\u001b[49m\u001b[43m \u001b[49m\u001b[38;5;124;43m\"\u001b[39;49m\u001b[38;5;124;43mr\u001b[39;49m\u001b[38;5;124;43m\"\u001b[39;49m\u001b[43m)\u001b[49m \u001b[38;5;28;01mas\u001b[39;00m f:\n\u001b[0;32m    122\u001b[0m         file \u001b[38;5;241m=\u001b[39m json\u001b[38;5;241m.\u001b[39mload(f)\n\u001b[0;32m    124\u001b[0m     info \u001b[38;5;241m=\u001b[39m file[\u001b[38;5;124m\"\u001b[39m\u001b[38;5;124minfo\u001b[39m\u001b[38;5;124m\"\u001b[39m]\n",
      "\u001b[1;31mFileNotFoundError\u001b[0m: [Errno 2] No such file or directory: '../Data/t20s_male_json/1144172.json'"
     ]
    }
   ],
   "source": [
    "\n",
    "import sys\n",
    "sys.path.append('../JSON2CSV')\n",
    "from converters import json_to_csv\n",
    "# import JSON2CSV.converters as converters\n",
    "import os\n",
    "\n",
    "folder_path = '../Data/t20s_male_json'\n",
    "\n",
    "\n",
    "        # print(filename)\n",
    "json_to_csv(\"../Data/t20s_male_json/1144172.json\",output_file=True)\n",
    "        # print(f\"Processing file: {filename}\")\n"
   ]
  },
  {
   "cell_type": "code",
   "execution_count": 2,
   "metadata": {},
   "outputs": [],
   "source": [
    "\n",
    "import sys\n",
    "sys.path.append('../JSON2CSV')\n",
    "from converters import json_to_csv\n",
    "# import JSON2CSV.converters as converters\n",
    "import os\n",
    "\n",
    "folder_path = '../Data/t20s_male_json'\n",
    "\n",
    "for filename in os.listdir(folder_path):\n",
    "    if filename.endswith('.json'):\n",
    "        \n",
    "        file_path = os.path.join(folder_path, filename)\n",
    "        # print(filename)\n",
    "        json_to_csv(file_path,output_file=True)\n",
    "        # print(f\"Processing file: {filename}\")\n"
   ]
  },
  {
   "cell_type": "markdown",
   "metadata": {},
   "source": []
  },
  {
   "cell_type": "code",
   "execution_count": 3,
   "metadata": {},
   "outputs": [],
   "source": [
    "import pandas as pd\n",
    "\n",
    "folder_path = '../Data/selected_data/csv_files'\n",
    "\n",
    "dataframes = []\n",
    "\n",
    "\n",
    "for filename in os.listdir(folder_path):\n",
    "    # print(filename)\n",
    "    if filename.endswith('.csv'):\n",
    "        file_path = os.path.join(folder_path, filename)\n",
    "        # print(filename)\n",
    "        df = pd.read_csv(file_path)\n",
    "        dataframes.append(df)\n",
    "        # print(f\"Processing file: {filename}\")\n",
    "        \n",
    "combined_df = pd.concat(dataframes)\n",
    "combined_df.to_csv('../Data/selected_data/merged_data.csv', index=False)"
   ]
  }
 ],
 "metadata": {
  "kernelspec": {
   "display_name": "Python 3",
   "language": "python",
   "name": "python3"
  },
  "language_info": {
   "codemirror_mode": {
    "name": "ipython",
    "version": 3
   },
   "file_extension": ".py",
   "mimetype": "text/x-python",
   "name": "python",
   "nbconvert_exporter": "python",
   "pygments_lexer": "ipython3",
   "version": "3.12.2"
  }
 },
 "nbformat": 4,
 "nbformat_minor": 2
}
