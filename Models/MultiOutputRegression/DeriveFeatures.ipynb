{
 "cells": [
  {
   "cell_type": "markdown",
   "metadata": {},
   "source": [
    "# Derive the augmented features from the match state"
   ]
  },
  {
   "cell_type": "code",
   "execution_count": 84,
   "metadata": {},
   "outputs": [
    {
     "name": "stdout",
     "output_type": "stream",
     "text": [
      "<class 'pandas.core.frame.DataFrame'>\n",
      "RangeIndex: 2747 entries, 0 to 2746\n",
      "Data columns (total 8 columns):\n",
      " #   Column                 Non-Null Count  Dtype  \n",
      "---  ------                 --------------  -----  \n",
      " 0   bowler_type            2747 non-null   object \n",
      " 1   strike_rate            2747 non-null   float64\n",
      " 2   strike_rate_std        2596 non-null   float64\n",
      " 3   wickets                2747 non-null   int64  \n",
      " 4   deliveries_per_wicket  2747 non-null   float64\n",
      " 5   deliveries             2747 non-null   int64  \n",
      " 6   batter                 2747 non-null   object \n",
      " 7   index                  0 non-null      float64\n",
      "dtypes: float64(4), int64(2), object(2)\n",
      "memory usage: 171.8+ KB\n"
     ]
    }
   ],
   "source": [
    "import pandas as pd\n",
    "import numpy as np\n",
    "\n",
    "\n",
    "venues_df = pd.read_csv(\"train_venues.csv\")\n",
    "player_vs_bowler_df = pd.read_csv(\"train_player_vs_bowler.csv\")\n",
    "train_set = pd.read_csv(\"train_set.csv\")\n",
    "\n",
    "player_vs_bowler_df.info()"
   ]
  },
  {
   "cell_type": "code",
   "execution_count": 85,
   "metadata": {},
   "outputs": [
    {
     "name": "stdout",
     "output_type": "stream",
     "text": [
      "{'innings': 1, 'wickets_fallen': 1, 'bowling_team': 'Australia', 'batting_team': 'England', 'toss_winner': 1, 'runs_remain': 144.0, 'first_ball': 24, 'current_team_total': 29, 'is_powerplay': True, 'Left arm Fast': 0.0, 'Left arm Orthodox': 18.0, 'Left arm Wrist spin': 0, 'Right arm Fast': 146.0, 'Right arm Legbreak': 0, 'Right arm Offbreak': 0.0, 'venue': 'GMHBA Stadium', 'batter': 'A Flintoff', 'venue_mean': 173.0, 'venue_first_bat_won_ratio': 0.0, 'Left arm Fast Expected Runs': 0.0, 'Left arm Fast Expected Wickets': 0.0, 'Left arm Fast Strike Rate': 166.667, 'Left arm Fast Deliveries Per Wicket': inf, 'Right arm Fast Expected Runs': 125.14244000000001, 'Right arm Fast Expected Wickets': 41.714285714285715, 'Right arm Fast Strike Rate': 85.714, 'Right arm Fast Deliveries Per Wicket': 3.5, 'Left arm Orthodox Expected Runs': 18.0, 'Left arm Orthodox Expected Wickets': 0.0, 'Left arm Orthodox Strike Rate': 100.0, 'Left arm Orthodox Deliveries Per Wicket': inf, 'Left arm Wrist spin Expected Runs': 0, 'Left arm Wrist spin Expected Wickets': 0, 'Left arm Wrist spin Strike Rate': 0, 'Left arm Wrist spin Deliveries Per Wicket': 0, 'Right arm Legbreak Expected Runs': 0, 'Right arm Legbreak Expected Wickets': 0, 'Right arm Legbreak Strike Rate': 0, 'Right arm Legbreak Deliveries Per Wicket': 0, 'Right arm Offbreak Expected Runs': 0.0, 'Right arm Offbreak Expected Wickets': 0.0, 'Right arm Offbreak Strike Rate': 150.0, 'Right arm Offbreak Deliveries Per Wicket': inf, 'expected_wickets': 41.714285714285715, 'expected_runs': 22.162870569113363}\n"
     ]
    }
   ],
   "source": [
    "# row from the training set without the historically derived data\n",
    "input_dic = {\n",
    "    # \"batter\": \"A Flintoff\",\n",
    "    \"innings\": 1,\n",
    "    \"wickets_fallen\": 1,\n",
    "    \"bowling_team\": \"Australia\",\n",
    "    \"batting_team\": \"England\",\n",
    "    \"toss_winner\": 1,\n",
    "    \"runs_remain\": 144.0,\n",
    "    \"first_ball\": 24,\n",
    "    \"current_team_total\": 29,\n",
    "    \"is_powerplay\": True,\n",
    "    \"Left arm Fast\": 0.0,\n",
    "    \"Left arm Orthodox\": 18.0,\n",
    "    \"Left arm Wrist spin\": 0.0,\n",
    "    \"Right arm Fast\": 146.0,\n",
    "    \"Right arm Legbreak\": 0.0,\n",
    "    \"Right arm Offbreak\": 0.0,\n",
    "    \"venue\": \"GMHBA Stadium\"\n",
    "}\n",
    "\n",
    "\n",
    "def derive_features(input_dic: dict) -> dict:\n",
    "\tbowler_types = ['Left arm Fast', 'Right arm Fast', 'Left arm Orthodox',\n",
    "\t\t\t\t\t'Left arm Wrist spin', 'Right arm Legbreak', 'Right arm Offbreak']\n",
    "\n",
    "\n",
    "\tdef get_venue_info():\n",
    "\t\tvenue = input_dic['venue']\n",
    "\t\tif venue in venues_df['venue'].values:  # Check if venue exists in DataFrame\n",
    "\t\t\tvenue_mean = venues_df.loc[venues_df['venue'] == venue, 'total_mean']\n",
    "\t\t\tvenue_first_bat_won_ratio = venues_df.loc[venues_df['venue']\n",
    "\t\t\t\t\t\t\t\t\t\t\t\t\t== venue, 'first_bat_won_ratio']\n",
    "\t\t\t# Access single value from Series\n",
    "\t\t\tinput_dic['venue_mean'] = venue_mean.values[0]\n",
    "\t\t\tinput_dic['venue_first_bat_won_ratio'] = venue_first_bat_won_ratio.values[0]\n",
    "\t\telse:\n",
    "\t\t\tinput_dic['venue_mean'] = venues_df['total_mean'].median()\n",
    "\t\t\tinput_dic['venue_first_bat_won_ratio'] = venues_df['first_bat_won_ratio'].median()\n",
    "\n",
    "\n",
    "\tdef get_runs_remain():\n",
    "\t\tif input_dic['innings'] == 2:\n",
    "\t\t\treturn\n",
    "\t\tif input_dic['innings'] == 1:\n",
    "\t\t\treturn input_dic['venue_mean'] - input_dic['current_team_total']\n",
    "\n",
    "\n",
    "\tbowler_types = ['Left arm Fast', 'Right arm Fast', 'Left arm Orthodox',\n",
    "\t\t\t\t\t'Left arm Wrist spin', 'Right arm Legbreak', 'Right arm Offbreak']\n",
    "\n",
    "\n",
    "\tdef get_bowler_type_data():\n",
    "\t\tplayer_vs_bowler = player_vs_bowler_df[player_vs_bowler_df['batter']\n",
    "\t\t\t\t\t\t\t\t\t\t\t== input_dic['batter']]\n",
    "\t\tplayer_vs_bowler.set_index(\"bowler_type\", inplace=True)\n",
    "\t\tfor bowler_type in bowler_types:\n",
    "\t\t\tif bowler_type in player_vs_bowler.index:\n",
    "\t\t\t\tinput_dic[f'{bowler_type} Expected Runs'] = player_vs_bowler.loc[bowler_type,\n",
    "\t\t\t\t\t\t\t\t\t\t\t\t\t\t\t\t\t\t\t\t'strike_rate'] / 100 * input_dic[bowler_type]\n",
    "\t\t\t\tinput_dic[f'{bowler_type} Expected Wickets'] = input_dic[bowler_type] / \\\n",
    "\t\t\t\t\tplayer_vs_bowler.loc[bowler_type, 'deliveries_per_wicket']\n",
    "\t\t\t\tinput_dic[f'{bowler_type} Strike Rate'] = player_vs_bowler.loc[bowler_type, 'strike_rate']\n",
    "\t\t\t\tinput_dic[f'{bowler_type} Deliveries Per Wicket'] = player_vs_bowler.loc[bowler_type,\n",
    "\t\t\t\t\t\t\t\t\t\t\t\t\t\t\t\t\t\t\t\t\t\t'deliveries_per_wicket']\n",
    "\n",
    "\t\t\telse:\n",
    "\t\t\t\tinput_dic[bowler_type] = 0\n",
    "\t\t\t\tinput_dic[f'{bowler_type} Expected Runs'] = 0\n",
    "\t\t\t\tinput_dic[f'{bowler_type} Expected Wickets'] = 0\n",
    "\t\t\t\tinput_dic[f'{bowler_type} Strike Rate'] = 0\n",
    "\t\t\t\tinput_dic[f'{bowler_type} Deliveries Per Wicket'] = 0\n",
    "\n",
    "\n",
    "\n",
    "\n",
    "\tdef get_expected():\n",
    "\t\tbowler_types_expected_wickets_cols = [bowler_type + \" Expected Wickets\" for bowler_type in bowler_types]\n",
    "\t\tbowler_types_expected_runs_cols = [bowler_type + \" Expected Runs\" for bowler_type in bowler_types]\n",
    "\n",
    "\t\tinput_dic['expected_wickets'] = sum([input_dic[key] for key in bowler_types_expected_wickets_cols])\n",
    "\t\tinput_dic['expected_runs'] = sum([input_dic[key] for key in bowler_types_expected_runs_cols])\n",
    "\n",
    "\t\tinput_dic['expected_runs'] = input_dic['expected_runs'] / np.sqrt(input_dic['expected_wickets']) \n",
    "\n",
    "\n",
    "\tget_venue_info()\n",
    "\tget_runs_remain()\n",
    "\tget_bowler_type_data()\n",
    "\tget_expected()\n",
    "\n",
    "\treturn input_dic\n",
    "\n",
    "\n",
    "batter_list = [\"A Flintoff\"]\n",
    "\n",
    "for batter in batter_list:\n",
    "\tbatter_dic = input_dic.copy()\n",
    "\tbatter_dic['batter'] = batter\n",
    "\tprint(derive_features(batter_dic))\n",
    "\n",
    "\n"
   ]
  }
 ],
 "metadata": {
  "kernelspec": {
   "display_name": "Python 3",
   "language": "python",
   "name": "python3"
  },
  "language_info": {
   "codemirror_mode": {
    "name": "ipython",
    "version": 3
   },
   "file_extension": ".py",
   "mimetype": "text/x-python",
   "name": "python",
   "nbconvert_exporter": "python",
   "pygments_lexer": "ipython3",
   "version": "3.11.5"
  }
 },
 "nbformat": 4,
 "nbformat_minor": 2
}
