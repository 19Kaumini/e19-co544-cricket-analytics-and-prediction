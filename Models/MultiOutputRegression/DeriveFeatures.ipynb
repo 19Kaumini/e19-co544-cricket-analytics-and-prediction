{
 "cells": [
  {
   "cell_type": "markdown",
   "metadata": {},
   "source": [
    "# Derive the augmented features from the match state"
   ]
  },
  {
   "cell_type": "code",
   "execution_count": 2,
   "metadata": {},
   "outputs": [
    {
     "name": "stdout",
     "output_type": "stream",
     "text": [
      "<class 'pandas.core.frame.DataFrame'>\n",
      "RangeIndex: 92 entries, 0 to 91\n",
      "Data columns (total 6 columns):\n",
      " #   Column               Non-Null Count  Dtype  \n",
      "---  ------               --------------  -----  \n",
      " 0   venue                92 non-null     object \n",
      " 1   total_mean           92 non-null     float64\n",
      " 2   total_std            81 non-null     float64\n",
      " 3   first_bat_won_ratio  92 non-null     float64\n",
      " 4   number_of_matches    92 non-null     int64  \n",
      " 5   host                 92 non-null     object \n",
      "dtypes: float64(3), int64(1), object(2)\n",
      "memory usage: 4.4+ KB\n"
     ]
    }
   ],
   "source": [
    "import pandas as pd\n",
    "import numpy as np\n",
    "\n",
    "\n",
    "venues_df = pd.read_csv(\"train_venues.csv\")\n",
    "player_vs_bowler_df = pd.read_csv(\"train_player_vs_bowler.csv\")\n",
    "\n",
    "venues_df.info()"
   ]
  },
  {
   "cell_type": "code",
   "execution_count": 3,
   "metadata": {},
   "outputs": [
    {
     "data": {
      "text/plain": [
       "array(['AMI Stadium', 'Adelaide Oval', 'Arnos Vale Ground',\n",
       "       'Arun Jaitley Stadium', 'Barabati Stadium',\n",
       "       'Barsapara Cricket Stadium', 'Bay Oval', 'Bellerive Oval',\n",
       "       'Bharat Ratna Shri Atal Bihari Vajpayee Ekana Cricket Stadium',\n",
       "       'Boland Park', 'Brabourne Stadium', 'Brian Lara Stadium',\n",
       "       'Brisbane Cricket Ground', 'Buffalo Park', 'Carrara Oval',\n",
       "       'Central Broward Regional Park Stadium', 'Coolidge Cricket Ground',\n",
       "       'County Ground', 'Daren Sammy National Cricket Stadium',\n",
       "       'Dr. Y.S. Rajasekhara Reddy ACA-VDCA Cricket Stadium',\n",
       "       'Dubai International Cricket Stadium', 'Eden Gardens', 'Eden Park',\n",
       "       'Edgbaston', 'GMHBA Stadium', 'Gaddafi Stadium', 'Green Park',\n",
       "       'Greenfield International Stadium', 'Hagley Oval',\n",
       "       'Harare Sports Club', 'Headingley',\n",
       "       'Himachal Pradesh Cricket Association Stadium',\n",
       "       'Holkar Cricket Stadium', 'JSCA International Stadium Complex',\n",
       "       'Jade Stadium', 'John Davies Oval', 'Kensington Oval', 'Kingsmead',\n",
       "       \"Lord's\", 'M. Chinnaswamy Stadium', 'MA Chidambaram Stadium',\n",
       "       'Maharashtra Cricket Association Stadium',\n",
       "       'Mahinda Rajapaksa International Cricket Stadium', 'Manuka Oval',\n",
       "       'Maple Leaf Cricket Club', 'McLean Park',\n",
       "       'Melbourne Cricket Ground', 'Moses Mabhida Stadium',\n",
       "       'Narendra Modi Stadium', 'National Cricket Stadium',\n",
       "       'National Stadium', 'New Wanderers Stadium',\n",
       "       'Newlands Cricket Ground', 'Old Trafford',\n",
       "       'Pallekele International Cricket Stadium', 'Perth Stadium',\n",
       "       'Providence Stadium',\n",
       "       'Punjab Cricket Association IS Bindra Stadium',\n",
       "       \"Queen's Park Oval\", 'R. Premadasa Stadium',\n",
       "       'Rajiv Gandhi International Cricket Stadium',\n",
       "       'Rangiri Dambulla International Stadium',\n",
       "       'Rawalpindi Cricket Stadium', 'Riverside Ground', 'Sabina Park',\n",
       "       'Saurashtra Cricket Association Stadium', 'Sawai Mansingh Stadium',\n",
       "       'Saxton Oval', 'Seddon Park',\n",
       "       'Shaheed Veer Narayan Singh International Stadium',\n",
       "       'Sharjah Cricket Stadium', 'Sheikh Zayed Stadium',\n",
       "       'Shere Bangla National Stadium', 'Sir Vivian Richards Stadium',\n",
       "       'Sky Stadium', 'Sophia Gardens', \"St George's Park\",\n",
       "       'Stadium Australia', 'SuperSport Park', 'Sydney Cricket Ground',\n",
       "       'The Oval', 'The Rose Bowl', 'Trent Bridge', 'University Oval',\n",
       "       'Vidarbha Cricket Association Stadium', 'WACA Ground',\n",
       "       'Wankhede Stadium', 'Warner Park Sporting Complex', 'Windsor Park',\n",
       "       'Zahur Ahmed Chowdhury Stadium', 'Zayed Cricket Stadium',\n",
       "       'Zhejiang University of Technology Cricket Field'], dtype=object)"
      ]
     },
     "execution_count": 3,
     "metadata": {},
     "output_type": "execute_result"
    }
   ],
   "source": [
    "venues_df['venue'].unique()"
   ]
  },
  {
   "cell_type": "code",
   "execution_count": 7,
   "metadata": {},
   "outputs": [
    {
     "data": {
      "text/html": [
       "<div>\n",
       "<style scoped>\n",
       "    .dataframe tbody tr th:only-of-type {\n",
       "        vertical-align: middle;\n",
       "    }\n",
       "\n",
       "    .dataframe tbody tr th {\n",
       "        vertical-align: top;\n",
       "    }\n",
       "\n",
       "    .dataframe thead th {\n",
       "        text-align: right;\n",
       "    }\n",
       "</style>\n",
       "<table border=\"1\" class=\"dataframe\">\n",
       "  <thead>\n",
       "    <tr style=\"text-align: right;\">\n",
       "      <th></th>\n",
       "      <th>total_mean</th>\n",
       "      <th>first_bat_won_ratio</th>\n",
       "    </tr>\n",
       "  </thead>\n",
       "  <tbody>\n",
       "    <tr>\n",
       "      <th>46</th>\n",
       "      <td>142.0625</td>\n",
       "      <td>0.3125</td>\n",
       "    </tr>\n",
       "  </tbody>\n",
       "</table>\n",
       "</div>"
      ],
      "text/plain": [
       "    total_mean  first_bat_won_ratio\n",
       "46    142.0625               0.3125"
      ]
     },
     "execution_count": 7,
     "metadata": {},
     "output_type": "execute_result"
    }
   ],
   "source": [
    "input_cols = ['batter', 'innings', 'wickets_fallen', 'bowling_team', 'batting_team',\n",
    "       'toss_winner', 'runs_remain', 'first_ball', 'current_team_total',\n",
    "       'is_powerplay', 'Left arm Fast', 'Left arm Orthodox',\n",
    "       'Left arm Wrist spin', 'Right arm Fast', 'Right arm Legbreak',\n",
    "       'Right arm Offbreak', 'recent_form']\n",
    "\n",
    "\n",
    "input_json = {\n",
    "  \"batter\": \"A Flintoff\",\n",
    "  \"innings\": 1,\n",
    "  \"wickets_fallen\": 1,\n",
    "  \"bowling_team\": \"Australia\",\n",
    "  \"batting_team\": \"England\",\n",
    "  \"toss_winner\": 1,\n",
    "  \"runs_remain\": 144.0,\n",
    "  \"first_ball\": 24,\n",
    "  \"current_team_total\": 29,\n",
    "  \"is_powerplay\": True,\n",
    "   \"Left arm Fast\": 0.0,\n",
    "    \"Left arm Orthodox\": 18.0,\n",
    "    \"Left arm Wrist spin\": 0.0,\n",
    "    \"Right arm Fast\": 146.0,\n",
    "    \"Right arm Legbreak\": 0.0,\n",
    "    \"Right arm Offbreak\": 0.0, \n",
    "\t\"venue\": \"GMHBA Stadium\"\n",
    "}\n",
    "\n",
    "\n",
    "def get_venue_info(venue: str):\n",
    "    return venues_df.loc[venues_df['venue'] == venue, ['total_mean', 'first_bat_won_ratio']]\n",
    "\n",
    "def get_runs_remain(innings: int, runs_remain: int):\n",
    "    if innings == 2:\n",
    "        return runs_remain\n",
    "    if innings == 1:\n",
    "        return runs_remain\n",
    "        # return venue_mean - current_team_total\n",
    "        \n",
    "def get_player_v_bowler(player: str):\n",
    "    \n"
   ]
  }
 ],
 "metadata": {
  "kernelspec": {
   "display_name": "Python 3",
   "language": "python",
   "name": "python3"
  },
  "language_info": {
   "codemirror_mode": {
    "name": "ipython",
    "version": 3
   },
   "file_extension": ".py",
   "mimetype": "text/x-python",
   "name": "python",
   "nbconvert_exporter": "python",
   "pygments_lexer": "ipython3",
   "version": "3.11.5"
  }
 },
 "nbformat": 4,
 "nbformat_minor": 2
}
