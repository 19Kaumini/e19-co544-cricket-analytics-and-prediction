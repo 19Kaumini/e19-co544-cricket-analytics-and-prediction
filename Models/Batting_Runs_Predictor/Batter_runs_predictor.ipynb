{
 "cells": [
  {
   "cell_type": "markdown",
   "metadata": {},
   "source": [
    "# Regression to Predict the runs scored given the type of bowlers expected to bowl and the state of the match"
   ]
  },
  {
   "cell_type": "markdown",
   "metadata": {},
   "source": [
    "Here, we will consider all the data available as we trying to get a relation between the strike rate, and deliveries per wicket vs each type of bowler vs the expeted runs scored "
   ]
  },
  {
   "cell_type": "markdown",
   "metadata": {},
   "source": [
    "Input --> Batter,  Team , Ball number, Innings, Non- striker  \n",
    "Ouput --> Runs"
   ]
  },
  {
   "cell_type": "code",
   "execution_count": 5,
   "metadata": {},
   "outputs": [
    {
     "name": "stdout",
     "output_type": "stream",
     "text": [
      "<class 'pandas.core.frame.DataFrame'>\n",
      "RangeIndex: 217242 entries, 0 to 217241\n",
      "Data columns (total 33 columns):\n",
      " #   Column               Non-Null Count   Dtype         \n",
      "---  ------               --------------   -----         \n",
      " 0   batter               217242 non-null  object        \n",
      " 1   bowler               217242 non-null  object        \n",
      " 2   non_striker          217242 non-null  object        \n",
      " 3   runs_by_bat          217242 non-null  int64         \n",
      " 4   extra_runs           217242 non-null  int64         \n",
      " 5   total_runs_delivery  217242 non-null  int64         \n",
      " 6   current_team_total   217242 non-null  int64         \n",
      " 7   runs_remain          217242 non-null  float64       \n",
      " 8   batter_runs          217242 non-null  int64         \n",
      " 9   balls_faced          217242 non-null  int64         \n",
      " 10  wickets_fallen       217242 non-null  int64         \n",
      " 11  extra_type           217242 non-null  object        \n",
      " 12  delivery             217242 non-null  float64       \n",
      " 13  over                 217242 non-null  int64         \n",
      " 14  wicket_type          217242 non-null  object        \n",
      " 15  player_out           217242 non-null  object        \n",
      " 16  toss_decision        217242 non-null  object        \n",
      " 17  toss_winner          217242 non-null  object        \n",
      " 18  innings              217242 non-null  int64         \n",
      " 19  venue                217242 non-null  object        \n",
      " 20  year                 217242 non-null  int64         \n",
      " 21  month                217242 non-null  int64         \n",
      " 22  match_id             217242 non-null  object        \n",
      " 23  winning_team         217242 non-null  object        \n",
      " 24  batting_team         217242 non-null  object        \n",
      " 25  bowling_team         217242 non-null  object        \n",
      " 26  won                  217242 non-null  float64       \n",
      " 27  final_team_total     217242 non-null  int64         \n",
      " 28  batter_type          217242 non-null  object        \n",
      " 29  non_striker_type     217242 non-null  object        \n",
      " 30  bowler_type          217242 non-null  object        \n",
      " 31  replacements         217242 non-null  object        \n",
      " 32  date                 217242 non-null  datetime64[ns]\n",
      "dtypes: datetime64[ns](1), float64(3), int64(12), object(17)\n",
      "memory usage: 54.7+ MB\n"
     ]
    }
   ],
   "source": [
    "import pandas as pd\n",
    "import numpy as np\n",
    "# import matplotlib.pyplot as plt\n",
    "\n",
    "# Load the data\n",
    "data = pd.read_csv('../../Data/selected_data/processed_data.csv')\n",
    "\n",
    "# merging medium bowlers to fast\n",
    "data.loc[data['bowler_type'] == 'Left arm Medium', 'bowler_type'] = 'Left arm Fast'\n",
    "data.loc[data['bowler_type'] == 'Right arm Medium', 'bowler_type'] = 'Right arm Fast'\n",
    "data['date'] = data['match_id'].apply(lambda x: x[-10: ])\n",
    "data['date'] = pd.to_datetime(data['date'])\n",
    "data.info()"
   ]
  },
  {
   "cell_type": "code",
   "execution_count": 6,
   "metadata": {},
   "outputs": [
    {
     "data": {
      "text/html": [
       "<div>\n",
       "<style scoped>\n",
       "    .dataframe tbody tr th:only-of-type {\n",
       "        vertical-align: middle;\n",
       "    }\n",
       "\n",
       "    .dataframe tbody tr th {\n",
       "        vertical-align: top;\n",
       "    }\n",
       "\n",
       "    .dataframe thead th {\n",
       "        text-align: right;\n",
       "    }\n",
       "</style>\n",
       "<table border=\"1\" class=\"dataframe\">\n",
       "  <thead>\n",
       "    <tr style=\"text-align: right;\">\n",
       "      <th></th>\n",
       "      <th>wickets_fallen</th>\n",
       "      <th>extra_type</th>\n",
       "      <th>delivery</th>\n",
       "      <th>over</th>\n",
       "      <th>wicket_type</th>\n",
       "      <th>player_out</th>\n",
       "      <th>toss_decision</th>\n",
       "      <th>toss_winner</th>\n",
       "      <th>innings</th>\n",
       "      <th>venue</th>\n",
       "      <th>...</th>\n",
       "      <th>winning_team</th>\n",
       "      <th>batting_team</th>\n",
       "      <th>bowling_team</th>\n",
       "      <th>won</th>\n",
       "      <th>final_team_total</th>\n",
       "      <th>batter_type</th>\n",
       "      <th>non_striker_type</th>\n",
       "      <th>bowler_type</th>\n",
       "      <th>replacements</th>\n",
       "      <th>date</th>\n",
       "    </tr>\n",
       "  </thead>\n",
       "  <tbody>\n",
       "    <tr>\n",
       "      <th>0</th>\n",
       "      <td>0</td>\n",
       "      <td>-</td>\n",
       "      <td>1.0</td>\n",
       "      <td>0</td>\n",
       "      <td>0</td>\n",
       "      <td>Not Out</td>\n",
       "      <td>field</td>\n",
       "      <td>Sri Lanka</td>\n",
       "      <td>1</td>\n",
       "      <td>Melbourne Cricket Ground</td>\n",
       "      <td>...</td>\n",
       "      <td>Sri Lanka</td>\n",
       "      <td>Australia</td>\n",
       "      <td>Sri Lanka</td>\n",
       "      <td>0.0</td>\n",
       "      <td>168</td>\n",
       "      <td>Right hand Bat</td>\n",
       "      <td>Right hand Bat</td>\n",
       "      <td>Right arm Fast</td>\n",
       "      <td>No Replacement</td>\n",
       "      <td>2017-02-17</td>\n",
       "    </tr>\n",
       "    <tr>\n",
       "      <th>1</th>\n",
       "      <td>0</td>\n",
       "      <td>-</td>\n",
       "      <td>2.0</td>\n",
       "      <td>0</td>\n",
       "      <td>0</td>\n",
       "      <td>Not Out</td>\n",
       "      <td>field</td>\n",
       "      <td>Sri Lanka</td>\n",
       "      <td>1</td>\n",
       "      <td>Melbourne Cricket Ground</td>\n",
       "      <td>...</td>\n",
       "      <td>Sri Lanka</td>\n",
       "      <td>Australia</td>\n",
       "      <td>Sri Lanka</td>\n",
       "      <td>0.0</td>\n",
       "      <td>168</td>\n",
       "      <td>Right hand Bat</td>\n",
       "      <td>Right hand Bat</td>\n",
       "      <td>Right arm Fast</td>\n",
       "      <td>No Replacement</td>\n",
       "      <td>2017-02-17</td>\n",
       "    </tr>\n",
       "    <tr>\n",
       "      <th>2</th>\n",
       "      <td>0</td>\n",
       "      <td>-</td>\n",
       "      <td>3.0</td>\n",
       "      <td>0</td>\n",
       "      <td>0</td>\n",
       "      <td>Not Out</td>\n",
       "      <td>field</td>\n",
       "      <td>Sri Lanka</td>\n",
       "      <td>1</td>\n",
       "      <td>Melbourne Cricket Ground</td>\n",
       "      <td>...</td>\n",
       "      <td>Sri Lanka</td>\n",
       "      <td>Australia</td>\n",
       "      <td>Sri Lanka</td>\n",
       "      <td>0.0</td>\n",
       "      <td>168</td>\n",
       "      <td>Right hand Bat</td>\n",
       "      <td>Right hand Bat</td>\n",
       "      <td>Right arm Fast</td>\n",
       "      <td>No Replacement</td>\n",
       "      <td>2017-02-17</td>\n",
       "    </tr>\n",
       "    <tr>\n",
       "      <th>3</th>\n",
       "      <td>0</td>\n",
       "      <td>-</td>\n",
       "      <td>4.0</td>\n",
       "      <td>0</td>\n",
       "      <td>0</td>\n",
       "      <td>Not Out</td>\n",
       "      <td>field</td>\n",
       "      <td>Sri Lanka</td>\n",
       "      <td>1</td>\n",
       "      <td>Melbourne Cricket Ground</td>\n",
       "      <td>...</td>\n",
       "      <td>Sri Lanka</td>\n",
       "      <td>Australia</td>\n",
       "      <td>Sri Lanka</td>\n",
       "      <td>0.0</td>\n",
       "      <td>168</td>\n",
       "      <td>Right hand Bat</td>\n",
       "      <td>Right hand Bat</td>\n",
       "      <td>Right arm Fast</td>\n",
       "      <td>No Replacement</td>\n",
       "      <td>2017-02-17</td>\n",
       "    </tr>\n",
       "    <tr>\n",
       "      <th>4</th>\n",
       "      <td>0</td>\n",
       "      <td>-</td>\n",
       "      <td>5.0</td>\n",
       "      <td>0</td>\n",
       "      <td>0</td>\n",
       "      <td>Not Out</td>\n",
       "      <td>field</td>\n",
       "      <td>Sri Lanka</td>\n",
       "      <td>1</td>\n",
       "      <td>Melbourne Cricket Ground</td>\n",
       "      <td>...</td>\n",
       "      <td>Sri Lanka</td>\n",
       "      <td>Australia</td>\n",
       "      <td>Sri Lanka</td>\n",
       "      <td>0.0</td>\n",
       "      <td>168</td>\n",
       "      <td>Right hand Bat</td>\n",
       "      <td>Right hand Bat</td>\n",
       "      <td>Right arm Fast</td>\n",
       "      <td>No Replacement</td>\n",
       "      <td>2017-02-17</td>\n",
       "    </tr>\n",
       "    <tr>\n",
       "      <th>5</th>\n",
       "      <td>0</td>\n",
       "      <td>-</td>\n",
       "      <td>6.0</td>\n",
       "      <td>0</td>\n",
       "      <td>0</td>\n",
       "      <td>Not Out</td>\n",
       "      <td>field</td>\n",
       "      <td>Sri Lanka</td>\n",
       "      <td>1</td>\n",
       "      <td>Melbourne Cricket Ground</td>\n",
       "      <td>...</td>\n",
       "      <td>Sri Lanka</td>\n",
       "      <td>Australia</td>\n",
       "      <td>Sri Lanka</td>\n",
       "      <td>0.0</td>\n",
       "      <td>168</td>\n",
       "      <td>Right hand Bat</td>\n",
       "      <td>Right hand Bat</td>\n",
       "      <td>Right arm Fast</td>\n",
       "      <td>No Replacement</td>\n",
       "      <td>2017-02-17</td>\n",
       "    </tr>\n",
       "    <tr>\n",
       "      <th>6</th>\n",
       "      <td>0</td>\n",
       "      <td>-</td>\n",
       "      <td>1.0</td>\n",
       "      <td>1</td>\n",
       "      <td>0</td>\n",
       "      <td>Not Out</td>\n",
       "      <td>field</td>\n",
       "      <td>Sri Lanka</td>\n",
       "      <td>1</td>\n",
       "      <td>Melbourne Cricket Ground</td>\n",
       "      <td>...</td>\n",
       "      <td>Sri Lanka</td>\n",
       "      <td>Australia</td>\n",
       "      <td>Sri Lanka</td>\n",
       "      <td>0.0</td>\n",
       "      <td>168</td>\n",
       "      <td>Right hand Bat</td>\n",
       "      <td>Right hand Bat</td>\n",
       "      <td>Right arm Fast</td>\n",
       "      <td>No Replacement</td>\n",
       "      <td>2017-02-17</td>\n",
       "    </tr>\n",
       "    <tr>\n",
       "      <th>7</th>\n",
       "      <td>0</td>\n",
       "      <td>-</td>\n",
       "      <td>2.0</td>\n",
       "      <td>1</td>\n",
       "      <td>0</td>\n",
       "      <td>Not Out</td>\n",
       "      <td>field</td>\n",
       "      <td>Sri Lanka</td>\n",
       "      <td>1</td>\n",
       "      <td>Melbourne Cricket Ground</td>\n",
       "      <td>...</td>\n",
       "      <td>Sri Lanka</td>\n",
       "      <td>Australia</td>\n",
       "      <td>Sri Lanka</td>\n",
       "      <td>0.0</td>\n",
       "      <td>168</td>\n",
       "      <td>Right hand Bat</td>\n",
       "      <td>Right hand Bat</td>\n",
       "      <td>Right arm Fast</td>\n",
       "      <td>No Replacement</td>\n",
       "      <td>2017-02-17</td>\n",
       "    </tr>\n",
       "    <tr>\n",
       "      <th>8</th>\n",
       "      <td>0</td>\n",
       "      <td>-</td>\n",
       "      <td>3.0</td>\n",
       "      <td>1</td>\n",
       "      <td>0</td>\n",
       "      <td>Not Out</td>\n",
       "      <td>field</td>\n",
       "      <td>Sri Lanka</td>\n",
       "      <td>1</td>\n",
       "      <td>Melbourne Cricket Ground</td>\n",
       "      <td>...</td>\n",
       "      <td>Sri Lanka</td>\n",
       "      <td>Australia</td>\n",
       "      <td>Sri Lanka</td>\n",
       "      <td>0.0</td>\n",
       "      <td>168</td>\n",
       "      <td>Right hand Bat</td>\n",
       "      <td>Right hand Bat</td>\n",
       "      <td>Right arm Fast</td>\n",
       "      <td>No Replacement</td>\n",
       "      <td>2017-02-17</td>\n",
       "    </tr>\n",
       "    <tr>\n",
       "      <th>9</th>\n",
       "      <td>0</td>\n",
       "      <td>-</td>\n",
       "      <td>4.0</td>\n",
       "      <td>1</td>\n",
       "      <td>0</td>\n",
       "      <td>Not Out</td>\n",
       "      <td>field</td>\n",
       "      <td>Sri Lanka</td>\n",
       "      <td>1</td>\n",
       "      <td>Melbourne Cricket Ground</td>\n",
       "      <td>...</td>\n",
       "      <td>Sri Lanka</td>\n",
       "      <td>Australia</td>\n",
       "      <td>Sri Lanka</td>\n",
       "      <td>0.0</td>\n",
       "      <td>168</td>\n",
       "      <td>Right hand Bat</td>\n",
       "      <td>Right hand Bat</td>\n",
       "      <td>Right arm Fast</td>\n",
       "      <td>No Replacement</td>\n",
       "      <td>2017-02-17</td>\n",
       "    </tr>\n",
       "    <tr>\n",
       "      <th>10</th>\n",
       "      <td>0</td>\n",
       "      <td>-</td>\n",
       "      <td>5.0</td>\n",
       "      <td>1</td>\n",
       "      <td>0</td>\n",
       "      <td>Not Out</td>\n",
       "      <td>field</td>\n",
       "      <td>Sri Lanka</td>\n",
       "      <td>1</td>\n",
       "      <td>Melbourne Cricket Ground</td>\n",
       "      <td>...</td>\n",
       "      <td>Sri Lanka</td>\n",
       "      <td>Australia</td>\n",
       "      <td>Sri Lanka</td>\n",
       "      <td>0.0</td>\n",
       "      <td>168</td>\n",
       "      <td>Right hand Bat</td>\n",
       "      <td>Right hand Bat</td>\n",
       "      <td>Right arm Fast</td>\n",
       "      <td>No Replacement</td>\n",
       "      <td>2017-02-17</td>\n",
       "    </tr>\n",
       "    <tr>\n",
       "      <th>11</th>\n",
       "      <td>0</td>\n",
       "      <td>-</td>\n",
       "      <td>6.0</td>\n",
       "      <td>1</td>\n",
       "      <td>0</td>\n",
       "      <td>Not Out</td>\n",
       "      <td>field</td>\n",
       "      <td>Sri Lanka</td>\n",
       "      <td>1</td>\n",
       "      <td>Melbourne Cricket Ground</td>\n",
       "      <td>...</td>\n",
       "      <td>Sri Lanka</td>\n",
       "      <td>Australia</td>\n",
       "      <td>Sri Lanka</td>\n",
       "      <td>0.0</td>\n",
       "      <td>168</td>\n",
       "      <td>Right hand Bat</td>\n",
       "      <td>Right hand Bat</td>\n",
       "      <td>Right arm Fast</td>\n",
       "      <td>No Replacement</td>\n",
       "      <td>2017-02-17</td>\n",
       "    </tr>\n",
       "    <tr>\n",
       "      <th>12</th>\n",
       "      <td>0</td>\n",
       "      <td>-</td>\n",
       "      <td>1.0</td>\n",
       "      <td>2</td>\n",
       "      <td>0</td>\n",
       "      <td>Not Out</td>\n",
       "      <td>field</td>\n",
       "      <td>Sri Lanka</td>\n",
       "      <td>1</td>\n",
       "      <td>Melbourne Cricket Ground</td>\n",
       "      <td>...</td>\n",
       "      <td>Sri Lanka</td>\n",
       "      <td>Australia</td>\n",
       "      <td>Sri Lanka</td>\n",
       "      <td>0.0</td>\n",
       "      <td>168</td>\n",
       "      <td>Right hand Bat</td>\n",
       "      <td>Right hand Bat</td>\n",
       "      <td>Right arm Fast</td>\n",
       "      <td>No Replacement</td>\n",
       "      <td>2017-02-17</td>\n",
       "    </tr>\n",
       "    <tr>\n",
       "      <th>13</th>\n",
       "      <td>0</td>\n",
       "      <td>-</td>\n",
       "      <td>2.0</td>\n",
       "      <td>2</td>\n",
       "      <td>0</td>\n",
       "      <td>Not Out</td>\n",
       "      <td>field</td>\n",
       "      <td>Sri Lanka</td>\n",
       "      <td>1</td>\n",
       "      <td>Melbourne Cricket Ground</td>\n",
       "      <td>...</td>\n",
       "      <td>Sri Lanka</td>\n",
       "      <td>Australia</td>\n",
       "      <td>Sri Lanka</td>\n",
       "      <td>0.0</td>\n",
       "      <td>168</td>\n",
       "      <td>Right hand Bat</td>\n",
       "      <td>Right hand Bat</td>\n",
       "      <td>Right arm Fast</td>\n",
       "      <td>No Replacement</td>\n",
       "      <td>2017-02-17</td>\n",
       "    </tr>\n",
       "    <tr>\n",
       "      <th>14</th>\n",
       "      <td>0</td>\n",
       "      <td>-</td>\n",
       "      <td>3.0</td>\n",
       "      <td>2</td>\n",
       "      <td>0</td>\n",
       "      <td>Not Out</td>\n",
       "      <td>field</td>\n",
       "      <td>Sri Lanka</td>\n",
       "      <td>1</td>\n",
       "      <td>Melbourne Cricket Ground</td>\n",
       "      <td>...</td>\n",
       "      <td>Sri Lanka</td>\n",
       "      <td>Australia</td>\n",
       "      <td>Sri Lanka</td>\n",
       "      <td>0.0</td>\n",
       "      <td>168</td>\n",
       "      <td>Right hand Bat</td>\n",
       "      <td>Right hand Bat</td>\n",
       "      <td>Right arm Fast</td>\n",
       "      <td>No Replacement</td>\n",
       "      <td>2017-02-17</td>\n",
       "    </tr>\n",
       "    <tr>\n",
       "      <th>15</th>\n",
       "      <td>0</td>\n",
       "      <td>-</td>\n",
       "      <td>4.0</td>\n",
       "      <td>2</td>\n",
       "      <td>0</td>\n",
       "      <td>Not Out</td>\n",
       "      <td>field</td>\n",
       "      <td>Sri Lanka</td>\n",
       "      <td>1</td>\n",
       "      <td>Melbourne Cricket Ground</td>\n",
       "      <td>...</td>\n",
       "      <td>Sri Lanka</td>\n",
       "      <td>Australia</td>\n",
       "      <td>Sri Lanka</td>\n",
       "      <td>0.0</td>\n",
       "      <td>168</td>\n",
       "      <td>Right hand Bat</td>\n",
       "      <td>Right hand Bat</td>\n",
       "      <td>Right arm Fast</td>\n",
       "      <td>No Replacement</td>\n",
       "      <td>2017-02-17</td>\n",
       "    </tr>\n",
       "    <tr>\n",
       "      <th>16</th>\n",
       "      <td>0</td>\n",
       "      <td>-</td>\n",
       "      <td>5.0</td>\n",
       "      <td>2</td>\n",
       "      <td>0</td>\n",
       "      <td>Not Out</td>\n",
       "      <td>field</td>\n",
       "      <td>Sri Lanka</td>\n",
       "      <td>1</td>\n",
       "      <td>Melbourne Cricket Ground</td>\n",
       "      <td>...</td>\n",
       "      <td>Sri Lanka</td>\n",
       "      <td>Australia</td>\n",
       "      <td>Sri Lanka</td>\n",
       "      <td>0.0</td>\n",
       "      <td>168</td>\n",
       "      <td>Right hand Bat</td>\n",
       "      <td>Right hand Bat</td>\n",
       "      <td>Right arm Fast</td>\n",
       "      <td>No Replacement</td>\n",
       "      <td>2017-02-17</td>\n",
       "    </tr>\n",
       "    <tr>\n",
       "      <th>17</th>\n",
       "      <td>0</td>\n",
       "      <td>-</td>\n",
       "      <td>6.0</td>\n",
       "      <td>2</td>\n",
       "      <td>0</td>\n",
       "      <td>Not Out</td>\n",
       "      <td>field</td>\n",
       "      <td>Sri Lanka</td>\n",
       "      <td>1</td>\n",
       "      <td>Melbourne Cricket Ground</td>\n",
       "      <td>...</td>\n",
       "      <td>Sri Lanka</td>\n",
       "      <td>Australia</td>\n",
       "      <td>Sri Lanka</td>\n",
       "      <td>0.0</td>\n",
       "      <td>168</td>\n",
       "      <td>Right hand Bat</td>\n",
       "      <td>Right hand Bat</td>\n",
       "      <td>Right arm Fast</td>\n",
       "      <td>No Replacement</td>\n",
       "      <td>2017-02-17</td>\n",
       "    </tr>\n",
       "    <tr>\n",
       "      <th>18</th>\n",
       "      <td>0</td>\n",
       "      <td>-</td>\n",
       "      <td>1.0</td>\n",
       "      <td>3</td>\n",
       "      <td>0</td>\n",
       "      <td>Not Out</td>\n",
       "      <td>field</td>\n",
       "      <td>Sri Lanka</td>\n",
       "      <td>1</td>\n",
       "      <td>Melbourne Cricket Ground</td>\n",
       "      <td>...</td>\n",
       "      <td>Sri Lanka</td>\n",
       "      <td>Australia</td>\n",
       "      <td>Sri Lanka</td>\n",
       "      <td>0.0</td>\n",
       "      <td>168</td>\n",
       "      <td>Right hand Bat</td>\n",
       "      <td>Right hand Bat</td>\n",
       "      <td>Right arm Fast</td>\n",
       "      <td>No Replacement</td>\n",
       "      <td>2017-02-17</td>\n",
       "    </tr>\n",
       "    <tr>\n",
       "      <th>19</th>\n",
       "      <td>0</td>\n",
       "      <td>-</td>\n",
       "      <td>2.0</td>\n",
       "      <td>3</td>\n",
       "      <td>0</td>\n",
       "      <td>Not Out</td>\n",
       "      <td>field</td>\n",
       "      <td>Sri Lanka</td>\n",
       "      <td>1</td>\n",
       "      <td>Melbourne Cricket Ground</td>\n",
       "      <td>...</td>\n",
       "      <td>Sri Lanka</td>\n",
       "      <td>Australia</td>\n",
       "      <td>Sri Lanka</td>\n",
       "      <td>0.0</td>\n",
       "      <td>168</td>\n",
       "      <td>Right hand Bat</td>\n",
       "      <td>Right hand Bat</td>\n",
       "      <td>Right arm Fast</td>\n",
       "      <td>No Replacement</td>\n",
       "      <td>2017-02-17</td>\n",
       "    </tr>\n",
       "  </tbody>\n",
       "</table>\n",
       "<p>20 rows × 23 columns</p>\n",
       "</div>"
      ],
      "text/plain": [
       "    wickets_fallen extra_type  delivery  over wicket_type player_out  \\\n",
       "0                0          -       1.0     0           0    Not Out   \n",
       "1                0          -       2.0     0           0    Not Out   \n",
       "2                0          -       3.0     0           0    Not Out   \n",
       "3                0          -       4.0     0           0    Not Out   \n",
       "4                0          -       5.0     0           0    Not Out   \n",
       "5                0          -       6.0     0           0    Not Out   \n",
       "6                0          -       1.0     1           0    Not Out   \n",
       "7                0          -       2.0     1           0    Not Out   \n",
       "8                0          -       3.0     1           0    Not Out   \n",
       "9                0          -       4.0     1           0    Not Out   \n",
       "10               0          -       5.0     1           0    Not Out   \n",
       "11               0          -       6.0     1           0    Not Out   \n",
       "12               0          -       1.0     2           0    Not Out   \n",
       "13               0          -       2.0     2           0    Not Out   \n",
       "14               0          -       3.0     2           0    Not Out   \n",
       "15               0          -       4.0     2           0    Not Out   \n",
       "16               0          -       5.0     2           0    Not Out   \n",
       "17               0          -       6.0     2           0    Not Out   \n",
       "18               0          -       1.0     3           0    Not Out   \n",
       "19               0          -       2.0     3           0    Not Out   \n",
       "\n",
       "   toss_decision toss_winner  innings                     venue  ...  \\\n",
       "0          field   Sri Lanka        1  Melbourne Cricket Ground  ...   \n",
       "1          field   Sri Lanka        1  Melbourne Cricket Ground  ...   \n",
       "2          field   Sri Lanka        1  Melbourne Cricket Ground  ...   \n",
       "3          field   Sri Lanka        1  Melbourne Cricket Ground  ...   \n",
       "4          field   Sri Lanka        1  Melbourne Cricket Ground  ...   \n",
       "5          field   Sri Lanka        1  Melbourne Cricket Ground  ...   \n",
       "6          field   Sri Lanka        1  Melbourne Cricket Ground  ...   \n",
       "7          field   Sri Lanka        1  Melbourne Cricket Ground  ...   \n",
       "8          field   Sri Lanka        1  Melbourne Cricket Ground  ...   \n",
       "9          field   Sri Lanka        1  Melbourne Cricket Ground  ...   \n",
       "10         field   Sri Lanka        1  Melbourne Cricket Ground  ...   \n",
       "11         field   Sri Lanka        1  Melbourne Cricket Ground  ...   \n",
       "12         field   Sri Lanka        1  Melbourne Cricket Ground  ...   \n",
       "13         field   Sri Lanka        1  Melbourne Cricket Ground  ...   \n",
       "14         field   Sri Lanka        1  Melbourne Cricket Ground  ...   \n",
       "15         field   Sri Lanka        1  Melbourne Cricket Ground  ...   \n",
       "16         field   Sri Lanka        1  Melbourne Cricket Ground  ...   \n",
       "17         field   Sri Lanka        1  Melbourne Cricket Ground  ...   \n",
       "18         field   Sri Lanka        1  Melbourne Cricket Ground  ...   \n",
       "19         field   Sri Lanka        1  Melbourne Cricket Ground  ...   \n",
       "\n",
       "    winning_team  batting_team bowling_team  won final_team_total  \\\n",
       "0      Sri Lanka     Australia    Sri Lanka  0.0              168   \n",
       "1      Sri Lanka     Australia    Sri Lanka  0.0              168   \n",
       "2      Sri Lanka     Australia    Sri Lanka  0.0              168   \n",
       "3      Sri Lanka     Australia    Sri Lanka  0.0              168   \n",
       "4      Sri Lanka     Australia    Sri Lanka  0.0              168   \n",
       "5      Sri Lanka     Australia    Sri Lanka  0.0              168   \n",
       "6      Sri Lanka     Australia    Sri Lanka  0.0              168   \n",
       "7      Sri Lanka     Australia    Sri Lanka  0.0              168   \n",
       "8      Sri Lanka     Australia    Sri Lanka  0.0              168   \n",
       "9      Sri Lanka     Australia    Sri Lanka  0.0              168   \n",
       "10     Sri Lanka     Australia    Sri Lanka  0.0              168   \n",
       "11     Sri Lanka     Australia    Sri Lanka  0.0              168   \n",
       "12     Sri Lanka     Australia    Sri Lanka  0.0              168   \n",
       "13     Sri Lanka     Australia    Sri Lanka  0.0              168   \n",
       "14     Sri Lanka     Australia    Sri Lanka  0.0              168   \n",
       "15     Sri Lanka     Australia    Sri Lanka  0.0              168   \n",
       "16     Sri Lanka     Australia    Sri Lanka  0.0              168   \n",
       "17     Sri Lanka     Australia    Sri Lanka  0.0              168   \n",
       "18     Sri Lanka     Australia    Sri Lanka  0.0              168   \n",
       "19     Sri Lanka     Australia    Sri Lanka  0.0              168   \n",
       "\n",
       "       batter_type  non_striker_type     bowler_type    replacements  \\\n",
       "0   Right hand Bat    Right hand Bat  Right arm Fast  No Replacement   \n",
       "1   Right hand Bat    Right hand Bat  Right arm Fast  No Replacement   \n",
       "2   Right hand Bat    Right hand Bat  Right arm Fast  No Replacement   \n",
       "3   Right hand Bat    Right hand Bat  Right arm Fast  No Replacement   \n",
       "4   Right hand Bat    Right hand Bat  Right arm Fast  No Replacement   \n",
       "5   Right hand Bat    Right hand Bat  Right arm Fast  No Replacement   \n",
       "6   Right hand Bat    Right hand Bat  Right arm Fast  No Replacement   \n",
       "7   Right hand Bat    Right hand Bat  Right arm Fast  No Replacement   \n",
       "8   Right hand Bat    Right hand Bat  Right arm Fast  No Replacement   \n",
       "9   Right hand Bat    Right hand Bat  Right arm Fast  No Replacement   \n",
       "10  Right hand Bat    Right hand Bat  Right arm Fast  No Replacement   \n",
       "11  Right hand Bat    Right hand Bat  Right arm Fast  No Replacement   \n",
       "12  Right hand Bat    Right hand Bat  Right arm Fast  No Replacement   \n",
       "13  Right hand Bat    Right hand Bat  Right arm Fast  No Replacement   \n",
       "14  Right hand Bat    Right hand Bat  Right arm Fast  No Replacement   \n",
       "15  Right hand Bat    Right hand Bat  Right arm Fast  No Replacement   \n",
       "16  Right hand Bat    Right hand Bat  Right arm Fast  No Replacement   \n",
       "17  Right hand Bat    Right hand Bat  Right arm Fast  No Replacement   \n",
       "18  Right hand Bat    Right hand Bat  Right arm Fast  No Replacement   \n",
       "19  Right hand Bat    Right hand Bat  Right arm Fast  No Replacement   \n",
       "\n",
       "         date  \n",
       "0  2017-02-17  \n",
       "1  2017-02-17  \n",
       "2  2017-02-17  \n",
       "3  2017-02-17  \n",
       "4  2017-02-17  \n",
       "5  2017-02-17  \n",
       "6  2017-02-17  \n",
       "7  2017-02-17  \n",
       "8  2017-02-17  \n",
       "9  2017-02-17  \n",
       "10 2017-02-17  \n",
       "11 2017-02-17  \n",
       "12 2017-02-17  \n",
       "13 2017-02-17  \n",
       "14 2017-02-17  \n",
       "15 2017-02-17  \n",
       "16 2017-02-17  \n",
       "17 2017-02-17  \n",
       "18 2017-02-17  \n",
       "19 2017-02-17  \n",
       "\n",
       "[20 rows x 23 columns]"
      ]
     },
     "execution_count": 6,
     "metadata": {},
     "output_type": "execute_result"
    }
   ],
   "source": [
    "data.iloc[:, 10:].head(20)"
   ]
  },
  {
   "cell_type": "code",
   "execution_count": 59,
   "metadata": {},
   "outputs": [
    {
     "data": {
      "text/html": [
       "<div>\n",
       "<style scoped>\n",
       "    .dataframe tbody tr th:only-of-type {\n",
       "        vertical-align: middle;\n",
       "    }\n",
       "\n",
       "    .dataframe tbody tr th {\n",
       "        vertical-align: top;\n",
       "    }\n",
       "\n",
       "    .dataframe thead th {\n",
       "        text-align: right;\n",
       "    }\n",
       "</style>\n",
       "<table border=\"1\" class=\"dataframe\">\n",
       "  <thead>\n",
       "    <tr style=\"text-align: right;\">\n",
       "      <th></th>\n",
       "      <th>batter_runs</th>\n",
       "      <th>recent_form</th>\n",
       "    </tr>\n",
       "  </thead>\n",
       "  <tbody>\n",
       "    <tr>\n",
       "      <th>0</th>\n",
       "      <td>21</td>\n",
       "      <td>0.000000</td>\n",
       "    </tr>\n",
       "    <tr>\n",
       "      <th>1</th>\n",
       "      <td>22</td>\n",
       "      <td>21.000000</td>\n",
       "    </tr>\n",
       "    <tr>\n",
       "      <th>2</th>\n",
       "      <td>5</td>\n",
       "      <td>21.500000</td>\n",
       "    </tr>\n",
       "    <tr>\n",
       "      <th>3</th>\n",
       "      <td>1</td>\n",
       "      <td>0.000000</td>\n",
       "    </tr>\n",
       "    <tr>\n",
       "      <th>4</th>\n",
       "      <td>4</td>\n",
       "      <td>1.000000</td>\n",
       "    </tr>\n",
       "    <tr>\n",
       "      <th>...</th>\n",
       "      <td>...</td>\n",
       "      <td>...</td>\n",
       "    </tr>\n",
       "    <tr>\n",
       "      <th>56</th>\n",
       "      <td>23</td>\n",
       "      <td>16.000000</td>\n",
       "    </tr>\n",
       "    <tr>\n",
       "      <th>57</th>\n",
       "      <td>16</td>\n",
       "      <td>17.400000</td>\n",
       "    </tr>\n",
       "    <tr>\n",
       "      <th>58</th>\n",
       "      <td>59</td>\n",
       "      <td>17.166667</td>\n",
       "    </tr>\n",
       "    <tr>\n",
       "      <th>59</th>\n",
       "      <td>36</td>\n",
       "      <td>23.142857</td>\n",
       "    </tr>\n",
       "    <tr>\n",
       "      <th>60</th>\n",
       "      <td>86</td>\n",
       "      <td>24.750000</td>\n",
       "    </tr>\n",
       "  </tbody>\n",
       "</table>\n",
       "<p>61 rows × 2 columns</p>\n",
       "</div>"
      ],
      "text/plain": [
       "    batter_runs  recent_form\n",
       "0            21     0.000000\n",
       "1            22    21.000000\n",
       "2             5    21.500000\n",
       "3             1     0.000000\n",
       "4             4     1.000000\n",
       "..          ...          ...\n",
       "56           23    16.000000\n",
       "57           16    17.400000\n",
       "58           59    17.166667\n",
       "59           36    23.142857\n",
       "60           86    24.750000\n",
       "\n",
       "[61 rows x 2 columns]"
      ]
     },
     "execution_count": 59,
     "metadata": {},
     "output_type": "execute_result"
    }
   ],
   "source": [
    "def getPlayerScores(player_name: str, innings: list[int] = [1, 2]) -> pd.DataFrame:\n",
    "    # Get the data for BKG Mendis if batter is BKG Mendis or non-striker is BKG Mendis\n",
    "\tplayer_data = data.loc[\n",
    "\t\t((data['batter'] == player_name) | (data['non_striker'] == player_name)) & (\n",
    "\t\t    data['innings'].isin(innings))\n",
    "\t]\n",
    "\n",
    "\tplayer_data.head()\n",
    "\n",
    "\t# group data by match_id\n",
    "\tgp = player_data.groupby('match_id')\n",
    "\tcols = ['date', 'batter', 'non_striker', 'batter_runs', 'balls_faced', 'wicket_type', 'won', 'innings', 'over',\n",
    "\t    'delivery', 'wickets_fallen', 'bowling_team', 'batting_team', 'venue', 'toss_winner', 'batter_type', 'non_striker_type']\n",
    "\tplayer_scores = gp.last().loc[:, cols]\n",
    "\n",
    "\t# get the first ball he faced or at non-striker\n",
    "\tfirst_ball = gp.first().loc[:, ['over', 'delivery',\n",
    "\t                      'wickets_fallen', 'current_team_total']]\n",
    "\tfirst_ball['first_ball'] = (\n",
    "\t    first_ball['over'] * 6 + first_ball['delivery']).astype(int)\n",
    "\n",
    "\tplayer_scores['first_ball'] = first_ball['first_ball']\n",
    "\tplayer_scores['wickets_fallen'] = first_ball['wickets_fallen']\n",
    "\tplayer_scores['current_team_total'] = first_ball['current_team_total']\n",
    "\tplayer_scores['is_powerplay'] = first_ball['first_ball'] <= 30\n",
    "\n",
    "    # convert toss win to boolean\n",
    "\tplayer_scores['toss_winner'] = (\n",
    "\t    player_scores['toss_winner'] == player_scores['batting_team']).astype(int);\n",
    "\n",
    "    # when BKG Mendis is the non-striker when the last ball was bowled\n",
    "\t# The batter_runs and balls_faced are not his, but the on_strike batter's\n",
    "\t# So, we need to get the last ball he faced\n",
    "\t# he might not even have faced a ball\n",
    "\n",
    "\t# get the last ball he faced\n",
    "\n",
    "\tmatches_non_striker = player_scores[player_scores['non_striker']\n",
    "\t    == player_name].index\n",
    "\n",
    "\t# Sometimes the player might not even have faced a single ball\n",
    "\t# Eg: Afghanistan_Sri Lanka_2022-11-01 MD Shanaka not out on the non strikers end\n",
    "\n",
    "\tplayer_scores.loc[matches_non_striker, [\n",
    "\t    'batter_runs', 'balls_faced']] = [0, 0]\n",
    "\n",
    "\t# get the last batter == player_name row from gp data\n",
    "\tgp = player_data[(player_data['batter'] == player_name) & (\n",
    "\t    player_data['match_id'].isin(matches_non_striker))].groupby(['match_id'])\n",
    "\tlast_batter_scores = gp.last()[['batter_runs', 'balls_faced']]\n",
    "\n",
    "\t# update the rows with non_striker with correct values\n",
    "\tplayer_scores.update(last_batter_scores)\n",
    "\n",
    "\t# adding new features\n",
    "\t# strike rate\n",
    "\tplayer_scores['strike_rate'] = round(\n",
    "\t    player_scores['batter_runs'] / player_scores['balls_faced'] * 100, 2)\n",
    "\tplayer_scores['out'] = player_scores['wicket_type'] != '0'\n",
    "\tplayer_scores['last_ball'] = (\n",
    "\t    player_scores['over'] * 6 + player_scores['delivery']).astype(int)\n",
    "\n",
    "\t# drop over and delivery\n",
    "\tplayer_scores.drop(['over', 'delivery'], inplace=True, axis=1)\n",
    "\n",
    "\t# concatenating the remaining bowler types number to the dataset\n",
    "\tmatches = data[data['match_id'].isin(player_scores.index)]\n",
    "\t# matches = matches[matches['batting_team'] == 'Sri Lanka']\n",
    "\tcols = ['match_id', 'batter', 'non_striker', 'bowler_type', 'batter_runs',\n",
    "\t    'balls_faced', 'wicket_type', 'won', 'innings', 'over', 'delivery', 'wickets_fallen']\n",
    "\tmatches = matches[cols]\n",
    "\tmatches['ball_number'] = (matches['over'] * 6 +\n",
    "\t                          matches['delivery']).astype(int)\n",
    "\tmatches.drop(['over', 'delivery'], inplace=True, axis=1)\n",
    "\n",
    "\tdef filter_by_player_and_ball_number(group):\n",
    "\t\tplayer_data = group[group['batter'] == player_name]\n",
    "\n",
    "\t\tif player_data.empty:\n",
    "\t\t\treturn player_data.drop('match_id', axis=1)\n",
    "\n",
    "\t\tfirst_ball_number = player_data['ball_number'].iloc[0]\n",
    "\n",
    "\t\t# return player_data[player_data['ball_number'] > first_ball_number].drop('match_id', axis=1) # This is for number of balls faced\n",
    "\n",
    "\t\t# fixed error should be greater or equal\n",
    "\t\tremaining = group[group['ball_number'] >= first_ball_number].drop(\n",
    "\t\t    'match_id', axis=1)  # return the remianing number of deliveries for each type\n",
    "\t\treturn remaining\n",
    "\n",
    "\tgp = matches.groupby('match_id').apply(filter_by_player_and_ball_number)\n",
    "\tremaining_ball_types = gp.groupby(\n",
    "\t    'match_id')['bowler_type'].value_counts().unstack(fill_value=0)\n",
    "\tremaining_ball_types = remaining_ball_types.reset_index()\n",
    "\n",
    "\tplayer_scores = player_scores.merge(\n",
    "\t    remaining_ball_types, how='left', on='match_id')\n",
    "\n",
    "\tplayer_scores.fillna(0, inplace=True)\n",
    "\t\n",
    "    \n",
    "    # if batsman ended as non_striker, make him the batter and drop the nonstriker column\n",
    "\tplayer_scores['batter'] = player_name\n",
    "\tplayer_scores.drop('non_striker', inplace=True, axis = 1)\n",
    "\n",
    "\n",
    "\n",
    "\t# Sort according to date\n",
    "\tplayer_scores.sort_values(by='date', inplace=True)\n",
    "\n",
    "\tdef calculate_recent_form(row, window=100):\n",
    "\t\t\"\"\"\n",
    "\t\tCalculates the average runs scored by the player in the last 'window' days (excluding the current date).\n",
    "\t\t\"\"\"\n",
    "\t\tdate = row['date']\n",
    "\t\tdf = player_scores.copy()\n",
    "\t\tdf = df[df['date'] < date]\n",
    "\t\tdf = df[df['date'] >= (date - pd.Timedelta(days=window))]\n",
    "\t\taverage_runs = df['batter_runs'].mean() if len(df) > 0 else 0\n",
    "\t\treturn average_runs\t\n",
    "\n",
    "\tplayer_scores['recent_form'] = player_scores.apply(calculate_recent_form, axis=1)\n",
    "\t\n",
    "\t# reindex\n",
    "\tplayer_scores.reset_index(drop=True, inplace=True)\n",
    "\n",
    "\treturn player_scores\n",
    "\n",
    "\n"
   ]
  },
  {
   "cell_type": "code",
   "execution_count": 94,
   "metadata": {
    "scrolled": true
   },
   "outputs": [
    {
     "name": "stdout",
     "output_type": "stream",
     "text": [
      "Analyzing Player AJ Finch\n",
      "Analyzing Player M Klinger\n"
     ]
    },
    {
     "name": "stderr",
     "output_type": "stream",
     "text": [
      "/tmp/ipykernel_1282148/868147661.py:90: DeprecationWarning: DataFrameGroupBy.apply operated on the grouping columns. This behavior is deprecated, and in a future version of pandas the grouping columns will be excluded from the operation. Either pass `include_groups=False` to exclude the groupings or explicitly select the grouping columns after groupby to silence this warning.\n",
      "  gp = matches.groupby('match_id').apply(filter_by_player_and_ball_number)\n",
      "/tmp/ipykernel_1282148/868147661.py:90: DeprecationWarning: DataFrameGroupBy.apply operated on the grouping columns. This behavior is deprecated, and in a future version of pandas the grouping columns will be excluded from the operation. Either pass `include_groups=False` to exclude the groupings or explicitly select the grouping columns after groupby to silence this warning.\n",
      "  gp = matches.groupby('match_id').apply(filter_by_player_and_ball_number)\n",
      "/tmp/ipykernel_1282148/868147661.py:90: DeprecationWarning: DataFrameGroupBy.apply operated on the grouping columns. This behavior is deprecated, and in a future version of pandas the grouping columns will be excluded from the operation. Either pass `include_groups=False` to exclude the groupings or explicitly select the grouping columns after groupby to silence this warning.\n",
      "  gp = matches.groupby('match_id').apply(filter_by_player_and_ball_number)\n"
     ]
    },
    {
     "name": "stdout",
     "output_type": "stream",
     "text": [
      "Analyzing Player TM Head\n",
      "Analyzing Player MC Henriques\n",
      "Analyzing Player AJ Turner\n",
      "Analyzing Player JP Faulkner\n"
     ]
    },
    {
     "name": "stderr",
     "output_type": "stream",
     "text": [
      "/tmp/ipykernel_1282148/868147661.py:90: DeprecationWarning: DataFrameGroupBy.apply operated on the grouping columns. This behavior is deprecated, and in a future version of pandas the grouping columns will be excluded from the operation. Either pass `include_groups=False` to exclude the groupings or explicitly select the grouping columns after groupby to silence this warning.\n",
      "  gp = matches.groupby('match_id').apply(filter_by_player_and_ball_number)\n",
      "/tmp/ipykernel_1282148/868147661.py:90: DeprecationWarning: DataFrameGroupBy.apply operated on the grouping columns. This behavior is deprecated, and in a future version of pandas the grouping columns will be excluded from the operation. Either pass `include_groups=False` to exclude the groupings or explicitly select the grouping columns after groupby to silence this warning.\n",
      "  gp = matches.groupby('match_id').apply(filter_by_player_and_ball_number)\n",
      "/tmp/ipykernel_1282148/868147661.py:90: DeprecationWarning: DataFrameGroupBy.apply operated on the grouping columns. This behavior is deprecated, and in a future version of pandas the grouping columns will be excluded from the operation. Either pass `include_groups=False` to exclude the groupings or explicitly select the grouping columns after groupby to silence this warning.\n",
      "  gp = matches.groupby('match_id').apply(filter_by_player_and_ball_number)\n",
      "/tmp/ipykernel_1282148/868147661.py:90: DeprecationWarning: DataFrameGroupBy.apply operated on the grouping columns. This behavior is deprecated, and in a future version of pandas the grouping columns will be excluded from the operation. Either pass `include_groups=False` to exclude the groupings or explicitly select the grouping columns after groupby to silence this warning.\n",
      "  gp = matches.groupby('match_id').apply(filter_by_player_and_ball_number)\n"
     ]
    },
    {
     "name": "stdout",
     "output_type": "stream",
     "text": [
      "Analyzing Player N Dickwella\n",
      "Analyzing Player WU Tharanga\n",
      "Analyzing Player EMDY Munaweera\n",
      "Analyzing Player DAS Gunaratne\n"
     ]
    },
    {
     "name": "stderr",
     "output_type": "stream",
     "text": [
      "/tmp/ipykernel_1282148/868147661.py:90: DeprecationWarning: DataFrameGroupBy.apply operated on the grouping columns. This behavior is deprecated, and in a future version of pandas the grouping columns will be excluded from the operation. Either pass `include_groups=False` to exclude the groupings or explicitly select the grouping columns after groupby to silence this warning.\n",
      "  gp = matches.groupby('match_id').apply(filter_by_player_and_ball_number)\n",
      "/tmp/ipykernel_1282148/868147661.py:90: DeprecationWarning: DataFrameGroupBy.apply operated on the grouping columns. This behavior is deprecated, and in a future version of pandas the grouping columns will be excluded from the operation. Either pass `include_groups=False` to exclude the groupings or explicitly select the grouping columns after groupby to silence this warning.\n",
      "  gp = matches.groupby('match_id').apply(filter_by_player_and_ball_number)\n",
      "/tmp/ipykernel_1282148/868147661.py:90: DeprecationWarning: DataFrameGroupBy.apply operated on the grouping columns. This behavior is deprecated, and in a future version of pandas the grouping columns will be excluded from the operation. Either pass `include_groups=False` to exclude the groupings or explicitly select the grouping columns after groupby to silence this warning.\n",
      "  gp = matches.groupby('match_id').apply(filter_by_player_and_ball_number)\n",
      "/tmp/ipykernel_1282148/868147661.py:90: DeprecationWarning: DataFrameGroupBy.apply operated on the grouping columns. This behavior is deprecated, and in a future version of pandas the grouping columns will be excluded from the operation. Either pass `include_groups=False` to exclude the groupings or explicitly select the grouping columns after groupby to silence this warning.\n",
      "  gp = matches.groupby('match_id').apply(filter_by_player_and_ball_number)\n"
     ]
    },
    {
     "name": "stdout",
     "output_type": "stream",
     "text": [
      "Analyzing Player TAM Siriwardana\n",
      "Analyzing Player CK Kapugedera\n",
      "Analyzing Player S Prasanna\n",
      "Analyzing Player BR Dunk\n"
     ]
    },
    {
     "name": "stderr",
     "output_type": "stream",
     "text": [
      "/tmp/ipykernel_1282148/868147661.py:90: DeprecationWarning: DataFrameGroupBy.apply operated on the grouping columns. This behavior is deprecated, and in a future version of pandas the grouping columns will be excluded from the operation. Either pass `include_groups=False` to exclude the groupings or explicitly select the grouping columns after groupby to silence this warning.\n",
      "  gp = matches.groupby('match_id').apply(filter_by_player_and_ball_number)\n",
      "/tmp/ipykernel_1282148/868147661.py:90: DeprecationWarning: DataFrameGroupBy.apply operated on the grouping columns. This behavior is deprecated, and in a future version of pandas the grouping columns will be excluded from the operation. Either pass `include_groups=False` to exclude the groupings or explicitly select the grouping columns after groupby to silence this warning.\n",
      "  gp = matches.groupby('match_id').apply(filter_by_player_and_ball_number)\n",
      "/tmp/ipykernel_1282148/868147661.py:90: DeprecationWarning: DataFrameGroupBy.apply operated on the grouping columns. This behavior is deprecated, and in a future version of pandas the grouping columns will be excluded from the operation. Either pass `include_groups=False` to exclude the groupings or explicitly select the grouping columns after groupby to silence this warning.\n",
      "  gp = matches.groupby('match_id').apply(filter_by_player_and_ball_number)\n",
      "/tmp/ipykernel_1282148/868147661.py:90: DeprecationWarning: DataFrameGroupBy.apply operated on the grouping columns. This behavior is deprecated, and in a future version of pandas the grouping columns will be excluded from the operation. Either pass `include_groups=False` to exclude the groupings or explicitly select the grouping columns after groupby to silence this warning.\n",
      "  gp = matches.groupby('match_id').apply(filter_by_player_and_ball_number)\n"
     ]
    },
    {
     "name": "stdout",
     "output_type": "stream",
     "text": [
      "Analyzing Player TD Paine\n",
      "Analyzing Player PJ Cummins\n",
      "Analyzing Player AJ Tye\n",
      "Analyzing Player JA Richardson\n"
     ]
    },
    {
     "name": "stderr",
     "output_type": "stream",
     "text": [
      "/tmp/ipykernel_1282148/868147661.py:90: DeprecationWarning: DataFrameGroupBy.apply operated on the grouping columns. This behavior is deprecated, and in a future version of pandas the grouping columns will be excluded from the operation. Either pass `include_groups=False` to exclude the groupings or explicitly select the grouping columns after groupby to silence this warning.\n",
      "  gp = matches.groupby('match_id').apply(filter_by_player_and_ball_number)\n",
      "/tmp/ipykernel_1282148/868147661.py:90: DeprecationWarning: DataFrameGroupBy.apply operated on the grouping columns. This behavior is deprecated, and in a future version of pandas the grouping columns will be excluded from the operation. Either pass `include_groups=False` to exclude the groupings or explicitly select the grouping columns after groupby to silence this warning.\n",
      "  gp = matches.groupby('match_id').apply(filter_by_player_and_ball_number)\n",
      "/tmp/ipykernel_1282148/868147661.py:90: DeprecationWarning: DataFrameGroupBy.apply operated on the grouping columns. This behavior is deprecated, and in a future version of pandas the grouping columns will be excluded from the operation. Either pass `include_groups=False` to exclude the groupings or explicitly select the grouping columns after groupby to silence this warning.\n",
      "  gp = matches.groupby('match_id').apply(filter_by_player_and_ball_number)\n"
     ]
    },
    {
     "name": "stdout",
     "output_type": "stream",
     "text": [
      "Analyzing Player BKG Mendis\n",
      "Analyzing Player KMDN Kulasekara\n",
      "Analyzing Player SL Malinga\n"
     ]
    },
    {
     "name": "stderr",
     "output_type": "stream",
     "text": [
      "/tmp/ipykernel_1282148/868147661.py:90: DeprecationWarning: DataFrameGroupBy.apply operated on the grouping columns. This behavior is deprecated, and in a future version of pandas the grouping columns will be excluded from the operation. Either pass `include_groups=False` to exclude the groupings or explicitly select the grouping columns after groupby to silence this warning.\n",
      "  gp = matches.groupby('match_id').apply(filter_by_player_and_ball_number)\n",
      "/tmp/ipykernel_1282148/868147661.py:90: DeprecationWarning: DataFrameGroupBy.apply operated on the grouping columns. This behavior is deprecated, and in a future version of pandas the grouping columns will be excluded from the operation. Either pass `include_groups=False` to exclude the groupings or explicitly select the grouping columns after groupby to silence this warning.\n",
      "  gp = matches.groupby('match_id').apply(filter_by_player_and_ball_number)\n",
      "/tmp/ipykernel_1282148/868147661.py:90: DeprecationWarning: DataFrameGroupBy.apply operated on the grouping columns. This behavior is deprecated, and in a future version of pandas the grouping columns will be excluded from the operation. Either pass `include_groups=False` to exclude the groupings or explicitly select the grouping columns after groupby to silence this warning.\n",
      "  gp = matches.groupby('match_id').apply(filter_by_player_and_ball_number)\n"
     ]
    },
    {
     "name": "stdout",
     "output_type": "stream",
     "text": [
      "Analyzing Player MD Shanaka\n",
      "Analyzing Player JRMVB Sanjaya\n",
      "Analyzing Player KL Rahul\n"
     ]
    },
    {
     "name": "stderr",
     "output_type": "stream",
     "text": [
      "/tmp/ipykernel_1282148/868147661.py:90: DeprecationWarning: DataFrameGroupBy.apply operated on the grouping columns. This behavior is deprecated, and in a future version of pandas the grouping columns will be excluded from the operation. Either pass `include_groups=False` to exclude the groupings or explicitly select the grouping columns after groupby to silence this warning.\n",
      "  gp = matches.groupby('match_id').apply(filter_by_player_and_ball_number)\n",
      "/tmp/ipykernel_1282148/868147661.py:90: DeprecationWarning: DataFrameGroupBy.apply operated on the grouping columns. This behavior is deprecated, and in a future version of pandas the grouping columns will be excluded from the operation. Either pass `include_groups=False` to exclude the groupings or explicitly select the grouping columns after groupby to silence this warning.\n",
      "  gp = matches.groupby('match_id').apply(filter_by_player_and_ball_number)\n",
      "/tmp/ipykernel_1282148/868147661.py:90: DeprecationWarning: DataFrameGroupBy.apply operated on the grouping columns. This behavior is deprecated, and in a future version of pandas the grouping columns will be excluded from the operation. Either pass `include_groups=False` to exclude the groupings or explicitly select the grouping columns after groupby to silence this warning.\n",
      "  gp = matches.groupby('match_id').apply(filter_by_player_and_ball_number)\n"
     ]
    },
    {
     "name": "stdout",
     "output_type": "stream",
     "text": [
      "Analyzing Player AT Rayudu\n",
      "Analyzing Player Mandeep Singh\n",
      "Analyzing Player MK Pandey\n",
      "Analyzing Player KM Jadhav\n"
     ]
    },
    {
     "name": "stderr",
     "output_type": "stream",
     "text": [
      "/tmp/ipykernel_1282148/868147661.py:90: DeprecationWarning: DataFrameGroupBy.apply operated on the grouping columns. This behavior is deprecated, and in a future version of pandas the grouping columns will be excluded from the operation. Either pass `include_groups=False` to exclude the groupings or explicitly select the grouping columns after groupby to silence this warning.\n",
      "  gp = matches.groupby('match_id').apply(filter_by_player_and_ball_number)\n",
      "/tmp/ipykernel_1282148/868147661.py:90: DeprecationWarning: DataFrameGroupBy.apply operated on the grouping columns. This behavior is deprecated, and in a future version of pandas the grouping columns will be excluded from the operation. Either pass `include_groups=False` to exclude the groupings or explicitly select the grouping columns after groupby to silence this warning.\n",
      "  gp = matches.groupby('match_id').apply(filter_by_player_and_ball_number)\n",
      "/tmp/ipykernel_1282148/868147661.py:90: DeprecationWarning: DataFrameGroupBy.apply operated on the grouping columns. This behavior is deprecated, and in a future version of pandas the grouping columns will be excluded from the operation. Either pass `include_groups=False` to exclude the groupings or explicitly select the grouping columns after groupby to silence this warning.\n",
      "  gp = matches.groupby('match_id').apply(filter_by_player_and_ball_number)\n",
      "/tmp/ipykernel_1282148/868147661.py:90: DeprecationWarning: DataFrameGroupBy.apply operated on the grouping columns. This behavior is deprecated, and in a future version of pandas the grouping columns will be excluded from the operation. Either pass `include_groups=False` to exclude the groupings or explicitly select the grouping columns after groupby to silence this warning.\n",
      "  gp = matches.groupby('match_id').apply(filter_by_player_and_ball_number)\n"
     ]
    },
    {
     "name": "stdout",
     "output_type": "stream",
     "text": [
      "Analyzing Player MS Dhoni\n",
      "Analyzing Player AR Patel\n",
      "Analyzing Player R Dhawan\n"
     ]
    },
    {
     "name": "stderr",
     "output_type": "stream",
     "text": [
      "/tmp/ipykernel_1282148/868147661.py:90: DeprecationWarning: DataFrameGroupBy.apply operated on the grouping columns. This behavior is deprecated, and in a future version of pandas the grouping columns will be excluded from the operation. Either pass `include_groups=False` to exclude the groupings or explicitly select the grouping columns after groupby to silence this warning.\n",
      "  gp = matches.groupby('match_id').apply(filter_by_player_and_ball_number)\n",
      "/tmp/ipykernel_1282148/868147661.py:90: DeprecationWarning: DataFrameGroupBy.apply operated on the grouping columns. This behavior is deprecated, and in a future version of pandas the grouping columns will be excluded from the operation. Either pass `include_groups=False` to exclude the groupings or explicitly select the grouping columns after groupby to silence this warning.\n",
      "  gp = matches.groupby('match_id').apply(filter_by_player_and_ball_number)\n",
      "/tmp/ipykernel_1282148/868147661.py:90: DeprecationWarning: DataFrameGroupBy.apply operated on the grouping columns. This behavior is deprecated, and in a future version of pandas the grouping columns will be excluded from the operation. Either pass `include_groups=False` to exclude the groupings or explicitly select the grouping columns after groupby to silence this warning.\n",
      "  gp = matches.groupby('match_id').apply(filter_by_player_and_ball_number)\n",
      "/tmp/ipykernel_1282148/868147661.py:90: DeprecationWarning: DataFrameGroupBy.apply operated on the grouping columns. This behavior is deprecated, and in a future version of pandas the grouping columns will be excluded from the operation. Either pass `include_groups=False` to exclude the groupings or explicitly select the grouping columns after groupby to silence this warning.\n",
      "  gp = matches.groupby('match_id').apply(filter_by_player_and_ball_number)\n"
     ]
    },
    {
     "name": "stdout",
     "output_type": "stream",
     "text": [
      "Analyzing Player CJ Chibhabha\n",
      "Analyzing Player H Masakadza\n",
      "Analyzing Player R Mutumbami\n"
     ]
    },
    {
     "name": "stderr",
     "output_type": "stream",
     "text": [
      "/tmp/ipykernel_1282148/868147661.py:90: DeprecationWarning: DataFrameGroupBy.apply operated on the grouping columns. This behavior is deprecated, and in a future version of pandas the grouping columns will be excluded from the operation. Either pass `include_groups=False` to exclude the groupings or explicitly select the grouping columns after groupby to silence this warning.\n",
      "  gp = matches.groupby('match_id').apply(filter_by_player_and_ball_number)\n",
      "/tmp/ipykernel_1282148/868147661.py:90: DeprecationWarning: DataFrameGroupBy.apply operated on the grouping columns. This behavior is deprecated, and in a future version of pandas the grouping columns will be excluded from the operation. Either pass `include_groups=False` to exclude the groupings or explicitly select the grouping columns after groupby to silence this warning.\n",
      "  gp = matches.groupby('match_id').apply(filter_by_player_and_ball_number)\n",
      "/tmp/ipykernel_1282148/868147661.py:90: DeprecationWarning: DataFrameGroupBy.apply operated on the grouping columns. This behavior is deprecated, and in a future version of pandas the grouping columns will be excluded from the operation. Either pass `include_groups=False` to exclude the groupings or explicitly select the grouping columns after groupby to silence this warning.\n",
      "  gp = matches.groupby('match_id').apply(filter_by_player_and_ball_number)\n"
     ]
    },
    {
     "name": "stdout",
     "output_type": "stream",
     "text": [
      "Analyzing Player Sikandar Raza\n",
      "Analyzing Player MN Waller\n",
      "Analyzing Player CT Mutombodzi\n"
     ]
    },
    {
     "name": "stderr",
     "output_type": "stream",
     "text": [
      "/tmp/ipykernel_1282148/868147661.py:90: DeprecationWarning: DataFrameGroupBy.apply operated on the grouping columns. This behavior is deprecated, and in a future version of pandas the grouping columns will be excluded from the operation. Either pass `include_groups=False` to exclude the groupings or explicitly select the grouping columns after groupby to silence this warning.\n",
      "  gp = matches.groupby('match_id').apply(filter_by_player_and_ball_number)\n",
      "/tmp/ipykernel_1282148/868147661.py:90: DeprecationWarning: DataFrameGroupBy.apply operated on the grouping columns. This behavior is deprecated, and in a future version of pandas the grouping columns will be excluded from the operation. Either pass `include_groups=False` to exclude the groupings or explicitly select the grouping columns after groupby to silence this warning.\n",
      "  gp = matches.groupby('match_id').apply(filter_by_player_and_ball_number)\n",
      "/tmp/ipykernel_1282148/868147661.py:90: DeprecationWarning: DataFrameGroupBy.apply operated on the grouping columns. This behavior is deprecated, and in a future version of pandas the grouping columns will be excluded from the operation. Either pass `include_groups=False` to exclude the groupings or explicitly select the grouping columns after groupby to silence this warning.\n",
      "  gp = matches.groupby('match_id').apply(filter_by_player_and_ball_number)\n"
     ]
    },
    {
     "name": "stdout",
     "output_type": "stream",
     "text": [
      "Analyzing Player E Chigumbura\n",
      "Analyzing Player AG Cremer\n",
      "Analyzing Player N Madziva\n",
      "Analyzing Player PJ Moor\n"
     ]
    },
    {
     "name": "stderr",
     "output_type": "stream",
     "text": [
      "/tmp/ipykernel_1282148/868147661.py:90: DeprecationWarning: DataFrameGroupBy.apply operated on the grouping columns. This behavior is deprecated, and in a future version of pandas the grouping columns will be excluded from the operation. Either pass `include_groups=False` to exclude the groupings or explicitly select the grouping columns after groupby to silence this warning.\n",
      "  gp = matches.groupby('match_id').apply(filter_by_player_and_ball_number)\n",
      "/tmp/ipykernel_1282148/868147661.py:90: DeprecationWarning: DataFrameGroupBy.apply operated on the grouping columns. This behavior is deprecated, and in a future version of pandas the grouping columns will be excluded from the operation. Either pass `include_groups=False` to exclude the groupings or explicitly select the grouping columns after groupby to silence this warning.\n",
      "  gp = matches.groupby('match_id').apply(filter_by_player_and_ball_number)\n",
      "/tmp/ipykernel_1282148/868147661.py:90: DeprecationWarning: DataFrameGroupBy.apply operated on the grouping columns. This behavior is deprecated, and in a future version of pandas the grouping columns will be excluded from the operation. Either pass `include_groups=False` to exclude the groupings or explicitly select the grouping columns after groupby to silence this warning.\n",
      "  gp = matches.groupby('match_id').apply(filter_by_player_and_ball_number)\n",
      "/tmp/ipykernel_1282148/868147661.py:90: DeprecationWarning: DataFrameGroupBy.apply operated on the grouping columns. This behavior is deprecated, and in a future version of pandas the grouping columns will be excluded from the operation. Either pass `include_groups=False` to exclude the groupings or explicitly select the grouping columns after groupby to silence this warning.\n",
      "  gp = matches.groupby('match_id').apply(filter_by_player_and_ball_number)\n",
      "/tmp/ipykernel_1282148/868147661.py:90: DeprecationWarning: DataFrameGroupBy.apply operated on the grouping columns. This behavior is deprecated, and in a future version of pandas the grouping columns will be excluded from the operation. Either pass `include_groups=False` to exclude the groupings or explicitly select the grouping columns after groupby to silence this warning.\n",
      "  gp = matches.groupby('match_id').apply(filter_by_player_and_ball_number)\n"
     ]
    },
    {
     "name": "stdout",
     "output_type": "stream",
     "text": [
      "Analyzing Player DT Tiripano\n",
      "Analyzing Player T Muzarabani\n",
      "Analyzing Player DS Kulkarni\n",
      "Analyzing Player V Sibanda\n",
      "Analyzing Player T Maruma\n"
     ]
    },
    {
     "name": "stderr",
     "output_type": "stream",
     "text": [
      "/tmp/ipykernel_1282148/868147661.py:90: DeprecationWarning: DataFrameGroupBy.apply operated on the grouping columns. This behavior is deprecated, and in a future version of pandas the grouping columns will be excluded from the operation. Either pass `include_groups=False` to exclude the groupings or explicitly select the grouping columns after groupby to silence this warning.\n",
      "  gp = matches.groupby('match_id').apply(filter_by_player_and_ball_number)\n",
      "/tmp/ipykernel_1282148/868147661.py:90: DeprecationWarning: DataFrameGroupBy.apply operated on the grouping columns. This behavior is deprecated, and in a future version of pandas the grouping columns will be excluded from the operation. Either pass `include_groups=False` to exclude the groupings or explicitly select the grouping columns after groupby to silence this warning.\n",
      "  gp = matches.groupby('match_id').apply(filter_by_player_and_ball_number)\n",
      "/tmp/ipykernel_1282148/868147661.py:90: DeprecationWarning: DataFrameGroupBy.apply operated on the grouping columns. This behavior is deprecated, and in a future version of pandas the grouping columns will be excluded from the operation. Either pass `include_groups=False` to exclude the groupings or explicitly select the grouping columns after groupby to silence this warning.\n",
      "  gp = matches.groupby('match_id').apply(filter_by_player_and_ball_number)\n"
     ]
    },
    {
     "name": "stdout",
     "output_type": "stream",
     "text": [
      "Analyzing Player Tamim Iqbal\n",
      "Analyzing Player Imrul Kayes\n",
      "Analyzing Player Sabbir Rahman\n"
     ]
    },
    {
     "name": "stderr",
     "output_type": "stream",
     "text": [
      "/tmp/ipykernel_1282148/868147661.py:90: DeprecationWarning: DataFrameGroupBy.apply operated on the grouping columns. This behavior is deprecated, and in a future version of pandas the grouping columns will be excluded from the operation. Either pass `include_groups=False` to exclude the groupings or explicitly select the grouping columns after groupby to silence this warning.\n",
      "  gp = matches.groupby('match_id').apply(filter_by_player_and_ball_number)\n",
      "/tmp/ipykernel_1282148/868147661.py:90: DeprecationWarning: DataFrameGroupBy.apply operated on the grouping columns. This behavior is deprecated, and in a future version of pandas the grouping columns will be excluded from the operation. Either pass `include_groups=False` to exclude the groupings or explicitly select the grouping columns after groupby to silence this warning.\n",
      "  gp = matches.groupby('match_id').apply(filter_by_player_and_ball_number)\n",
      "/tmp/ipykernel_1282148/868147661.py:90: DeprecationWarning: DataFrameGroupBy.apply operated on the grouping columns. This behavior is deprecated, and in a future version of pandas the grouping columns will be excluded from the operation. Either pass `include_groups=False` to exclude the groupings or explicitly select the grouping columns after groupby to silence this warning.\n",
      "  gp = matches.groupby('match_id').apply(filter_by_player_and_ball_number)\n"
     ]
    },
    {
     "name": "stdout",
     "output_type": "stream",
     "text": [
      "Analyzing Player Shakib Al Hasan\n",
      "Analyzing Player Soumya Sarkar\n"
     ]
    },
    {
     "name": "stderr",
     "output_type": "stream",
     "text": [
      "/tmp/ipykernel_1282148/868147661.py:90: DeprecationWarning: DataFrameGroupBy.apply operated on the grouping columns. This behavior is deprecated, and in a future version of pandas the grouping columns will be excluded from the operation. Either pass `include_groups=False` to exclude the groupings or explicitly select the grouping columns after groupby to silence this warning.\n",
      "  gp = matches.groupby('match_id').apply(filter_by_player_and_ball_number)\n",
      "/tmp/ipykernel_1282148/868147661.py:90: DeprecationWarning: DataFrameGroupBy.apply operated on the grouping columns. This behavior is deprecated, and in a future version of pandas the grouping columns will be excluded from the operation. Either pass `include_groups=False` to exclude the groupings or explicitly select the grouping columns after groupby to silence this warning.\n",
      "  gp = matches.groupby('match_id').apply(filter_by_player_and_ball_number)\n"
     ]
    },
    {
     "name": "stdout",
     "output_type": "stream",
     "text": [
      "Analyzing Player Mahmudullah\n",
      "Analyzing Player Mosaddek Hossain\n"
     ]
    },
    {
     "name": "stderr",
     "output_type": "stream",
     "text": [
      "/tmp/ipykernel_1282148/868147661.py:90: DeprecationWarning: DataFrameGroupBy.apply operated on the grouping columns. This behavior is deprecated, and in a future version of pandas the grouping columns will be excluded from the operation. Either pass `include_groups=False` to exclude the groupings or explicitly select the grouping columns after groupby to silence this warning.\n",
      "  gp = matches.groupby('match_id').apply(filter_by_player_and_ball_number)\n",
      "/tmp/ipykernel_1282148/868147661.py:90: DeprecationWarning: DataFrameGroupBy.apply operated on the grouping columns. This behavior is deprecated, and in a future version of pandas the grouping columns will be excluded from the operation. Either pass `include_groups=False` to exclude the groupings or explicitly select the grouping columns after groupby to silence this warning.\n",
      "  gp = matches.groupby('match_id').apply(filter_by_player_and_ball_number)\n",
      "/tmp/ipykernel_1282148/868147661.py:90: DeprecationWarning: DataFrameGroupBy.apply operated on the grouping columns. This behavior is deprecated, and in a future version of pandas the grouping columns will be excluded from the operation. Either pass `include_groups=False` to exclude the groupings or explicitly select the grouping columns after groupby to silence this warning.\n",
      "  gp = matches.groupby('match_id').apply(filter_by_player_and_ball_number)\n"
     ]
    },
    {
     "name": "stdout",
     "output_type": "stream",
     "text": [
      "Analyzing Player Mashrafe Mortaza\n",
      "Analyzing Player Nurul Hasan\n",
      "Analyzing Player Rubel Hossain\n",
      "Analyzing Player NT Broom\n"
     ]
    },
    {
     "name": "stderr",
     "output_type": "stream",
     "text": [
      "/tmp/ipykernel_1282148/868147661.py:90: DeprecationWarning: DataFrameGroupBy.apply operated on the grouping columns. This behavior is deprecated, and in a future version of pandas the grouping columns will be excluded from the operation. Either pass `include_groups=False` to exclude the groupings or explicitly select the grouping columns after groupby to silence this warning.\n",
      "  gp = matches.groupby('match_id').apply(filter_by_player_and_ball_number)\n",
      "/tmp/ipykernel_1282148/868147661.py:90: DeprecationWarning: DataFrameGroupBy.apply operated on the grouping columns. This behavior is deprecated, and in a future version of pandas the grouping columns will be excluded from the operation. Either pass `include_groups=False` to exclude the groupings or explicitly select the grouping columns after groupby to silence this warning.\n",
      "  gp = matches.groupby('match_id').apply(filter_by_player_and_ball_number)\n",
      "/tmp/ipykernel_1282148/868147661.py:90: DeprecationWarning: DataFrameGroupBy.apply operated on the grouping columns. This behavior is deprecated, and in a future version of pandas the grouping columns will be excluded from the operation. Either pass `include_groups=False` to exclude the groupings or explicitly select the grouping columns after groupby to silence this warning.\n",
      "  gp = matches.groupby('match_id').apply(filter_by_player_and_ball_number)\n"
     ]
    },
    {
     "name": "stdout",
     "output_type": "stream",
     "text": [
      "Analyzing Player KS Williamson\n",
      "Analyzing Player C Munro\n"
     ]
    },
    {
     "name": "stderr",
     "output_type": "stream",
     "text": [
      "/tmp/ipykernel_1282148/868147661.py:90: DeprecationWarning: DataFrameGroupBy.apply operated on the grouping columns. This behavior is deprecated, and in a future version of pandas the grouping columns will be excluded from the operation. Either pass `include_groups=False` to exclude the groupings or explicitly select the grouping columns after groupby to silence this warning.\n",
      "  gp = matches.groupby('match_id').apply(filter_by_player_and_ball_number)\n",
      "/tmp/ipykernel_1282148/868147661.py:90: DeprecationWarning: DataFrameGroupBy.apply operated on the grouping columns. This behavior is deprecated, and in a future version of pandas the grouping columns will be excluded from the operation. Either pass `include_groups=False` to exclude the groupings or explicitly select the grouping columns after groupby to silence this warning.\n",
      "  gp = matches.groupby('match_id').apply(filter_by_player_and_ball_number)\n",
      "/tmp/ipykernel_1282148/868147661.py:90: DeprecationWarning: DataFrameGroupBy.apply operated on the grouping columns. This behavior is deprecated, and in a future version of pandas the grouping columns will be excluded from the operation. Either pass `include_groups=False` to exclude the groupings or explicitly select the grouping columns after groupby to silence this warning.\n",
      "  gp = matches.groupby('match_id').apply(filter_by_player_and_ball_number)\n"
     ]
    },
    {
     "name": "stdout",
     "output_type": "stream",
     "text": [
      "Analyzing Player CJ Anderson\n",
      "Analyzing Player TC Bruce\n",
      "Analyzing Player C de Grandhomme\n",
      "Analyzing Player Mustafizur Rahman\n"
     ]
    },
    {
     "name": "stderr",
     "output_type": "stream",
     "text": [
      "/tmp/ipykernel_1282148/868147661.py:90: DeprecationWarning: DataFrameGroupBy.apply operated on the grouping columns. This behavior is deprecated, and in a future version of pandas the grouping columns will be excluded from the operation. Either pass `include_groups=False` to exclude the groupings or explicitly select the grouping columns after groupby to silence this warning.\n",
      "  gp = matches.groupby('match_id').apply(filter_by_player_and_ball_number)\n",
      "/tmp/ipykernel_1282148/868147661.py:90: DeprecationWarning: DataFrameGroupBy.apply operated on the grouping columns. This behavior is deprecated, and in a future version of pandas the grouping columns will be excluded from the operation. Either pass `include_groups=False` to exclude the groupings or explicitly select the grouping columns after groupby to silence this warning.\n",
      "  gp = matches.groupby('match_id').apply(filter_by_player_and_ball_number)\n",
      "/tmp/ipykernel_1282148/868147661.py:90: DeprecationWarning: DataFrameGroupBy.apply operated on the grouping columns. This behavior is deprecated, and in a future version of pandas the grouping columns will be excluded from the operation. Either pass `include_groups=False` to exclude the groupings or explicitly select the grouping columns after groupby to silence this warning.\n",
      "  gp = matches.groupby('match_id').apply(filter_by_player_and_ball_number)\n"
     ]
    },
    {
     "name": "stdout",
     "output_type": "stream",
     "text": [
      "Analyzing Player L Ronchi\n",
      "Analyzing Player JDS Neesham\n",
      "Analyzing Player MJ Santner\n"
     ]
    },
    {
     "name": "stderr",
     "output_type": "stream",
     "text": [
      "/tmp/ipykernel_1282148/868147661.py:90: DeprecationWarning: DataFrameGroupBy.apply operated on the grouping columns. This behavior is deprecated, and in a future version of pandas the grouping columns will be excluded from the operation. Either pass `include_groups=False` to exclude the groupings or explicitly select the grouping columns after groupby to silence this warning.\n",
      "  gp = matches.groupby('match_id').apply(filter_by_player_and_ball_number)\n",
      "/tmp/ipykernel_1282148/868147661.py:90: DeprecationWarning: DataFrameGroupBy.apply operated on the grouping columns. This behavior is deprecated, and in a future version of pandas the grouping columns will be excluded from the operation. Either pass `include_groups=False` to exclude the groupings or explicitly select the grouping columns after groupby to silence this warning.\n",
      "  gp = matches.groupby('match_id').apply(filter_by_player_and_ball_number)\n",
      "/tmp/ipykernel_1282148/868147661.py:90: DeprecationWarning: DataFrameGroupBy.apply operated on the grouping columns. This behavior is deprecated, and in a future version of pandas the grouping columns will be excluded from the operation. Either pass `include_groups=False` to exclude the groupings or explicitly select the grouping columns after groupby to silence this warning.\n",
      "  gp = matches.groupby('match_id').apply(filter_by_player_and_ball_number)\n",
      "/tmp/ipykernel_1282148/868147661.py:90: DeprecationWarning: DataFrameGroupBy.apply operated on the grouping columns. This behavior is deprecated, and in a future version of pandas the grouping columns will be excluded from the operation. Either pass `include_groups=False` to exclude the groupings or explicitly select the grouping columns after groupby to silence this warning.\n",
      "  gp = matches.groupby('match_id').apply(filter_by_player_and_ball_number)\n",
      "/tmp/ipykernel_1282148/868147661.py:90: DeprecationWarning: DataFrameGroupBy.apply operated on the grouping columns. This behavior is deprecated, and in a future version of pandas the grouping columns will be excluded from the operation. Either pass `include_groups=False` to exclude the groupings or explicitly select the grouping columns after groupby to silence this warning.\n",
      "  gp = matches.groupby('match_id').apply(filter_by_player_and_ball_number)\n"
     ]
    },
    {
     "name": "stdout",
     "output_type": "stream",
     "text": [
      "Analyzing Player GD Phillips\n",
      "Analyzing Player BM Wheeler\n",
      "Analyzing Player TG Southee\n"
     ]
    },
    {
     "name": "stderr",
     "output_type": "stream",
     "text": [
      "/tmp/ipykernel_1282148/868147661.py:90: DeprecationWarning: DataFrameGroupBy.apply operated on the grouping columns. This behavior is deprecated, and in a future version of pandas the grouping columns will be excluded from the operation. Either pass `include_groups=False` to exclude the groupings or explicitly select the grouping columns after groupby to silence this warning.\n",
      "  gp = matches.groupby('match_id').apply(filter_by_player_and_ball_number)\n",
      "/tmp/ipykernel_1282148/868147661.py:90: DeprecationWarning: DataFrameGroupBy.apply operated on the grouping columns. This behavior is deprecated, and in a future version of pandas the grouping columns will be excluded from the operation. Either pass `include_groups=False` to exclude the groupings or explicitly select the grouping columns after groupby to silence this warning.\n",
      "  gp = matches.groupby('match_id').apply(filter_by_player_and_ball_number)\n",
      "/tmp/ipykernel_1282148/868147661.py:90: DeprecationWarning: DataFrameGroupBy.apply operated on the grouping columns. This behavior is deprecated, and in a future version of pandas the grouping columns will be excluded from the operation. Either pass `include_groups=False` to exclude the groupings or explicitly select the grouping columns after groupby to silence this warning.\n",
      "  gp = matches.groupby('match_id').apply(filter_by_player_and_ball_number)\n"
     ]
    },
    {
     "name": "stdout",
     "output_type": "stream",
     "text": [
      "Analyzing Player TA Boult\n",
      "Analyzing Player HM Amla\n",
      "Analyzing Player Q de Kock\n"
     ]
    },
    {
     "name": "stderr",
     "output_type": "stream",
     "text": [
      "/tmp/ipykernel_1282148/868147661.py:90: DeprecationWarning: DataFrameGroupBy.apply operated on the grouping columns. This behavior is deprecated, and in a future version of pandas the grouping columns will be excluded from the operation. Either pass `include_groups=False` to exclude the groupings or explicitly select the grouping columns after groupby to silence this warning.\n",
      "  gp = matches.groupby('match_id').apply(filter_by_player_and_ball_number)\n",
      "/tmp/ipykernel_1282148/868147661.py:90: DeprecationWarning: DataFrameGroupBy.apply operated on the grouping columns. This behavior is deprecated, and in a future version of pandas the grouping columns will be excluded from the operation. Either pass `include_groups=False` to exclude the groupings or explicitly select the grouping columns after groupby to silence this warning.\n",
      "  gp = matches.groupby('match_id').apply(filter_by_player_and_ball_number)\n"
     ]
    },
    {
     "name": "stdout",
     "output_type": "stream",
     "text": [
      "Analyzing Player F du Plessis\n",
      "Analyzing Player AB de Villiers\n"
     ]
    },
    {
     "name": "stderr",
     "output_type": "stream",
     "text": [
      "/tmp/ipykernel_1282148/868147661.py:90: DeprecationWarning: DataFrameGroupBy.apply operated on the grouping columns. This behavior is deprecated, and in a future version of pandas the grouping columns will be excluded from the operation. Either pass `include_groups=False` to exclude the groupings or explicitly select the grouping columns after groupby to silence this warning.\n",
      "  gp = matches.groupby('match_id').apply(filter_by_player_and_ball_number)\n",
      "/tmp/ipykernel_1282148/868147661.py:90: DeprecationWarning: DataFrameGroupBy.apply operated on the grouping columns. This behavior is deprecated, and in a future version of pandas the grouping columns will be excluded from the operation. Either pass `include_groups=False` to exclude the groupings or explicitly select the grouping columns after groupby to silence this warning.\n",
      "  gp = matches.groupby('match_id').apply(filter_by_player_and_ball_number)\n",
      "/tmp/ipykernel_1282148/868147661.py:90: DeprecationWarning: DataFrameGroupBy.apply operated on the grouping columns. This behavior is deprecated, and in a future version of pandas the grouping columns will be excluded from the operation. Either pass `include_groups=False` to exclude the groupings or explicitly select the grouping columns after groupby to silence this warning.\n",
      "  gp = matches.groupby('match_id').apply(filter_by_player_and_ball_number)\n"
     ]
    },
    {
     "name": "stdout",
     "output_type": "stream",
     "text": [
      "Analyzing Player JP Duminy\n",
      "Analyzing Player F Behardien\n",
      "Analyzing Player CH Morris\n"
     ]
    },
    {
     "name": "stderr",
     "output_type": "stream",
     "text": [
      "/tmp/ipykernel_1282148/868147661.py:90: DeprecationWarning: DataFrameGroupBy.apply operated on the grouping columns. This behavior is deprecated, and in a future version of pandas the grouping columns will be excluded from the operation. Either pass `include_groups=False` to exclude the groupings or explicitly select the grouping columns after groupby to silence this warning.\n",
      "  gp = matches.groupby('match_id').apply(filter_by_player_and_ball_number)\n",
      "/tmp/ipykernel_1282148/868147661.py:90: DeprecationWarning: DataFrameGroupBy.apply operated on the grouping columns. This behavior is deprecated, and in a future version of pandas the grouping columns will be excluded from the operation. Either pass `include_groups=False` to exclude the groupings or explicitly select the grouping columns after groupby to silence this warning.\n",
      "  gp = matches.groupby('match_id').apply(filter_by_player_and_ball_number)\n",
      "/tmp/ipykernel_1282148/868147661.py:90: DeprecationWarning: DataFrameGroupBy.apply operated on the grouping columns. This behavior is deprecated, and in a future version of pandas the grouping columns will be excluded from the operation. Either pass `include_groups=False` to exclude the groupings or explicitly select the grouping columns after groupby to silence this warning.\n",
      "  gp = matches.groupby('match_id').apply(filter_by_player_and_ball_number)\n"
     ]
    },
    {
     "name": "stdout",
     "output_type": "stream",
     "text": [
      "Analyzing Player WD Parnell\n",
      "Analyzing Player JJ Roy\n",
      "Analyzing Player AD Hales\n"
     ]
    },
    {
     "name": "stderr",
     "output_type": "stream",
     "text": [
      "/tmp/ipykernel_1282148/868147661.py:90: DeprecationWarning: DataFrameGroupBy.apply operated on the grouping columns. This behavior is deprecated, and in a future version of pandas the grouping columns will be excluded from the operation. Either pass `include_groups=False` to exclude the groupings or explicitly select the grouping columns after groupby to silence this warning.\n",
      "  gp = matches.groupby('match_id').apply(filter_by_player_and_ball_number)\n",
      "/tmp/ipykernel_1282148/868147661.py:90: DeprecationWarning: DataFrameGroupBy.apply operated on the grouping columns. This behavior is deprecated, and in a future version of pandas the grouping columns will be excluded from the operation. Either pass `include_groups=False` to exclude the groupings or explicitly select the grouping columns after groupby to silence this warning.\n",
      "  gp = matches.groupby('match_id').apply(filter_by_player_and_ball_number)\n",
      "/tmp/ipykernel_1282148/868147661.py:90: DeprecationWarning: DataFrameGroupBy.apply operated on the grouping columns. This behavior is deprecated, and in a future version of pandas the grouping columns will be excluded from the operation. Either pass `include_groups=False` to exclude the groupings or explicitly select the grouping columns after groupby to silence this warning.\n",
      "  gp = matches.groupby('match_id').apply(filter_by_player_and_ball_number)\n"
     ]
    },
    {
     "name": "stdout",
     "output_type": "stream",
     "text": [
      "Analyzing Player JM Bairstow\n",
      "Analyzing Player JT Smuts\n",
      "Analyzing Player RR Hendricks\n"
     ]
    },
    {
     "name": "stderr",
     "output_type": "stream",
     "text": [
      "/tmp/ipykernel_1282148/868147661.py:90: DeprecationWarning: DataFrameGroupBy.apply operated on the grouping columns. This behavior is deprecated, and in a future version of pandas the grouping columns will be excluded from the operation. Either pass `include_groups=False` to exclude the groupings or explicitly select the grouping columns after groupby to silence this warning.\n",
      "  gp = matches.groupby('match_id').apply(filter_by_player_and_ball_number)\n",
      "/tmp/ipykernel_1282148/868147661.py:90: DeprecationWarning: DataFrameGroupBy.apply operated on the grouping columns. This behavior is deprecated, and in a future version of pandas the grouping columns will be excluded from the operation. Either pass `include_groups=False` to exclude the groupings or explicitly select the grouping columns after groupby to silence this warning.\n",
      "  gp = matches.groupby('match_id').apply(filter_by_player_and_ball_number)\n"
     ]
    },
    {
     "name": "stdout",
     "output_type": "stream",
     "text": [
      "Analyzing Player DA Miller\n",
      "Analyzing Player SW Billings\n"
     ]
    },
    {
     "name": "stderr",
     "output_type": "stream",
     "text": [
      "/tmp/ipykernel_1282148/868147661.py:90: DeprecationWarning: DataFrameGroupBy.apply operated on the grouping columns. This behavior is deprecated, and in a future version of pandas the grouping columns will be excluded from the operation. Either pass `include_groups=False` to exclude the groupings or explicitly select the grouping columns after groupby to silence this warning.\n",
      "  gp = matches.groupby('match_id').apply(filter_by_player_and_ball_number)\n",
      "/tmp/ipykernel_1282148/868147661.py:90: DeprecationWarning: DataFrameGroupBy.apply operated on the grouping columns. This behavior is deprecated, and in a future version of pandas the grouping columns will be excluded from the operation. Either pass `include_groups=False` to exclude the groupings or explicitly select the grouping columns after groupby to silence this warning.\n",
      "  gp = matches.groupby('match_id').apply(filter_by_player_and_ball_number)\n"
     ]
    },
    {
     "name": "stdout",
     "output_type": "stream",
     "text": [
      "Analyzing Player LS Livingstone\n",
      "Analyzing Player JC Buttler\n"
     ]
    },
    {
     "name": "stderr",
     "output_type": "stream",
     "text": [
      "/tmp/ipykernel_1282148/868147661.py:90: DeprecationWarning: DataFrameGroupBy.apply operated on the grouping columns. This behavior is deprecated, and in a future version of pandas the grouping columns will be excluded from the operation. Either pass `include_groups=False` to exclude the groupings or explicitly select the grouping columns after groupby to silence this warning.\n",
      "  gp = matches.groupby('match_id').apply(filter_by_player_and_ball_number)\n",
      "/tmp/ipykernel_1282148/868147661.py:90: DeprecationWarning: DataFrameGroupBy.apply operated on the grouping columns. This behavior is deprecated, and in a future version of pandas the grouping columns will be excluded from the operation. Either pass `include_groups=False` to exclude the groupings or explicitly select the grouping columns after groupby to silence this warning.\n",
      "  gp = matches.groupby('match_id').apply(filter_by_player_and_ball_number)\n"
     ]
    },
    {
     "name": "stdout",
     "output_type": "stream",
     "text": [
      "Analyzing Player EJG Morgan\n",
      "Analyzing Player LA Dawson\n",
      "Analyzing Player M Mosehle\n"
     ]
    },
    {
     "name": "stderr",
     "output_type": "stream",
     "text": [
      "/tmp/ipykernel_1282148/868147661.py:90: DeprecationWarning: DataFrameGroupBy.apply operated on the grouping columns. This behavior is deprecated, and in a future version of pandas the grouping columns will be excluded from the operation. Either pass `include_groups=False` to exclude the groupings or explicitly select the grouping columns after groupby to silence this warning.\n",
      "  gp = matches.groupby('match_id').apply(filter_by_player_and_ball_number)\n",
      "/tmp/ipykernel_1282148/868147661.py:90: DeprecationWarning: DataFrameGroupBy.apply operated on the grouping columns. This behavior is deprecated, and in a future version of pandas the grouping columns will be excluded from the operation. Either pass `include_groups=False` to exclude the groupings or explicitly select the grouping columns after groupby to silence this warning.\n",
      "  gp = matches.groupby('match_id').apply(filter_by_player_and_ball_number)\n",
      "/tmp/ipykernel_1282148/868147661.py:90: DeprecationWarning: DataFrameGroupBy.apply operated on the grouping columns. This behavior is deprecated, and in a future version of pandas the grouping columns will be excluded from the operation. Either pass `include_groups=False` to exclude the groupings or explicitly select the grouping columns after groupby to silence this warning.\n",
      "  gp = matches.groupby('match_id').apply(filter_by_player_and_ball_number)\n",
      "/tmp/ipykernel_1282148/868147661.py:90: DeprecationWarning: DataFrameGroupBy.apply operated on the grouping columns. This behavior is deprecated, and in a future version of pandas the grouping columns will be excluded from the operation. Either pass `include_groups=False` to exclude the groupings or explicitly select the grouping columns after groupby to silence this warning.\n",
      "  gp = matches.groupby('match_id').apply(filter_by_player_and_ball_number)\n"
     ]
    },
    {
     "name": "stdout",
     "output_type": "stream",
     "text": [
      "Analyzing Player AL Phehlukwayo\n",
      "Analyzing Player M Morkel\n",
      "Analyzing Player D Paterson\n",
      "Analyzing Player DJ Malan\n"
     ]
    },
    {
     "name": "stderr",
     "output_type": "stream",
     "text": [
      "/tmp/ipykernel_1282148/868147661.py:90: DeprecationWarning: DataFrameGroupBy.apply operated on the grouping columns. This behavior is deprecated, and in a future version of pandas the grouping columns will be excluded from the operation. Either pass `include_groups=False` to exclude the groupings or explicitly select the grouping columns after groupby to silence this warning.\n",
      "  gp = matches.groupby('match_id').apply(filter_by_player_and_ball_number)\n",
      "/tmp/ipykernel_1282148/868147661.py:90: DeprecationWarning: DataFrameGroupBy.apply operated on the grouping columns. This behavior is deprecated, and in a future version of pandas the grouping columns will be excluded from the operation. Either pass `include_groups=False` to exclude the groupings or explicitly select the grouping columns after groupby to silence this warning.\n",
      "  gp = matches.groupby('match_id').apply(filter_by_player_and_ball_number)\n",
      "/tmp/ipykernel_1282148/868147661.py:90: DeprecationWarning: DataFrameGroupBy.apply operated on the grouping columns. This behavior is deprecated, and in a future version of pandas the grouping columns will be excluded from the operation. Either pass `include_groups=False` to exclude the groupings or explicitly select the grouping columns after groupby to silence this warning.\n",
      "  gp = matches.groupby('match_id').apply(filter_by_player_and_ball_number)\n"
     ]
    },
    {
     "name": "stdout",
     "output_type": "stream",
     "text": [
      "Analyzing Player LE Plunkett\n",
      "Analyzing Player DJ Willey\n",
      "Analyzing Player TK Curran\n",
      "Analyzing Player JE Root\n"
     ]
    },
    {
     "name": "stderr",
     "output_type": "stream",
     "text": [
      "/tmp/ipykernel_1282148/868147661.py:90: DeprecationWarning: DataFrameGroupBy.apply operated on the grouping columns. This behavior is deprecated, and in a future version of pandas the grouping columns will be excluded from the operation. Either pass `include_groups=False` to exclude the groupings or explicitly select the grouping columns after groupby to silence this warning.\n",
      "  gp = matches.groupby('match_id').apply(filter_by_player_and_ball_number)\n",
      "/tmp/ipykernel_1282148/868147661.py:90: DeprecationWarning: DataFrameGroupBy.apply operated on the grouping columns. This behavior is deprecated, and in a future version of pandas the grouping columns will be excluded from the operation. Either pass `include_groups=False` to exclude the groupings or explicitly select the grouping columns after groupby to silence this warning.\n",
      "  gp = matches.groupby('match_id').apply(filter_by_player_and_ball_number)\n",
      "/tmp/ipykernel_1282148/868147661.py:90: DeprecationWarning: DataFrameGroupBy.apply operated on the grouping columns. This behavior is deprecated, and in a future version of pandas the grouping columns will be excluded from the operation. Either pass `include_groups=False` to exclude the groupings or explicitly select the grouping columns after groupby to silence this warning.\n",
      "  gp = matches.groupby('match_id').apply(filter_by_player_and_ball_number)\n"
     ]
    },
    {
     "name": "stdout",
     "output_type": "stream",
     "text": [
      "Analyzing Player AU Rashid\n",
      "Analyzing Player CJ Jordan\n",
      "Analyzing Player CH Gayle\n"
     ]
    },
    {
     "name": "stderr",
     "output_type": "stream",
     "text": [
      "/tmp/ipykernel_1282148/868147661.py:90: DeprecationWarning: DataFrameGroupBy.apply operated on the grouping columns. This behavior is deprecated, and in a future version of pandas the grouping columns will be excluded from the operation. Either pass `include_groups=False` to exclude the groupings or explicitly select the grouping columns after groupby to silence this warning.\n",
      "  gp = matches.groupby('match_id').apply(filter_by_player_and_ball_number)\n",
      "/tmp/ipykernel_1282148/868147661.py:90: DeprecationWarning: DataFrameGroupBy.apply operated on the grouping columns. This behavior is deprecated, and in a future version of pandas the grouping columns will be excluded from the operation. Either pass `include_groups=False` to exclude the groupings or explicitly select the grouping columns after groupby to silence this warning.\n",
      "  gp = matches.groupby('match_id').apply(filter_by_player_and_ball_number)\n",
      "/tmp/ipykernel_1282148/868147661.py:90: DeprecationWarning: DataFrameGroupBy.apply operated on the grouping columns. This behavior is deprecated, and in a future version of pandas the grouping columns will be excluded from the operation. Either pass `include_groups=False` to exclude the groupings or explicitly select the grouping columns after groupby to silence this warning.\n",
      "  gp = matches.groupby('match_id').apply(filter_by_player_and_ball_number)\n",
      "/tmp/ipykernel_1282148/868147661.py:90: DeprecationWarning: DataFrameGroupBy.apply operated on the grouping columns. This behavior is deprecated, and in a future version of pandas the grouping columns will be excluded from the operation. Either pass `include_groups=False` to exclude the groupings or explicitly select the grouping columns after groupby to silence this warning.\n",
      "  gp = matches.groupby('match_id').apply(filter_by_player_and_ball_number)\n"
     ]
    },
    {
     "name": "stdout",
     "output_type": "stream",
     "text": [
      "Analyzing Player E Lewis\n",
      "Analyzing Player MN Samuels\n",
      "Analyzing Player CAK Walton\n"
     ]
    },
    {
     "name": "stderr",
     "output_type": "stream",
     "text": [
      "/tmp/ipykernel_1282148/868147661.py:90: DeprecationWarning: DataFrameGroupBy.apply operated on the grouping columns. This behavior is deprecated, and in a future version of pandas the grouping columns will be excluded from the operation. Either pass `include_groups=False` to exclude the groupings or explicitly select the grouping columns after groupby to silence this warning.\n",
      "  gp = matches.groupby('match_id').apply(filter_by_player_and_ball_number)\n",
      "/tmp/ipykernel_1282148/868147661.py:90: DeprecationWarning: DataFrameGroupBy.apply operated on the grouping columns. This behavior is deprecated, and in a future version of pandas the grouping columns will be excluded from the operation. Either pass `include_groups=False` to exclude the groupings or explicitly select the grouping columns after groupby to silence this warning.\n",
      "  gp = matches.groupby('match_id').apply(filter_by_player_and_ball_number)\n",
      "/tmp/ipykernel_1282148/868147661.py:90: DeprecationWarning: DataFrameGroupBy.apply operated on the grouping columns. This behavior is deprecated, and in a future version of pandas the grouping columns will be excluded from the operation. Either pass `include_groups=False` to exclude the groupings or explicitly select the grouping columns after groupby to silence this warning.\n",
      "  gp = matches.groupby('match_id').apply(filter_by_player_and_ball_number)\n"
     ]
    },
    {
     "name": "stdout",
     "output_type": "stream",
     "text": [
      "Analyzing Player KA Pollard\n",
      "Analyzing Player R Powell\n"
     ]
    },
    {
     "name": "stderr",
     "output_type": "stream",
     "text": [
      "/tmp/ipykernel_1282148/868147661.py:90: DeprecationWarning: DataFrameGroupBy.apply operated on the grouping columns. This behavior is deprecated, and in a future version of pandas the grouping columns will be excluded from the operation. Either pass `include_groups=False` to exclude the groupings or explicitly select the grouping columns after groupby to silence this warning.\n",
      "  gp = matches.groupby('match_id').apply(filter_by_player_and_ball_number)\n",
      "/tmp/ipykernel_1282148/868147661.py:90: DeprecationWarning: DataFrameGroupBy.apply operated on the grouping columns. This behavior is deprecated, and in a future version of pandas the grouping columns will be excluded from the operation. Either pass `include_groups=False` to exclude the groupings or explicitly select the grouping columns after groupby to silence this warning.\n",
      "  gp = matches.groupby('match_id').apply(filter_by_player_and_ball_number)\n",
      "/tmp/ipykernel_1282148/868147661.py:90: DeprecationWarning: DataFrameGroupBy.apply operated on the grouping columns. This behavior is deprecated, and in a future version of pandas the grouping columns will be excluded from the operation. Either pass `include_groups=False` to exclude the groupings or explicitly select the grouping columns after groupby to silence this warning.\n",
      "  gp = matches.groupby('match_id').apply(filter_by_player_and_ball_number)\n",
      "/tmp/ipykernel_1282148/868147661.py:90: DeprecationWarning: DataFrameGroupBy.apply operated on the grouping columns. This behavior is deprecated, and in a future version of pandas the grouping columns will be excluded from the operation. Either pass `include_groups=False` to exclude the groupings or explicitly select the grouping columns after groupby to silence this warning.\n",
      "  gp = matches.groupby('match_id').apply(filter_by_player_and_ball_number)\n"
     ]
    },
    {
     "name": "stdout",
     "output_type": "stream",
     "text": [
      "Analyzing Player CR Brathwaite\n",
      "Analyzing Player SP Narine\n",
      "Analyzing Player AR Nurse\n",
      "Analyzing Player JE Taylor\n"
     ]
    },
    {
     "name": "stderr",
     "output_type": "stream",
     "text": [
      "/tmp/ipykernel_1282148/868147661.py:90: DeprecationWarning: DataFrameGroupBy.apply operated on the grouping columns. This behavior is deprecated, and in a future version of pandas the grouping columns will be excluded from the operation. Either pass `include_groups=False` to exclude the groupings or explicitly select the grouping columns after groupby to silence this warning.\n",
      "  gp = matches.groupby('match_id').apply(filter_by_player_and_ball_number)\n",
      "/tmp/ipykernel_1282148/868147661.py:90: DeprecationWarning: DataFrameGroupBy.apply operated on the grouping columns. This behavior is deprecated, and in a future version of pandas the grouping columns will be excluded from the operation. Either pass `include_groups=False` to exclude the groupings or explicitly select the grouping columns after groupby to silence this warning.\n",
      "  gp = matches.groupby('match_id').apply(filter_by_player_and_ball_number)\n",
      "/tmp/ipykernel_1282148/868147661.py:90: DeprecationWarning: DataFrameGroupBy.apply operated on the grouping columns. This behavior is deprecated, and in a future version of pandas the grouping columns will be excluded from the operation. Either pass `include_groups=False` to exclude the groupings or explicitly select the grouping columns after groupby to silence this warning.\n",
      "  gp = matches.groupby('match_id').apply(filter_by_player_and_ball_number)\n"
     ]
    },
    {
     "name": "stdout",
     "output_type": "stream",
     "text": [
      "Analyzing Player KOK Williams\n",
      "Analyzing Player BA Stokes\n",
      "Analyzing Player V Kohli\n"
     ]
    },
    {
     "name": "stderr",
     "output_type": "stream",
     "text": [
      "/tmp/ipykernel_1282148/868147661.py:90: DeprecationWarning: DataFrameGroupBy.apply operated on the grouping columns. This behavior is deprecated, and in a future version of pandas the grouping columns will be excluded from the operation. Either pass `include_groups=False` to exclude the groupings or explicitly select the grouping columns after groupby to silence this warning.\n",
      "  gp = matches.groupby('match_id').apply(filter_by_player_and_ball_number)\n",
      "/tmp/ipykernel_1282148/868147661.py:90: DeprecationWarning: DataFrameGroupBy.apply operated on the grouping columns. This behavior is deprecated, and in a future version of pandas the grouping columns will be excluded from the operation. Either pass `include_groups=False` to exclude the groupings or explicitly select the grouping columns after groupby to silence this warning.\n",
      "  gp = matches.groupby('match_id').apply(filter_by_player_and_ball_number)\n"
     ]
    },
    {
     "name": "stdout",
     "output_type": "stream",
     "text": [
      "Analyzing Player SK Raina\n",
      "Analyzing Player Yuvraj Singh\n",
      "Analyzing Player HH Pandya\n"
     ]
    },
    {
     "name": "stderr",
     "output_type": "stream",
     "text": [
      "/tmp/ipykernel_1282148/868147661.py:90: DeprecationWarning: DataFrameGroupBy.apply operated on the grouping columns. This behavior is deprecated, and in a future version of pandas the grouping columns will be excluded from the operation. Either pass `include_groups=False` to exclude the groupings or explicitly select the grouping columns after groupby to silence this warning.\n",
      "  gp = matches.groupby('match_id').apply(filter_by_player_and_ball_number)\n",
      "/tmp/ipykernel_1282148/868147661.py:90: DeprecationWarning: DataFrameGroupBy.apply operated on the grouping columns. This behavior is deprecated, and in a future version of pandas the grouping columns will be excluded from the operation. Either pass `include_groups=False` to exclude the groupings or explicitly select the grouping columns after groupby to silence this warning.\n",
      "  gp = matches.groupby('match_id').apply(filter_by_player_and_ball_number)\n",
      "/tmp/ipykernel_1282148/868147661.py:90: DeprecationWarning: DataFrameGroupBy.apply operated on the grouping columns. This behavior is deprecated, and in a future version of pandas the grouping columns will be excluded from the operation. Either pass `include_groups=False` to exclude the groupings or explicitly select the grouping columns after groupby to silence this warning.\n",
      "  gp = matches.groupby('match_id').apply(filter_by_player_and_ball_number)\n"
     ]
    },
    {
     "name": "stdout",
     "output_type": "stream",
     "text": [
      "Analyzing Player Parvez Rasool\n",
      "Analyzing Player MM Ali\n",
      "Analyzing Player TS Mills\n",
      "Analyzing Player RR Pant\n"
     ]
    },
    {
     "name": "stderr",
     "output_type": "stream",
     "text": [
      "/tmp/ipykernel_1282148/868147661.py:90: DeprecationWarning: DataFrameGroupBy.apply operated on the grouping columns. This behavior is deprecated, and in a future version of pandas the grouping columns will be excluded from the operation. Either pass `include_groups=False` to exclude the groupings or explicitly select the grouping columns after groupby to silence this warning.\n",
      "  gp = matches.groupby('match_id').apply(filter_by_player_and_ball_number)\n",
      "/tmp/ipykernel_1282148/868147661.py:90: DeprecationWarning: DataFrameGroupBy.apply operated on the grouping columns. This behavior is deprecated, and in a future version of pandas the grouping columns will be excluded from the operation. Either pass `include_groups=False` to exclude the groupings or explicitly select the grouping columns after groupby to silence this warning.\n",
      "  gp = matches.groupby('match_id').apply(filter_by_player_and_ball_number)\n",
      "/tmp/ipykernel_1282148/868147661.py:90: DeprecationWarning: DataFrameGroupBy.apply operated on the grouping columns. This behavior is deprecated, and in a future version of pandas the grouping columns will be excluded from the operation. Either pass `include_groups=False` to exclude the groupings or explicitly select the grouping columns after groupby to silence this warning.\n",
      "  gp = matches.groupby('match_id').apply(filter_by_player_and_ball_number)\n"
     ]
    },
    {
     "name": "stdout",
     "output_type": "stream",
     "text": [
      "Analyzing Player RG Sharma\n"
     ]
    },
    {
     "name": "stderr",
     "output_type": "stream",
     "text": [
      "/tmp/ipykernel_1282148/868147661.py:90: DeprecationWarning: DataFrameGroupBy.apply operated on the grouping columns. This behavior is deprecated, and in a future version of pandas the grouping columns will be excluded from the operation. Either pass `include_groups=False` to exclude the groupings or explicitly select the grouping columns after groupby to silence this warning.\n",
      "  gp = matches.groupby('match_id').apply(filter_by_player_and_ball_number)\n",
      "/tmp/ipykernel_1282148/868147661.py:90: DeprecationWarning: DataFrameGroupBy.apply operated on the grouping columns. This behavior is deprecated, and in a future version of pandas the grouping columns will be excluded from the operation. Either pass `include_groups=False` to exclude the groupings or explicitly select the grouping columns after groupby to silence this warning.\n",
      "  gp = matches.groupby('match_id').apply(filter_by_player_and_ball_number)\n",
      "/tmp/ipykernel_1282148/868147661.py:90: DeprecationWarning: DataFrameGroupBy.apply operated on the grouping columns. This behavior is deprecated, and in a future version of pandas the grouping columns will be excluded from the operation. Either pass `include_groups=False` to exclude the groupings or explicitly select the grouping columns after groupby to silence this warning.\n",
      "  gp = matches.groupby('match_id').apply(filter_by_player_and_ball_number)\n"
     ]
    },
    {
     "name": "stdout",
     "output_type": "stream",
     "text": [
      "Analyzing Player AM Rahane\n",
      "Analyzing Player J Charles\n",
      "Analyzing Player AD Russell\n"
     ]
    },
    {
     "name": "stderr",
     "output_type": "stream",
     "text": [
      "/tmp/ipykernel_1282148/868147661.py:90: DeprecationWarning: DataFrameGroupBy.apply operated on the grouping columns. This behavior is deprecated, and in a future version of pandas the grouping columns will be excluded from the operation. Either pass `include_groups=False` to exclude the groupings or explicitly select the grouping columns after groupby to silence this warning.\n",
      "  gp = matches.groupby('match_id').apply(filter_by_player_and_ball_number)\n",
      "/tmp/ipykernel_1282148/868147661.py:90: DeprecationWarning: DataFrameGroupBy.apply operated on the grouping columns. This behavior is deprecated, and in a future version of pandas the grouping columns will be excluded from the operation. Either pass `include_groups=False` to exclude the groupings or explicitly select the grouping columns after groupby to silence this warning.\n",
      "  gp = matches.groupby('match_id').apply(filter_by_player_and_ball_number)\n"
     ]
    },
    {
     "name": "stdout",
     "output_type": "stream",
     "text": [
      "Analyzing Player DJ Bravo\n",
      "Analyzing Player LMP Simmons\n"
     ]
    },
    {
     "name": "stderr",
     "output_type": "stream",
     "text": [
      "/tmp/ipykernel_1282148/868147661.py:90: DeprecationWarning: DataFrameGroupBy.apply operated on the grouping columns. This behavior is deprecated, and in a future version of pandas the grouping columns will be excluded from the operation. Either pass `include_groups=False` to exclude the groupings or explicitly select the grouping columns after groupby to silence this warning.\n",
      "  gp = matches.groupby('match_id').apply(filter_by_player_and_ball_number)\n",
      "/tmp/ipykernel_1282148/868147661.py:90: DeprecationWarning: DataFrameGroupBy.apply operated on the grouping columns. This behavior is deprecated, and in a future version of pandas the grouping columns will be excluded from the operation. Either pass `include_groups=False` to exclude the groupings or explicitly select the grouping columns after groupby to silence this warning.\n",
      "  gp = matches.groupby('match_id').apply(filter_by_player_and_ball_number)\n",
      "/tmp/ipykernel_1282148/868147661.py:90: DeprecationWarning: DataFrameGroupBy.apply operated on the grouping columns. This behavior is deprecated, and in a future version of pandas the grouping columns will be excluded from the operation. Either pass `include_groups=False` to exclude the groupings or explicitly select the grouping columns after groupby to silence this warning.\n",
      "  gp = matches.groupby('match_id').apply(filter_by_player_and_ball_number)\n"
     ]
    },
    {
     "name": "stdout",
     "output_type": "stream",
     "text": [
      "Analyzing Player ADS Fletcher\n",
      "Analyzing Player S Badree\n",
      "Analyzing Player Sharjeel Khan\n",
      "Analyzing Player Khalid Latif\n"
     ]
    },
    {
     "name": "stderr",
     "output_type": "stream",
     "text": [
      "/tmp/ipykernel_1282148/868147661.py:90: DeprecationWarning: DataFrameGroupBy.apply operated on the grouping columns. This behavior is deprecated, and in a future version of pandas the grouping columns will be excluded from the operation. Either pass `include_groups=False` to exclude the groupings or explicitly select the grouping columns after groupby to silence this warning.\n",
      "  gp = matches.groupby('match_id').apply(filter_by_player_and_ball_number)\n",
      "/tmp/ipykernel_1282148/868147661.py:90: DeprecationWarning: DataFrameGroupBy.apply operated on the grouping columns. This behavior is deprecated, and in a future version of pandas the grouping columns will be excluded from the operation. Either pass `include_groups=False` to exclude the groupings or explicitly select the grouping columns after groupby to silence this warning.\n",
      "  gp = matches.groupby('match_id').apply(filter_by_player_and_ball_number)\n"
     ]
    },
    {
     "name": "stdout",
     "output_type": "stream",
     "text": [
      "Analyzing Player Babar Azam\n",
      "Analyzing Player N Pooran\n"
     ]
    },
    {
     "name": "stderr",
     "output_type": "stream",
     "text": [
      "/tmp/ipykernel_1282148/868147661.py:90: DeprecationWarning: DataFrameGroupBy.apply operated on the grouping columns. This behavior is deprecated, and in a future version of pandas the grouping columns will be excluded from the operation. Either pass `include_groups=False` to exclude the groupings or explicitly select the grouping columns after groupby to silence this warning.\n",
      "  gp = matches.groupby('match_id').apply(filter_by_player_and_ball_number)\n",
      "/tmp/ipykernel_1282148/868147661.py:90: DeprecationWarning: DataFrameGroupBy.apply operated on the grouping columns. This behavior is deprecated, and in a future version of pandas the grouping columns will be excluded from the operation. Either pass `include_groups=False` to exclude the groupings or explicitly select the grouping columns after groupby to silence this warning.\n",
      "  gp = matches.groupby('match_id').apply(filter_by_player_and_ball_number)\n"
     ]
    },
    {
     "name": "stdout",
     "output_type": "stream",
     "text": [
      "Analyzing Player Shoaib Malik\n",
      "Analyzing Player Sarfraz Ahmed\n"
     ]
    },
    {
     "name": "stderr",
     "output_type": "stream",
     "text": [
      "/tmp/ipykernel_1282148/868147661.py:90: DeprecationWarning: DataFrameGroupBy.apply operated on the grouping columns. This behavior is deprecated, and in a future version of pandas the grouping columns will be excluded from the operation. Either pass `include_groups=False` to exclude the groupings or explicitly select the grouping columns after groupby to silence this warning.\n",
      "  gp = matches.groupby('match_id').apply(filter_by_player_and_ball_number)\n",
      "/tmp/ipykernel_1282148/868147661.py:90: DeprecationWarning: DataFrameGroupBy.apply operated on the grouping columns. This behavior is deprecated, and in a future version of pandas the grouping columns will be excluded from the operation. Either pass `include_groups=False` to exclude the groupings or explicitly select the grouping columns after groupby to silence this warning.\n",
      "  gp = matches.groupby('match_id').apply(filter_by_player_and_ball_number)\n"
     ]
    },
    {
     "name": "stdout",
     "output_type": "stream",
     "text": [
      "Analyzing Player Umar Akmal\n",
      "Analyzing Player DA Warner\n"
     ]
    },
    {
     "name": "stderr",
     "output_type": "stream",
     "text": [
      "/tmp/ipykernel_1282148/868147661.py:90: DeprecationWarning: DataFrameGroupBy.apply operated on the grouping columns. This behavior is deprecated, and in a future version of pandas the grouping columns will be excluded from the operation. Either pass `include_groups=False` to exclude the groupings or explicitly select the grouping columns after groupby to silence this warning.\n",
      "  gp = matches.groupby('match_id').apply(filter_by_player_and_ball_number)\n",
      "/tmp/ipykernel_1282148/868147661.py:90: DeprecationWarning: DataFrameGroupBy.apply operated on the grouping columns. This behavior is deprecated, and in a future version of pandas the grouping columns will be excluded from the operation. Either pass `include_groups=False` to exclude the groupings or explicitly select the grouping columns after groupby to silence this warning.\n",
      "  gp = matches.groupby('match_id').apply(filter_by_player_and_ball_number)\n"
     ]
    },
    {
     "name": "stdout",
     "output_type": "stream",
     "text": [
      "Analyzing Player DJM Short\n",
      "Analyzing Player CA Lynn\n",
      "Analyzing Player GJ Maxwell\n"
     ]
    },
    {
     "name": "stderr",
     "output_type": "stream",
     "text": [
      "/tmp/ipykernel_1282148/868147661.py:90: DeprecationWarning: DataFrameGroupBy.apply operated on the grouping columns. This behavior is deprecated, and in a future version of pandas the grouping columns will be excluded from the operation. Either pass `include_groups=False` to exclude the groupings or explicitly select the grouping columns after groupby to silence this warning.\n",
      "  gp = matches.groupby('match_id').apply(filter_by_player_and_ball_number)\n",
      "/tmp/ipykernel_1282148/868147661.py:90: DeprecationWarning: DataFrameGroupBy.apply operated on the grouping columns. This behavior is deprecated, and in a future version of pandas the grouping columns will be excluded from the operation. Either pass `include_groups=False` to exclude the groupings or explicitly select the grouping columns after groupby to silence this warning.\n",
      "  gp = matches.groupby('match_id').apply(filter_by_player_and_ball_number)\n",
      "/tmp/ipykernel_1282148/868147661.py:90: DeprecationWarning: DataFrameGroupBy.apply operated on the grouping columns. This behavior is deprecated, and in a future version of pandas the grouping columns will be excluded from the operation. Either pass `include_groups=False` to exclude the groupings or explicitly select the grouping columns after groupby to silence this warning.\n",
      "  gp = matches.groupby('match_id').apply(filter_by_player_and_ball_number)\n",
      "/tmp/ipykernel_1282148/868147661.py:90: DeprecationWarning: DataFrameGroupBy.apply operated on the grouping columns. This behavior is deprecated, and in a future version of pandas the grouping columns will be excluded from the operation. Either pass `include_groups=False` to exclude the groupings or explicitly select the grouping columns after groupby to silence this warning.\n",
      "  gp = matches.groupby('match_id').apply(filter_by_player_and_ball_number)\n"
     ]
    },
    {
     "name": "stdout",
     "output_type": "stream",
     "text": [
      "Analyzing Player MJ Guptill\n",
      "Analyzing Player LRPL Taylor\n"
     ]
    },
    {
     "name": "stderr",
     "output_type": "stream",
     "text": [
      "/tmp/ipykernel_1282148/868147661.py:90: DeprecationWarning: DataFrameGroupBy.apply operated on the grouping columns. This behavior is deprecated, and in a future version of pandas the grouping columns will be excluded from the operation. Either pass `include_groups=False` to exclude the groupings or explicitly select the grouping columns after groupby to silence this warning.\n",
      "  gp = matches.groupby('match_id').apply(filter_by_player_and_ball_number)\n",
      "/tmp/ipykernel_1282148/868147661.py:90: DeprecationWarning: DataFrameGroupBy.apply operated on the grouping columns. This behavior is deprecated, and in a future version of pandas the grouping columns will be excluded from the operation. Either pass `include_groups=False` to exclude the groupings or explicitly select the grouping columns after groupby to silence this warning.\n",
      "  gp = matches.groupby('match_id').apply(filter_by_player_and_ball_number)\n",
      "/tmp/ipykernel_1282148/868147661.py:90: DeprecationWarning: DataFrameGroupBy.apply operated on the grouping columns. This behavior is deprecated, and in a future version of pandas the grouping columns will be excluded from the operation. Either pass `include_groups=False` to exclude the groupings or explicitly select the grouping columns after groupby to silence this warning.\n",
      "  gp = matches.groupby('match_id').apply(filter_by_player_and_ball_number)\n"
     ]
    },
    {
     "name": "stdout",
     "output_type": "stream",
     "text": [
      "Analyzing Player TA Blundell\n",
      "Analyzing Player IS Sodhi\n",
      "Analyzing Player MP Stoinis\n"
     ]
    },
    {
     "name": "stderr",
     "output_type": "stream",
     "text": [
      "/tmp/ipykernel_1282148/868147661.py:90: DeprecationWarning: DataFrameGroupBy.apply operated on the grouping columns. This behavior is deprecated, and in a future version of pandas the grouping columns will be excluded from the operation. Either pass `include_groups=False` to exclude the groupings or explicitly select the grouping columns after groupby to silence this warning.\n",
      "  gp = matches.groupby('match_id').apply(filter_by_player_and_ball_number)\n",
      "/tmp/ipykernel_1282148/868147661.py:90: DeprecationWarning: DataFrameGroupBy.apply operated on the grouping columns. This behavior is deprecated, and in a future version of pandas the grouping columns will be excluded from the operation. Either pass `include_groups=False` to exclude the groupings or explicitly select the grouping columns after groupby to silence this warning.\n",
      "  gp = matches.groupby('match_id').apply(filter_by_player_and_ball_number)\n",
      "/tmp/ipykernel_1282148/868147661.py:90: DeprecationWarning: DataFrameGroupBy.apply operated on the grouping columns. This behavior is deprecated, and in a future version of pandas the grouping columns will be excluded from the operation. Either pass `include_groups=False` to exclude the groupings or explicitly select the grouping columns after groupby to silence this warning.\n",
      "  gp = matches.groupby('match_id').apply(filter_by_player_and_ball_number)\n",
      "/tmp/ipykernel_1282148/868147661.py:90: DeprecationWarning: DataFrameGroupBy.apply operated on the grouping columns. This behavior is deprecated, and in a future version of pandas the grouping columns will be excluded from the operation. Either pass `include_groups=False` to exclude the groupings or explicitly select the grouping columns after groupby to silence this warning.\n",
      "  gp = matches.groupby('match_id').apply(filter_by_player_and_ball_number)\n"
     ]
    },
    {
     "name": "stdout",
     "output_type": "stream",
     "text": [
      "Analyzing Player AT Carey\n",
      "Analyzing Player MA Wood\n",
      "Analyzing Player JM Vince\n",
      "Analyzing Player MS Chapman\n"
     ]
    },
    {
     "name": "stderr",
     "output_type": "stream",
     "text": [
      "/tmp/ipykernel_1282148/868147661.py:90: DeprecationWarning: DataFrameGroupBy.apply operated on the grouping columns. This behavior is deprecated, and in a future version of pandas the grouping columns will be excluded from the operation. Either pass `include_groups=False` to exclude the groupings or explicitly select the grouping columns after groupby to silence this warning.\n",
      "  gp = matches.groupby('match_id').apply(filter_by_player_and_ball_number)\n",
      "/tmp/ipykernel_1282148/868147661.py:90: DeprecationWarning: DataFrameGroupBy.apply operated on the grouping columns. This behavior is deprecated, and in a future version of pandas the grouping columns will be excluded from the operation. Either pass `include_groups=False` to exclude the groupings or explicitly select the grouping columns after groupby to silence this warning.\n",
      "  gp = matches.groupby('match_id').apply(filter_by_player_and_ball_number)\n",
      "/tmp/ipykernel_1282148/868147661.py:90: DeprecationWarning: DataFrameGroupBy.apply operated on the grouping columns. This behavior is deprecated, and in a future version of pandas the grouping columns will be excluded from the operation. Either pass `include_groups=False` to exclude the groupings or explicitly select the grouping columns after groupby to silence this warning.\n",
      "  gp = matches.groupby('match_id').apply(filter_by_player_and_ball_number)\n"
     ]
    },
    {
     "name": "stdout",
     "output_type": "stream",
     "text": [
      "Analyzing Player TL Seifert\n",
      "Analyzing Player AC Agar\n",
      "Analyzing Player Mushfiqur Rahim\n"
     ]
    },
    {
     "name": "stderr",
     "output_type": "stream",
     "text": [
      "/tmp/ipykernel_1282148/868147661.py:90: DeprecationWarning: DataFrameGroupBy.apply operated on the grouping columns. This behavior is deprecated, and in a future version of pandas the grouping columns will be excluded from the operation. Either pass `include_groups=False` to exclude the groupings or explicitly select the grouping columns after groupby to silence this warning.\n",
      "  gp = matches.groupby('match_id').apply(filter_by_player_and_ball_number)\n",
      "/tmp/ipykernel_1282148/868147661.py:90: DeprecationWarning: DataFrameGroupBy.apply operated on the grouping columns. This behavior is deprecated, and in a future version of pandas the grouping columns will be excluded from the operation. Either pass `include_groups=False` to exclude the groupings or explicitly select the grouping columns after groupby to silence this warning.\n",
      "  gp = matches.groupby('match_id').apply(filter_by_player_and_ball_number)\n",
      "/tmp/ipykernel_1282148/868147661.py:90: DeprecationWarning: DataFrameGroupBy.apply operated on the grouping columns. This behavior is deprecated, and in a future version of pandas the grouping columns will be excluded from the operation. Either pass `include_groups=False` to exclude the groupings or explicitly select the grouping columns after groupby to silence this warning.\n",
      "  gp = matches.groupby('match_id').apply(filter_by_player_and_ball_number)\n",
      "/tmp/ipykernel_1282148/868147661.py:90: DeprecationWarning: DataFrameGroupBy.apply operated on the grouping columns. This behavior is deprecated, and in a future version of pandas the grouping columns will be excluded from the operation. Either pass `include_groups=False` to exclude the groupings or explicitly select the grouping columns after groupby to silence this warning.\n",
      "  gp = matches.groupby('match_id').apply(filter_by_player_and_ball_number)\n"
     ]
    },
    {
     "name": "stdout",
     "output_type": "stream",
     "text": [
      "Analyzing Player Mohammad Saifuddin\n",
      "Analyzing Player Mehedi Hasan Miraz\n",
      "Analyzing Player Taskin Ahmed\n",
      "Analyzing Player Shafiul Islam\n"
     ]
    },
    {
     "name": "stderr",
     "output_type": "stream",
     "text": [
      "/tmp/ipykernel_1282148/868147661.py:90: DeprecationWarning: DataFrameGroupBy.apply operated on the grouping columns. This behavior is deprecated, and in a future version of pandas the grouping columns will be excluded from the operation. Either pass `include_groups=False` to exclude the groupings or explicitly select the grouping columns after groupby to silence this warning.\n",
      "  gp = matches.groupby('match_id').apply(filter_by_player_and_ball_number)\n",
      "/tmp/ipykernel_1282148/868147661.py:90: DeprecationWarning: DataFrameGroupBy.apply operated on the grouping columns. This behavior is deprecated, and in a future version of pandas the grouping columns will be excluded from the operation. Either pass `include_groups=False` to exclude the groupings or explicitly select the grouping columns after groupby to silence this warning.\n",
      "  gp = matches.groupby('match_id').apply(filter_by_player_and_ball_number)\n"
     ]
    },
    {
     "name": "stdout",
     "output_type": "stream",
     "text": [
      "Analyzing Player Liton Das\n",
      "Analyzing Player Kamran Akmal\n"
     ]
    },
    {
     "name": "stderr",
     "output_type": "stream",
     "text": [
      "/tmp/ipykernel_1282148/868147661.py:90: DeprecationWarning: DataFrameGroupBy.apply operated on the grouping columns. This behavior is deprecated, and in a future version of pandas the grouping columns will be excluded from the operation. Either pass `include_groups=False` to exclude the groupings or explicitly select the grouping columns after groupby to silence this warning.\n",
      "  gp = matches.groupby('match_id').apply(filter_by_player_and_ball_number)\n",
      "/tmp/ipykernel_1282148/868147661.py:90: DeprecationWarning: DataFrameGroupBy.apply operated on the grouping columns. This behavior is deprecated, and in a future version of pandas the grouping columns will be excluded from the operation. Either pass `include_groups=False` to exclude the groupings or explicitly select the grouping columns after groupby to silence this warning.\n",
      "  gp = matches.groupby('match_id').apply(filter_by_player_and_ball_number)\n"
     ]
    },
    {
     "name": "stdout",
     "output_type": "stream",
     "text": [
      "Analyzing Player Ahmed Shehzad\n",
      "Analyzing Player Mohammad Hafeez\n"
     ]
    },
    {
     "name": "stderr",
     "output_type": "stream",
     "text": [
      "/tmp/ipykernel_1282148/868147661.py:90: DeprecationWarning: DataFrameGroupBy.apply operated on the grouping columns. This behavior is deprecated, and in a future version of pandas the grouping columns will be excluded from the operation. Either pass `include_groups=False` to exclude the groupings or explicitly select the grouping columns after groupby to silence this warning.\n",
      "  gp = matches.groupby('match_id').apply(filter_by_player_and_ball_number)\n",
      "/tmp/ipykernel_1282148/868147661.py:90: DeprecationWarning: DataFrameGroupBy.apply operated on the grouping columns. This behavior is deprecated, and in a future version of pandas the grouping columns will be excluded from the operation. Either pass `include_groups=False` to exclude the groupings or explicitly select the grouping columns after groupby to silence this warning.\n",
      "  gp = matches.groupby('match_id').apply(filter_by_player_and_ball_number)\n"
     ]
    },
    {
     "name": "stdout",
     "output_type": "stream",
     "text": [
      "Analyzing Player JO Holder\n",
      "Analyzing Player Fakhar Zaman\n",
      "Analyzing Player Imad Wasim\n"
     ]
    },
    {
     "name": "stderr",
     "output_type": "stream",
     "text": [
      "/tmp/ipykernel_1282148/868147661.py:90: DeprecationWarning: DataFrameGroupBy.apply operated on the grouping columns. This behavior is deprecated, and in a future version of pandas the grouping columns will be excluded from the operation. Either pass `include_groups=False` to exclude the groupings or explicitly select the grouping columns after groupby to silence this warning.\n",
      "  gp = matches.groupby('match_id').apply(filter_by_player_and_ball_number)\n",
      "/tmp/ipykernel_1282148/868147661.py:90: DeprecationWarning: DataFrameGroupBy.apply operated on the grouping columns. This behavior is deprecated, and in a future version of pandas the grouping columns will be excluded from the operation. Either pass `include_groups=False` to exclude the groupings or explicitly select the grouping columns after groupby to silence this warning.\n",
      "  gp = matches.groupby('match_id').apply(filter_by_player_and_ball_number)\n",
      "/tmp/ipykernel_1282148/868147661.py:90: DeprecationWarning: DataFrameGroupBy.apply operated on the grouping columns. This behavior is deprecated, and in a future version of pandas the grouping columns will be excluded from the operation. Either pass `include_groups=False` to exclude the groupings or explicitly select the grouping columns after groupby to silence this warning.\n",
      "  gp = matches.groupby('match_id').apply(filter_by_player_and_ball_number)\n"
     ]
    },
    {
     "name": "stdout",
     "output_type": "stream",
     "text": [
      "Analyzing Player Sohail Tanvir\n",
      "Analyzing Player Shadab Khan\n",
      "Analyzing Player Wahab Riaz\n"
     ]
    },
    {
     "name": "stderr",
     "output_type": "stream",
     "text": [
      "/tmp/ipykernel_1282148/868147661.py:90: DeprecationWarning: DataFrameGroupBy.apply operated on the grouping columns. This behavior is deprecated, and in a future version of pandas the grouping columns will be excluded from the operation. Either pass `include_groups=False` to exclude the groupings or explicitly select the grouping columns after groupby to silence this warning.\n",
      "  gp = matches.groupby('match_id').apply(filter_by_player_and_ball_number)\n",
      "/tmp/ipykernel_1282148/868147661.py:90: DeprecationWarning: DataFrameGroupBy.apply operated on the grouping columns. This behavior is deprecated, and in a future version of pandas the grouping columns will be excluded from the operation. Either pass `include_groups=False` to exclude the groupings or explicitly select the grouping columns after groupby to silence this warning.\n",
      "  gp = matches.groupby('match_id').apply(filter_by_player_and_ball_number)\n",
      "/tmp/ipykernel_1282148/868147661.py:90: DeprecationWarning: DataFrameGroupBy.apply operated on the grouping columns. This behavior is deprecated, and in a future version of pandas the grouping columns will be excluded from the operation. Either pass `include_groups=False` to exclude the groupings or explicitly select the grouping columns after groupby to silence this warning.\n",
      "  gp = matches.groupby('match_id').apply(filter_by_player_and_ball_number)\n"
     ]
    },
    {
     "name": "stdout",
     "output_type": "stream",
     "text": [
      "Analyzing Player Hasan Ali\n",
      "Analyzing Player MDKJ Perera\n",
      "Analyzing Player NLTC Perera\n"
     ]
    },
    {
     "name": "stderr",
     "output_type": "stream",
     "text": [
      "/tmp/ipykernel_1282148/868147661.py:90: DeprecationWarning: DataFrameGroupBy.apply operated on the grouping columns. This behavior is deprecated, and in a future version of pandas the grouping columns will be excluded from the operation. Either pass `include_groups=False` to exclude the groupings or explicitly select the grouping columns after groupby to silence this warning.\n",
      "  gp = matches.groupby('match_id').apply(filter_by_player_and_ball_number)\n",
      "/tmp/ipykernel_1282148/868147661.py:90: DeprecationWarning: DataFrameGroupBy.apply operated on the grouping columns. This behavior is deprecated, and in a future version of pandas the grouping columns will be excluded from the operation. Either pass `include_groups=False` to exclude the groupings or explicitly select the grouping columns after groupby to silence this warning.\n",
      "  gp = matches.groupby('match_id').apply(filter_by_player_and_ball_number)\n",
      "/tmp/ipykernel_1282148/868147661.py:90: DeprecationWarning: DataFrameGroupBy.apply operated on the grouping columns. This behavior is deprecated, and in a future version of pandas the grouping columns will be excluded from the operation. Either pass `include_groups=False` to exclude the groupings or explicitly select the grouping columns after groupby to silence this warning.\n",
      "  gp = matches.groupby('match_id').apply(filter_by_player_and_ball_number)\n"
     ]
    },
    {
     "name": "stdout",
     "output_type": "stream",
     "text": [
      "Analyzing Player JN Mohammed\n",
      "Analyzing Player S Dhawan\n",
      "Analyzing Player KD Karthik\n"
     ]
    },
    {
     "name": "stderr",
     "output_type": "stream",
     "text": [
      "/tmp/ipykernel_1282148/868147661.py:90: DeprecationWarning: DataFrameGroupBy.apply operated on the grouping columns. This behavior is deprecated, and in a future version of pandas the grouping columns will be excluded from the operation. Either pass `include_groups=False` to exclude the groupings or explicitly select the grouping columns after groupby to silence this warning.\n",
      "  gp = matches.groupby('match_id').apply(filter_by_player_and_ball_number)\n",
      "/tmp/ipykernel_1282148/868147661.py:90: DeprecationWarning: DataFrameGroupBy.apply operated on the grouping columns. This behavior is deprecated, and in a future version of pandas the grouping columns will be excluded from the operation. Either pass `include_groups=False` to exclude the groupings or explicitly select the grouping columns after groupby to silence this warning.\n",
      "  gp = matches.groupby('match_id').apply(filter_by_player_and_ball_number)\n",
      "/tmp/ipykernel_1282148/868147661.py:90: DeprecationWarning: DataFrameGroupBy.apply operated on the grouping columns. This behavior is deprecated, and in a future version of pandas the grouping columns will be excluded from the operation. Either pass `include_groups=False` to exclude the groupings or explicitly select the grouping columns after groupby to silence this warning.\n",
      "  gp = matches.groupby('match_id').apply(filter_by_player_and_ball_number)\n"
     ]
    },
    {
     "name": "stdout",
     "output_type": "stream",
     "text": [
      "Analyzing Player RA Jadeja\n",
      "Analyzing Player R Ashwin\n",
      "Analyzing Player AD Mathews\n"
     ]
    },
    {
     "name": "stderr",
     "output_type": "stream",
     "text": [
      "/tmp/ipykernel_1282148/868147661.py:90: DeprecationWarning: DataFrameGroupBy.apply operated on the grouping columns. This behavior is deprecated, and in a future version of pandas the grouping columns will be excluded from the operation. Either pass `include_groups=False` to exclude the groupings or explicitly select the grouping columns after groupby to silence this warning.\n",
      "  gp = matches.groupby('match_id').apply(filter_by_player_and_ball_number)\n",
      "/tmp/ipykernel_1282148/868147661.py:90: DeprecationWarning: DataFrameGroupBy.apply operated on the grouping columns. This behavior is deprecated, and in a future version of pandas the grouping columns will be excluded from the operation. Either pass `include_groups=False` to exclude the groupings or explicitly select the grouping columns after groupby to silence this warning.\n",
      "  gp = matches.groupby('match_id').apply(filter_by_player_and_ball_number)\n",
      "/tmp/ipykernel_1282148/868147661.py:90: DeprecationWarning: DataFrameGroupBy.apply operated on the grouping columns. This behavior is deprecated, and in a future version of pandas the grouping columns will be excluded from the operation. Either pass `include_groups=False` to exclude the groupings or explicitly select the grouping columns after groupby to silence this warning.\n",
      "  gp = matches.groupby('match_id').apply(filter_by_player_and_ball_number)\n"
     ]
    },
    {
     "name": "stdout",
     "output_type": "stream",
     "text": [
      "Analyzing Player SMA Priyanjan\n",
      "Analyzing Player I Udana\n",
      "Analyzing Player AK Kitchen\n",
      "Analyzing Player DAJ Bracewell\n"
     ]
    },
    {
     "name": "stderr",
     "output_type": "stream",
     "text": [
      "/tmp/ipykernel_1282148/868147661.py:90: DeprecationWarning: DataFrameGroupBy.apply operated on the grouping columns. This behavior is deprecated, and in a future version of pandas the grouping columns will be excluded from the operation. Either pass `include_groups=False` to exclude the groupings or explicitly select the grouping columns after groupby to silence this warning.\n",
      "  gp = matches.groupby('match_id').apply(filter_by_player_and_ball_number)\n",
      "/tmp/ipykernel_1282148/868147661.py:90: DeprecationWarning: DataFrameGroupBy.apply operated on the grouping columns. This behavior is deprecated, and in a future version of pandas the grouping columns will be excluded from the operation. Either pass `include_groups=False` to exclude the groupings or explicitly select the grouping columns after groupby to silence this warning.\n",
      "  gp = matches.groupby('match_id').apply(filter_by_player_and_ball_number)\n",
      "/tmp/ipykernel_1282148/868147661.py:90: DeprecationWarning: DataFrameGroupBy.apply operated on the grouping columns. This behavior is deprecated, and in a future version of pandas the grouping columns will be excluded from the operation. Either pass `include_groups=False` to exclude the groupings or explicitly select the grouping columns after groupby to silence this warning.\n",
      "  gp = matches.groupby('match_id').apply(filter_by_player_and_ball_number)\n",
      "/tmp/ipykernel_1282148/868147661.py:90: DeprecationWarning: DataFrameGroupBy.apply operated on the grouping columns. This behavior is deprecated, and in a future version of pandas the grouping columns will be excluded from the operation. Either pass `include_groups=False` to exclude the groupings or explicitly select the grouping columns after groupby to silence this warning.\n",
      "  gp = matches.groupby('match_id').apply(filter_by_player_and_ball_number)\n"
     ]
    },
    {
     "name": "stdout",
     "output_type": "stream",
     "text": [
      "Analyzing Player SD Hope\n",
      "Analyzing Player SO Hetmyer\n",
      "Analyzing Player RR Emrit\n",
      "Analyzing Player Umar Amin\n"
     ]
    },
    {
     "name": "stderr",
     "output_type": "stream",
     "text": [
      "/tmp/ipykernel_1282148/868147661.py:90: DeprecationWarning: DataFrameGroupBy.apply operated on the grouping columns. This behavior is deprecated, and in a future version of pandas the grouping columns will be excluded from the operation. Either pass `include_groups=False` to exclude the groupings or explicitly select the grouping columns after groupby to silence this warning.\n",
      "  gp = matches.groupby('match_id').apply(filter_by_player_and_ball_number)\n",
      "/tmp/ipykernel_1282148/868147661.py:90: DeprecationWarning: DataFrameGroupBy.apply operated on the grouping columns. This behavior is deprecated, and in a future version of pandas the grouping columns will be excluded from the operation. Either pass `include_groups=False` to exclude the groupings or explicitly select the grouping columns after groupby to silence this warning.\n",
      "  gp = matches.groupby('match_id').apply(filter_by_player_and_ball_number)\n",
      "/tmp/ipykernel_1282148/868147661.py:90: DeprecationWarning: DataFrameGroupBy.apply operated on the grouping columns. This behavior is deprecated, and in a future version of pandas the grouping columns will be excluded from the operation. Either pass `include_groups=False` to exclude the groupings or explicitly select the grouping columns after groupby to silence this warning.\n",
      "  gp = matches.groupby('match_id').apply(filter_by_player_and_ball_number)\n",
      "/tmp/ipykernel_1282148/868147661.py:90: DeprecationWarning: DataFrameGroupBy.apply operated on the grouping columns. This behavior is deprecated, and in a future version of pandas the grouping columns will be excluded from the operation. Either pass `include_groups=False` to exclude the groupings or explicitly select the grouping columns after groupby to silence this warning.\n",
      "  gp = matches.groupby('match_id').apply(filter_by_player_and_ball_number)\n"
     ]
    },
    {
     "name": "stdout",
     "output_type": "stream",
     "text": [
      "Analyzing Player Mohammad Nawaz (3)\n",
      "Analyzing Player Haris Sohail\n",
      "Analyzing Player Faheem Ashraf\n",
      "Analyzing Player Mohammad Amir\n"
     ]
    },
    {
     "name": "stderr",
     "output_type": "stream",
     "text": [
      "/tmp/ipykernel_1282148/868147661.py:90: DeprecationWarning: DataFrameGroupBy.apply operated on the grouping columns. This behavior is deprecated, and in a future version of pandas the grouping columns will be excluded from the operation. Either pass `include_groups=False` to exclude the groupings or explicitly select the grouping columns after groupby to silence this warning.\n",
      "  gp = matches.groupby('match_id').apply(filter_by_player_and_ball_number)\n",
      "/tmp/ipykernel_1282148/868147661.py:90: DeprecationWarning: DataFrameGroupBy.apply operated on the grouping columns. This behavior is deprecated, and in a future version of pandas the grouping columns will be excluded from the operation. Either pass `include_groups=False` to exclude the groupings or explicitly select the grouping columns after groupby to silence this warning.\n",
      "  gp = matches.groupby('match_id').apply(filter_by_player_and_ball_number)\n",
      "/tmp/ipykernel_1282148/868147661.py:90: DeprecationWarning: DataFrameGroupBy.apply operated on the grouping columns. This behavior is deprecated, and in a future version of pandas the grouping columns will be excluded from the operation. Either pass `include_groups=False` to exclude the groupings or explicitly select the grouping columns after groupby to silence this warning.\n",
      "  gp = matches.groupby('match_id').apply(filter_by_player_and_ball_number)\n",
      "/tmp/ipykernel_1282148/868147661.py:90: DeprecationWarning: DataFrameGroupBy.apply operated on the grouping columns. This behavior is deprecated, and in a future version of pandas the grouping columns will be excluded from the operation. Either pass `include_groups=False` to exclude the groupings or explicitly select the grouping columns after groupby to silence this warning.\n",
      "  gp = matches.groupby('match_id').apply(filter_by_player_and_ball_number)\n"
     ]
    },
    {
     "name": "stdout",
     "output_type": "stream",
     "text": [
      "Analyzing Player SHA Rance\n",
      "Analyzing Player Aamer Yamin\n",
      "Analyzing Player DT Christian\n",
      "Analyzing Player NM Coulter-Nile\n",
      "Analyzing Player A Zampa\n"
     ]
    },
    {
     "name": "stderr",
     "output_type": "stream",
     "text": [
      "/tmp/ipykernel_1282148/868147661.py:90: DeprecationWarning: DataFrameGroupBy.apply operated on the grouping columns. This behavior is deprecated, and in a future version of pandas the grouping columns will be excluded from the operation. Either pass `include_groups=False` to exclude the groupings or explicitly select the grouping columns after groupby to silence this warning.\n",
      "  gp = matches.groupby('match_id').apply(filter_by_player_and_ball_number)\n",
      "/tmp/ipykernel_1282148/868147661.py:90: DeprecationWarning: DataFrameGroupBy.apply operated on the grouping columns. This behavior is deprecated, and in a future version of pandas the grouping columns will be excluded from the operation. Either pass `include_groups=False` to exclude the groupings or explicitly select the grouping columns after groupby to silence this warning.\n",
      "  gp = matches.groupby('match_id').apply(filter_by_player_and_ball_number)\n",
      "/tmp/ipykernel_1282148/868147661.py:90: DeprecationWarning: DataFrameGroupBy.apply operated on the grouping columns. This behavior is deprecated, and in a future version of pandas the grouping columns will be excluded from the operation. Either pass `include_groups=False` to exclude the groupings or explicitly select the grouping columns after groupby to silence this warning.\n",
      "  gp = matches.groupby('match_id').apply(filter_by_player_and_ball_number)\n",
      "/tmp/ipykernel_1282148/868147661.py:90: DeprecationWarning: DataFrameGroupBy.apply operated on the grouping columns. This behavior is deprecated, and in a future version of pandas the grouping columns will be excluded from the operation. Either pass `include_groups=False` to exclude the groupings or explicitly select the grouping columns after groupby to silence this warning.\n",
      "  gp = matches.groupby('match_id').apply(filter_by_player_and_ball_number)\n"
     ]
    },
    {
     "name": "stdout",
     "output_type": "stream",
     "text": [
      "Analyzing Player B Kumar\n",
      "Analyzing Player Kuldeep Yadav\n",
      "Analyzing Player JJ Bumrah\n",
      "Analyzing Player YS Chahal\n",
      "Analyzing Player KW Richardson\n"
     ]
    },
    {
     "name": "stderr",
     "output_type": "stream",
     "text": [
      "/tmp/ipykernel_1282148/868147661.py:90: DeprecationWarning: DataFrameGroupBy.apply operated on the grouping columns. This behavior is deprecated, and in a future version of pandas the grouping columns will be excluded from the operation. Either pass `include_groups=False` to exclude the groupings or explicitly select the grouping columns after groupby to silence this warning.\n",
      "  gp = matches.groupby('match_id').apply(filter_by_player_and_ball_number)\n",
      "/tmp/ipykernel_1282148/868147661.py:90: DeprecationWarning: DataFrameGroupBy.apply operated on the grouping columns. This behavior is deprecated, and in a future version of pandas the grouping columns will be excluded from the operation. Either pass `include_groups=False` to exclude the groupings or explicitly select the grouping columns after groupby to silence this warning.\n",
      "  gp = matches.groupby('match_id').apply(filter_by_player_and_ball_number)\n",
      "/tmp/ipykernel_1282148/868147661.py:90: DeprecationWarning: DataFrameGroupBy.apply operated on the grouping columns. This behavior is deprecated, and in a future version of pandas the grouping columns will be excluded from the operation. Either pass `include_groups=False` to exclude the groupings or explicitly select the grouping columns after groupby to silence this warning.\n",
      "  gp = matches.groupby('match_id').apply(filter_by_player_and_ball_number)\n",
      "/tmp/ipykernel_1282148/868147661.py:90: DeprecationWarning: DataFrameGroupBy.apply operated on the grouping columns. This behavior is deprecated, and in a future version of pandas the grouping columns will be excluded from the operation. Either pass `include_groups=False` to exclude the groupings or explicitly select the grouping columns after groupby to silence this warning.\n",
      "  gp = matches.groupby('match_id').apply(filter_by_player_and_ball_number)\n",
      "/tmp/ipykernel_1282148/868147661.py:90: DeprecationWarning: DataFrameGroupBy.apply operated on the grouping columns. This behavior is deprecated, and in a future version of pandas the grouping columns will be excluded from the operation. Either pass `include_groups=False` to exclude the groupings or explicitly select the grouping columns after groupby to silence this warning.\n",
      "  gp = matches.groupby('match_id').apply(filter_by_player_and_ball_number)\n"
     ]
    },
    {
     "name": "stdout",
     "output_type": "stream",
     "text": [
      "Analyzing Player MJ Swepson\n",
      "Analyzing Player B Stanlake\n",
      "Analyzing Player TWM Latham\n",
      "Analyzing Player HM Nicholls\n",
      "Analyzing Player SS Iyer\n"
     ]
    },
    {
     "name": "stderr",
     "output_type": "stream",
     "text": [
      "/tmp/ipykernel_1282148/868147661.py:90: DeprecationWarning: DataFrameGroupBy.apply operated on the grouping columns. This behavior is deprecated, and in a future version of pandas the grouping columns will be excluded from the operation. Either pass `include_groups=False` to exclude the groupings or explicitly select the grouping columns after groupby to silence this warning.\n",
      "  gp = matches.groupby('match_id').apply(filter_by_player_and_ball_number)\n",
      "/tmp/ipykernel_1282148/868147661.py:90: DeprecationWarning: DataFrameGroupBy.apply operated on the grouping columns. This behavior is deprecated, and in a future version of pandas the grouping columns will be excluded from the operation. Either pass `include_groups=False` to exclude the groupings or explicitly select the grouping columns after groupby to silence this warning.\n",
      "  gp = matches.groupby('match_id').apply(filter_by_player_and_ball_number)\n",
      "/tmp/ipykernel_1282148/868147661.py:90: DeprecationWarning: DataFrameGroupBy.apply operated on the grouping columns. This behavior is deprecated, and in a future version of pandas the grouping columns will be excluded from the operation. Either pass `include_groups=False` to exclude the groupings or explicitly select the grouping columns after groupby to silence this warning.\n",
      "  gp = matches.groupby('match_id').apply(filter_by_player_and_ball_number)\n",
      "/tmp/ipykernel_1282148/868147661.py:90: DeprecationWarning: DataFrameGroupBy.apply operated on the grouping columns. This behavior is deprecated, and in a future version of pandas the grouping columns will be excluded from the operation. Either pass `include_groups=False` to exclude the groupings or explicitly select the grouping columns after groupby to silence this warning.\n",
      "  gp = matches.groupby('match_id').apply(filter_by_player_and_ball_number)\n",
      "/tmp/ipykernel_1282148/868147661.py:90: DeprecationWarning: DataFrameGroupBy.apply operated on the grouping columns. This behavior is deprecated, and in a future version of pandas the grouping columns will be excluded from the operation. Either pass `include_groups=False` to exclude the groupings or explicitly select the grouping columns after groupby to silence this warning.\n",
      "  gp = matches.groupby('match_id').apply(filter_by_player_and_ball_number)\n",
      "/tmp/ipykernel_1282148/868147661.py:90: DeprecationWarning: DataFrameGroupBy.apply operated on the grouping columns. This behavior is deprecated, and in a future version of pandas the grouping columns will be excluded from the operation. Either pass `include_groups=False` to exclude the groupings or explicitly select the grouping columns after groupby to silence this warning.\n",
      "  gp = matches.groupby('match_id').apply(filter_by_player_and_ball_number)\n",
      "/tmp/ipykernel_1282148/868147661.py:90: DeprecationWarning: DataFrameGroupBy.apply operated on the grouping columns. This behavior is deprecated, and in a future version of pandas the grouping columns will be excluded from the operation. Either pass `include_groups=False` to exclude the groupings or explicitly select the grouping columns after groupby to silence this warning.\n",
      "  gp = matches.groupby('match_id').apply(filter_by_player_and_ball_number)\n"
     ]
    },
    {
     "name": "stdout",
     "output_type": "stream",
     "text": [
      "Analyzing Player MD Gunathilaka\n",
      "Analyzing Player S Samarawickrama\n",
      "Analyzing Player ML Udawatte\n",
      "Analyzing Player SS Pathirana\n"
     ]
    },
    {
     "name": "stderr",
     "output_type": "stream",
     "text": [
      "/tmp/ipykernel_1282148/868147661.py:90: DeprecationWarning: DataFrameGroupBy.apply operated on the grouping columns. This behavior is deprecated, and in a future version of pandas the grouping columns will be excluded from the operation. Either pass `include_groups=False` to exclude the groupings or explicitly select the grouping columns after groupby to silence this warning.\n",
      "  gp = matches.groupby('match_id').apply(filter_by_player_and_ball_number)\n",
      "/tmp/ipykernel_1282148/868147661.py:90: DeprecationWarning: DataFrameGroupBy.apply operated on the grouping columns. This behavior is deprecated, and in a future version of pandas the grouping columns will be excluded from the operation. Either pass `include_groups=False` to exclude the groupings or explicitly select the grouping columns after groupby to silence this warning.\n",
      "  gp = matches.groupby('match_id').apply(filter_by_player_and_ball_number)\n",
      "/tmp/ipykernel_1282148/868147661.py:90: DeprecationWarning: DataFrameGroupBy.apply operated on the grouping columns. This behavior is deprecated, and in a future version of pandas the grouping columns will be excluded from the operation. Either pass `include_groups=False` to exclude the groupings or explicitly select the grouping columns after groupby to silence this warning.\n",
      "  gp = matches.groupby('match_id').apply(filter_by_player_and_ball_number)\n",
      "/tmp/ipykernel_1282148/868147661.py:90: DeprecationWarning: DataFrameGroupBy.apply operated on the grouping columns. This behavior is deprecated, and in a future version of pandas the grouping columns will be excluded from the operation. Either pass `include_groups=False` to exclude the groupings or explicitly select the grouping columns after groupby to silence this warning.\n",
      "  gp = matches.groupby('match_id').apply(filter_by_player_and_ball_number)\n"
     ]
    },
    {
     "name": "stdout",
     "output_type": "stream",
     "text": [
      "Analyzing Player PC de Silva\n",
      "Analyzing Player H Klaasen\n",
      "Analyzing Player CJ Dala\n",
      "Analyzing Player T Shamsi\n"
     ]
    },
    {
     "name": "stderr",
     "output_type": "stream",
     "text": [
      "/tmp/ipykernel_1282148/868147661.py:90: DeprecationWarning: DataFrameGroupBy.apply operated on the grouping columns. This behavior is deprecated, and in a future version of pandas the grouping columns will be excluded from the operation. Either pass `include_groups=False` to exclude the groupings or explicitly select the grouping columns after groupby to silence this warning.\n",
      "  gp = matches.groupby('match_id').apply(filter_by_player_and_ball_number)\n",
      "/tmp/ipykernel_1282148/868147661.py:90: DeprecationWarning: DataFrameGroupBy.apply operated on the grouping columns. This behavior is deprecated, and in a future version of pandas the grouping columns will be excluded from the operation. Either pass `include_groups=False` to exclude the groupings or explicitly select the grouping columns after groupby to silence this warning.\n",
      "  gp = matches.groupby('match_id').apply(filter_by_player_and_ball_number)\n",
      "/tmp/ipykernel_1282148/868147661.py:90: DeprecationWarning: DataFrameGroupBy.apply operated on the grouping columns. This behavior is deprecated, and in a future version of pandas the grouping columns will be excluded from the operation. Either pass `include_groups=False` to exclude the groupings or explicitly select the grouping columns after groupby to silence this warning.\n",
      "  gp = matches.groupby('match_id').apply(filter_by_player_and_ball_number)\n",
      "/tmp/ipykernel_1282148/868147661.py:90: DeprecationWarning: DataFrameGroupBy.apply operated on the grouping columns. This behavior is deprecated, and in a future version of pandas the grouping columns will be excluded from the operation. Either pass `include_groups=False` to exclude the groupings or explicitly select the grouping columns after groupby to silence this warning.\n",
      "  gp = matches.groupby('match_id').apply(filter_by_player_and_ball_number)\n"
     ]
    },
    {
     "name": "stdout",
     "output_type": "stream",
     "text": [
      "Analyzing Player C Jonker\n",
      "Analyzing Player A Dananjaya\n",
      "Analyzing Player PVD Chameera\n",
      "Analyzing Player MVT Fernando\n"
     ]
    },
    {
     "name": "stderr",
     "output_type": "stream",
     "text": [
      "/tmp/ipykernel_1282148/868147661.py:90: DeprecationWarning: DataFrameGroupBy.apply operated on the grouping columns. This behavior is deprecated, and in a future version of pandas the grouping columns will be excluded from the operation. Either pass `include_groups=False` to exclude the groupings or explicitly select the grouping columns after groupby to silence this warning.\n",
      "  gp = matches.groupby('match_id').apply(filter_by_player_and_ball_number)\n",
      "/tmp/ipykernel_1282148/868147661.py:90: DeprecationWarning: DataFrameGroupBy.apply operated on the grouping columns. This behavior is deprecated, and in a future version of pandas the grouping columns will be excluded from the operation. Either pass `include_groups=False` to exclude the groupings or explicitly select the grouping columns after groupby to silence this warning.\n",
      "  gp = matches.groupby('match_id').apply(filter_by_player_and_ball_number)\n",
      "/tmp/ipykernel_1282148/868147661.py:90: DeprecationWarning: DataFrameGroupBy.apply operated on the grouping columns. This behavior is deprecated, and in a future version of pandas the grouping columns will be excluded from the operation. Either pass `include_groups=False` to exclude the groupings or explicitly select the grouping columns after groupby to silence this warning.\n",
      "  gp = matches.groupby('match_id').apply(filter_by_player_and_ball_number)\n",
      "/tmp/ipykernel_1282148/868147661.py:90: DeprecationWarning: DataFrameGroupBy.apply operated on the grouping columns. This behavior is deprecated, and in a future version of pandas the grouping columns will be excluded from the operation. Either pass `include_groups=False` to exclude the groupings or explicitly select the grouping columns after groupby to silence this warning.\n",
      "  gp = matches.groupby('match_id').apply(filter_by_player_and_ball_number)\n"
     ]
    },
    {
     "name": "stdout",
     "output_type": "stream",
     "text": [
      "Analyzing Player N Pradeep\n",
      "Analyzing Player Zakir Hasan\n",
      "Analyzing Player Afif Hossain\n",
      "Analyzing Player Ariful Haque\n"
     ]
    },
    {
     "name": "stderr",
     "output_type": "stream",
     "text": [
      "/tmp/ipykernel_1282148/868147661.py:90: DeprecationWarning: DataFrameGroupBy.apply operated on the grouping columns. This behavior is deprecated, and in a future version of pandas the grouping columns will be excluded from the operation. Either pass `include_groups=False` to exclude the groupings or explicitly select the grouping columns after groupby to silence this warning.\n",
      "  gp = matches.groupby('match_id').apply(filter_by_player_and_ball_number)\n",
      "/tmp/ipykernel_1282148/868147661.py:90: DeprecationWarning: DataFrameGroupBy.apply operated on the grouping columns. This behavior is deprecated, and in a future version of pandas the grouping columns will be excluded from the operation. Either pass `include_groups=False` to exclude the groupings or explicitly select the grouping columns after groupby to silence this warning.\n",
      "  gp = matches.groupby('match_id').apply(filter_by_player_and_ball_number)\n",
      "/tmp/ipykernel_1282148/868147661.py:90: DeprecationWarning: DataFrameGroupBy.apply operated on the grouping columns. This behavior is deprecated, and in a future version of pandas the grouping columns will be excluded from the operation. Either pass `include_groups=False` to exclude the groupings or explicitly select the grouping columns after groupby to silence this warning.\n",
      "  gp = matches.groupby('match_id').apply(filter_by_player_and_ball_number)\n",
      "/tmp/ipykernel_1282148/868147661.py:90: DeprecationWarning: DataFrameGroupBy.apply operated on the grouping columns. This behavior is deprecated, and in a future version of pandas the grouping columns will be excluded from the operation. Either pass `include_groups=False` to exclude the groupings or explicitly select the grouping columns after groupby to silence this warning.\n",
      "  gp = matches.groupby('match_id').apply(filter_by_player_and_ball_number)\n"
     ]
    },
    {
     "name": "stdout",
     "output_type": "stream",
     "text": [
      "Analyzing Player Mohammad Mithun\n",
      "Analyzing Player Mahedi Hasan\n",
      "Analyzing Player Abu Jayed\n",
      "Analyzing Player Nazmul Islam\n"
     ]
    },
    {
     "name": "stderr",
     "output_type": "stream",
     "text": [
      "/tmp/ipykernel_1282148/868147661.py:90: DeprecationWarning: DataFrameGroupBy.apply operated on the grouping columns. This behavior is deprecated, and in a future version of pandas the grouping columns will be excluded from the operation. Either pass `include_groups=False` to exclude the groupings or explicitly select the grouping columns after groupby to silence this warning.\n",
      "  gp = matches.groupby('match_id').apply(filter_by_player_and_ball_number)\n",
      "/tmp/ipykernel_1282148/868147661.py:90: DeprecationWarning: DataFrameGroupBy.apply operated on the grouping columns. This behavior is deprecated, and in a future version of pandas the grouping columns will be excluded from the operation. Either pass `include_groups=False` to exclude the groupings or explicitly select the grouping columns after groupby to silence this warning.\n",
      "  gp = matches.groupby('match_id').apply(filter_by_player_and_ball_number)\n",
      "/tmp/ipykernel_1282148/868147661.py:90: DeprecationWarning: DataFrameGroupBy.apply operated on the grouping columns. This behavior is deprecated, and in a future version of pandas the grouping columns will be excluded from the operation. Either pass `include_groups=False` to exclude the groupings or explicitly select the grouping columns after groupby to silence this warning.\n",
      "  gp = matches.groupby('match_id').apply(filter_by_player_and_ball_number)\n"
     ]
    },
    {
     "name": "stdout",
     "output_type": "stream",
     "text": [
      "Analyzing Player LD Chandimal\n",
      "Analyzing Player BMAJ Mendis\n",
      "Analyzing Player RAS Lakmal\n"
     ]
    },
    {
     "name": "stderr",
     "output_type": "stream",
     "text": [
      "/tmp/ipykernel_1282148/868147661.py:90: DeprecationWarning: DataFrameGroupBy.apply operated on the grouping columns. This behavior is deprecated, and in a future version of pandas the grouping columns will be excluded from the operation. Either pass `include_groups=False` to exclude the groupings or explicitly select the grouping columns after groupby to silence this warning.\n",
      "  gp = matches.groupby('match_id').apply(filter_by_player_and_ball_number)\n",
      "/tmp/ipykernel_1282148/868147661.py:90: DeprecationWarning: DataFrameGroupBy.apply operated on the grouping columns. This behavior is deprecated, and in a future version of pandas the grouping columns will be excluded from the operation. Either pass `include_groups=False` to exclude the groupings or explicitly select the grouping columns after groupby to silence this warning.\n",
      "  gp = matches.groupby('match_id').apply(filter_by_player_and_ball_number)\n",
      "/tmp/ipykernel_1282148/868147661.py:90: DeprecationWarning: DataFrameGroupBy.apply operated on the grouping columns. This behavior is deprecated, and in a future version of pandas the grouping columns will be excluded from the operation. Either pass `include_groups=False` to exclude the groupings or explicitly select the grouping columns after groupby to silence this warning.\n",
      "  gp = matches.groupby('match_id').apply(filter_by_player_and_ball_number)\n",
      "/tmp/ipykernel_1282148/868147661.py:90: DeprecationWarning: DataFrameGroupBy.apply operated on the grouping columns. This behavior is deprecated, and in a future version of pandas the grouping columns will be excluded from the operation. Either pass `include_groups=False` to exclude the groupings or explicitly select the grouping columns after groupby to silence this warning.\n",
      "  gp = matches.groupby('match_id').apply(filter_by_player_and_ball_number)\n",
      "/tmp/ipykernel_1282148/868147661.py:90: DeprecationWarning: DataFrameGroupBy.apply operated on the grouping columns. This behavior is deprecated, and in a future version of pandas the grouping columns will be excluded from the operation. Either pass `include_groups=False` to exclude the groupings or explicitly select the grouping columns after groupby to silence this warning.\n",
      "  gp = matches.groupby('match_id').apply(filter_by_player_and_ball_number)\n"
     ]
    },
    {
     "name": "stdout",
     "output_type": "stream",
     "text": [
      "Analyzing Player V Shankar\n",
      "Analyzing Player Mohammad Shahzad\n",
      "Analyzing Player Karim Sadiq\n",
      "Analyzing Player Asghar Stanikzai\n",
      "Analyzing Player Mohammad Nabi\n"
     ]
    },
    {
     "name": "stderr",
     "output_type": "stream",
     "text": [
      "/tmp/ipykernel_1282148/868147661.py:90: DeprecationWarning: DataFrameGroupBy.apply operated on the grouping columns. This behavior is deprecated, and in a future version of pandas the grouping columns will be excluded from the operation. Either pass `include_groups=False` to exclude the groupings or explicitly select the grouping columns after groupby to silence this warning.\n",
      "  gp = matches.groupby('match_id').apply(filter_by_player_and_ball_number)\n",
      "/tmp/ipykernel_1282148/868147661.py:90: DeprecationWarning: DataFrameGroupBy.apply operated on the grouping columns. This behavior is deprecated, and in a future version of pandas the grouping columns will be excluded from the operation. Either pass `include_groups=False` to exclude the groupings or explicitly select the grouping columns after groupby to silence this warning.\n",
      "  gp = matches.groupby('match_id').apply(filter_by_player_and_ball_number)\n",
      "/tmp/ipykernel_1282148/868147661.py:90: DeprecationWarning: DataFrameGroupBy.apply operated on the grouping columns. This behavior is deprecated, and in a future version of pandas the grouping columns will be excluded from the operation. Either pass `include_groups=False` to exclude the groupings or explicitly select the grouping columns after groupby to silence this warning.\n",
      "  gp = matches.groupby('match_id').apply(filter_by_player_and_ball_number)\n"
     ]
    },
    {
     "name": "stdout",
     "output_type": "stream",
     "text": [
      "Analyzing Player Sharafuddin Ashraf\n",
      "Analyzing Player Najibullah Zadran\n",
      "Analyzing Player Shafiqullah\n",
      "Analyzing Player SF Mire\n"
     ]
    },
    {
     "name": "stderr",
     "output_type": "stream",
     "text": [
      "/tmp/ipykernel_1282148/868147661.py:90: DeprecationWarning: DataFrameGroupBy.apply operated on the grouping columns. This behavior is deprecated, and in a future version of pandas the grouping columns will be excluded from the operation. Either pass `include_groups=False` to exclude the groupings or explicitly select the grouping columns after groupby to silence this warning.\n",
      "  gp = matches.groupby('match_id').apply(filter_by_player_and_ball_number)\n",
      "/tmp/ipykernel_1282148/868147661.py:90: DeprecationWarning: DataFrameGroupBy.apply operated on the grouping columns. This behavior is deprecated, and in a future version of pandas the grouping columns will be excluded from the operation. Either pass `include_groups=False` to exclude the groupings or explicitly select the grouping columns after groupby to silence this warning.\n",
      "  gp = matches.groupby('match_id').apply(filter_by_player_and_ball_number)\n",
      "/tmp/ipykernel_1282148/868147661.py:90: DeprecationWarning: DataFrameGroupBy.apply operated on the grouping columns. This behavior is deprecated, and in a future version of pandas the grouping columns will be excluded from the operation. Either pass `include_groups=False` to exclude the groupings or explicitly select the grouping columns after groupby to silence this warning.\n",
      "  gp = matches.groupby('match_id').apply(filter_by_player_and_ball_number)\n",
      "/tmp/ipykernel_1282148/868147661.py:90: DeprecationWarning: DataFrameGroupBy.apply operated on the grouping columns. This behavior is deprecated, and in a future version of pandas the grouping columns will be excluded from the operation. Either pass `include_groups=False` to exclude the groupings or explicitly select the grouping columns after groupby to silence this warning.\n",
      "  gp = matches.groupby('match_id').apply(filter_by_player_and_ball_number)\n"
     ]
    },
    {
     "name": "stdout",
     "output_type": "stream",
     "text": [
      "Analyzing Player BRM Taylor\n",
      "Analyzing Player RP Burl\n",
      "Analyzing Player KM Jarvis\n"
     ]
    },
    {
     "name": "stderr",
     "output_type": "stream",
     "text": [
      "/tmp/ipykernel_1282148/868147661.py:90: DeprecationWarning: DataFrameGroupBy.apply operated on the grouping columns. This behavior is deprecated, and in a future version of pandas the grouping columns will be excluded from the operation. Either pass `include_groups=False` to exclude the groupings or explicitly select the grouping columns after groupby to silence this warning.\n",
      "  gp = matches.groupby('match_id').apply(filter_by_player_and_ball_number)\n",
      "/tmp/ipykernel_1282148/868147661.py:90: DeprecationWarning: DataFrameGroupBy.apply operated on the grouping columns. This behavior is deprecated, and in a future version of pandas the grouping columns will be excluded from the operation. Either pass `include_groups=False` to exclude the groupings or explicitly select the grouping columns after groupby to silence this warning.\n",
      "  gp = matches.groupby('match_id').apply(filter_by_player_and_ball_number)\n",
      "/tmp/ipykernel_1282148/868147661.py:90: DeprecationWarning: DataFrameGroupBy.apply operated on the grouping columns. This behavior is deprecated, and in a future version of pandas the grouping columns will be excluded from the operation. Either pass `include_groups=False` to exclude the groupings or explicitly select the grouping columns after groupby to silence this warning.\n",
      "  gp = matches.groupby('match_id').apply(filter_by_player_and_ball_number)\n",
      "/tmp/ipykernel_1282148/868147661.py:90: DeprecationWarning: DataFrameGroupBy.apply operated on the grouping columns. This behavior is deprecated, and in a future version of pandas the grouping columns will be excluded from the operation. Either pass `include_groups=False` to exclude the groupings or explicitly select the grouping columns after groupby to silence this warning.\n",
      "  gp = matches.groupby('match_id').apply(filter_by_player_and_ball_number)\n"
     ]
    },
    {
     "name": "stdout",
     "output_type": "stream",
     "text": [
      "Analyzing Player TL Chatara\n",
      "Analyzing Player B Muzarabani\n",
      "Analyzing Player Gulbadin Naib\n",
      "Analyzing Player Rashid Khan\n"
     ]
    },
    {
     "name": "stderr",
     "output_type": "stream",
     "text": [
      "/tmp/ipykernel_1282148/868147661.py:90: DeprecationWarning: DataFrameGroupBy.apply operated on the grouping columns. This behavior is deprecated, and in a future version of pandas the grouping columns will be excluded from the operation. Either pass `include_groups=False` to exclude the groupings or explicitly select the grouping columns after groupby to silence this warning.\n",
      "  gp = matches.groupby('match_id').apply(filter_by_player_and_ball_number)\n",
      "/tmp/ipykernel_1282148/868147661.py:90: DeprecationWarning: DataFrameGroupBy.apply operated on the grouping columns. This behavior is deprecated, and in a future version of pandas the grouping columns will be excluded from the operation. Either pass `include_groups=False` to exclude the groupings or explicitly select the grouping columns after groupby to silence this warning.\n",
      "  gp = matches.groupby('match_id').apply(filter_by_player_and_ball_number)\n",
      "/tmp/ipykernel_1282148/868147661.py:90: DeprecationWarning: DataFrameGroupBy.apply operated on the grouping columns. This behavior is deprecated, and in a future version of pandas the grouping columns will be excluded from the operation. Either pass `include_groups=False` to exclude the groupings or explicitly select the grouping columns after groupby to silence this warning.\n",
      "  gp = matches.groupby('match_id').apply(filter_by_player_and_ball_number)\n",
      "/tmp/ipykernel_1282148/868147661.py:90: DeprecationWarning: DataFrameGroupBy.apply operated on the grouping columns. This behavior is deprecated, and in a future version of pandas the grouping columns will be excluded from the operation. Either pass `include_groups=False` to exclude the groupings or explicitly select the grouping columns after groupby to silence this warning.\n",
      "  gp = matches.groupby('match_id').apply(filter_by_player_and_ball_number)\n"
     ]
    },
    {
     "name": "stdout",
     "output_type": "stream",
     "text": [
      "Analyzing Player Aftab Alam\n",
      "Analyzing Player Hussain Talat\n",
      "Analyzing Player Asif Ali\n",
      "Analyzing Player D Ramdin\n"
     ]
    },
    {
     "name": "stderr",
     "output_type": "stream",
     "text": [
      "/tmp/ipykernel_1282148/868147661.py:90: DeprecationWarning: DataFrameGroupBy.apply operated on the grouping columns. This behavior is deprecated, and in a future version of pandas the grouping columns will be excluded from the operation. Either pass `include_groups=False` to exclude the groupings or explicitly select the grouping columns after groupby to silence this warning.\n",
      "  gp = matches.groupby('match_id').apply(filter_by_player_and_ball_number)\n",
      "/tmp/ipykernel_1282148/868147661.py:90: DeprecationWarning: DataFrameGroupBy.apply operated on the grouping columns. This behavior is deprecated, and in a future version of pandas the grouping columns will be excluded from the operation. Either pass `include_groups=False` to exclude the groupings or explicitly select the grouping columns after groupby to silence this warning.\n",
      "  gp = matches.groupby('match_id').apply(filter_by_player_and_ball_number)\n",
      "/tmp/ipykernel_1282148/868147661.py:90: DeprecationWarning: DataFrameGroupBy.apply operated on the grouping columns. This behavior is deprecated, and in a future version of pandas the grouping columns will be excluded from the operation. Either pass `include_groups=False` to exclude the groupings or explicitly select the grouping columns after groupby to silence this warning.\n",
      "  gp = matches.groupby('match_id').apply(filter_by_player_and_ball_number)\n"
     ]
    },
    {
     "name": "stdout",
     "output_type": "stream",
     "text": [
      "Analyzing Player KMA Paul\n",
      "Analyzing Player OF Smith\n",
      "Analyzing Player AM McCarthy\n",
      "Analyzing Player JL Denly\n"
     ]
    },
    {
     "name": "stderr",
     "output_type": "stream",
     "text": [
      "/tmp/ipykernel_1282148/868147661.py:90: DeprecationWarning: DataFrameGroupBy.apply operated on the grouping columns. This behavior is deprecated, and in a future version of pandas the grouping columns will be excluded from the operation. Either pass `include_groups=False` to exclude the groupings or explicitly select the grouping columns after groupby to silence this warning.\n",
      "  gp = matches.groupby('match_id').apply(filter_by_player_and_ball_number)\n",
      "/tmp/ipykernel_1282148/868147661.py:90: DeprecationWarning: DataFrameGroupBy.apply operated on the grouping columns. This behavior is deprecated, and in a future version of pandas the grouping columns will be excluded from the operation. Either pass `include_groups=False` to exclude the groupings or explicitly select the grouping columns after groupby to silence this warning.\n",
      "  gp = matches.groupby('match_id').apply(filter_by_player_and_ball_number)\n",
      "/tmp/ipykernel_1282148/868147661.py:90: DeprecationWarning: DataFrameGroupBy.apply operated on the grouping columns. This behavior is deprecated, and in a future version of pandas the grouping columns will be excluded from the operation. Either pass `include_groups=False` to exclude the groupings or explicitly select the grouping columns after groupby to silence this warning.\n",
      "  gp = matches.groupby('match_id').apply(filter_by_player_and_ball_number)\n",
      "/tmp/ipykernel_1282148/868147661.py:90: DeprecationWarning: DataFrameGroupBy.apply operated on the grouping columns. This behavior is deprecated, and in a future version of pandas the grouping columns will be excluded from the operation. Either pass `include_groups=False` to exclude the groupings or explicitly select the grouping columns after groupby to silence this warning.\n",
      "  gp = matches.groupby('match_id').apply(filter_by_player_and_ball_number)\n"
     ]
    },
    {
     "name": "stdout",
     "output_type": "stream",
     "text": [
      "Analyzing Player DM de Silva\n",
      "Analyzing Player PHKD Mendis\n",
      "Analyzing Player MA Aponso\n",
      "Analyzing Player PADLR Sandakan\n"
     ]
    },
    {
     "name": "stderr",
     "output_type": "stream",
     "text": [
      "/tmp/ipykernel_1282148/868147661.py:90: DeprecationWarning: DataFrameGroupBy.apply operated on the grouping columns. This behavior is deprecated, and in a future version of pandas the grouping columns will be excluded from the operation. Either pass `include_groups=False` to exclude the groupings or explicitly select the grouping columns after groupby to silence this warning.\n",
      "  gp = matches.groupby('match_id').apply(filter_by_player_and_ball_number)\n",
      "/tmp/ipykernel_1282148/868147661.py:90: DeprecationWarning: DataFrameGroupBy.apply operated on the grouping columns. This behavior is deprecated, and in a future version of pandas the grouping columns will be excluded from the operation. Either pass `include_groups=False` to exclude the groupings or explicitly select the grouping columns after groupby to silence this warning.\n",
      "  gp = matches.groupby('match_id').apply(filter_by_player_and_ball_number)\n",
      "/tmp/ipykernel_1282148/868147661.py:90: DeprecationWarning: DataFrameGroupBy.apply operated on the grouping columns. This behavior is deprecated, and in a future version of pandas the grouping columns will be excluded from the operation. Either pass `include_groups=False` to exclude the groupings or explicitly select the grouping columns after groupby to silence this warning.\n",
      "  gp = matches.groupby('match_id').apply(filter_by_player_and_ball_number)\n",
      "/tmp/ipykernel_1282148/868147661.py:90: DeprecationWarning: DataFrameGroupBy.apply operated on the grouping columns. This behavior is deprecated, and in a future version of pandas the grouping columns will be excluded from the operation. Either pass `include_groups=False` to exclude the groupings or explicitly select the grouping columns after groupby to silence this warning.\n",
      "  gp = matches.groupby('match_id').apply(filter_by_player_and_ball_number)\n"
     ]
    },
    {
     "name": "stdout",
     "output_type": "stream",
     "text": [
      "Analyzing Player PR Stirling\n",
      "Analyzing Player JNK Shannon\n",
      "Analyzing Player A Balbirnie\n"
     ]
    },
    {
     "name": "stderr",
     "output_type": "stream",
     "text": [
      "/tmp/ipykernel_1282148/868147661.py:90: DeprecationWarning: DataFrameGroupBy.apply operated on the grouping columns. This behavior is deprecated, and in a future version of pandas the grouping columns will be excluded from the operation. Either pass `include_groups=False` to exclude the groupings or explicitly select the grouping columns after groupby to silence this warning.\n",
      "  gp = matches.groupby('match_id').apply(filter_by_player_and_ball_number)\n",
      "/tmp/ipykernel_1282148/868147661.py:90: DeprecationWarning: DataFrameGroupBy.apply operated on the grouping columns. This behavior is deprecated, and in a future version of pandas the grouping columns will be excluded from the operation. Either pass `include_groups=False` to exclude the groupings or explicitly select the grouping columns after groupby to silence this warning.\n",
      "  gp = matches.groupby('match_id').apply(filter_by_player_and_ball_number)\n",
      "/tmp/ipykernel_1282148/868147661.py:90: DeprecationWarning: DataFrameGroupBy.apply operated on the grouping columns. This behavior is deprecated, and in a future version of pandas the grouping columns will be excluded from the operation. Either pass `include_groups=False` to exclude the groupings or explicitly select the grouping columns after groupby to silence this warning.\n",
      "  gp = matches.groupby('match_id').apply(filter_by_player_and_ball_number)\n"
     ]
    },
    {
     "name": "stdout",
     "output_type": "stream",
     "text": [
      "Analyzing Player Simi Singh\n",
      "Analyzing Player GC Wilson\n",
      "Analyzing Player KJ O'Brien\n",
      "Analyzing Player SW Poynter\n"
     ]
    },
    {
     "name": "stderr",
     "output_type": "stream",
     "text": [
      "/tmp/ipykernel_1282148/868147661.py:90: DeprecationWarning: DataFrameGroupBy.apply operated on the grouping columns. This behavior is deprecated, and in a future version of pandas the grouping columns will be excluded from the operation. Either pass `include_groups=False` to exclude the groupings or explicitly select the grouping columns after groupby to silence this warning.\n",
      "  gp = matches.groupby('match_id').apply(filter_by_player_and_ball_number)\n",
      "/tmp/ipykernel_1282148/868147661.py:90: DeprecationWarning: DataFrameGroupBy.apply operated on the grouping columns. This behavior is deprecated, and in a future version of pandas the grouping columns will be excluded from the operation. Either pass `include_groups=False` to exclude the groupings or explicitly select the grouping columns after groupby to silence this warning.\n",
      "  gp = matches.groupby('match_id').apply(filter_by_player_and_ball_number)\n",
      "/tmp/ipykernel_1282148/868147661.py:90: DeprecationWarning: DataFrameGroupBy.apply operated on the grouping columns. This behavior is deprecated, and in a future version of pandas the grouping columns will be excluded from the operation. Either pass `include_groups=False` to exclude the groupings or explicitly select the grouping columns after groupby to silence this warning.\n",
      "  gp = matches.groupby('match_id').apply(filter_by_player_and_ball_number)\n",
      "/tmp/ipykernel_1282148/868147661.py:90: DeprecationWarning: DataFrameGroupBy.apply operated on the grouping columns. This behavior is deprecated, and in a future version of pandas the grouping columns will be excluded from the operation. Either pass `include_groups=False` to exclude the groupings or explicitly select the grouping columns after groupby to silence this warning.\n",
      "  gp = matches.groupby('match_id').apply(filter_by_player_and_ball_number)\n"
     ]
    },
    {
     "name": "stdout",
     "output_type": "stream",
     "text": [
      "Analyzing Player SR Thompson\n",
      "Analyzing Player GH Dockrell\n",
      "Analyzing Player WB Rankin\n",
      "Analyzing Player PKD Chase\n"
     ]
    },
    {
     "name": "stderr",
     "output_type": "stream",
     "text": [
      "/tmp/ipykernel_1282148/868147661.py:90: DeprecationWarning: DataFrameGroupBy.apply operated on the grouping columns. This behavior is deprecated, and in a future version of pandas the grouping columns will be excluded from the operation. Either pass `include_groups=False` to exclude the groupings or explicitly select the grouping columns after groupby to silence this warning.\n",
      "  gp = matches.groupby('match_id').apply(filter_by_player_and_ball_number)\n",
      "/tmp/ipykernel_1282148/868147661.py:90: DeprecationWarning: DataFrameGroupBy.apply operated on the grouping columns. This behavior is deprecated, and in a future version of pandas the grouping columns will be excluded from the operation. Either pass `include_groups=False` to exclude the groupings or explicitly select the grouping columns after groupby to silence this warning.\n",
      "  gp = matches.groupby('match_id').apply(filter_by_player_and_ball_number)\n",
      "/tmp/ipykernel_1282148/868147661.py:90: DeprecationWarning: DataFrameGroupBy.apply operated on the grouping columns. This behavior is deprecated, and in a future version of pandas the grouping columns will be excluded from the operation. Either pass `include_groups=False` to exclude the groupings or explicitly select the grouping columns after groupby to silence this warning.\n",
      "  gp = matches.groupby('match_id').apply(filter_by_player_and_ball_number)\n",
      "/tmp/ipykernel_1282148/868147661.py:90: DeprecationWarning: DataFrameGroupBy.apply operated on the grouping columns. This behavior is deprecated, and in a future version of pandas the grouping columns will be excluded from the operation. Either pass `include_groups=False` to exclude the groupings or explicitly select the grouping columns after groupby to silence this warning.\n",
      "  gp = matches.groupby('match_id').apply(filter_by_player_and_ball_number)\n"
     ]
    },
    {
     "name": "stdout",
     "output_type": "stream",
     "text": [
      "Analyzing Player WTS Porterfield\n",
      "Analyzing Player K Rabada\n",
      "Analyzing Player L Ngidi\n",
      "Analyzing Player TK Musakanda\n"
     ]
    },
    {
     "name": "stderr",
     "output_type": "stream",
     "text": [
      "/tmp/ipykernel_1282148/868147661.py:90: DeprecationWarning: DataFrameGroupBy.apply operated on the grouping columns. This behavior is deprecated, and in a future version of pandas the grouping columns will be excluded from the operation. Either pass `include_groups=False` to exclude the groupings or explicitly select the grouping columns after groupby to silence this warning.\n",
      "  gp = matches.groupby('match_id').apply(filter_by_player_and_ball_number)\n",
      "/tmp/ipykernel_1282148/868147661.py:90: DeprecationWarning: DataFrameGroupBy.apply operated on the grouping columns. This behavior is deprecated, and in a future version of pandas the grouping columns will be excluded from the operation. Either pass `include_groups=False` to exclude the groupings or explicitly select the grouping columns after groupby to silence this warning.\n",
      "  gp = matches.groupby('match_id').apply(filter_by_player_and_ball_number)\n",
      "/tmp/ipykernel_1282148/868147661.py:90: DeprecationWarning: DataFrameGroupBy.apply operated on the grouping columns. This behavior is deprecated, and in a future version of pandas the grouping columns will be excluded from the operation. Either pass `include_groups=False` to exclude the groupings or explicitly select the grouping columns after groupby to silence this warning.\n",
      "  gp = matches.groupby('match_id').apply(filter_by_player_and_ball_number)\n",
      "/tmp/ipykernel_1282148/868147661.py:90: DeprecationWarning: DataFrameGroupBy.apply operated on the grouping columns. This behavior is deprecated, and in a future version of pandas the grouping columns will be excluded from the operation. Either pass `include_groups=False` to exclude the groupings or explicitly select the grouping columns after groupby to silence this warning.\n",
      "  gp = matches.groupby('match_id').apply(filter_by_player_and_ball_number)\n"
     ]
    },
    {
     "name": "stdout",
     "output_type": "stream",
     "text": [
      "Analyzing Player TS Chisoro\n",
      "Analyzing Player J Nyumbu\n",
      "Analyzing Player CB Mpofu\n",
      "Analyzing Player C Zhuwao\n",
      "Analyzing Player NJ Maddinson\n"
     ]
    },
    {
     "name": "stderr",
     "output_type": "stream",
     "text": [
      "/tmp/ipykernel_1282148/868147661.py:90: DeprecationWarning: DataFrameGroupBy.apply operated on the grouping columns. This behavior is deprecated, and in a future version of pandas the grouping columns will be excluded from the operation. Either pass `include_groups=False` to exclude the groupings or explicitly select the grouping columns after groupby to silence this warning.\n",
      "  gp = matches.groupby('match_id').apply(filter_by_player_and_ball_number)\n",
      "/tmp/ipykernel_1282148/868147661.py:90: DeprecationWarning: DataFrameGroupBy.apply operated on the grouping columns. This behavior is deprecated, and in a future version of pandas the grouping columns will be excluded from the operation. Either pass `include_groups=False` to exclude the groupings or explicitly select the grouping columns after groupby to silence this warning.\n",
      "  gp = matches.groupby('match_id').apply(filter_by_player_and_ball_number)\n",
      "/tmp/ipykernel_1282148/868147661.py:90: DeprecationWarning: DataFrameGroupBy.apply operated on the grouping columns. This behavior is deprecated, and in a future version of pandas the grouping columns will be excluded from the operation. Either pass `include_groups=False` to exclude the groupings or explicitly select the grouping columns after groupby to silence this warning.\n",
      "  gp = matches.groupby('match_id').apply(filter_by_player_and_ball_number)\n",
      "/tmp/ipykernel_1282148/868147661.py:90: DeprecationWarning: DataFrameGroupBy.apply operated on the grouping columns. This behavior is deprecated, and in a future version of pandas the grouping columns will be excluded from the operation. Either pass `include_groups=False` to exclude the groupings or explicitly select the grouping columns after groupby to silence this warning.\n",
      "  gp = matches.groupby('match_id').apply(filter_by_player_and_ball_number)\n",
      "/tmp/ipykernel_1282148/868147661.py:90: DeprecationWarning: DataFrameGroupBy.apply operated on the grouping columns. This behavior is deprecated, and in a future version of pandas the grouping columns will be excluded from the operation. Either pass `include_groups=False` to exclude the groupings or explicitly select the grouping columns after groupby to silence this warning.\n",
      "  gp = matches.groupby('match_id').apply(filter_by_player_and_ball_number)\n"
     ]
    },
    {
     "name": "stdout",
     "output_type": "stream",
     "text": [
      "Analyzing Player B Mavuta\n",
      "Analyzing Player WP Masakadza\n",
      "Analyzing Player JD Wildermuth\n",
      "Analyzing Player Sahibzada Farhan\n",
      "Analyzing Player GL Cloete\n"
     ]
    },
    {
     "name": "stderr",
     "output_type": "stream",
     "text": [
      "/tmp/ipykernel_1282148/868147661.py:90: DeprecationWarning: DataFrameGroupBy.apply operated on the grouping columns. This behavior is deprecated, and in a future version of pandas the grouping columns will be excluded from the operation. Either pass `include_groups=False` to exclude the groupings or explicitly select the grouping columns after groupby to silence this warning.\n",
      "  gp = matches.groupby('match_id').apply(filter_by_player_and_ball_number)\n",
      "/tmp/ipykernel_1282148/868147661.py:90: DeprecationWarning: DataFrameGroupBy.apply operated on the grouping columns. This behavior is deprecated, and in a future version of pandas the grouping columns will be excluded from the operation. Either pass `include_groups=False` to exclude the groupings or explicitly select the grouping columns after groupby to silence this warning.\n",
      "  gp = matches.groupby('match_id').apply(filter_by_player_and_ball_number)\n",
      "/tmp/ipykernel_1282148/868147661.py:90: DeprecationWarning: DataFrameGroupBy.apply operated on the grouping columns. This behavior is deprecated, and in a future version of pandas the grouping columns will be excluded from the operation. Either pass `include_groups=False` to exclude the groupings or explicitly select the grouping columns after groupby to silence this warning.\n",
      "  gp = matches.groupby('match_id').apply(filter_by_player_and_ball_number)\n",
      "/tmp/ipykernel_1282148/868147661.py:90: DeprecationWarning: DataFrameGroupBy.apply operated on the grouping columns. This behavior is deprecated, and in a future version of pandas the grouping columns will be excluded from the operation. Either pass `include_groups=False` to exclude the groupings or explicitly select the grouping columns after groupby to silence this warning.\n",
      "  gp = matches.groupby('match_id').apply(filter_by_player_and_ball_number)\n"
     ]
    },
    {
     "name": "stdout",
     "output_type": "stream",
     "text": [
      "Analyzing Player HE van der Dussen\n",
      "Analyzing Player SC Williams\n",
      "Analyzing Player Mohammad Rizwan\n"
     ]
    },
    {
     "name": "stderr",
     "output_type": "stream",
     "text": [
      "/tmp/ipykernel_1282148/868147661.py:90: DeprecationWarning: DataFrameGroupBy.apply operated on the grouping columns. This behavior is deprecated, and in a future version of pandas the grouping columns will be excluded from the operation. Either pass `include_groups=False` to exclude the groupings or explicitly select the grouping columns after groupby to silence this warning.\n",
      "  gp = matches.groupby('match_id').apply(filter_by_player_and_ball_number)\n",
      "/tmp/ipykernel_1282148/868147661.py:90: DeprecationWarning: DataFrameGroupBy.apply operated on the grouping columns. This behavior is deprecated, and in a future version of pandas the grouping columns will be excluded from the operation. Either pass `include_groups=False` to exclude the groupings or explicitly select the grouping columns after groupby to silence this warning.\n",
      "  gp = matches.groupby('match_id').apply(filter_by_player_and_ball_number)\n",
      "/tmp/ipykernel_1282148/868147661.py:90: DeprecationWarning: DataFrameGroupBy.apply operated on the grouping columns. This behavior is deprecated, and in a future version of pandas the grouping columns will be excluded from the operation. Either pass `include_groups=False` to exclude the groupings or explicitly select the grouping columns after groupby to silence this warning.\n",
      "  gp = matches.groupby('match_id').apply(filter_by_player_and_ball_number)\n",
      "/tmp/ipykernel_1282148/868147661.py:90: DeprecationWarning: DataFrameGroupBy.apply operated on the grouping columns. This behavior is deprecated, and in a future version of pandas the grouping columns will be excluded from the operation. Either pass `include_groups=False` to exclude the groupings or explicitly select the grouping columns after groupby to silence this warning.\n",
      "  gp = matches.groupby('match_id').apply(filter_by_player_and_ball_number)\n",
      "/tmp/ipykernel_1282148/868147661.py:90: DeprecationWarning: DataFrameGroupBy.apply operated on the grouping columns. This behavior is deprecated, and in a future version of pandas the grouping columns will be excluded from the operation. Either pass `include_groups=False` to exclude the groupings or explicitly select the grouping columns after groupby to silence this warning.\n",
      "  gp = matches.groupby('match_id').apply(filter_by_player_and_ball_number)\n",
      "/tmp/ipykernel_1282148/868147661.py:90: DeprecationWarning: DataFrameGroupBy.apply operated on the grouping columns. This behavior is deprecated, and in a future version of pandas the grouping columns will be excluded from the operation. Either pass `include_groups=False` to exclude the groupings or explicitly select the grouping columns after groupby to silence this warning.\n",
      "  gp = matches.groupby('match_id').apply(filter_by_player_and_ball_number)\n"
     ]
    },
    {
     "name": "stdout",
     "output_type": "stream",
     "text": [
      "Analyzing Player JN Malan\n",
      "Analyzing Player Shaheen Shah Afridi\n",
      "Analyzing Player BE Hendricks\n",
      "Analyzing Player L Sipamla\n",
      "Analyzing Player DW Steyn\n"
     ]
    },
    {
     "name": "stderr",
     "output_type": "stream",
     "text": [
      "/tmp/ipykernel_1282148/868147661.py:90: DeprecationWarning: DataFrameGroupBy.apply operated on the grouping columns. This behavior is deprecated, and in a future version of pandas the grouping columns will be excluded from the operation. Either pass `include_groups=False` to exclude the groupings or explicitly select the grouping columns after groupby to silence this warning.\n",
      "  gp = matches.groupby('match_id').apply(filter_by_player_and_ball_number)\n",
      "/tmp/ipykernel_1282148/868147661.py:90: DeprecationWarning: DataFrameGroupBy.apply operated on the grouping columns. This behavior is deprecated, and in a future version of pandas the grouping columns will be excluded from the operation. Either pass `include_groups=False` to exclude the groupings or explicitly select the grouping columns after groupby to silence this warning.\n",
      "  gp = matches.groupby('match_id').apply(filter_by_player_and_ball_number)\n",
      "/tmp/ipykernel_1282148/868147661.py:90: DeprecationWarning: DataFrameGroupBy.apply operated on the grouping columns. This behavior is deprecated, and in a future version of pandas the grouping columns will be excluded from the operation. Either pass `include_groups=False` to exclude the groupings or explicitly select the grouping columns after groupby to silence this warning.\n",
      "  gp = matches.groupby('match_id').apply(filter_by_player_and_ball_number)\n",
      "/tmp/ipykernel_1282148/868147661.py:90: DeprecationWarning: DataFrameGroupBy.apply operated on the grouping columns. This behavior is deprecated, and in a future version of pandas the grouping columns will be excluded from the operation. Either pass `include_groups=False` to exclude the groupings or explicitly select the grouping columns after groupby to silence this warning.\n",
      "  gp = matches.groupby('match_id').apply(filter_by_player_and_ball_number)\n"
     ]
    },
    {
     "name": "stdout",
     "output_type": "stream",
     "text": [
      "Analyzing Player Imran Tahir\n",
      "Analyzing Player WIA Fernando\n",
      "Analyzing Player AK Perera\n",
      "Analyzing Player AK Markram\n"
     ]
    },
    {
     "name": "stderr",
     "output_type": "stream",
     "text": [
      "/tmp/ipykernel_1282148/868147661.py:90: DeprecationWarning: DataFrameGroupBy.apply operated on the grouping columns. This behavior is deprecated, and in a future version of pandas the grouping columns will be excluded from the operation. Either pass `include_groups=False` to exclude the groupings or explicitly select the grouping columns after groupby to silence this warning.\n",
      "  gp = matches.groupby('match_id').apply(filter_by_player_and_ball_number)\n",
      "/tmp/ipykernel_1282148/868147661.py:90: DeprecationWarning: DataFrameGroupBy.apply operated on the grouping columns. This behavior is deprecated, and in a future version of pandas the grouping columns will be excluded from the operation. Either pass `include_groups=False` to exclude the groupings or explicitly select the grouping columns after groupby to silence this warning.\n",
      "  gp = matches.groupby('match_id').apply(filter_by_player_and_ball_number)\n",
      "/tmp/ipykernel_1282148/868147661.py:90: DeprecationWarning: DataFrameGroupBy.apply operated on the grouping columns. This behavior is deprecated, and in a future version of pandas the grouping columns will be excluded from the operation. Either pass `include_groups=False` to exclude the groupings or explicitly select the grouping columns after groupby to silence this warning.\n",
      "  gp = matches.groupby('match_id').apply(filter_by_player_and_ball_number)\n"
     ]
    },
    {
     "name": "stdout",
     "output_type": "stream",
     "text": [
      "Analyzing Player D Pretorius\n",
      "Analyzing Player BR McDermott\n",
      "Analyzing Player KH Pandya\n",
      "Analyzing Player Usman Ghani\n"
     ]
    },
    {
     "name": "stderr",
     "output_type": "stream",
     "text": [
      "/tmp/ipykernel_1282148/868147661.py:90: DeprecationWarning: DataFrameGroupBy.apply operated on the grouping columns. This behavior is deprecated, and in a future version of pandas the grouping columns will be excluded from the operation. Either pass `include_groups=False` to exclude the groupings or explicitly select the grouping columns after groupby to silence this warning.\n",
      "  gp = matches.groupby('match_id').apply(filter_by_player_and_ball_number)\n",
      "/tmp/ipykernel_1282148/868147661.py:90: DeprecationWarning: DataFrameGroupBy.apply operated on the grouping columns. This behavior is deprecated, and in a future version of pandas the grouping columns will be excluded from the operation. Either pass `include_groups=False` to exclude the groupings or explicitly select the grouping columns after groupby to silence this warning.\n",
      "  gp = matches.groupby('match_id').apply(filter_by_player_and_ball_number)\n",
      "/tmp/ipykernel_1282148/868147661.py:90: DeprecationWarning: DataFrameGroupBy.apply operated on the grouping columns. This behavior is deprecated, and in a future version of pandas the grouping columns will be excluded from the operation. Either pass `include_groups=False` to exclude the groupings or explicitly select the grouping columns after groupby to silence this warning.\n",
      "  gp = matches.groupby('match_id').apply(filter_by_player_and_ball_number)\n",
      "/tmp/ipykernel_1282148/868147661.py:90: DeprecationWarning: DataFrameGroupBy.apply operated on the grouping columns. This behavior is deprecated, and in a future version of pandas the grouping columns will be excluded from the operation. Either pass `include_groups=False` to exclude the groupings or explicitly select the grouping columns after groupby to silence this warning.\n",
      "  gp = matches.groupby('match_id').apply(filter_by_player_and_ball_number)\n"
     ]
    },
    {
     "name": "stdout",
     "output_type": "stream",
     "text": [
      "Analyzing Player Samiullah Shenwari\n",
      "Analyzing Player Karim Janat\n",
      "Analyzing Player Abul Hasan\n",
      "Analyzing Player Abu Hider\n",
      "Analyzing Player Hazratullah\n"
     ]
    },
    {
     "name": "stderr",
     "output_type": "stream",
     "text": [
      "/tmp/ipykernel_1282148/868147661.py:90: DeprecationWarning: DataFrameGroupBy.apply operated on the grouping columns. This behavior is deprecated, and in a future version of pandas the grouping columns will be excluded from the operation. Either pass `include_groups=False` to exclude the groupings or explicitly select the grouping columns after groupby to silence this warning.\n",
      "  gp = matches.groupby('match_id').apply(filter_by_player_and_ball_number)\n",
      "/tmp/ipykernel_1282148/868147661.py:90: DeprecationWarning: DataFrameGroupBy.apply operated on the grouping columns. This behavior is deprecated, and in a future version of pandas the grouping columns will be excluded from the operation. Either pass `include_groups=False` to exclude the groupings or explicitly select the grouping columns after groupby to silence this warning.\n",
      "  gp = matches.groupby('match_id').apply(filter_by_player_and_ball_number)\n",
      "/tmp/ipykernel_1282148/868147661.py:90: DeprecationWarning: DataFrameGroupBy.apply operated on the grouping columns. This behavior is deprecated, and in a future version of pandas the grouping columns will be excluded from the operation. Either pass `include_groups=False` to exclude the groupings or explicitly select the grouping columns after groupby to silence this warning.\n",
      "  gp = matches.groupby('match_id').apply(filter_by_player_and_ball_number)\n",
      "/tmp/ipykernel_1282148/868147661.py:90: DeprecationWarning: DataFrameGroupBy.apply operated on the grouping columns. This behavior is deprecated, and in a future version of pandas the grouping columns will be excluded from the operation. Either pass `include_groups=False` to exclude the groupings or explicitly select the grouping columns after groupby to silence this warning.\n",
      "  gp = matches.groupby('match_id').apply(filter_by_player_and_ball_number)\n"
     ]
    },
    {
     "name": "stdout",
     "output_type": "stream",
     "text": [
      "Analyzing Player J Little\n",
      "Analyzing Player TE Kane\n",
      "Analyzing Player BM Duckett\n",
      "Analyzing Player Imam-ul-Haq\n",
      "Analyzing Player DM Bravo\n"
     ]
    },
    {
     "name": "stderr",
     "output_type": "stream",
     "text": [
      "/tmp/ipykernel_1282148/868147661.py:90: DeprecationWarning: DataFrameGroupBy.apply operated on the grouping columns. This behavior is deprecated, and in a future version of pandas the grouping columns will be excluded from the operation. Either pass `include_groups=False` to exclude the groupings or explicitly select the grouping columns after groupby to silence this warning.\n",
      "  gp = matches.groupby('match_id').apply(filter_by_player_and_ball_number)\n",
      "/tmp/ipykernel_1282148/868147661.py:90: DeprecationWarning: DataFrameGroupBy.apply operated on the grouping columns. This behavior is deprecated, and in a future version of pandas the grouping columns will be excluded from the operation. Either pass `include_groups=False` to exclude the groupings or explicitly select the grouping columns after groupby to silence this warning.\n",
      "  gp = matches.groupby('match_id').apply(filter_by_player_and_ball_number)\n",
      "/tmp/ipykernel_1282148/868147661.py:90: DeprecationWarning: DataFrameGroupBy.apply operated on the grouping columns. This behavior is deprecated, and in a future version of pandas the grouping columns will be excluded from the operation. Either pass `include_groups=False` to exclude the groupings or explicitly select the grouping columns after groupby to silence this warning.\n",
      "  gp = matches.groupby('match_id').apply(filter_by_player_and_ball_number)\n",
      "/tmp/ipykernel_1282148/868147661.py:90: DeprecationWarning: DataFrameGroupBy.apply operated on the grouping columns. This behavior is deprecated, and in a future version of pandas the grouping columns will be excluded from the operation. Either pass `include_groups=False` to exclude the groupings or explicitly select the grouping columns after groupby to silence this warning.\n",
      "  gp = matches.groupby('match_id').apply(filter_by_player_and_ball_number)\n",
      "/tmp/ipykernel_1282148/868147661.py:90: DeprecationWarning: DataFrameGroupBy.apply operated on the grouping columns. This behavior is deprecated, and in a future version of pandas the grouping columns will be excluded from the operation. Either pass `include_groups=False` to exclude the groupings or explicitly select the grouping columns after groupby to silence this warning.\n",
      "  gp = matches.groupby('match_id').apply(filter_by_player_and_ball_number)\n",
      "/tmp/ipykernel_1282148/868147661.py:90: DeprecationWarning: DataFrameGroupBy.apply operated on the grouping columns. This behavior is deprecated, and in a future version of pandas the grouping columns will be excluded from the operation. Either pass `include_groups=False` to exclude the groupings or explicitly select the grouping columns after groupby to silence this warning.\n",
      "  gp = matches.groupby('match_id').apply(filter_by_player_and_ball_number)\n",
      "/tmp/ipykernel_1282148/868147661.py:90: DeprecationWarning: DataFrameGroupBy.apply operated on the grouping columns. This behavior is deprecated, and in a future version of pandas the grouping columns will be excluded from the operation. Either pass `include_groups=False` to exclude the groupings or explicitly select the grouping columns after groupby to silence this warning.\n",
      "  gp = matches.groupby('match_id').apply(filter_by_player_and_ball_number)\n",
      "/tmp/ipykernel_1282148/868147661.py:90: DeprecationWarning: DataFrameGroupBy.apply operated on the grouping columns. This behavior is deprecated, and in a future version of pandas the grouping columns will be excluded from the operation. Either pass `include_groups=False` to exclude the groupings or explicitly select the grouping columns after groupby to silence this warning.\n",
      "  gp = matches.groupby('match_id').apply(filter_by_player_and_ball_number)\n"
     ]
    },
    {
     "name": "stdout",
     "output_type": "stream",
     "text": [
      "Analyzing Player FA Allen\n",
      "Analyzing Player SS Cottrell\n",
      "Analyzing Player O Thomas\n",
      "Analyzing Player SE Rutherford\n"
     ]
    },
    {
     "name": "stderr",
     "output_type": "stream",
     "text": [
      "/tmp/ipykernel_1282148/868147661.py:90: DeprecationWarning: DataFrameGroupBy.apply operated on the grouping columns. This behavior is deprecated, and in a future version of pandas the grouping columns will be excluded from the operation. Either pass `include_groups=False` to exclude the groupings or explicitly select the grouping columns after groupby to silence this warning.\n",
      "  gp = matches.groupby('match_id').apply(filter_by_player_and_ball_number)\n",
      "/tmp/ipykernel_1282148/868147661.py:90: DeprecationWarning: DataFrameGroupBy.apply operated on the grouping columns. This behavior is deprecated, and in a future version of pandas the grouping columns will be excluded from the operation. Either pass `include_groups=False` to exclude the groupings or explicitly select the grouping columns after groupby to silence this warning.\n",
      "  gp = matches.groupby('match_id').apply(filter_by_player_and_ball_number)\n",
      "/tmp/ipykernel_1282148/868147661.py:90: DeprecationWarning: DataFrameGroupBy.apply operated on the grouping columns. This behavior is deprecated, and in a future version of pandas the grouping columns will be excluded from the operation. Either pass `include_groups=False` to exclude the groupings or explicitly select the grouping columns after groupby to silence this warning.\n",
      "  gp = matches.groupby('match_id').apply(filter_by_player_and_ball_number)\n",
      "/tmp/ipykernel_1282148/868147661.py:90: DeprecationWarning: DataFrameGroupBy.apply operated on the grouping columns. This behavior is deprecated, and in a future version of pandas the grouping columns will be excluded from the operation. Either pass `include_groups=False` to exclude the groupings or explicitly select the grouping columns after groupby to silence this warning.\n",
      "  gp = matches.groupby('match_id').apply(filter_by_player_and_ball_number)\n"
     ]
    },
    {
     "name": "stdout",
     "output_type": "stream",
     "text": [
      "Analyzing Player KK Ahmed\n",
      "Analyzing Player DJ Mitchell\n",
      "Analyzing Player SC Kuggeleijn\n",
      "Analyzing Player CAK Rajitha\n"
     ]
    },
    {
     "name": "stderr",
     "output_type": "stream",
     "text": [
      "/tmp/ipykernel_1282148/868147661.py:90: DeprecationWarning: DataFrameGroupBy.apply operated on the grouping columns. This behavior is deprecated, and in a future version of pandas the grouping columns will be excluded from the operation. Either pass `include_groups=False` to exclude the groupings or explicitly select the grouping columns after groupby to silence this warning.\n",
      "  gp = matches.groupby('match_id').apply(filter_by_player_and_ball_number)\n",
      "/tmp/ipykernel_1282148/868147661.py:90: DeprecationWarning: DataFrameGroupBy.apply operated on the grouping columns. This behavior is deprecated, and in a future version of pandas the grouping columns will be excluded from the operation. Either pass `include_groups=False` to exclude the groupings or explicitly select the grouping columns after groupby to silence this warning.\n",
      "  gp = matches.groupby('match_id').apply(filter_by_player_and_ball_number)\n",
      "/tmp/ipykernel_1282148/868147661.py:90: DeprecationWarning: DataFrameGroupBy.apply operated on the grouping columns. This behavior is deprecated, and in a future version of pandas the grouping columns will be excluded from the operation. Either pass `include_groups=False` to exclude the groupings or explicitly select the grouping columns after groupby to silence this warning.\n",
      "  gp = matches.groupby('match_id').apply(filter_by_player_and_ball_number)\n",
      "/tmp/ipykernel_1282148/868147661.py:90: DeprecationWarning: DataFrameGroupBy.apply operated on the grouping columns. This behavior is deprecated, and in a future version of pandas the grouping columns will be excluded from the operation. Either pass `include_groups=False` to exclude the groupings or explicitly select the grouping columns after groupby to silence this warning.\n",
      "  gp = matches.groupby('match_id').apply(filter_by_player_and_ball_number)\n"
     ]
    },
    {
     "name": "stdout",
     "output_type": "stream",
     "text": [
      "Analyzing Player CBRLS Kumara\n",
      "Analyzing Player MR Marsh\n",
      "Analyzing Player NM Lyon\n",
      "Analyzing Player LH Ferguson\n"
     ]
    },
    {
     "name": "stderr",
     "output_type": "stream",
     "text": [
      "/tmp/ipykernel_1282148/868147661.py:90: DeprecationWarning: DataFrameGroupBy.apply operated on the grouping columns. This behavior is deprecated, and in a future version of pandas the grouping columns will be excluded from the operation. Either pass `include_groups=False` to exclude the groupings or explicitly select the grouping columns after groupby to silence this warning.\n",
      "  gp = matches.groupby('match_id').apply(filter_by_player_and_ball_number)\n",
      "/tmp/ipykernel_1282148/868147661.py:90: DeprecationWarning: DataFrameGroupBy.apply operated on the grouping columns. This behavior is deprecated, and in a future version of pandas the grouping columns will be excluded from the operation. Either pass `include_groups=False` to exclude the groupings or explicitly select the grouping columns after groupby to silence this warning.\n",
      "  gp = matches.groupby('match_id').apply(filter_by_player_and_ball_number)\n",
      "/tmp/ipykernel_1282148/868147661.py:90: DeprecationWarning: DataFrameGroupBy.apply operated on the grouping columns. This behavior is deprecated, and in a future version of pandas the grouping columns will be excluded from the operation. Either pass `include_groups=False` to exclude the groupings or explicitly select the grouping columns after groupby to silence this warning.\n",
      "  gp = matches.groupby('match_id').apply(filter_by_player_and_ball_number)\n",
      "/tmp/ipykernel_1282148/868147661.py:90: DeprecationWarning: DataFrameGroupBy.apply operated on the grouping columns. This behavior is deprecated, and in a future version of pandas the grouping columns will be excluded from the operation. Either pass `include_groups=False` to exclude the groupings or explicitly select the grouping columns after groupby to silence this warning.\n",
      "  gp = matches.groupby('match_id').apply(filter_by_player_and_ball_number)\n",
      "/tmp/ipykernel_1282148/868147661.py:90: DeprecationWarning: DataFrameGroupBy.apply operated on the grouping columns. This behavior is deprecated, and in a future version of pandas the grouping columns will be excluded from the operation. Either pass `include_groups=False` to exclude the groupings or explicitly select the grouping columns after groupby to silence this warning.\n",
      "  gp = matches.groupby('match_id').apply(filter_by_player_and_ball_number)\n"
     ]
    },
    {
     "name": "stdout",
     "output_type": "stream",
     "text": [
      "Analyzing Player K Pierre\n",
      "Analyzing Player D Bishoo\n",
      "Analyzing Player OC McCoy\n",
      "Analyzing Player JD Campbell\n",
      "Analyzing Player SC Getkate\n"
     ]
    },
    {
     "name": "stderr",
     "output_type": "stream",
     "text": [
      "/tmp/ipykernel_1282148/868147661.py:90: DeprecationWarning: DataFrameGroupBy.apply operated on the grouping columns. This behavior is deprecated, and in a future version of pandas the grouping columns will be excluded from the operation. Either pass `include_groups=False` to exclude the groupings or explicitly select the grouping columns after groupby to silence this warning.\n",
      "  gp = matches.groupby('match_id').apply(filter_by_player_and_ball_number)\n",
      "/tmp/ipykernel_1282148/868147661.py:90: DeprecationWarning: DataFrameGroupBy.apply operated on the grouping columns. This behavior is deprecated, and in a future version of pandas the grouping columns will be excluded from the operation. Either pass `include_groups=False` to exclude the groupings or explicitly select the grouping columns after groupby to silence this warning.\n",
      "  gp = matches.groupby('match_id').apply(filter_by_player_and_ball_number)\n",
      "/tmp/ipykernel_1282148/868147661.py:90: DeprecationWarning: DataFrameGroupBy.apply operated on the grouping columns. This behavior is deprecated, and in a future version of pandas the grouping columns will be excluded from the operation. Either pass `include_groups=False` to exclude the groupings or explicitly select the grouping columns after groupby to silence this warning.\n",
      "  gp = matches.groupby('match_id').apply(filter_by_player_and_ball_number)\n",
      "/tmp/ipykernel_1282148/868147661.py:90: DeprecationWarning: DataFrameGroupBy.apply operated on the grouping columns. This behavior is deprecated, and in a future version of pandas the grouping columns will be excluded from the operation. Either pass `include_groups=False` to exclude the groupings or explicitly select the grouping columns after groupby to silence this warning.\n",
      "  gp = matches.groupby('match_id').apply(filter_by_player_and_ball_number)\n"
     ]
    },
    {
     "name": "stdout",
     "output_type": "stream",
     "text": [
      "Analyzing Player L Tucker\n",
      "Analyzing Player Najeeb Tarakai\n",
      "Analyzing Player PSP Handscomb\n",
      "Analyzing Player UT Yadav\n"
     ]
    },
    {
     "name": "stderr",
     "output_type": "stream",
     "text": [
      "/tmp/ipykernel_1282148/868147661.py:90: DeprecationWarning: DataFrameGroupBy.apply operated on the grouping columns. This behavior is deprecated, and in a future version of pandas the grouping columns will be excluded from the operation. Either pass `include_groups=False` to exclude the groupings or explicitly select the grouping columns after groupby to silence this warning.\n",
      "  gp = matches.groupby('match_id').apply(filter_by_player_and_ball_number)\n",
      "/tmp/ipykernel_1282148/868147661.py:90: DeprecationWarning: DataFrameGroupBy.apply operated on the grouping columns. This behavior is deprecated, and in a future version of pandas the grouping columns will be excluded from the operation. Either pass `include_groups=False` to exclude the groupings or explicitly select the grouping columns after groupby to silence this warning.\n",
      "  gp = matches.groupby('match_id').apply(filter_by_player_and_ball_number)\n",
      "/tmp/ipykernel_1282148/868147661.py:90: DeprecationWarning: DataFrameGroupBy.apply operated on the grouping columns. This behavior is deprecated, and in a future version of pandas the grouping columns will be excluded from the operation. Either pass `include_groups=False` to exclude the groupings or explicitly select the grouping columns after groupby to silence this warning.\n",
      "  gp = matches.groupby('match_id').apply(filter_by_player_and_ball_number)\n"
     ]
    },
    {
     "name": "stdout",
     "output_type": "stream",
     "text": [
      "Analyzing Player CR Ervine\n",
      "Analyzing Player GJ Thompson\n",
      "Analyzing Player MR Adair\n",
      "Analyzing Player GJ Delany\n"
     ]
    },
    {
     "name": "stderr",
     "output_type": "stream",
     "text": [
      "/tmp/ipykernel_1282148/868147661.py:90: DeprecationWarning: DataFrameGroupBy.apply operated on the grouping columns. This behavior is deprecated, and in a future version of pandas the grouping columns will be excluded from the operation. Either pass `include_groups=False` to exclude the groupings or explicitly select the grouping columns after groupby to silence this warning.\n",
      "  gp = matches.groupby('match_id').apply(filter_by_player_and_ball_number)\n",
      "/tmp/ipykernel_1282148/868147661.py:90: DeprecationWarning: DataFrameGroupBy.apply operated on the grouping columns. This behavior is deprecated, and in a future version of pandas the grouping columns will be excluded from the operation. Either pass `include_groups=False` to exclude the groupings or explicitly select the grouping columns after groupby to silence this warning.\n",
      "  gp = matches.groupby('match_id').apply(filter_by_player_and_ball_number)\n",
      "/tmp/ipykernel_1282148/868147661.py:90: DeprecationWarning: DataFrameGroupBy.apply operated on the grouping columns. This behavior is deprecated, and in a future version of pandas the grouping columns will be excluded from the operation. Either pass `include_groups=False` to exclude the groupings or explicitly select the grouping columns after groupby to silence this warning.\n",
      "  gp = matches.groupby('match_id').apply(filter_by_player_and_ball_number)\n"
     ]
    },
    {
     "name": "stdout",
     "output_type": "stream",
     "text": [
      "Analyzing Player PBB Rajapaksa\n",
      "Analyzing Player BOP Fernando\n",
      "Analyzing Player PWH de Silva\n"
     ]
    },
    {
     "name": "stderr",
     "output_type": "stream",
     "text": [
      "/tmp/ipykernel_1282148/868147661.py:90: DeprecationWarning: DataFrameGroupBy.apply operated on the grouping columns. This behavior is deprecated, and in a future version of pandas the grouping columns will be excluded from the operation. Either pass `include_groups=False` to exclude the groupings or explicitly select the grouping columns after groupby to silence this warning.\n",
      "  gp = matches.groupby('match_id').apply(filter_by_player_and_ball_number)\n",
      "/tmp/ipykernel_1282148/868147661.py:90: DeprecationWarning: DataFrameGroupBy.apply operated on the grouping columns. This behavior is deprecated, and in a future version of pandas the grouping columns will be excluded from the operation. Either pass `include_groups=False` to exclude the groupings or explicitly select the grouping columns after groupby to silence this warning.\n",
      "  gp = matches.groupby('match_id').apply(filter_by_player_and_ball_number)\n",
      "/tmp/ipykernel_1282148/868147661.py:90: DeprecationWarning: DataFrameGroupBy.apply operated on the grouping columns. This behavior is deprecated, and in a future version of pandas the grouping columns will be excluded from the operation. Either pass `include_groups=False` to exclude the groupings or explicitly select the grouping columns after groupby to silence this warning.\n",
      "  gp = matches.groupby('match_id').apply(filter_by_player_and_ball_number)\n"
     ]
    },
    {
     "name": "stdout",
     "output_type": "stream",
     "text": [
      "Analyzing Player SPD Smith\n",
      "Analyzing Player GSNFG Jayasuriya\n",
      "Analyzing Player Iftikhar Ahmed\n"
     ]
    },
    {
     "name": "stderr",
     "output_type": "stream",
     "text": [
      "/tmp/ipykernel_1282148/868147661.py:90: DeprecationWarning: DataFrameGroupBy.apply operated on the grouping columns. This behavior is deprecated, and in a future version of pandas the grouping columns will be excluded from the operation. Either pass `include_groups=False` to exclude the groupings or explicitly select the grouping columns after groupby to silence this warning.\n",
      "  gp = matches.groupby('match_id').apply(filter_by_player_and_ball_number)\n",
      "/tmp/ipykernel_1282148/868147661.py:90: DeprecationWarning: DataFrameGroupBy.apply operated on the grouping columns. This behavior is deprecated, and in a future version of pandas the grouping columns will be excluded from the operation. Either pass `include_groups=False` to exclude the groupings or explicitly select the grouping columns after groupby to silence this warning.\n",
      "  gp = matches.groupby('match_id').apply(filter_by_player_and_ball_number)\n",
      "/tmp/ipykernel_1282148/868147661.py:90: DeprecationWarning: DataFrameGroupBy.apply operated on the grouping columns. This behavior is deprecated, and in a future version of pandas the grouping columns will be excluded from the operation. Either pass `include_groups=False` to exclude the groupings or explicitly select the grouping columns after groupby to silence this warning.\n",
      "  gp = matches.groupby('match_id').apply(filter_by_player_and_ball_number)\n"
     ]
    },
    {
     "name": "stdout",
     "output_type": "stream",
     "text": [
      "Analyzing Player Khushdil Shah\n",
      "Analyzing Player Mohammad Hasnain\n",
      "Analyzing Player T Bavuma\n",
      "Analyzing Player BC Fortuin\n"
     ]
    },
    {
     "name": "stderr",
     "output_type": "stream",
     "text": [
      "/tmp/ipykernel_1282148/868147661.py:90: DeprecationWarning: DataFrameGroupBy.apply operated on the grouping columns. This behavior is deprecated, and in a future version of pandas the grouping columns will be excluded from the operation. Either pass `include_groups=False` to exclude the groupings or explicitly select the grouping columns after groupby to silence this warning.\n",
      "  gp = matches.groupby('match_id').apply(filter_by_player_and_ball_number)\n",
      "/tmp/ipykernel_1282148/868147661.py:90: DeprecationWarning: DataFrameGroupBy.apply operated on the grouping columns. This behavior is deprecated, and in a future version of pandas the grouping columns will be excluded from the operation. Either pass `include_groups=False` to exclude the groupings or explicitly select the grouping columns after groupby to silence this warning.\n",
      "  gp = matches.groupby('match_id').apply(filter_by_player_and_ball_number)\n",
      "/tmp/ipykernel_1282148/868147661.py:90: DeprecationWarning: DataFrameGroupBy.apply operated on the grouping columns. This behavior is deprecated, and in a future version of pandas the grouping columns will be excluded from the operation. Either pass `include_groups=False` to exclude the groupings or explicitly select the grouping columns after groupby to silence this warning.\n",
      "  gp = matches.groupby('match_id').apply(filter_by_player_and_ball_number)\n"
     ]
    },
    {
     "name": "stdout",
     "output_type": "stream",
     "text": [
      "Analyzing Player MS Wade\n",
      "Analyzing Player MA Starc\n",
      "Analyzing Player PJ van Biljon\n"
     ]
    },
    {
     "name": "stderr",
     "output_type": "stream",
     "text": [
      "/tmp/ipykernel_1282148/868147661.py:90: DeprecationWarning: DataFrameGroupBy.apply operated on the grouping columns. This behavior is deprecated, and in a future version of pandas the grouping columns will be excluded from the operation. Either pass `include_groups=False` to exclude the groupings or explicitly select the grouping columns after groupby to silence this warning.\n",
      "  gp = matches.groupby('match_id').apply(filter_by_player_and_ball_number)\n",
      "/tmp/ipykernel_1282148/868147661.py:90: DeprecationWarning: DataFrameGroupBy.apply operated on the grouping columns. This behavior is deprecated, and in a future version of pandas the grouping columns will be excluded from the operation. Either pass `include_groups=False` to exclude the groupings or explicitly select the grouping columns after groupby to silence this warning.\n",
      "  gp = matches.groupby('match_id').apply(filter_by_player_and_ball_number)\n",
      "/tmp/ipykernel_1282148/868147661.py:90: DeprecationWarning: DataFrameGroupBy.apply operated on the grouping columns. This behavior is deprecated, and in a future version of pandas the grouping columns will be excluded from the operation. Either pass `include_groups=False` to exclude the groupings or explicitly select the grouping columns after groupby to silence this warning.\n",
      "  gp = matches.groupby('match_id').apply(filter_by_player_and_ball_number)\n",
      "/tmp/ipykernel_1282148/868147661.py:90: DeprecationWarning: DataFrameGroupBy.apply operated on the grouping columns. This behavior is deprecated, and in a future version of pandas the grouping columns will be excluded from the operation. Either pass `include_groups=False` to exclude the groupings or explicitly select the grouping columns after groupby to silence this warning.\n",
      "  gp = matches.groupby('match_id').apply(filter_by_player_and_ball_number)\n"
     ]
    },
    {
     "name": "stdout",
     "output_type": "stream",
     "text": [
      "Analyzing Player A Nortje\n",
      "Analyzing Player Washington Sundar\n",
      "Analyzing Player Navdeep Saini\n",
      "Analyzing Player Mohammad Naim\n"
     ]
    },
    {
     "name": "stderr",
     "output_type": "stream",
     "text": [
      "/tmp/ipykernel_1282148/868147661.py:90: DeprecationWarning: DataFrameGroupBy.apply operated on the grouping columns. This behavior is deprecated, and in a future version of pandas the grouping columns will be excluded from the operation. Either pass `include_groups=False` to exclude the groupings or explicitly select the grouping columns after groupby to silence this warning.\n",
      "  gp = matches.groupby('match_id').apply(filter_by_player_and_ball_number)\n",
      "/tmp/ipykernel_1282148/868147661.py:90: DeprecationWarning: DataFrameGroupBy.apply operated on the grouping columns. This behavior is deprecated, and in a future version of pandas the grouping columns will be excluded from the operation. Either pass `include_groups=False` to exclude the groupings or explicitly select the grouping columns after groupby to silence this warning.\n",
      "  gp = matches.groupby('match_id').apply(filter_by_player_and_ball_number)\n",
      "/tmp/ipykernel_1282148/868147661.py:90: DeprecationWarning: DataFrameGroupBy.apply operated on the grouping columns. This behavior is deprecated, and in a future version of pandas the grouping columns will be excluded from the operation. Either pass `include_groups=False` to exclude the groupings or explicitly select the grouping columns after groupby to silence this warning.\n",
      "  gp = matches.groupby('match_id').apply(filter_by_player_and_ball_number)\n",
      "/tmp/ipykernel_1282148/868147661.py:90: DeprecationWarning: DataFrameGroupBy.apply operated on the grouping columns. This behavior is deprecated, and in a future version of pandas the grouping columns will be excluded from the operation. Either pass `include_groups=False` to exclude the groupings or explicitly select the grouping columns after groupby to silence this warning.\n",
      "  gp = matches.groupby('match_id').apply(filter_by_player_and_ball_number)\n"
     ]
    },
    {
     "name": "stdout",
     "output_type": "stream",
     "text": [
      "Analyzing Player S Dube\n",
      "Analyzing Player Aminul Islam\n",
      "Analyzing Player BA King\n",
      "Analyzing Player DL Chahar\n"
     ]
    },
    {
     "name": "stderr",
     "output_type": "stream",
     "text": [
      "/tmp/ipykernel_1282148/868147661.py:90: DeprecationWarning: DataFrameGroupBy.apply operated on the grouping columns. This behavior is deprecated, and in a future version of pandas the grouping columns will be excluded from the operation. Either pass `include_groups=False` to exclude the groupings or explicitly select the grouping columns after groupby to silence this warning.\n",
      "  gp = matches.groupby('match_id').apply(filter_by_player_and_ball_number)\n",
      "/tmp/ipykernel_1282148/868147661.py:90: DeprecationWarning: DataFrameGroupBy.apply operated on the grouping columns. This behavior is deprecated, and in a future version of pandas the grouping columns will be excluded from the operation. Either pass `include_groups=False` to exclude the groupings or explicitly select the grouping columns after groupby to silence this warning.\n",
      "  gp = matches.groupby('match_id').apply(filter_by_player_and_ball_number)\n",
      "/tmp/ipykernel_1282148/868147661.py:90: DeprecationWarning: DataFrameGroupBy.apply operated on the grouping columns. This behavior is deprecated, and in a future version of pandas the grouping columns will be excluded from the operation. Either pass `include_groups=False` to exclude the groupings or explicitly select the grouping columns after groupby to silence this warning.\n",
      "  gp = matches.groupby('match_id').apply(filter_by_player_and_ball_number)\n",
      "/tmp/ipykernel_1282148/868147661.py:90: DeprecationWarning: DataFrameGroupBy.apply operated on the grouping columns. This behavior is deprecated, and in a future version of pandas the grouping columns will be excluded from the operation. Either pass `include_groups=False` to exclude the groupings or explicitly select the grouping columns after groupby to silence this warning.\n",
      "  gp = matches.groupby('match_id').apply(filter_by_player_and_ball_number)\n"
     ]
    },
    {
     "name": "stdout",
     "output_type": "stream",
     "text": [
      "Analyzing Player HR Walsh\n",
      "Analyzing Player SM Curran\n",
      "Analyzing Player L Gregory\n",
      "Analyzing Player S Mahmood\n"
     ]
    },
    {
     "name": "stderr",
     "output_type": "stream",
     "text": [
      "/tmp/ipykernel_1282148/868147661.py:90: DeprecationWarning: DataFrameGroupBy.apply operated on the grouping columns. This behavior is deprecated, and in a future version of pandas the grouping columns will be excluded from the operation. Either pass `include_groups=False` to exclude the groupings or explicitly select the grouping columns after groupby to silence this warning.\n",
      "  gp = matches.groupby('match_id').apply(filter_by_player_and_ball_number)\n",
      "/tmp/ipykernel_1282148/868147661.py:90: DeprecationWarning: DataFrameGroupBy.apply operated on the grouping columns. This behavior is deprecated, and in a future version of pandas the grouping columns will be excluded from the operation. Either pass `include_groups=False` to exclude the groupings or explicitly select the grouping columns after groupby to silence this warning.\n",
      "  gp = matches.groupby('match_id').apply(filter_by_player_and_ball_number)\n",
      "/tmp/ipykernel_1282148/868147661.py:90: DeprecationWarning: DataFrameGroupBy.apply operated on the grouping columns. This behavior is deprecated, and in a future version of pandas the grouping columns will be excluded from the operation. Either pass `include_groups=False` to exclude the groupings or explicitly select the grouping columns after groupby to silence this warning.\n",
      "  gp = matches.groupby('match_id').apply(filter_by_player_and_ball_number)\n",
      "/tmp/ipykernel_1282148/868147661.py:90: DeprecationWarning: DataFrameGroupBy.apply operated on the grouping columns. This behavior is deprecated, and in a future version of pandas the grouping columns will be excluded from the operation. Either pass `include_groups=False` to exclude the groupings or explicitly select the grouping columns after groupby to silence this warning.\n",
      "  gp = matches.groupby('match_id').apply(filter_by_player_and_ball_number)\n",
      "/tmp/ipykernel_1282148/868147661.py:90: DeprecationWarning: DataFrameGroupBy.apply operated on the grouping columns. This behavior is deprecated, and in a future version of pandas the grouping columns will be excluded from the operation. Either pass `include_groups=False` to exclude the groupings or explicitly select the grouping columns after groupby to silence this warning.\n",
      "  gp = matches.groupby('match_id').apply(filter_by_player_and_ball_number)\n"
     ]
    },
    {
     "name": "stdout",
     "output_type": "stream",
     "text": [
      "Analyzing Player PR Brown\n",
      "Analyzing Player T Banton\n",
      "Analyzing Player BM Tickner\n",
      "Analyzing Player SV Samson\n",
      "Analyzing Player SN Thakur\n"
     ]
    },
    {
     "name": "stderr",
     "output_type": "stream",
     "text": [
      "/tmp/ipykernel_1282148/868147661.py:90: DeprecationWarning: DataFrameGroupBy.apply operated on the grouping columns. This behavior is deprecated, and in a future version of pandas the grouping columns will be excluded from the operation. Either pass `include_groups=False` to exclude the groupings or explicitly select the grouping columns after groupby to silence this warning.\n",
      "  gp = matches.groupby('match_id').apply(filter_by_player_and_ball_number)\n",
      "/tmp/ipykernel_1282148/868147661.py:90: DeprecationWarning: DataFrameGroupBy.apply operated on the grouping columns. This behavior is deprecated, and in a future version of pandas the grouping columns will be excluded from the operation. Either pass `include_groups=False` to exclude the groupings or explicitly select the grouping columns after groupby to silence this warning.\n",
      "  gp = matches.groupby('match_id').apply(filter_by_player_and_ball_number)\n",
      "/tmp/ipykernel_1282148/868147661.py:90: DeprecationWarning: DataFrameGroupBy.apply operated on the grouping columns. This behavior is deprecated, and in a future version of pandas the grouping columns will be excluded from the operation. Either pass `include_groups=False` to exclude the groupings or explicitly select the grouping columns after groupby to silence this warning.\n",
      "  gp = matches.groupby('match_id').apply(filter_by_player_and_ball_number)\n",
      "/tmp/ipykernel_1282148/868147661.py:90: DeprecationWarning: DataFrameGroupBy.apply operated on the grouping columns. This behavior is deprecated, and in a future version of pandas the grouping columns will be excluded from the operation. Either pass `include_groups=False` to exclude the groupings or explicitly select the grouping columns after groupby to silence this warning.\n",
      "  gp = matches.groupby('match_id').apply(filter_by_player_and_ball_number)\n"
     ]
    },
    {
     "name": "stdout",
     "output_type": "stream",
     "text": [
      "Analyzing Player HK Bennett\n",
      "Analyzing Player HD Rutherford\n",
      "Analyzing Player TD Astle\n",
      "Analyzing Player LD Madushanka\n",
      "Analyzing Player Rahmanullah Gurbaz\n"
     ]
    },
    {
     "name": "stderr",
     "output_type": "stream",
     "text": [
      "/tmp/ipykernel_1282148/868147661.py:90: DeprecationWarning: DataFrameGroupBy.apply operated on the grouping columns. This behavior is deprecated, and in a future version of pandas the grouping columns will be excluded from the operation. Either pass `include_groups=False` to exclude the groupings or explicitly select the grouping columns after groupby to silence this warning.\n",
      "  gp = matches.groupby('match_id').apply(filter_by_player_and_ball_number)\n",
      "/tmp/ipykernel_1282148/868147661.py:90: DeprecationWarning: DataFrameGroupBy.apply operated on the grouping columns. This behavior is deprecated, and in a future version of pandas the grouping columns will be excluded from the operation. Either pass `include_groups=False` to exclude the groupings or explicitly select the grouping columns after groupby to silence this warning.\n",
      "  gp = matches.groupby('match_id').apply(filter_by_player_and_ball_number)\n",
      "/tmp/ipykernel_1282148/868147661.py:90: DeprecationWarning: DataFrameGroupBy.apply operated on the grouping columns. This behavior is deprecated, and in a future version of pandas the grouping columns will be excluded from the operation. Either pass `include_groups=False` to exclude the groupings or explicitly select the grouping columns after groupby to silence this warning.\n",
      "  gp = matches.groupby('match_id').apply(filter_by_player_and_ball_number)\n",
      "/tmp/ipykernel_1282148/868147661.py:90: DeprecationWarning: DataFrameGroupBy.apply operated on the grouping columns. This behavior is deprecated, and in a future version of pandas the grouping columns will be excluded from the operation. Either pass `include_groups=False` to exclude the groupings or explicitly select the grouping columns after groupby to silence this warning.\n",
      "  gp = matches.groupby('match_id').apply(filter_by_player_and_ball_number)\n"
     ]
    },
    {
     "name": "stdout",
     "output_type": "stream",
     "text": [
      "Analyzing Player Ibrahim Zadran\n",
      "Analyzing Player Fareed Ahmad\n",
      "Analyzing Player Naveen-ul-Haq\n",
      "Analyzing Player Mujeeb Ur Rahman\n"
     ]
    },
    {
     "name": "stderr",
     "output_type": "stream",
     "text": [
      "/tmp/ipykernel_1282148/868147661.py:90: DeprecationWarning: DataFrameGroupBy.apply operated on the grouping columns. This behavior is deprecated, and in a future version of pandas the grouping columns will be excluded from the operation. Either pass `include_groups=False` to exclude the groupings or explicitly select the grouping columns after groupby to silence this warning.\n",
      "  gp = matches.groupby('match_id').apply(filter_by_player_and_ball_number)\n",
      "/tmp/ipykernel_1282148/868147661.py:90: DeprecationWarning: DataFrameGroupBy.apply operated on the grouping columns. This behavior is deprecated, and in a future version of pandas the grouping columns will be excluded from the operation. Either pass `include_groups=False` to exclude the groupings or explicitly select the grouping columns after groupby to silence this warning.\n",
      "  gp = matches.groupby('match_id').apply(filter_by_player_and_ball_number)\n",
      "/tmp/ipykernel_1282148/868147661.py:90: DeprecationWarning: DataFrameGroupBy.apply operated on the grouping columns. This behavior is deprecated, and in a future version of pandas the grouping columns will be excluded from the operation. Either pass `include_groups=False` to exclude the groupings or explicitly select the grouping columns after groupby to silence this warning.\n",
      "  gp = matches.groupby('match_id').apply(filter_by_player_and_ball_number)\n",
      "/tmp/ipykernel_1282148/868147661.py:90: DeprecationWarning: DataFrameGroupBy.apply operated on the grouping columns. This behavior is deprecated, and in a future version of pandas the grouping columns will be excluded from the operation. Either pass `include_groups=False` to exclude the groupings or explicitly select the grouping columns after groupby to silence this warning.\n",
      "  gp = matches.groupby('match_id').apply(filter_by_player_and_ball_number)\n"
     ]
    },
    {
     "name": "stdout",
     "output_type": "stream",
     "text": [
      "Analyzing Player RW Chakabva\n",
      "Analyzing Player Taijul Islam\n",
      "Analyzing Player Nazmul Hossain Shanto\n",
      "Analyzing Player A Ndlovu\n"
     ]
    },
    {
     "name": "stderr",
     "output_type": "stream",
     "text": [
      "/tmp/ipykernel_1282148/868147661.py:90: DeprecationWarning: DataFrameGroupBy.apply operated on the grouping columns. This behavior is deprecated, and in a future version of pandas the grouping columns will be excluded from the operation. Either pass `include_groups=False` to exclude the groupings or explicitly select the grouping columns after groupby to silence this warning.\n",
      "  gp = matches.groupby('match_id').apply(filter_by_player_and_ball_number)\n",
      "/tmp/ipykernel_1282148/868147661.py:90: DeprecationWarning: DataFrameGroupBy.apply operated on the grouping columns. This behavior is deprecated, and in a future version of pandas the grouping columns will be excluded from the operation. Either pass `include_groups=False` to exclude the groupings or explicitly select the grouping columns after groupby to silence this warning.\n",
      "  gp = matches.groupby('match_id').apply(filter_by_player_and_ball_number)\n",
      "/tmp/ipykernel_1282148/868147661.py:90: DeprecationWarning: DataFrameGroupBy.apply operated on the grouping columns. This behavior is deprecated, and in a future version of pandas the grouping columns will be excluded from the operation. Either pass `include_groups=False` to exclude the groupings or explicitly select the grouping columns after groupby to silence this warning.\n",
      "  gp = matches.groupby('match_id').apply(filter_by_player_and_ball_number)\n",
      "/tmp/ipykernel_1282148/868147661.py:90: DeprecationWarning: DataFrameGroupBy.apply operated on the grouping columns. This behavior is deprecated, and in a future version of pandas the grouping columns will be excluded from the operation. Either pass `include_groups=False` to exclude the groupings or explicitly select the grouping columns after groupby to silence this warning.\n",
      "  gp = matches.groupby('match_id').apply(filter_by_player_and_ball_number)\n"
     ]
    },
    {
     "name": "stdout",
     "output_type": "stream",
     "text": [
      "Analyzing Player Fazal Niazai\n",
      "Analyzing Player Haider Ali\n",
      "Analyzing Player M Bhanuka\n",
      "Analyzing Player HT Tector\n"
     ]
    },
    {
     "name": "stderr",
     "output_type": "stream",
     "text": [
      "/tmp/ipykernel_1282148/868147661.py:90: DeprecationWarning: DataFrameGroupBy.apply operated on the grouping columns. This behavior is deprecated, and in a future version of pandas the grouping columns will be excluded from the operation. Either pass `include_groups=False` to exclude the groupings or explicitly select the grouping columns after groupby to silence this warning.\n",
      "  gp = matches.groupby('match_id').apply(filter_by_player_and_ball_number)\n",
      "/tmp/ipykernel_1282148/868147661.py:90: DeprecationWarning: DataFrameGroupBy.apply operated on the grouping columns. This behavior is deprecated, and in a future version of pandas the grouping columns will be excluded from the operation. Either pass `include_groups=False` to exclude the groupings or explicitly select the grouping columns after groupby to silence this warning.\n",
      "  gp = matches.groupby('match_id').apply(filter_by_player_and_ball_number)\n",
      "/tmp/ipykernel_1282148/868147661.py:90: DeprecationWarning: DataFrameGroupBy.apply operated on the grouping columns. This behavior is deprecated, and in a future version of pandas the grouping columns will be excluded from the operation. Either pass `include_groups=False` to exclude the groupings or explicitly select the grouping columns after groupby to silence this warning.\n",
      "  gp = matches.groupby('match_id').apply(filter_by_player_and_ball_number)\n",
      "/tmp/ipykernel_1282148/868147661.py:90: DeprecationWarning: DataFrameGroupBy.apply operated on the grouping columns. This behavior is deprecated, and in a future version of pandas the grouping columns will be excluded from the operation. Either pass `include_groups=False` to exclude the groupings or explicitly select the grouping columns after groupby to silence this warning.\n",
      "  gp = matches.groupby('match_id').apply(filter_by_player_and_ball_number)\n",
      "/tmp/ipykernel_1282148/868147661.py:90: DeprecationWarning: DataFrameGroupBy.apply operated on the grouping columns. This behavior is deprecated, and in a future version of pandas the grouping columns will be excluded from the operation. Either pass `include_groups=False` to exclude the groupings or explicitly select the grouping columns after groupby to silence this warning.\n",
      "  gp = matches.groupby('match_id').apply(filter_by_player_and_ball_number)\n",
      "/tmp/ipykernel_1282148/868147661.py:90: DeprecationWarning: DataFrameGroupBy.apply operated on the grouping columns. This behavior is deprecated, and in a future version of pandas the grouping columns will be excluded from the operation. Either pass `include_groups=False` to exclude the groupings or explicitly select the grouping columns after groupby to silence this warning.\n",
      "  gp = matches.groupby('match_id').apply(filter_by_player_and_ball_number)\n",
      "/tmp/ipykernel_1282148/868147661.py:90: DeprecationWarning: DataFrameGroupBy.apply operated on the grouping columns. This behavior is deprecated, and in a future version of pandas the grouping columns will be excluded from the operation. Either pass `include_groups=False` to exclude the groupings or explicitly select the grouping columns after groupby to silence this warning.\n",
      "  gp = matches.groupby('match_id').apply(filter_by_player_and_ball_number)\n"
     ]
    },
    {
     "name": "stdout",
     "output_type": "stream",
     "text": [
      "Analyzing Player BJ McCarthy\n",
      "Analyzing Player CA Young\n",
      "Analyzing Player Ahsan Ali\n",
      "Analyzing Player TS Kamunhukamwe\n"
     ]
    },
    {
     "name": "stderr",
     "output_type": "stream",
     "text": [
      "/tmp/ipykernel_1282148/868147661.py:90: DeprecationWarning: DataFrameGroupBy.apply operated on the grouping columns. This behavior is deprecated, and in a future version of pandas the grouping columns will be excluded from the operation. Either pass `include_groups=False` to exclude the groupings or explicitly select the grouping columns after groupby to silence this warning.\n",
      "  gp = matches.groupby('match_id').apply(filter_by_player_and_ball_number)\n",
      "/tmp/ipykernel_1282148/868147661.py:90: DeprecationWarning: DataFrameGroupBy.apply operated on the grouping columns. This behavior is deprecated, and in a future version of pandas the grouping columns will be excluded from the operation. Either pass `include_groups=False` to exclude the groupings or explicitly select the grouping columns after groupby to silence this warning.\n",
      "  gp = matches.groupby('match_id').apply(filter_by_player_and_ball_number)\n",
      "/tmp/ipykernel_1282148/868147661.py:90: DeprecationWarning: DataFrameGroupBy.apply operated on the grouping columns. This behavior is deprecated, and in a future version of pandas the grouping columns will be excluded from the operation. Either pass `include_groups=False` to exclude the groupings or explicitly select the grouping columns after groupby to silence this warning.\n",
      "  gp = matches.groupby('match_id').apply(filter_by_player_and_ball_number)\n",
      "/tmp/ipykernel_1282148/868147661.py:90: DeprecationWarning: DataFrameGroupBy.apply operated on the grouping columns. This behavior is deprecated, and in a future version of pandas the grouping columns will be excluded from the operation. Either pass `include_groups=False` to exclude the groupings or explicitly select the grouping columns after groupby to silence this warning.\n",
      "  gp = matches.groupby('match_id').apply(filter_by_player_and_ball_number)\n"
     ]
    },
    {
     "name": "stdout",
     "output_type": "stream",
     "text": [
      "Analyzing Player W Madhevere\n",
      "Analyzing Player CT Mumba\n",
      "Analyzing Player SA Abbott\n",
      "Analyzing Player DR Sams\n"
     ]
    },
    {
     "name": "stderr",
     "output_type": "stream",
     "text": [
      "/tmp/ipykernel_1282148/868147661.py:90: DeprecationWarning: DataFrameGroupBy.apply operated on the grouping columns. This behavior is deprecated, and in a future version of pandas the grouping columns will be excluded from the operation. Either pass `include_groups=False` to exclude the groupings or explicitly select the grouping columns after groupby to silence this warning.\n",
      "  gp = matches.groupby('match_id').apply(filter_by_player_and_ball_number)\n",
      "/tmp/ipykernel_1282148/868147661.py:90: DeprecationWarning: DataFrameGroupBy.apply operated on the grouping columns. This behavior is deprecated, and in a future version of pandas the grouping columns will be excluded from the operation. Either pass `include_groups=False` to exclude the groupings or explicitly select the grouping columns after groupby to silence this warning.\n",
      "  gp = matches.groupby('match_id').apply(filter_by_player_and_ball_number)\n",
      "/tmp/ipykernel_1282148/868147661.py:90: DeprecationWarning: DataFrameGroupBy.apply operated on the grouping columns. This behavior is deprecated, and in a future version of pandas the grouping columns will be excluded from the operation. Either pass `include_groups=False` to exclude the groupings or explicitly select the grouping columns after groupby to silence this warning.\n",
      "  gp = matches.groupby('match_id').apply(filter_by_player_and_ball_number)\n",
      "/tmp/ipykernel_1282148/868147661.py:90: DeprecationWarning: DataFrameGroupBy.apply operated on the grouping columns. This behavior is deprecated, and in a future version of pandas the grouping columns will be excluded from the operation. Either pass `include_groups=False` to exclude the groupings or explicitly select the grouping columns after groupby to silence this warning.\n",
      "  gp = matches.groupby('match_id').apply(filter_by_player_and_ball_number)\n"
     ]
    },
    {
     "name": "stdout",
     "output_type": "stream",
     "text": [
      "Analyzing Player Abdullah Shafique\n",
      "Analyzing Player M Shumba\n",
      "Analyzing Player M Faraz Akram\n",
      "Analyzing Player DP Conway\n"
     ]
    },
    {
     "name": "stderr",
     "output_type": "stream",
     "text": [
      "/tmp/ipykernel_1282148/868147661.py:90: DeprecationWarning: DataFrameGroupBy.apply operated on the grouping columns. This behavior is deprecated, and in a future version of pandas the grouping columns will be excluded from the operation. Either pass `include_groups=False` to exclude the groupings or explicitly select the grouping columns after groupby to silence this warning.\n",
      "  gp = matches.groupby('match_id').apply(filter_by_player_and_ball_number)\n",
      "/tmp/ipykernel_1282148/868147661.py:90: DeprecationWarning: DataFrameGroupBy.apply operated on the grouping columns. This behavior is deprecated, and in a future version of pandas the grouping columns will be excluded from the operation. Either pass `include_groups=False` to exclude the groupings or explicitly select the grouping columns after groupby to silence this warning.\n",
      "  gp = matches.groupby('match_id').apply(filter_by_player_and_ball_number)\n",
      "/tmp/ipykernel_1282148/868147661.py:90: DeprecationWarning: DataFrameGroupBy.apply operated on the grouping columns. This behavior is deprecated, and in a future version of pandas the grouping columns will be excluded from the operation. Either pass `include_groups=False` to exclude the groupings or explicitly select the grouping columns after groupby to silence this warning.\n",
      "  gp = matches.groupby('match_id').apply(filter_by_player_and_ball_number)\n",
      "/tmp/ipykernel_1282148/868147661.py:90: DeprecationWarning: DataFrameGroupBy.apply operated on the grouping columns. This behavior is deprecated, and in a future version of pandas the grouping columns will be excluded from the operation. Either pass `include_groups=False` to exclude the groupings or explicitly select the grouping columns after groupby to silence this warning.\n",
      "  gp = matches.groupby('match_id').apply(filter_by_player_and_ball_number)\n"
     ]
    },
    {
     "name": "stdout",
     "output_type": "stream",
     "text": [
      "Analyzing Player KR Mayers\n",
      "Analyzing Player Haris Rauf\n",
      "Analyzing Player JR Philippe\n",
      "Analyzing Player KA Jamieson\n"
     ]
    },
    {
     "name": "stderr",
     "output_type": "stream",
     "text": [
      "/tmp/ipykernel_1282148/868147661.py:90: DeprecationWarning: DataFrameGroupBy.apply operated on the grouping columns. This behavior is deprecated, and in a future version of pandas the grouping columns will be excluded from the operation. Either pass `include_groups=False` to exclude the groupings or explicitly select the grouping columns after groupby to silence this warning.\n",
      "  gp = matches.groupby('match_id').apply(filter_by_player_and_ball_number)\n",
      "/tmp/ipykernel_1282148/868147661.py:90: DeprecationWarning: DataFrameGroupBy.apply operated on the grouping columns. This behavior is deprecated, and in a future version of pandas the grouping columns will be excluded from the operation. Either pass `include_groups=False` to exclude the groupings or explicitly select the grouping columns after groupby to silence this warning.\n",
      "  gp = matches.groupby('match_id').apply(filter_by_player_and_ball_number)\n",
      "/tmp/ipykernel_1282148/868147661.py:90: DeprecationWarning: DataFrameGroupBy.apply operated on the grouping columns. This behavior is deprecated, and in a future version of pandas the grouping columns will be excluded from the operation. Either pass `include_groups=False` to exclude the groupings or explicitly select the grouping columns after groupby to silence this warning.\n",
      "  gp = matches.groupby('match_id').apply(filter_by_player_and_ball_number)\n",
      "/tmp/ipykernel_1282148/868147661.py:90: DeprecationWarning: DataFrameGroupBy.apply operated on the grouping columns. This behavior is deprecated, and in a future version of pandas the grouping columns will be excluded from the operation. Either pass `include_groups=False` to exclude the groupings or explicitly select the grouping columns after groupby to silence this warning.\n",
      "  gp = matches.groupby('match_id').apply(filter_by_player_and_ball_number)\n"
     ]
    },
    {
     "name": "stdout",
     "output_type": "stream",
     "text": [
      "Analyzing Player Shoriful Islam\n",
      "Analyzing Player Nasum Ahmed\n",
      "Analyzing Player FH Allen\n",
      "Analyzing Player WA Young\n"
     ]
    },
    {
     "name": "stderr",
     "output_type": "stream",
     "text": [
      "/tmp/ipykernel_1282148/868147661.py:90: DeprecationWarning: DataFrameGroupBy.apply operated on the grouping columns. This behavior is deprecated, and in a future version of pandas the grouping columns will be excluded from the operation. Either pass `include_groups=False` to exclude the groupings or explicitly select the grouping columns after groupby to silence this warning.\n",
      "  gp = matches.groupby('match_id').apply(filter_by_player_and_ball_number)\n",
      "/tmp/ipykernel_1282148/868147661.py:90: DeprecationWarning: DataFrameGroupBy.apply operated on the grouping columns. This behavior is deprecated, and in a future version of pandas the grouping columns will be excluded from the operation. Either pass `include_groups=False` to exclude the groupings or explicitly select the grouping columns after groupby to silence this warning.\n",
      "  gp = matches.groupby('match_id').apply(filter_by_player_and_ball_number)\n",
      "/tmp/ipykernel_1282148/868147661.py:90: DeprecationWarning: DataFrameGroupBy.apply operated on the grouping columns. This behavior is deprecated, and in a future version of pandas the grouping columns will be excluded from the operation. Either pass `include_groups=False` to exclude the groupings or explicitly select the grouping columns after groupby to silence this warning.\n",
      "  gp = matches.groupby('match_id').apply(filter_by_player_and_ball_number)\n",
      "/tmp/ipykernel_1282148/868147661.py:90: DeprecationWarning: DataFrameGroupBy.apply operated on the grouping columns. This behavior is deprecated, and in a future version of pandas the grouping columns will be excluded from the operation. Either pass `include_groups=False` to exclude the groupings or explicitly select the grouping columns after groupby to silence this warning.\n",
      "  gp = matches.groupby('match_id').apply(filter_by_player_and_ball_number)\n"
     ]
    },
    {
     "name": "stdout",
     "output_type": "stream",
     "text": [
      "Analyzing Player GF Linde\n",
      "Analyzing Player MW Parkinson\n",
      "Analyzing Player Sohaib Maqsood\n",
      "Analyzing Player Azam Khan\n"
     ]
    },
    {
     "name": "stderr",
     "output_type": "stream",
     "text": [
      "/tmp/ipykernel_1282148/868147661.py:90: DeprecationWarning: DataFrameGroupBy.apply operated on the grouping columns. This behavior is deprecated, and in a future version of pandas the grouping columns will be excluded from the operation. Either pass `include_groups=False` to exclude the groupings or explicitly select the grouping columns after groupby to silence this warning.\n",
      "  gp = matches.groupby('match_id').apply(filter_by_player_and_ball_number)\n",
      "/tmp/ipykernel_1282148/868147661.py:90: DeprecationWarning: DataFrameGroupBy.apply operated on the grouping columns. This behavior is deprecated, and in a future version of pandas the grouping columns will be excluded from the operation. Either pass `include_groups=False` to exclude the groupings or explicitly select the grouping columns after groupby to silence this warning.\n",
      "  gp = matches.groupby('match_id').apply(filter_by_player_and_ball_number)\n",
      "/tmp/ipykernel_1282148/868147661.py:90: DeprecationWarning: DataFrameGroupBy.apply operated on the grouping columns. This behavior is deprecated, and in a future version of pandas the grouping columns will be excluded from the operation. Either pass `include_groups=False` to exclude the groupings or explicitly select the grouping columns after groupby to silence this warning.\n",
      "  gp = matches.groupby('match_id').apply(filter_by_player_and_ball_number)\n",
      "/tmp/ipykernel_1282148/868147661.py:90: DeprecationWarning: DataFrameGroupBy.apply operated on the grouping columns. This behavior is deprecated, and in a future version of pandas the grouping columns will be excluded from the operation. Either pass `include_groups=False` to exclude the groupings or explicitly select the grouping columns after groupby to silence this warning.\n",
      "  gp = matches.groupby('match_id').apply(filter_by_player_and_ball_number)\n"
     ]
    },
    {
     "name": "stdout",
     "output_type": "stream",
     "text": [
      "Analyzing Player GJ Snyman\n",
      "Analyzing Player Usman Qadir\n",
      "Analyzing Player Ishan Kishan\n",
      "Analyzing Player JC Archer\n"
     ]
    },
    {
     "name": "stderr",
     "output_type": "stream",
     "text": [
      "/tmp/ipykernel_1282148/868147661.py:90: DeprecationWarning: DataFrameGroupBy.apply operated on the grouping columns. This behavior is deprecated, and in a future version of pandas the grouping columns will be excluded from the operation. Either pass `include_groups=False` to exclude the groupings or explicitly select the grouping columns after groupby to silence this warning.\n",
      "  gp = matches.groupby('match_id').apply(filter_by_player_and_ball_number)\n",
      "/tmp/ipykernel_1282148/868147661.py:90: DeprecationWarning: DataFrameGroupBy.apply operated on the grouping columns. This behavior is deprecated, and in a future version of pandas the grouping columns will be excluded from the operation. Either pass `include_groups=False` to exclude the groupings or explicitly select the grouping columns after groupby to silence this warning.\n",
      "  gp = matches.groupby('match_id').apply(filter_by_player_and_ball_number)\n",
      "/tmp/ipykernel_1282148/868147661.py:90: DeprecationWarning: DataFrameGroupBy.apply operated on the grouping columns. This behavior is deprecated, and in a future version of pandas the grouping columns will be excluded from the operation. Either pass `include_groups=False` to exclude the groupings or explicitly select the grouping columns after groupby to silence this warning.\n",
      "  gp = matches.groupby('match_id').apply(filter_by_player_and_ball_number)\n",
      "/tmp/ipykernel_1282148/868147661.py:90: DeprecationWarning: DataFrameGroupBy.apply operated on the grouping columns. This behavior is deprecated, and in a future version of pandas the grouping columns will be excluded from the operation. Either pass `include_groups=False` to exclude the groupings or explicitly select the grouping columns after groupby to silence this warning.\n",
      "  gp = matches.groupby('match_id').apply(filter_by_player_and_ball_number)\n"
     ]
    },
    {
     "name": "stdout",
     "output_type": "stream",
     "text": [
      "Analyzing Player SA Yadav\n",
      "Analyzing Player B Fernando\n",
      "Analyzing Player WJ Lubbe\n",
      "Analyzing Player SSB Magala\n"
     ]
    },
    {
     "name": "stderr",
     "output_type": "stream",
     "text": [
      "/tmp/ipykernel_1282148/868147661.py:90: DeprecationWarning: DataFrameGroupBy.apply operated on the grouping columns. This behavior is deprecated, and in a future version of pandas the grouping columns will be excluded from the operation. Either pass `include_groups=False` to exclude the groupings or explicitly select the grouping columns after groupby to silence this warning.\n",
      "  gp = matches.groupby('match_id').apply(filter_by_player_and_ball_number)\n",
      "/tmp/ipykernel_1282148/868147661.py:90: DeprecationWarning: DataFrameGroupBy.apply operated on the grouping columns. This behavior is deprecated, and in a future version of pandas the grouping columns will be excluded from the operation. Either pass `include_groups=False` to exclude the groupings or explicitly select the grouping columns after groupby to silence this warning.\n",
      "  gp = matches.groupby('match_id').apply(filter_by_player_and_ball_number)\n",
      "/tmp/ipykernel_1282148/868147661.py:90: DeprecationWarning: DataFrameGroupBy.apply operated on the grouping columns. This behavior is deprecated, and in a future version of pandas the grouping columns will be excluded from the operation. Either pass `include_groups=False` to exclude the groupings or explicitly select the grouping columns after groupby to silence this warning.\n",
      "  gp = matches.groupby('match_id').apply(filter_by_player_and_ball_number)\n",
      "/tmp/ipykernel_1282148/868147661.py:90: DeprecationWarning: DataFrameGroupBy.apply operated on the grouping columns. This behavior is deprecated, and in a future version of pandas the grouping columns will be excluded from the operation. Either pass `include_groups=False` to exclude the groupings or explicitly select the grouping columns after groupby to silence this warning.\n",
      "  gp = matches.groupby('match_id').apply(filter_by_player_and_ball_number)\n"
     ]
    },
    {
     "name": "stdout",
     "output_type": "stream",
     "text": [
      "Analyzing Player PWA Mulder\n",
      "Analyzing Player LB Williams\n",
      "Analyzing Player B White\n",
      "Analyzing Player P Nissanka\n"
     ]
    },
    {
     "name": "stderr",
     "output_type": "stream",
     "text": [
      "/tmp/ipykernel_1282148/868147661.py:90: DeprecationWarning: DataFrameGroupBy.apply operated on the grouping columns. This behavior is deprecated, and in a future version of pandas the grouping columns will be excluded from the operation. Either pass `include_groups=False` to exclude the groupings or explicitly select the grouping columns after groupby to silence this warning.\n",
      "  gp = matches.groupby('match_id').apply(filter_by_player_and_ball_number)\n",
      "/tmp/ipykernel_1282148/868147661.py:90: DeprecationWarning: DataFrameGroupBy.apply operated on the grouping columns. This behavior is deprecated, and in a future version of pandas the grouping columns will be excluded from the operation. Either pass `include_groups=False` to exclude the groupings or explicitly select the grouping columns after groupby to silence this warning.\n",
      "  gp = matches.groupby('match_id').apply(filter_by_player_and_ball_number)\n",
      "/tmp/ipykernel_1282148/868147661.py:90: DeprecationWarning: DataFrameGroupBy.apply operated on the grouping columns. This behavior is deprecated, and in a future version of pandas the grouping columns will be excluded from the operation. Either pass `include_groups=False` to exclude the groupings or explicitly select the grouping columns after groupby to silence this warning.\n",
      "  gp = matches.groupby('match_id').apply(filter_by_player_and_ball_number)\n",
      "/tmp/ipykernel_1282148/868147661.py:90: DeprecationWarning: DataFrameGroupBy.apply operated on the grouping columns. This behavior is deprecated, and in a future version of pandas the grouping columns will be excluded from the operation. Either pass `include_groups=False` to exclude the groupings or explicitly select the grouping columns after groupby to silence this warning.\n",
      "  gp = matches.groupby('match_id').apply(filter_by_player_and_ball_number)\n"
     ]
    },
    {
     "name": "stdout",
     "output_type": "stream",
     "text": [
      "Analyzing Player KNA Bandara\n",
      "Analyzing Player K Sinclair\n",
      "Analyzing Player FH Edwards\n",
      "Analyzing Player R Shepherd\n",
      "Analyzing Player AJ Hosein\n"
     ]
    },
    {
     "name": "stderr",
     "output_type": "stream",
     "text": [
      "/tmp/ipykernel_1282148/868147661.py:90: DeprecationWarning: DataFrameGroupBy.apply operated on the grouping columns. This behavior is deprecated, and in a future version of pandas the grouping columns will be excluded from the operation. Either pass `include_groups=False` to exclude the groupings or explicitly select the grouping columns after groupby to silence this warning.\n",
      "  gp = matches.groupby('match_id').apply(filter_by_player_and_ball_number)\n",
      "/tmp/ipykernel_1282148/868147661.py:90: DeprecationWarning: DataFrameGroupBy.apply operated on the grouping columns. This behavior is deprecated, and in a future version of pandas the grouping columns will be excluded from the operation. Either pass `include_groups=False` to exclude the groupings or explicitly select the grouping columns after groupby to silence this warning.\n",
      "  gp = matches.groupby('match_id').apply(filter_by_player_and_ball_number)\n",
      "/tmp/ipykernel_1282148/868147661.py:90: DeprecationWarning: DataFrameGroupBy.apply operated on the grouping columns. This behavior is deprecated, and in a future version of pandas the grouping columns will be excluded from the operation. Either pass `include_groups=False` to exclude the groupings or explicitly select the grouping columns after groupby to silence this warning.\n",
      "  gp = matches.groupby('match_id').apply(filter_by_player_and_ball_number)\n"
     ]
    },
    {
     "name": "stdout",
     "output_type": "stream",
     "text": [
      "Analyzing Player HC Brook\n",
      "Analyzing Player PD Salt\n",
      "Analyzing Player GHS Garton\n",
      "Analyzing Player RJW Topley\n"
     ]
    },
    {
     "name": "stderr",
     "output_type": "stream",
     "text": [
      "/tmp/ipykernel_1282148/868147661.py:90: DeprecationWarning: DataFrameGroupBy.apply operated on the grouping columns. This behavior is deprecated, and in a future version of pandas the grouping columns will be excluded from the operation. Either pass `include_groups=False` to exclude the groupings or explicitly select the grouping columns after groupby to silence this warning.\n",
      "  gp = matches.groupby('match_id').apply(filter_by_player_and_ball_number)\n",
      "/tmp/ipykernel_1282148/868147661.py:90: DeprecationWarning: DataFrameGroupBy.apply operated on the grouping columns. This behavior is deprecated, and in a future version of pandas the grouping columns will be excluded from the operation. Either pass `include_groups=False` to exclude the groupings or explicitly select the grouping columns after groupby to silence this warning.\n",
      "  gp = matches.groupby('match_id').apply(filter_by_player_and_ball_number)\n",
      "/tmp/ipykernel_1282148/868147661.py:90: DeprecationWarning: DataFrameGroupBy.apply operated on the grouping columns. This behavior is deprecated, and in a future version of pandas the grouping columns will be excluded from the operation. Either pass `include_groups=False` to exclude the groupings or explicitly select the grouping columns after groupby to silence this warning.\n",
      "  gp = matches.groupby('match_id').apply(filter_by_player_and_ball_number)\n",
      "/tmp/ipykernel_1282148/868147661.py:90: DeprecationWarning: DataFrameGroupBy.apply operated on the grouping columns. This behavior is deprecated, and in a future version of pandas the grouping columns will be excluded from the operation. Either pass `include_groups=False` to exclude the groupings or explicitly select the grouping columns after groupby to silence this warning.\n",
      "  gp = matches.groupby('match_id').apply(filter_by_player_and_ball_number)\n",
      "/tmp/ipykernel_1282148/868147661.py:90: DeprecationWarning: DataFrameGroupBy.apply operated on the grouping columns. This behavior is deprecated, and in a future version of pandas the grouping columns will be excluded from the operation. Either pass `include_groups=False` to exclude the groupings or explicitly select the grouping columns after groupby to silence this warning.\n",
      "  gp = matches.groupby('match_id').apply(filter_by_player_and_ball_number)\n"
     ]
    },
    {
     "name": "stdout",
     "output_type": "stream",
     "text": [
      "Analyzing Player Danish Aziz\n",
      "Analyzing Player T Marumani\n",
      "Analyzing Player LM Jongwe\n",
      "Analyzing Player Arshad Iqbal\n"
     ]
    },
    {
     "name": "stderr",
     "output_type": "stream",
     "text": [
      "/tmp/ipykernel_1282148/868147661.py:90: DeprecationWarning: DataFrameGroupBy.apply operated on the grouping columns. This behavior is deprecated, and in a future version of pandas the grouping columns will be excluded from the operation. Either pass `include_groups=False` to exclude the groupings or explicitly select the grouping columns after groupby to silence this warning.\n",
      "  gp = matches.groupby('match_id').apply(filter_by_player_and_ball_number)\n",
      "/tmp/ipykernel_1282148/868147661.py:90: DeprecationWarning: DataFrameGroupBy.apply operated on the grouping columns. This behavior is deprecated, and in a future version of pandas the grouping columns will be excluded from the operation. Either pass `include_groups=False` to exclude the groupings or explicitly select the grouping columns after groupby to silence this warning.\n",
      "  gp = matches.groupby('match_id').apply(filter_by_player_and_ball_number)\n",
      "/tmp/ipykernel_1282148/868147661.py:90: DeprecationWarning: DataFrameGroupBy.apply operated on the grouping columns. This behavior is deprecated, and in a future version of pandas the grouping columns will be excluded from the operation. Either pass `include_groups=False` to exclude the groupings or explicitly select the grouping columns after groupby to silence this warning.\n",
      "  gp = matches.groupby('match_id').apply(filter_by_player_and_ball_number)\n",
      "/tmp/ipykernel_1282148/868147661.py:90: DeprecationWarning: DataFrameGroupBy.apply operated on the grouping columns. This behavior is deprecated, and in a future version of pandas the grouping columns will be excluded from the operation. Either pass `include_groups=False` to exclude the groupings or explicitly select the grouping columns after groupby to silence this warning.\n",
      "  gp = matches.groupby('match_id').apply(filter_by_player_and_ball_number)\n"
     ]
    },
    {
     "name": "stdout",
     "output_type": "stream",
     "text": [
      "Analyzing Player R Ngarava\n",
      "Analyzing Player PP Shaw\n",
      "Analyzing Player KIC Asalanka\n",
      "Analyzing Player C Karunaratne\n"
     ]
    },
    {
     "name": "stderr",
     "output_type": "stream",
     "text": [
      "/tmp/ipykernel_1282148/868147661.py:90: DeprecationWarning: DataFrameGroupBy.apply operated on the grouping columns. This behavior is deprecated, and in a future version of pandas the grouping columns will be excluded from the operation. Either pass `include_groups=False` to exclude the groupings or explicitly select the grouping columns after groupby to silence this warning.\n",
      "  gp = matches.groupby('match_id').apply(filter_by_player_and_ball_number)\n",
      "/tmp/ipykernel_1282148/868147661.py:90: DeprecationWarning: DataFrameGroupBy.apply operated on the grouping columns. This behavior is deprecated, and in a future version of pandas the grouping columns will be excluded from the operation. Either pass `include_groups=False` to exclude the groupings or explicitly select the grouping columns after groupby to silence this warning.\n",
      "  gp = matches.groupby('match_id').apply(filter_by_player_and_ball_number)\n",
      "/tmp/ipykernel_1282148/868147661.py:90: DeprecationWarning: DataFrameGroupBy.apply operated on the grouping columns. This behavior is deprecated, and in a future version of pandas the grouping columns will be excluded from the operation. Either pass `include_groups=False` to exclude the groupings or explicitly select the grouping columns after groupby to silence this warning.\n",
      "  gp = matches.groupby('match_id').apply(filter_by_player_and_ball_number)\n",
      "/tmp/ipykernel_1282148/868147661.py:90: DeprecationWarning: DataFrameGroupBy.apply operated on the grouping columns. This behavior is deprecated, and in a future version of pandas the grouping columns will be excluded from the operation. Either pass `include_groups=False` to exclude the groupings or explicitly select the grouping columns after groupby to silence this warning.\n",
      "  gp = matches.groupby('match_id').apply(filter_by_player_and_ball_number)\n"
     ]
    },
    {
     "name": "stdout",
     "output_type": "stream",
     "text": [
      "Analyzing Player RD Gaikwad\n",
      "Analyzing Player D Padikkal\n",
      "Analyzing Player N Rana\n",
      "Analyzing Player RTM Mendis\n",
      "Analyzing Player RD Chahar\n"
     ]
    },
    {
     "name": "stderr",
     "output_type": "stream",
     "text": [
      "/tmp/ipykernel_1282148/868147661.py:90: DeprecationWarning: DataFrameGroupBy.apply operated on the grouping columns. This behavior is deprecated, and in a future version of pandas the grouping columns will be excluded from the operation. Either pass `include_groups=False` to exclude the groupings or explicitly select the grouping columns after groupby to silence this warning.\n",
      "  gp = matches.groupby('match_id').apply(filter_by_player_and_ball_number)\n",
      "/tmp/ipykernel_1282148/868147661.py:90: DeprecationWarning: DataFrameGroupBy.apply operated on the grouping columns. This behavior is deprecated, and in a future version of pandas the grouping columns will be excluded from the operation. Either pass `include_groups=False` to exclude the groupings or explicitly select the grouping columns after groupby to silence this warning.\n",
      "  gp = matches.groupby('match_id').apply(filter_by_player_and_ball_number)\n",
      "/tmp/ipykernel_1282148/868147661.py:90: DeprecationWarning: DataFrameGroupBy.apply operated on the grouping columns. This behavior is deprecated, and in a future version of pandas the grouping columns will be excluded from the operation. Either pass `include_groups=False` to exclude the groupings or explicitly select the grouping columns after groupby to silence this warning.\n",
      "  gp = matches.groupby('match_id').apply(filter_by_player_and_ball_number)\n",
      "/tmp/ipykernel_1282148/868147661.py:90: DeprecationWarning: DataFrameGroupBy.apply operated on the grouping columns. This behavior is deprecated, and in a future version of pandas the grouping columns will be excluded from the operation. Either pass `include_groups=False` to exclude the groupings or explicitly select the grouping columns after groupby to silence this warning.\n",
      "  gp = matches.groupby('match_id').apply(filter_by_player_and_ball_number)\n",
      "/tmp/ipykernel_1282148/868147661.py:90: DeprecationWarning: DataFrameGroupBy.apply operated on the grouping columns. This behavior is deprecated, and in a future version of pandas the grouping columns will be excluded from the operation. Either pass `include_groups=False` to exclude the groupings or explicitly select the grouping columns after groupby to silence this warning.\n",
      "  gp = matches.groupby('match_id').apply(filter_by_player_and_ball_number)\n"
     ]
    },
    {
     "name": "stdout",
     "output_type": "stream",
     "text": [
      "Analyzing Player CV Varun\n",
      "Analyzing Player C Sakariya\n",
      "Analyzing Player JR Hazlewood\n",
      "Analyzing Player JP Behrendorff\n",
      "Analyzing Player Mohammad Wasim\n"
     ]
    },
    {
     "name": "stderr",
     "output_type": "stream",
     "text": [
      "/tmp/ipykernel_1282148/868147661.py:90: DeprecationWarning: DataFrameGroupBy.apply operated on the grouping columns. This behavior is deprecated, and in a future version of pandas the grouping columns will be excluded from the operation. Either pass `include_groups=False` to exclude the groupings or explicitly select the grouping columns after groupby to silence this warning.\n",
      "  gp = matches.groupby('match_id').apply(filter_by_player_and_ball_number)\n",
      "/tmp/ipykernel_1282148/868147661.py:90: DeprecationWarning: DataFrameGroupBy.apply operated on the grouping columns. This behavior is deprecated, and in a future version of pandas the grouping columns will be excluded from the operation. Either pass `include_groups=False` to exclude the groupings or explicitly select the grouping columns after groupby to silence this warning.\n",
      "  gp = matches.groupby('match_id').apply(filter_by_player_and_ball_number)\n",
      "/tmp/ipykernel_1282148/868147661.py:90: DeprecationWarning: DataFrameGroupBy.apply operated on the grouping columns. This behavior is deprecated, and in a future version of pandas the grouping columns will be excluded from the operation. Either pass `include_groups=False` to exclude the groupings or explicitly select the grouping columns after groupby to silence this warning.\n",
      "  gp = matches.groupby('match_id').apply(filter_by_player_and_ball_number)\n",
      "/tmp/ipykernel_1282148/868147661.py:90: DeprecationWarning: DataFrameGroupBy.apply operated on the grouping columns. This behavior is deprecated, and in a future version of pandas the grouping columns will be excluded from the operation. Either pass `include_groups=False` to exclude the groupings or explicitly select the grouping columns after groupby to silence this warning.\n",
      "  gp = matches.groupby('match_id').apply(filter_by_player_and_ball_number)\n"
     ]
    },
    {
     "name": "stdout",
     "output_type": "stream",
     "text": [
      "Analyzing Player JP Inglis\n",
      "Analyzing Player M Theekshana\n",
      "Analyzing Player JDF Vandersay\n",
      "Analyzing Player K Mishara\n"
     ]
    },
    {
     "name": "stderr",
     "output_type": "stream",
     "text": [
      "/tmp/ipykernel_1282148/868147661.py:90: DeprecationWarning: DataFrameGroupBy.apply operated on the grouping columns. This behavior is deprecated, and in a future version of pandas the grouping columns will be excluded from the operation. Either pass `include_groups=False` to exclude the groupings or explicitly select the grouping columns after groupby to silence this warning.\n",
      "  gp = matches.groupby('match_id').apply(filter_by_player_and_ball_number)\n",
      "/tmp/ipykernel_1282148/868147661.py:90: DeprecationWarning: DataFrameGroupBy.apply operated on the grouping columns. This behavior is deprecated, and in a future version of pandas the grouping columns will be excluded from the operation. Either pass `include_groups=False` to exclude the groupings or explicitly select the grouping columns after groupby to silence this warning.\n",
      "  gp = matches.groupby('match_id').apply(filter_by_player_and_ball_number)\n",
      "/tmp/ipykernel_1282148/868147661.py:90: DeprecationWarning: DataFrameGroupBy.apply operated on the grouping columns. This behavior is deprecated, and in a future version of pandas the grouping columns will be excluded from the operation. Either pass `include_groups=False` to exclude the groupings or explicitly select the grouping columns after groupby to silence this warning.\n",
      "  gp = matches.groupby('match_id').apply(filter_by_player_and_ball_number)\n",
      "/tmp/ipykernel_1282148/868147661.py:90: DeprecationWarning: DataFrameGroupBy.apply operated on the grouping columns. This behavior is deprecated, and in a future version of pandas the grouping columns will be excluded from the operation. Either pass `include_groups=False` to exclude the groupings or explicitly select the grouping columns after groupby to silence this warning.\n",
      "  gp = matches.groupby('match_id').apply(filter_by_player_and_ball_number)\n",
      "/tmp/ipykernel_1282148/868147661.py:90: DeprecationWarning: DataFrameGroupBy.apply operated on the grouping columns. This behavior is deprecated, and in a future version of pandas the grouping columns will be excluded from the operation. Either pass `include_groups=False` to exclude the groupings or explicitly select the grouping columns after groupby to silence this warning.\n",
      "  gp = matches.groupby('match_id').apply(filter_by_player_and_ball_number)\n"
     ]
    },
    {
     "name": "stdout",
     "output_type": "stream",
     "text": [
      "Analyzing Player J Liyanage\n",
      "Analyzing Player D Myers\n",
      "Analyzing Player Shamim Hossain\n",
      "Analyzing Player NT Ellis\n",
      "Analyzing Player P Jayawickrama\n"
     ]
    },
    {
     "name": "stderr",
     "output_type": "stream",
     "text": [
      "/tmp/ipykernel_1282148/868147661.py:90: DeprecationWarning: DataFrameGroupBy.apply operated on the grouping columns. This behavior is deprecated, and in a future version of pandas the grouping columns will be excluded from the operation. Either pass `include_groups=False` to exclude the groupings or explicitly select the grouping columns after groupby to silence this warning.\n",
      "  gp = matches.groupby('match_id').apply(filter_by_player_and_ball_number)\n",
      "/tmp/ipykernel_1282148/868147661.py:90: DeprecationWarning: DataFrameGroupBy.apply operated on the grouping columns. This behavior is deprecated, and in a future version of pandas the grouping columns will be excluded from the operation. Either pass `include_groups=False` to exclude the groupings or explicitly select the grouping columns after groupby to silence this warning.\n",
      "  gp = matches.groupby('match_id').apply(filter_by_player_and_ball_number)\n",
      "/tmp/ipykernel_1282148/868147661.py:90: DeprecationWarning: DataFrameGroupBy.apply operated on the grouping columns. This behavior is deprecated, and in a future version of pandas the grouping columns will be excluded from the operation. Either pass `include_groups=False` to exclude the groupings or explicitly select the grouping columns after groupby to silence this warning.\n",
      "  gp = matches.groupby('match_id').apply(filter_by_player_and_ball_number)\n",
      "/tmp/ipykernel_1282148/868147661.py:90: DeprecationWarning: DataFrameGroupBy.apply operated on the grouping columns. This behavior is deprecated, and in a future version of pandas the grouping columns will be excluded from the operation. Either pass `include_groups=False` to exclude the groupings or explicitly select the grouping columns after groupby to silence this warning.\n",
      "  gp = matches.groupby('match_id').apply(filter_by_player_and_ball_number)\n",
      "/tmp/ipykernel_1282148/868147661.py:90: DeprecationWarning: DataFrameGroupBy.apply operated on the grouping columns. This behavior is deprecated, and in a future version of pandas the grouping columns will be excluded from the operation. Either pass `include_groups=False` to exclude the groupings or explicitly select the grouping columns after groupby to silence this warning.\n",
      "  gp = matches.groupby('match_id').apply(filter_by_player_and_ball_number)\n"
     ]
    },
    {
     "name": "stdout",
     "output_type": "stream",
     "text": [
      "Analyzing Player R Ravindra\n",
      "Analyzing Player CE McConchie\n",
      "Analyzing Player AY Patel\n",
      "Analyzing Player JA Duffy\n",
      "Analyzing Player C Campher\n"
     ]
    },
    {
     "name": "stderr",
     "output_type": "stream",
     "text": [
      "/tmp/ipykernel_1282148/868147661.py:90: DeprecationWarning: DataFrameGroupBy.apply operated on the grouping columns. This behavior is deprecated, and in a future version of pandas the grouping columns will be excluded from the operation. Either pass `include_groups=False` to exclude the groupings or explicitly select the grouping columns after groupby to silence this warning.\n",
      "  gp = matches.groupby('match_id').apply(filter_by_player_and_ball_number)\n",
      "/tmp/ipykernel_1282148/868147661.py:90: DeprecationWarning: DataFrameGroupBy.apply operated on the grouping columns. This behavior is deprecated, and in a future version of pandas the grouping columns will be excluded from the operation. Either pass `include_groups=False` to exclude the groupings or explicitly select the grouping columns after groupby to silence this warning.\n",
      "  gp = matches.groupby('match_id').apply(filter_by_player_and_ball_number)\n",
      "/tmp/ipykernel_1282148/868147661.py:90: DeprecationWarning: DataFrameGroupBy.apply operated on the grouping columns. This behavior is deprecated, and in a future version of pandas the grouping columns will be excluded from the operation. Either pass `include_groups=False` to exclude the groupings or explicitly select the grouping columns after groupby to silence this warning.\n",
      "  gp = matches.groupby('match_id').apply(filter_by_player_and_ball_number)\n",
      "/tmp/ipykernel_1282148/868147661.py:90: DeprecationWarning: DataFrameGroupBy.apply operated on the grouping columns. This behavior is deprecated, and in a future version of pandas the grouping columns will be excluded from the operation. Either pass `include_groups=False` to exclude the groupings or explicitly select the grouping columns after groupby to silence this warning.\n",
      "  gp = matches.groupby('match_id').apply(filter_by_player_and_ball_number)\n"
     ]
    },
    {
     "name": "stdout",
     "output_type": "stream",
     "text": [
      "Analyzing Player NA Rock\n",
      "Analyzing Player W McClintock\n",
      "Analyzing Player AR McBrine\n",
      "Analyzing Player KA Maharaj\n",
      "Analyzing Player R Rampaul\n"
     ]
    },
    {
     "name": "stderr",
     "output_type": "stream",
     "text": [
      "/tmp/ipykernel_1282148/868147661.py:90: DeprecationWarning: DataFrameGroupBy.apply operated on the grouping columns. This behavior is deprecated, and in a future version of pandas the grouping columns will be excluded from the operation. Either pass `include_groups=False` to exclude the groupings or explicitly select the grouping columns after groupby to silence this warning.\n",
      "  gp = matches.groupby('match_id').apply(filter_by_player_and_ball_number)\n",
      "/tmp/ipykernel_1282148/868147661.py:90: DeprecationWarning: DataFrameGroupBy.apply operated on the grouping columns. This behavior is deprecated, and in a future version of pandas the grouping columns will be excluded from the operation. Either pass `include_groups=False` to exclude the groupings or explicitly select the grouping columns after groupby to silence this warning.\n",
      "  gp = matches.groupby('match_id').apply(filter_by_player_and_ball_number)\n",
      "/tmp/ipykernel_1282148/868147661.py:90: DeprecationWarning: DataFrameGroupBy.apply operated on the grouping columns. This behavior is deprecated, and in a future version of pandas the grouping columns will be excluded from the operation. Either pass `include_groups=False` to exclude the groupings or explicitly select the grouping columns after groupby to silence this warning.\n",
      "  gp = matches.groupby('match_id').apply(filter_by_player_and_ball_number)\n",
      "/tmp/ipykernel_1282148/868147661.py:90: DeprecationWarning: DataFrameGroupBy.apply operated on the grouping columns. This behavior is deprecated, and in a future version of pandas the grouping columns will be excluded from the operation. Either pass `include_groups=False` to exclude the groupings or explicitly select the grouping columns after groupby to silence this warning.\n",
      "  gp = matches.groupby('match_id').apply(filter_by_player_and_ball_number)\n",
      "/tmp/ipykernel_1282148/868147661.py:90: DeprecationWarning: DataFrameGroupBy.apply operated on the grouping columns. This behavior is deprecated, and in a future version of pandas the grouping columns will be excluded from the operation. Either pass `include_groups=False` to exclude the groupings or explicitly select the grouping columns after groupby to silence this warning.\n",
      "  gp = matches.groupby('match_id').apply(filter_by_player_and_ball_number)\n"
     ]
    },
    {
     "name": "stdout",
     "output_type": "stream",
     "text": [
      "Analyzing Player RL Chase\n",
      "Analyzing Player CR Woakes\n",
      "Analyzing Player DJ Hooda\n",
      "Analyzing Player HV Patel\n"
     ]
    },
    {
     "name": "stderr",
     "output_type": "stream",
     "text": [
      "/tmp/ipykernel_1282148/868147661.py:90: DeprecationWarning: DataFrameGroupBy.apply operated on the grouping columns. This behavior is deprecated, and in a future version of pandas the grouping columns will be excluded from the operation. Either pass `include_groups=False` to exclude the groupings or explicitly select the grouping columns after groupby to silence this warning.\n",
      "  gp = matches.groupby('match_id').apply(filter_by_player_and_ball_number)\n",
      "/tmp/ipykernel_1282148/868147661.py:90: DeprecationWarning: DataFrameGroupBy.apply operated on the grouping columns. This behavior is deprecated, and in a future version of pandas the grouping columns will be excluded from the operation. Either pass `include_groups=False` to exclude the groupings or explicitly select the grouping columns after groupby to silence this warning.\n",
      "  gp = matches.groupby('match_id').apply(filter_by_player_and_ball_number)\n",
      "/tmp/ipykernel_1282148/868147661.py:90: DeprecationWarning: DataFrameGroupBy.apply operated on the grouping columns. This behavior is deprecated, and in a future version of pandas the grouping columns will be excluded from the operation. Either pass `include_groups=False` to exclude the groupings or explicitly select the grouping columns after groupby to silence this warning.\n",
      "  gp = matches.groupby('match_id').apply(filter_by_player_and_ball_number)\n",
      "/tmp/ipykernel_1282148/868147661.py:90: DeprecationWarning: DataFrameGroupBy.apply operated on the grouping columns. This behavior is deprecated, and in a future version of pandas the grouping columns will be excluded from the operation. Either pass `include_groups=False` to exclude the groupings or explicitly select the grouping columns after groupby to silence this warning.\n",
      "  gp = matches.groupby('match_id').apply(filter_by_player_and_ball_number)\n"
     ]
    },
    {
     "name": "stdout",
     "output_type": "stream",
     "text": [
      "Analyzing Player Arshdeep Singh\n",
      "Analyzing Player RJ Gleeson\n",
      "Analyzing Player Avesh Khan\n",
      "Analyzing Player Ravi Bishnoi\n",
      "Analyzing Player RR Rossouw\n"
     ]
    },
    {
     "name": "stderr",
     "output_type": "stream",
     "text": [
      "/tmp/ipykernel_1282148/868147661.py:90: DeprecationWarning: DataFrameGroupBy.apply operated on the grouping columns. This behavior is deprecated, and in a future version of pandas the grouping columns will be excluded from the operation. Either pass `include_groups=False` to exclude the groupings or explicitly select the grouping columns after groupby to silence this warning.\n",
      "  gp = matches.groupby('match_id').apply(filter_by_player_and_ball_number)\n",
      "/tmp/ipykernel_1282148/868147661.py:90: DeprecationWarning: DataFrameGroupBy.apply operated on the grouping columns. This behavior is deprecated, and in a future version of pandas the grouping columns will be excluded from the operation. Either pass `include_groups=False` to exclude the groupings or explicitly select the grouping columns after groupby to silence this warning.\n",
      "  gp = matches.groupby('match_id').apply(filter_by_player_and_ball_number)\n",
      "/tmp/ipykernel_1282148/868147661.py:90: DeprecationWarning: DataFrameGroupBy.apply operated on the grouping columns. This behavior is deprecated, and in a future version of pandas the grouping columns will be excluded from the operation. Either pass `include_groups=False` to exclude the groupings or explicitly select the grouping columns after groupby to silence this warning.\n",
      "  gp = matches.groupby('match_id').apply(filter_by_player_and_ball_number)\n",
      "/tmp/ipykernel_1282148/868147661.py:90: DeprecationWarning: DataFrameGroupBy.apply operated on the grouping columns. This behavior is deprecated, and in a future version of pandas the grouping columns will be excluded from the operation. Either pass `include_groups=False` to exclude the groupings or explicitly select the grouping columns after groupby to silence this warning.\n",
      "  gp = matches.groupby('match_id').apply(filter_by_player_and_ball_number)\n"
     ]
    },
    {
     "name": "stdout",
     "output_type": "stream",
     "text": [
      "Analyzing Player T Stubbs\n",
      "Analyzing Player Saif Hassan\n",
      "Analyzing Player Mohammad Nawaz\n",
      "Analyzing Player VR Iyer\n"
     ]
    },
    {
     "name": "stderr",
     "output_type": "stream",
     "text": [
      "/tmp/ipykernel_1282148/868147661.py:90: DeprecationWarning: DataFrameGroupBy.apply operated on the grouping columns. This behavior is deprecated, and in a future version of pandas the grouping columns will be excluded from the operation. Either pass `include_groups=False` to exclude the groupings or explicitly select the grouping columns after groupby to silence this warning.\n",
      "  gp = matches.groupby('match_id').apply(filter_by_player_and_ball_number)\n",
      "/tmp/ipykernel_1282148/868147661.py:90: DeprecationWarning: DataFrameGroupBy.apply operated on the grouping columns. This behavior is deprecated, and in a future version of pandas the grouping columns will be excluded from the operation. Either pass `include_groups=False` to exclude the groupings or explicitly select the grouping columns after groupby to silence this warning.\n",
      "  gp = matches.groupby('match_id').apply(filter_by_player_and_ball_number)\n",
      "/tmp/ipykernel_1282148/868147661.py:90: DeprecationWarning: DataFrameGroupBy.apply operated on the grouping columns. This behavior is deprecated, and in a future version of pandas the grouping columns will be excluded from the operation. Either pass `include_groups=False` to exclude the groupings or explicitly select the grouping columns after groupby to silence this warning.\n",
      "  gp = matches.groupby('match_id').apply(filter_by_player_and_ball_number)\n",
      "/tmp/ipykernel_1282148/868147661.py:90: DeprecationWarning: DataFrameGroupBy.apply operated on the grouping columns. This behavior is deprecated, and in a future version of pandas the grouping columns will be excluded from the operation. Either pass `include_groups=False` to exclude the groupings or explicitly select the grouping columns after groupby to silence this warning.\n",
      "  gp = matches.groupby('match_id').apply(filter_by_player_and_ball_number)\n"
     ]
    },
    {
     "name": "stdout",
     "output_type": "stream",
     "text": [
      "Analyzing Player AF Milne\n",
      "Analyzing Player DC Drakes\n",
      "Analyzing Player M Jansen\n",
      "Analyzing Player DC Thomas\n",
      "Analyzing Player SSJ Brooks\n"
     ]
    },
    {
     "name": "stderr",
     "output_type": "stream",
     "text": [
      "/tmp/ipykernel_1282148/868147661.py:90: DeprecationWarning: DataFrameGroupBy.apply operated on the grouping columns. This behavior is deprecated, and in a future version of pandas the grouping columns will be excluded from the operation. Either pass `include_groups=False` to exclude the groupings or explicitly select the grouping columns after groupby to silence this warning.\n",
      "  gp = matches.groupby('match_id').apply(filter_by_player_and_ball_number)\n",
      "/tmp/ipykernel_1282148/868147661.py:90: DeprecationWarning: DataFrameGroupBy.apply operated on the grouping columns. This behavior is deprecated, and in a future version of pandas the grouping columns will be excluded from the operation. Either pass `include_groups=False` to exclude the groupings or explicitly select the grouping columns after groupby to silence this warning.\n",
      "  gp = matches.groupby('match_id').apply(filter_by_player_and_ball_number)\n",
      "/tmp/ipykernel_1282148/868147661.py:90: DeprecationWarning: DataFrameGroupBy.apply operated on the grouping columns. This behavior is deprecated, and in a future version of pandas the grouping columns will be excluded from the operation. Either pass `include_groups=False` to exclude the groupings or explicitly select the grouping columns after groupby to silence this warning.\n",
      "  gp = matches.groupby('match_id').apply(filter_by_player_and_ball_number)\n",
      "/tmp/ipykernel_1282148/868147661.py:90: DeprecationWarning: DataFrameGroupBy.apply operated on the grouping columns. This behavior is deprecated, and in a future version of pandas the grouping columns will be excluded from the operation. Either pass `include_groups=False` to exclude the groupings or explicitly select the grouping columns after groupby to silence this warning.\n",
      "  gp = matches.groupby('match_id').apply(filter_by_player_and_ball_number)\n",
      "/tmp/ipykernel_1282148/868147661.py:90: DeprecationWarning: DataFrameGroupBy.apply operated on the grouping columns. This behavior is deprecated, and in a future version of pandas the grouping columns will be excluded from the operation. Either pass `include_groups=False` to exclude the groupings or explicitly select the grouping columns after groupby to silence this warning.\n",
      "  gp = matches.groupby('match_id').apply(filter_by_player_and_ball_number)\n"
     ]
    },
    {
     "name": "stdout",
     "output_type": "stream",
     "text": [
      "Analyzing Player M Labuschagne\n",
      "Analyzing Player C Green\n",
      "Analyzing Player BJ Dwarshuis\n",
      "Analyzing Player T Munyonga\n",
      "Analyzing Player TH David\n"
     ]
    },
    {
     "name": "stderr",
     "output_type": "stream",
     "text": [
      "/tmp/ipykernel_1282148/868147661.py:90: DeprecationWarning: DataFrameGroupBy.apply operated on the grouping columns. This behavior is deprecated, and in a future version of pandas the grouping columns will be excluded from the operation. Either pass `include_groups=False` to exclude the groupings or explicitly select the grouping columns after groupby to silence this warning.\n",
      "  gp = matches.groupby('match_id').apply(filter_by_player_and_ball_number)\n",
      "/tmp/ipykernel_1282148/868147661.py:90: DeprecationWarning: DataFrameGroupBy.apply operated on the grouping columns. This behavior is deprecated, and in a future version of pandas the grouping columns will be excluded from the operation. Either pass `include_groups=False` to exclude the groupings or explicitly select the grouping columns after groupby to silence this warning.\n",
      "  gp = matches.groupby('match_id').apply(filter_by_player_and_ball_number)\n",
      "/tmp/ipykernel_1282148/868147661.py:90: DeprecationWarning: DataFrameGroupBy.apply operated on the grouping columns. This behavior is deprecated, and in a future version of pandas the grouping columns will be excluded from the operation. Either pass `include_groups=False` to exclude the groupings or explicitly select the grouping columns after groupby to silence this warning.\n",
      "  gp = matches.groupby('match_id').apply(filter_by_player_and_ball_number)\n",
      "/tmp/ipykernel_1282148/868147661.py:90: DeprecationWarning: DataFrameGroupBy.apply operated on the grouping columns. This behavior is deprecated, and in a future version of pandas the grouping columns will be excluded from the operation. Either pass `include_groups=False` to exclude the groupings or explicitly select the grouping columns after groupby to silence this warning.\n",
      "  gp = matches.groupby('match_id').apply(filter_by_player_and_ball_number)\n",
      "/tmp/ipykernel_1282148/868147661.py:90: DeprecationWarning: DataFrameGroupBy.apply operated on the grouping columns. This behavior is deprecated, and in a future version of pandas the grouping columns will be excluded from the operation. Either pass `include_groups=False` to exclude the groupings or explicitly select the grouping columns after groupby to silence this warning.\n",
      "  gp = matches.groupby('match_id').apply(filter_by_player_and_ball_number)\n",
      "/tmp/ipykernel_1282148/868147661.py:90: DeprecationWarning: DataFrameGroupBy.apply operated on the grouping columns. This behavior is deprecated, and in a future version of pandas the grouping columns will be excluded from the operation. Either pass `include_groups=False` to exclude the groupings or explicitly select the grouping columns after groupby to silence this warning.\n",
      "  gp = matches.groupby('match_id').apply(filter_by_player_and_ball_number)\n",
      "/tmp/ipykernel_1282148/868147661.py:90: DeprecationWarning: DataFrameGroupBy.apply operated on the grouping columns. This behavior is deprecated, and in a future version of pandas the grouping columns will be excluded from the operation. Either pass `include_groups=False` to exclude the groupings or explicitly select the grouping columns after groupby to silence this warning.\n",
      "  gp = matches.groupby('match_id').apply(filter_by_player_and_ball_number)\n",
      "/tmp/ipykernel_1282148/868147661.py:90: DeprecationWarning: DataFrameGroupBy.apply operated on the grouping columns. This behavior is deprecated, and in a future version of pandas the grouping columns will be excluded from the operation. Either pass `include_groups=False` to exclude the groupings or explicitly select the grouping columns after groupby to silence this warning.\n",
      "  gp = matches.groupby('match_id').apply(filter_by_player_and_ball_number)\n"
     ]
    },
    {
     "name": "stdout",
     "output_type": "stream",
     "text": [
      "Analyzing Player Azmatullah Omarzai\n",
      "Analyzing Player Fazalhaq Farooqi\n",
      "Analyzing Player Shan Masood\n",
      "Analyzing Player F Hand\n"
     ]
    },
    {
     "name": "stderr",
     "output_type": "stream",
     "text": [
      "/tmp/ipykernel_1282148/868147661.py:90: DeprecationWarning: DataFrameGroupBy.apply operated on the grouping columns. This behavior is deprecated, and in a future version of pandas the grouping columns will be excluded from the operation. Either pass `include_groups=False` to exclude the groupings or explicitly select the grouping columns after groupby to silence this warning.\n",
      "  gp = matches.groupby('match_id').apply(filter_by_player_and_ball_number)\n",
      "/tmp/ipykernel_1282148/868147661.py:90: DeprecationWarning: DataFrameGroupBy.apply operated on the grouping columns. This behavior is deprecated, and in a future version of pandas the grouping columns will be excluded from the operation. Either pass `include_groups=False` to exclude the groupings or explicitly select the grouping columns after groupby to silence this warning.\n",
      "  gp = matches.groupby('match_id').apply(filter_by_player_and_ball_number)\n",
      "/tmp/ipykernel_1282148/868147661.py:90: DeprecationWarning: DataFrameGroupBy.apply operated on the grouping columns. This behavior is deprecated, and in a future version of pandas the grouping columns will be excluded from the operation. Either pass `include_groups=False` to exclude the groupings or explicitly select the grouping columns after groupby to silence this warning.\n",
      "  gp = matches.groupby('match_id').apply(filter_by_player_and_ball_number)\n",
      "/tmp/ipykernel_1282148/868147661.py:90: DeprecationWarning: DataFrameGroupBy.apply operated on the grouping columns. This behavior is deprecated, and in a future version of pandas the grouping columns will be excluded from the operation. Either pass `include_groups=False` to exclude the groupings or explicitly select the grouping columns after groupby to silence this warning.\n",
      "  gp = matches.groupby('match_id').apply(filter_by_player_and_ball_number)\n",
      "/tmp/ipykernel_1282148/868147661.py:90: DeprecationWarning: DataFrameGroupBy.apply operated on the grouping columns. This behavior is deprecated, and in a future version of pandas the grouping columns will be excluded from the operation. Either pass `include_groups=False` to exclude the groupings or explicitly select the grouping columns after groupby to silence this warning.\n",
      "  gp = matches.groupby('match_id').apply(filter_by_player_and_ball_number)\n"
     ]
    },
    {
     "name": "stdout",
     "output_type": "stream",
     "text": [
      "Analyzing Player Hasan Mahmud\n",
      "Analyzing Player B Evans\n",
      "Analyzing Player Yasir Ali Chowdhury\n",
      "Analyzing Player Mohammed Shami\n",
      "Analyzing Player Mohammad Haris\n"
     ]
    },
    {
     "name": "stderr",
     "output_type": "stream",
     "text": [
      "/tmp/ipykernel_1282148/868147661.py:90: DeprecationWarning: DataFrameGroupBy.apply operated on the grouping columns. This behavior is deprecated, and in a future version of pandas the grouping columns will be excluded from the operation. Either pass `include_groups=False` to exclude the groupings or explicitly select the grouping columns after groupby to silence this warning.\n",
      "  gp = matches.groupby('match_id').apply(filter_by_player_and_ball_number)\n",
      "/tmp/ipykernel_1282148/868147661.py:90: DeprecationWarning: DataFrameGroupBy.apply operated on the grouping columns. This behavior is deprecated, and in a future version of pandas the grouping columns will be excluded from the operation. Either pass `include_groups=False` to exclude the groupings or explicitly select the grouping columns after groupby to silence this warning.\n",
      "  gp = matches.groupby('match_id').apply(filter_by_player_and_ball_number)\n",
      "/tmp/ipykernel_1282148/868147661.py:90: DeprecationWarning: DataFrameGroupBy.apply operated on the grouping columns. This behavior is deprecated, and in a future version of pandas the grouping columns will be excluded from the operation. Either pass `include_groups=False` to exclude the groupings or explicitly select the grouping columns after groupby to silence this warning.\n",
      "  gp = matches.groupby('match_id').apply(filter_by_player_and_ball_number)\n",
      "/tmp/ipykernel_1282148/868147661.py:90: DeprecationWarning: DataFrameGroupBy.apply operated on the grouping columns. This behavior is deprecated, and in a future version of pandas the grouping columns will be excluded from the operation. Either pass `include_groups=False` to exclude the groupings or explicitly select the grouping columns after groupby to silence this warning.\n",
      "  gp = matches.groupby('match_id').apply(filter_by_player_and_ball_number)\n",
      "/tmp/ipykernel_1282148/868147661.py:90: DeprecationWarning: DataFrameGroupBy.apply operated on the grouping columns. This behavior is deprecated, and in a future version of pandas the grouping columns will be excluded from the operation. Either pass `include_groups=False` to exclude the groupings or explicitly select the grouping columns after groupby to silence this warning.\n",
      "  gp = matches.groupby('match_id').apply(filter_by_player_and_ball_number)\n"
     ]
    },
    {
     "name": "stdout",
     "output_type": "stream",
     "text": [
      "Analyzing Player Naseem Shah\n",
      "Analyzing Player Darwish Rasooli\n",
      "Analyzing Player Qais Ahmad\n",
      "Analyzing Player Munim Shahriar\n",
      "Analyzing Player D Cleaver\n"
     ]
    },
    {
     "name": "stderr",
     "output_type": "stream",
     "text": [
      "/tmp/ipykernel_1282148/868147661.py:90: DeprecationWarning: DataFrameGroupBy.apply operated on the grouping columns. This behavior is deprecated, and in a future version of pandas the grouping columns will be excluded from the operation. Either pass `include_groups=False` to exclude the groupings or explicitly select the grouping columns after groupby to silence this warning.\n",
      "  gp = matches.groupby('match_id').apply(filter_by_player_and_ball_number)\n",
      "/tmp/ipykernel_1282148/868147661.py:90: DeprecationWarning: DataFrameGroupBy.apply operated on the grouping columns. This behavior is deprecated, and in a future version of pandas the grouping columns will be excluded from the operation. Either pass `include_groups=False` to exclude the groupings or explicitly select the grouping columns after groupby to silence this warning.\n",
      "  gp = matches.groupby('match_id').apply(filter_by_player_and_ball_number)\n",
      "/tmp/ipykernel_1282148/868147661.py:90: DeprecationWarning: DataFrameGroupBy.apply operated on the grouping columns. This behavior is deprecated, and in a future version of pandas the grouping columns will be excluded from the operation. Either pass `include_groups=False` to exclude the groupings or explicitly select the grouping columns after groupby to silence this warning.\n",
      "  gp = matches.groupby('match_id').apply(filter_by_player_and_ball_number)\n",
      "/tmp/ipykernel_1282148/868147661.py:90: DeprecationWarning: DataFrameGroupBy.apply operated on the grouping columns. This behavior is deprecated, and in a future version of pandas the grouping columns will be excluded from the operation. Either pass `include_groups=False` to exclude the groupings or explicitly select the grouping columns after groupby to silence this warning.\n",
      "  gp = matches.groupby('match_id').apply(filter_by_player_and_ball_number)\n",
      "/tmp/ipykernel_1282148/868147661.py:90: DeprecationWarning: DataFrameGroupBy.apply operated on the grouping columns. This behavior is deprecated, and in a future version of pandas the grouping columns will be excluded from the operation. Either pass `include_groups=False` to exclude the groupings or explicitly select the grouping columns after groupby to silence this warning.\n",
      "  gp = matches.groupby('match_id').apply(filter_by_player_and_ball_number)\n"
     ]
    },
    {
     "name": "stdout",
     "output_type": "stream",
     "text": [
      "Analyzing Player MG Bracewell\n",
      "Analyzing Player Hashmatullah Shahidi\n",
      "Analyzing Player GI Hume\n",
      "Analyzing Player N Thushara\n",
      "Analyzing Player I Kaia\n"
     ]
    },
    {
     "name": "stderr",
     "output_type": "stream",
     "text": [
      "/tmp/ipykernel_1282148/868147661.py:90: DeprecationWarning: DataFrameGroupBy.apply operated on the grouping columns. This behavior is deprecated, and in a future version of pandas the grouping columns will be excluded from the operation. Either pass `include_groups=False` to exclude the groupings or explicitly select the grouping columns after groupby to silence this warning.\n",
      "  gp = matches.groupby('match_id').apply(filter_by_player_and_ball_number)\n",
      "/tmp/ipykernel_1282148/868147661.py:90: DeprecationWarning: DataFrameGroupBy.apply operated on the grouping columns. This behavior is deprecated, and in a future version of pandas the grouping columns will be excluded from the operation. Either pass `include_groups=False` to exclude the groupings or explicitly select the grouping columns after groupby to silence this warning.\n",
      "  gp = matches.groupby('match_id').apply(filter_by_player_and_ball_number)\n",
      "/tmp/ipykernel_1282148/868147661.py:90: DeprecationWarning: DataFrameGroupBy.apply operated on the grouping columns. This behavior is deprecated, and in a future version of pandas the grouping columns will be excluded from the operation. Either pass `include_groups=False` to exclude the groupings or explicitly select the grouping columns after groupby to silence this warning.\n",
      "  gp = matches.groupby('match_id').apply(filter_by_player_and_ball_number)\n",
      "/tmp/ipykernel_1282148/868147661.py:90: DeprecationWarning: DataFrameGroupBy.apply operated on the grouping columns. This behavior is deprecated, and in a future version of pandas the grouping columns will be excluded from the operation. Either pass `include_groups=False` to exclude the groupings or explicitly select the grouping columns after groupby to silence this warning.\n",
      "  gp = matches.groupby('match_id').apply(filter_by_player_and_ball_number)\n",
      "/tmp/ipykernel_1282148/868147661.py:90: DeprecationWarning: DataFrameGroupBy.apply operated on the grouping columns. This behavior is deprecated, and in a future version of pandas the grouping columns will be excluded from the operation. Either pass `include_groups=False` to exclude the groupings or explicitly select the grouping columns after groupby to silence this warning.\n",
      "  gp = matches.groupby('match_id').apply(filter_by_player_and_ball_number)\n"
     ]
    },
    {
     "name": "stdout",
     "output_type": "stream",
     "text": [
      "Analyzing Player Ihsanullah\n",
      "Analyzing Player Afsar Zazai\n",
      "Analyzing Player Noor Ahmad\n",
      "Analyzing Player Nijat Masood\n",
      "Analyzing Player C Madande\n"
     ]
    },
    {
     "name": "stderr",
     "output_type": "stream",
     "text": [
      "/tmp/ipykernel_1282148/868147661.py:90: DeprecationWarning: DataFrameGroupBy.apply operated on the grouping columns. This behavior is deprecated, and in a future version of pandas the grouping columns will be excluded from the operation. Either pass `include_groups=False` to exclude the groupings or explicitly select the grouping columns after groupby to silence this warning.\n",
      "  gp = matches.groupby('match_id').apply(filter_by_player_and_ball_number)\n",
      "/tmp/ipykernel_1282148/868147661.py:90: DeprecationWarning: DataFrameGroupBy.apply operated on the grouping columns. This behavior is deprecated, and in a future version of pandas the grouping columns will be excluded from the operation. Either pass `include_groups=False` to exclude the groupings or explicitly select the grouping columns after groupby to silence this warning.\n",
      "  gp = matches.groupby('match_id').apply(filter_by_player_and_ball_number)\n",
      "/tmp/ipykernel_1282148/868147661.py:90: DeprecationWarning: DataFrameGroupBy.apply operated on the grouping columns. This behavior is deprecated, and in a future version of pandas the grouping columns will be excluded from the operation. Either pass `include_groups=False` to exclude the groupings or explicitly select the grouping columns after groupby to silence this warning.\n",
      "  gp = matches.groupby('match_id').apply(filter_by_player_and_ball_number)\n",
      "/tmp/ipykernel_1282148/868147661.py:90: DeprecationWarning: DataFrameGroupBy.apply operated on the grouping columns. This behavior is deprecated, and in a future version of pandas the grouping columns will be excluded from the operation. Either pass `include_groups=False` to exclude the groupings or explicitly select the grouping columns after groupby to silence this warning.\n",
      "  gp = matches.groupby('match_id').apply(filter_by_player_and_ball_number)\n"
     ]
    },
    {
     "name": "stdout",
     "output_type": "stream",
     "text": [
      "Analyzing Player Anamul Haque\n",
      "Analyzing Player RA Reifer\n",
      "Analyzing Player AS Joseph\n",
      "Analyzing Player Y Cariah\n",
      "Analyzing Player CJ Bowes\n"
     ]
    },
    {
     "name": "stderr",
     "output_type": "stream",
     "text": [
      "/tmp/ipykernel_1282148/868147661.py:90: DeprecationWarning: DataFrameGroupBy.apply operated on the grouping columns. This behavior is deprecated, and in a future version of pandas the grouping columns will be excluded from the operation. Either pass `include_groups=False` to exclude the groupings or explicitly select the grouping columns after groupby to silence this warning.\n",
      "  gp = matches.groupby('match_id').apply(filter_by_player_and_ball_number)\n",
      "/tmp/ipykernel_1282148/868147661.py:90: DeprecationWarning: DataFrameGroupBy.apply operated on the grouping columns. This behavior is deprecated, and in a future version of pandas the grouping columns will be excluded from the operation. Either pass `include_groups=False` to exclude the groupings or explicitly select the grouping columns after groupby to silence this warning.\n",
      "  gp = matches.groupby('match_id').apply(filter_by_player_and_ball_number)\n",
      "/tmp/ipykernel_1282148/868147661.py:90: DeprecationWarning: DataFrameGroupBy.apply operated on the grouping columns. This behavior is deprecated, and in a future version of pandas the grouping columns will be excluded from the operation. Either pass `include_groups=False` to exclude the groupings or explicitly select the grouping columns after groupby to silence this warning.\n",
      "  gp = matches.groupby('match_id').apply(filter_by_player_and_ball_number)\n",
      "/tmp/ipykernel_1282148/868147661.py:90: DeprecationWarning: DataFrameGroupBy.apply operated on the grouping columns. This behavior is deprecated, and in a future version of pandas the grouping columns will be excluded from the operation. Either pass `include_groups=False` to exclude the groupings or explicitly select the grouping columns after groupby to silence this warning.\n",
      "  gp = matches.groupby('match_id').apply(filter_by_player_and_ball_number)\n",
      "/tmp/ipykernel_1282148/868147661.py:90: DeprecationWarning: DataFrameGroupBy.apply operated on the grouping columns. This behavior is deprecated, and in a future version of pandas the grouping columns will be excluded from the operation. Either pass `include_groups=False` to exclude the groupings or explicitly select the grouping columns after groupby to silence this warning.\n",
      "  gp = matches.groupby('match_id').apply(filter_by_player_and_ball_number)\n"
     ]
    },
    {
     "name": "stdout",
     "output_type": "stream",
     "text": [
      "Analyzing Player HB Shipley\n",
      "Analyzing Player PM Liyanagamage\n",
      "Analyzing Player D Madushanka\n",
      "Analyzing Player Parvez Hossain Emon\n",
      "Analyzing Player VM Nyauchi\n",
      "Analyzing Player WG Jacks\n"
     ]
    },
    {
     "name": "stderr",
     "output_type": "stream",
     "text": [
      "/tmp/ipykernel_1282148/868147661.py:90: DeprecationWarning: DataFrameGroupBy.apply operated on the grouping columns. This behavior is deprecated, and in a future version of pandas the grouping columns will be excluded from the operation. Either pass `include_groups=False` to exclude the groupings or explicitly select the grouping columns after groupby to silence this warning.\n",
      "  gp = matches.groupby('match_id').apply(filter_by_player_and_ball_number)\n",
      "/tmp/ipykernel_1282148/868147661.py:90: DeprecationWarning: DataFrameGroupBy.apply operated on the grouping columns. This behavior is deprecated, and in a future version of pandas the grouping columns will be excluded from the operation. Either pass `include_groups=False` to exclude the groupings or explicitly select the grouping columns after groupby to silence this warning.\n",
      "  gp = matches.groupby('match_id').apply(filter_by_player_and_ball_number)\n",
      "/tmp/ipykernel_1282148/868147661.py:90: DeprecationWarning: DataFrameGroupBy.apply operated on the grouping columns. This behavior is deprecated, and in a future version of pandas the grouping columns will be excluded from the operation. Either pass `include_groups=False` to exclude the groupings or explicitly select the grouping columns after groupby to silence this warning.\n",
      "  gp = matches.groupby('match_id').apply(filter_by_player_and_ball_number)\n",
      "/tmp/ipykernel_1282148/868147661.py:90: DeprecationWarning: DataFrameGroupBy.apply operated on the grouping columns. This behavior is deprecated, and in a future version of pandas the grouping columns will be excluded from the operation. Either pass `include_groups=False` to exclude the groupings or explicitly select the grouping columns after groupby to silence this warning.\n",
      "  gp = matches.groupby('match_id').apply(filter_by_player_and_ball_number)\n",
      "/tmp/ipykernel_1282148/868147661.py:90: DeprecationWarning: DataFrameGroupBy.apply operated on the grouping columns. This behavior is deprecated, and in a future version of pandas the grouping columns will be excluded from the operation. Either pass `include_groups=False` to exclude the groupings or explicitly select the grouping columns after groupby to silence this warning.\n",
      "  gp = matches.groupby('match_id').apply(filter_by_player_and_ball_number)\n"
     ]
    },
    {
     "name": "stdout",
     "output_type": "stream",
     "text": [
      "Analyzing Player OP Stone\n",
      "Analyzing Player Aamer Jamal\n",
      "Analyzing Player M Pathirana\n",
      "Analyzing Player Shahnawaz Dhani\n",
      "Analyzing Player AM Fernando\n",
      "Analyzing Player Mohammed Siraj\n"
     ]
    },
    {
     "name": "stderr",
     "output_type": "stream",
     "text": [
      "/tmp/ipykernel_1282148/868147661.py:90: DeprecationWarning: DataFrameGroupBy.apply operated on the grouping columns. This behavior is deprecated, and in a future version of pandas the grouping columns will be excluded from the operation. Either pass `include_groups=False` to exclude the groupings or explicitly select the grouping columns after groupby to silence this warning.\n",
      "  gp = matches.groupby('match_id').apply(filter_by_player_and_ball_number)\n",
      "/tmp/ipykernel_1282148/868147661.py:90: DeprecationWarning: DataFrameGroupBy.apply operated on the grouping columns. This behavior is deprecated, and in a future version of pandas the grouping columns will be excluded from the operation. Either pass `include_groups=False` to exclude the groupings or explicitly select the grouping columns after groupby to silence this warning.\n",
      "  gp = matches.groupby('match_id').apply(filter_by_player_and_ball_number)\n",
      "/tmp/ipykernel_1282148/868147661.py:90: DeprecationWarning: DataFrameGroupBy.apply operated on the grouping columns. This behavior is deprecated, and in a future version of pandas the grouping columns will be excluded from the operation. Either pass `include_groups=False` to exclude the groupings or explicitly select the grouping columns after groupby to silence this warning.\n",
      "  gp = matches.groupby('match_id').apply(filter_by_player_and_ball_number)\n",
      "/tmp/ipykernel_1282148/868147661.py:90: DeprecationWarning: DataFrameGroupBy.apply operated on the grouping columns. This behavior is deprecated, and in a future version of pandas the grouping columns will be excluded from the operation. Either pass `include_groups=False` to exclude the groupings or explicitly select the grouping columns after groupby to silence this warning.\n",
      "  gp = matches.groupby('match_id').apply(filter_by_player_and_ball_number)\n",
      "/tmp/ipykernel_1282148/868147661.py:90: DeprecationWarning: DataFrameGroupBy.apply operated on the grouping columns. This behavior is deprecated, and in a future version of pandas the grouping columns will be excluded from the operation. Either pass `include_groups=False` to exclude the groupings or explicitly select the grouping columns after groupby to silence this warning.\n",
      "  gp = matches.groupby('match_id').apply(filter_by_player_and_ball_number)\n"
     ]
    },
    {
     "name": "stdout",
     "output_type": "stream",
     "text": [
      "Analyzing Player L Wood\n",
      "Analyzing Player AAP Atkinson\n",
      "Analyzing Player Rehan Ahmed\n",
      "Analyzing Player BA Carse\n",
      "Analyzing Player MJ Henry\n"
     ]
    },
    {
     "name": "stderr",
     "output_type": "stream",
     "text": [
      "/tmp/ipykernel_1282148/868147661.py:90: DeprecationWarning: DataFrameGroupBy.apply operated on the grouping columns. This behavior is deprecated, and in a future version of pandas the grouping columns will be excluded from the operation. Either pass `include_groups=False` to exclude the groupings or explicitly select the grouping columns after groupby to silence this warning.\n",
      "  gp = matches.groupby('match_id').apply(filter_by_player_and_ball_number)\n",
      "/tmp/ipykernel_1282148/868147661.py:90: DeprecationWarning: DataFrameGroupBy.apply operated on the grouping columns. This behavior is deprecated, and in a future version of pandas the grouping columns will be excluded from the operation. Either pass `include_groups=False` to exclude the groupings or explicitly select the grouping columns after groupby to silence this warning.\n",
      "  gp = matches.groupby('match_id').apply(filter_by_player_and_ball_number)\n",
      "/tmp/ipykernel_1282148/868147661.py:90: DeprecationWarning: DataFrameGroupBy.apply operated on the grouping columns. This behavior is deprecated, and in a future version of pandas the grouping columns will be excluded from the operation. Either pass `include_groups=False` to exclude the groupings or explicitly select the grouping columns after groupby to silence this warning.\n",
      "  gp = matches.groupby('match_id').apply(filter_by_player_and_ball_number)\n",
      "/tmp/ipykernel_1282148/868147661.py:90: DeprecationWarning: DataFrameGroupBy.apply operated on the grouping columns. This behavior is deprecated, and in a future version of pandas the grouping columns will be excluded from the operation. Either pass `include_groups=False` to exclude the groupings or explicitly select the grouping columns after groupby to silence this warning.\n",
      "  gp = matches.groupby('match_id').apply(filter_by_player_and_ball_number)\n",
      "/tmp/ipykernel_1282148/868147661.py:90: DeprecationWarning: DataFrameGroupBy.apply operated on the grouping columns. This behavior is deprecated, and in a future version of pandas the grouping columns will be excluded from the operation. Either pass `include_groups=False` to exclude the groupings or explicitly select the grouping columns after groupby to silence this warning.\n",
      "  gp = matches.groupby('match_id').apply(filter_by_player_and_ball_number)\n"
     ]
    },
    {
     "name": "stdout",
     "output_type": "stream",
     "text": [
      "Analyzing Player BG Lister\n",
      "Analyzing Player Saim Ayub\n",
      "Analyzing Player Zaman Khan\n",
      "Analyzing Player GR Adair\n",
      "Analyzing Player ST Doheny\n"
     ]
    },
    {
     "name": "stderr",
     "output_type": "stream",
     "text": [
      "/tmp/ipykernel_1282148/868147661.py:90: DeprecationWarning: DataFrameGroupBy.apply operated on the grouping columns. This behavior is deprecated, and in a future version of pandas the grouping columns will be excluded from the operation. Either pass `include_groups=False` to exclude the groupings or explicitly select the grouping columns after groupby to silence this warning.\n",
      "  gp = matches.groupby('match_id').apply(filter_by_player_and_ball_number)\n",
      "/tmp/ipykernel_1282148/868147661.py:90: DeprecationWarning: DataFrameGroupBy.apply operated on the grouping columns. This behavior is deprecated, and in a future version of pandas the grouping columns will be excluded from the operation. Either pass `include_groups=False` to exclude the groupings or explicitly select the grouping columns after groupby to silence this warning.\n",
      "  gp = matches.groupby('match_id').apply(filter_by_player_and_ball_number)\n",
      "/tmp/ipykernel_1282148/868147661.py:90: DeprecationWarning: DataFrameGroupBy.apply operated on the grouping columns. This behavior is deprecated, and in a future version of pandas the grouping columns will be excluded from the operation. Either pass `include_groups=False` to exclude the groupings or explicitly select the grouping columns after groupby to silence this warning.\n",
      "  gp = matches.groupby('match_id').apply(filter_by_player_and_ball_number)\n",
      "/tmp/ipykernel_1282148/868147661.py:90: DeprecationWarning: DataFrameGroupBy.apply operated on the grouping columns. This behavior is deprecated, and in a future version of pandas the grouping columns will be excluded from the operation. Either pass `include_groups=False` to exclude the groupings or explicitly select the grouping columns after groupby to silence this warning.\n",
      "  gp = matches.groupby('match_id').apply(filter_by_player_and_ball_number)\n",
      "/tmp/ipykernel_1282148/868147661.py:90: DeprecationWarning: DataFrameGroupBy.apply operated on the grouping columns. This behavior is deprecated, and in a future version of pandas the grouping columns will be excluded from the operation. Either pass `include_groups=False` to exclude the groupings or explicitly select the grouping columns after groupby to silence this warning.\n",
      "  gp = matches.groupby('match_id').apply(filter_by_player_and_ball_number)\n"
     ]
    },
    {
     "name": "stdout",
     "output_type": "stream",
     "text": [
      "Analyzing Player GS Ballance\n",
      "Analyzing Player Shubman Gill\n",
      "Analyzing Player RA Tripathi\n",
      "Analyzing Player Shivam Mavi\n",
      "Analyzing Player Umran Malik\n"
     ]
    },
    {
     "name": "stderr",
     "output_type": "stream",
     "text": [
      "/tmp/ipykernel_1282148/868147661.py:90: DeprecationWarning: DataFrameGroupBy.apply operated on the grouping columns. This behavior is deprecated, and in a future version of pandas the grouping columns will be excluded from the operation. Either pass `include_groups=False` to exclude the groupings or explicitly select the grouping columns after groupby to silence this warning.\n",
      "  gp = matches.groupby('match_id').apply(filter_by_player_and_ball_number)\n",
      "/tmp/ipykernel_1282148/868147661.py:90: DeprecationWarning: DataFrameGroupBy.apply operated on the grouping columns. This behavior is deprecated, and in a future version of pandas the grouping columns will be excluded from the operation. Either pass `include_groups=False` to exclude the groupings or explicitly select the grouping columns after groupby to silence this warning.\n",
      "  gp = matches.groupby('match_id').apply(filter_by_player_and_ball_number)\n",
      "/tmp/ipykernel_1282148/868147661.py:90: DeprecationWarning: DataFrameGroupBy.apply operated on the grouping columns. This behavior is deprecated, and in a future version of pandas the grouping columns will be excluded from the operation. Either pass `include_groups=False` to exclude the groupings or explicitly select the grouping columns after groupby to silence this warning.\n",
      "  gp = matches.groupby('match_id').apply(filter_by_player_and_ball_number)\n",
      "/tmp/ipykernel_1282148/868147661.py:90: DeprecationWarning: DataFrameGroupBy.apply operated on the grouping columns. This behavior is deprecated, and in a future version of pandas the grouping columns will be excluded from the operation. Either pass `include_groups=False` to exclude the groupings or explicitly select the grouping columns after groupby to silence this warning.\n",
      "  gp = matches.groupby('match_id').apply(filter_by_player_and_ball_number)\n",
      "/tmp/ipykernel_1282148/868147661.py:90: DeprecationWarning: DataFrameGroupBy.apply operated on the grouping columns. This behavior is deprecated, and in a future version of pandas the grouping columns will be excluded from the operation. Either pass `include_groups=False` to exclude the groupings or explicitly select the grouping columns after groupby to silence this warning.\n",
      "  gp = matches.groupby('match_id').apply(filter_by_player_and_ball_number)\n"
     ]
    },
    {
     "name": "stdout",
     "output_type": "stream",
     "text": [
      "Analyzing Player Rony Talukdar\n",
      "Analyzing Player Towhid Hridoy\n",
      "Analyzing Player Rishad Hossain\n",
      "Analyzing Player Tayyab Tahir\n",
      "Analyzing Player Sediqullah Atal\n"
     ]
    },
    {
     "name": "stderr",
     "output_type": "stream",
     "text": [
      "/tmp/ipykernel_1282148/868147661.py:90: DeprecationWarning: DataFrameGroupBy.apply operated on the grouping columns. This behavior is deprecated, and in a future version of pandas the grouping columns will be excluded from the operation. Either pass `include_groups=False` to exclude the groupings or explicitly select the grouping columns after groupby to silence this warning.\n",
      "  gp = matches.groupby('match_id').apply(filter_by_player_and_ball_number)\n",
      "/tmp/ipykernel_1282148/868147661.py:90: DeprecationWarning: DataFrameGroupBy.apply operated on the grouping columns. This behavior is deprecated, and in a future version of pandas the grouping columns will be excluded from the operation. Either pass `include_groups=False` to exclude the groupings or explicitly select the grouping columns after groupby to silence this warning.\n",
      "  gp = matches.groupby('match_id').apply(filter_by_player_and_ball_number)\n",
      "/tmp/ipykernel_1282148/868147661.py:90: DeprecationWarning: DataFrameGroupBy.apply operated on the grouping columns. This behavior is deprecated, and in a future version of pandas the grouping columns will be excluded from the operation. Either pass `include_groups=False` to exclude the groupings or explicitly select the grouping columns after groupby to silence this warning.\n",
      "  gp = matches.groupby('match_id').apply(filter_by_player_and_ball_number)\n",
      "/tmp/ipykernel_1282148/868147661.py:90: DeprecationWarning: DataFrameGroupBy.apply operated on the grouping columns. This behavior is deprecated, and in a future version of pandas the grouping columns will be excluded from the operation. Either pass `include_groups=False` to exclude the groupings or explicitly select the grouping columns after groupby to silence this warning.\n",
      "  gp = matches.groupby('match_id').apply(filter_by_player_and_ball_number)\n",
      "/tmp/ipykernel_1282148/868147661.py:90: DeprecationWarning: DataFrameGroupBy.apply operated on the grouping columns. This behavior is deprecated, and in a future version of pandas the grouping columns will be excluded from the operation. Either pass `include_groups=False` to exclude the groupings or explicitly select the grouping columns after groupby to silence this warning.\n",
      "  gp = matches.groupby('match_id').apply(filter_by_player_and_ball_number)\n"
     ]
    },
    {
     "name": "stdout",
     "output_type": "stream",
     "text": [
      "Analyzing Player MW Short\n",
      "Analyzing Player AM Hardie\n",
      "Analyzing Player D Brevis\n",
      "Analyzing Player G Coetzee\n",
      "Analyzing Player MP Breetzke\n"
     ]
    },
    {
     "name": "stderr",
     "output_type": "stream",
     "text": [
      "/tmp/ipykernel_1282148/868147661.py:90: DeprecationWarning: DataFrameGroupBy.apply operated on the grouping columns. This behavior is deprecated, and in a future version of pandas the grouping columns will be excluded from the operation. Either pass `include_groups=False` to exclude the groupings or explicitly select the grouping columns after groupby to silence this warning.\n",
      "  gp = matches.groupby('match_id').apply(filter_by_player_and_ball_number)\n",
      "/tmp/ipykernel_1282148/868147661.py:90: DeprecationWarning: DataFrameGroupBy.apply operated on the grouping columns. This behavior is deprecated, and in a future version of pandas the grouping columns will be excluded from the operation. Either pass `include_groups=False` to exclude the groupings or explicitly select the grouping columns after groupby to silence this warning.\n",
      "  gp = matches.groupby('match_id').apply(filter_by_player_and_ball_number)\n",
      "/tmp/ipykernel_1282148/868147661.py:90: DeprecationWarning: DataFrameGroupBy.apply operated on the grouping columns. This behavior is deprecated, and in a future version of pandas the grouping columns will be excluded from the operation. Either pass `include_groups=False` to exclude the groupings or explicitly select the grouping columns after groupby to silence this warning.\n",
      "  gp = matches.groupby('match_id').apply(filter_by_player_and_ball_number)\n",
      "/tmp/ipykernel_1282148/868147661.py:90: DeprecationWarning: DataFrameGroupBy.apply operated on the grouping columns. This behavior is deprecated, and in a future version of pandas the grouping columns will be excluded from the operation. Either pass `include_groups=False` to exclude the groupings or explicitly select the grouping columns after groupby to silence this warning.\n",
      "  gp = matches.groupby('match_id').apply(filter_by_player_and_ball_number)\n",
      "/tmp/ipykernel_1282148/868147661.py:90: DeprecationWarning: DataFrameGroupBy.apply operated on the grouping columns. This behavior is deprecated, and in a future version of pandas the grouping columns will be excluded from the operation. Either pass `include_groups=False` to exclude the groupings or explicitly select the grouping columns after groupby to silence this warning.\n",
      "  gp = matches.groupby('match_id').apply(filter_by_player_and_ball_number)\n"
     ]
    },
    {
     "name": "stdout",
     "output_type": "stream",
     "text": [
      "Analyzing Player D Ferreira\n",
      "Analyzing Player MW Forde\n",
      "Analyzing Player G Motie\n",
      "Analyzing Player Tilak Varma\n",
      "Analyzing Player Mukesh Kumar\n"
     ]
    },
    {
     "name": "stderr",
     "output_type": "stream",
     "text": [
      "/tmp/ipykernel_1282148/868147661.py:90: DeprecationWarning: DataFrameGroupBy.apply operated on the grouping columns. This behavior is deprecated, and in a future version of pandas the grouping columns will be excluded from the operation. Either pass `include_groups=False` to exclude the groupings or explicitly select the grouping columns after groupby to silence this warning.\n",
      "  gp = matches.groupby('match_id').apply(filter_by_player_and_ball_number)\n",
      "/tmp/ipykernel_1282148/868147661.py:90: DeprecationWarning: DataFrameGroupBy.apply operated on the grouping columns. This behavior is deprecated, and in a future version of pandas the grouping columns will be excluded from the operation. Either pass `include_groups=False` to exclude the groupings or explicitly select the grouping columns after groupby to silence this warning.\n",
      "  gp = matches.groupby('match_id').apply(filter_by_player_and_ball_number)\n",
      "/tmp/ipykernel_1282148/868147661.py:90: DeprecationWarning: DataFrameGroupBy.apply operated on the grouping columns. This behavior is deprecated, and in a future version of pandas the grouping columns will be excluded from the operation. Either pass `include_groups=False` to exclude the groupings or explicitly select the grouping columns after groupby to silence this warning.\n",
      "  gp = matches.groupby('match_id').apply(filter_by_player_and_ball_number)\n",
      "/tmp/ipykernel_1282148/868147661.py:90: DeprecationWarning: DataFrameGroupBy.apply operated on the grouping columns. This behavior is deprecated, and in a future version of pandas the grouping columns will be excluded from the operation. Either pass `include_groups=False` to exclude the groupings or explicitly select the grouping columns after groupby to silence this warning.\n",
      "  gp = matches.groupby('match_id').apply(filter_by_player_and_ball_number)\n"
     ]
    },
    {
     "name": "stdout",
     "output_type": "stream",
     "text": [
      "Analyzing Player YBK Jaiswal\n",
      "Analyzing Player RK Singh\n",
      "Analyzing Player JM Sharma\n",
      "Analyzing Player N Burger\n",
      "Analyzing Player BV Sears\n"
     ]
    },
    {
     "name": "stderr",
     "output_type": "stream",
     "text": [
      "/tmp/ipykernel_1282148/868147661.py:90: DeprecationWarning: DataFrameGroupBy.apply operated on the grouping columns. This behavior is deprecated, and in a future version of pandas the grouping columns will be excluded from the operation. Either pass `include_groups=False` to exclude the groupings or explicitly select the grouping columns after groupby to silence this warning.\n",
      "  gp = matches.groupby('match_id').apply(filter_by_player_and_ball_number)\n",
      "/tmp/ipykernel_1282148/868147661.py:90: DeprecationWarning: DataFrameGroupBy.apply operated on the grouping columns. This behavior is deprecated, and in a future version of pandas the grouping columns will be excluded from the operation. Either pass `include_groups=False` to exclude the groupings or explicitly select the grouping columns after groupby to silence this warning.\n",
      "  gp = matches.groupby('match_id').apply(filter_by_player_and_ball_number)\n",
      "/tmp/ipykernel_1282148/868147661.py:90: DeprecationWarning: DataFrameGroupBy.apply operated on the grouping columns. This behavior is deprecated, and in a future version of pandas the grouping columns will be excluded from the operation. Either pass `include_groups=False` to exclude the groupings or explicitly select the grouping columns after groupby to silence this warning.\n",
      "  gp = matches.groupby('match_id').apply(filter_by_player_and_ball_number)\n",
      "/tmp/ipykernel_1282148/868147661.py:90: DeprecationWarning: DataFrameGroupBy.apply operated on the grouping columns. This behavior is deprecated, and in a future version of pandas the grouping columns will be excluded from the operation. Either pass `include_groups=False` to exclude the groupings or explicitly select the grouping columns after groupby to silence this warning.\n",
      "  gp = matches.groupby('match_id').apply(filter_by_player_and_ball_number)\n",
      "/tmp/ipykernel_1282148/868147661.py:90: DeprecationWarning: DataFrameGroupBy.apply operated on the grouping columns. This behavior is deprecated, and in a future version of pandas the grouping columns will be excluded from the operation. Either pass `include_groups=False` to exclude the groupings or explicitly select the grouping columns after groupby to silence this warning.\n",
      "  gp = matches.groupby('match_id').apply(filter_by_player_and_ball_number)\n"
     ]
    },
    {
     "name": "stdout",
     "output_type": "stream",
     "text": [
      "Analyzing Player Tanvir Islam\n",
      "Analyzing Player Usama Mir\n",
      "Analyzing Player Abbas Afridi\n",
      "Analyzing Player Haseebullah Khan\n",
      "Analyzing Player JA Clarkson\n",
      "Analyzing Player T Sangha\n"
     ]
    },
    {
     "name": "stderr",
     "output_type": "stream",
     "text": [
      "/tmp/ipykernel_1282148/868147661.py:90: DeprecationWarning: DataFrameGroupBy.apply operated on the grouping columns. This behavior is deprecated, and in a future version of pandas the grouping columns will be excluded from the operation. Either pass `include_groups=False` to exclude the groupings or explicitly select the grouping columns after groupby to silence this warning.\n",
      "  gp = matches.groupby('match_id').apply(filter_by_player_and_ball_number)\n",
      "/tmp/ipykernel_1282148/868147661.py:90: DeprecationWarning: DataFrameGroupBy.apply operated on the grouping columns. This behavior is deprecated, and in a future version of pandas the grouping columns will be excluded from the operation. Either pass `include_groups=False` to exclude the groupings or explicitly select the grouping columns after groupby to silence this warning.\n",
      "  gp = matches.groupby('match_id').apply(filter_by_player_and_ball_number)\n",
      "/tmp/ipykernel_1282148/868147661.py:90: DeprecationWarning: DataFrameGroupBy.apply operated on the grouping columns. This behavior is deprecated, and in a future version of pandas the grouping columns will be excluded from the operation. Either pass `include_groups=False` to exclude the groupings or explicitly select the grouping columns after groupby to silence this warning.\n",
      "  gp = matches.groupby('match_id').apply(filter_by_player_and_ball_number)\n",
      "/tmp/ipykernel_1282148/868147661.py:90: DeprecationWarning: DataFrameGroupBy.apply operated on the grouping columns. This behavior is deprecated, and in a future version of pandas the grouping columns will be excluded from the operation. Either pass `include_groups=False` to exclude the groupings or explicitly select the grouping columns after groupby to silence this warning.\n",
      "  gp = matches.groupby('match_id').apply(filter_by_player_and_ball_number)\n",
      "/tmp/ipykernel_1282148/868147661.py:90: DeprecationWarning: DataFrameGroupBy.apply operated on the grouping columns. This behavior is deprecated, and in a future version of pandas the grouping columns will be excluded from the operation. Either pass `include_groups=False` to exclude the groupings or explicitly select the grouping columns after groupby to silence this warning.\n",
      "  gp = matches.groupby('match_id').apply(filter_by_player_and_ball_number)\n",
      "/tmp/ipykernel_1282148/868147661.py:90: DeprecationWarning: DataFrameGroupBy.apply operated on the grouping columns. This behavior is deprecated, and in a future version of pandas the grouping columns will be excluded from the operation. Either pass `include_groups=False` to exclude the groupings or explicitly select the grouping columns after groupby to silence this warning.\n",
      "  gp = matches.groupby('match_id').apply(filter_by_player_and_ball_number)\n",
      "/tmp/ipykernel_1282148/868147661.py:90: DeprecationWarning: DataFrameGroupBy.apply operated on the grouping columns. This behavior is deprecated, and in a future version of pandas the grouping columns will be excluded from the operation. Either pass `include_groups=False` to exclude the groupings or explicitly select the grouping columns after groupby to silence this warning.\n",
      "  gp = matches.groupby('match_id').apply(filter_by_player_and_ball_number)\n",
      "/tmp/ipykernel_1282148/868147661.py:90: DeprecationWarning: DataFrameGroupBy.apply operated on the grouping columns. This behavior is deprecated, and in a future version of pandas the grouping columns will be excluded from the operation. Either pass `include_groups=False` to exclude the groupings or explicitly select the grouping columns after groupby to silence this warning.\n",
      "  gp = matches.groupby('match_id').apply(filter_by_player_and_ball_number)\n",
      "/tmp/ipykernel_1282148/868147661.py:90: DeprecationWarning: DataFrameGroupBy.apply operated on the grouping columns. This behavior is deprecated, and in a future version of pandas the grouping columns will be excluded from the operation. Either pass `include_groups=False` to exclude the groupings or explicitly select the grouping columns after groupby to silence this warning.\n",
      "  gp = matches.groupby('match_id').apply(filter_by_player_and_ball_number)\n",
      "/tmp/ipykernel_1282148/868147661.py:90: DeprecationWarning: DataFrameGroupBy.apply operated on the grouping columns. This behavior is deprecated, and in a future version of pandas the grouping columns will be excluded from the operation. Either pass `include_groups=False` to exclude the groupings or explicitly select the grouping columns after groupby to silence this warning.\n",
      "  gp = matches.groupby('match_id').apply(filter_by_player_and_ball_number)\n"
     ]
    },
    {
     "name": "stdout",
     "output_type": "stream",
     "text": [
      "Analyzing Player CJ Green\n",
      "Analyzing Player Rahmat Shah\n",
      "Analyzing Player Noor Ali Zadran\n",
      "Analyzing Player Shahidullah\n",
      "Analyzing Player Zahir Khan\n",
      "Analyzing Player S Daniel\n"
     ]
    },
    {
     "name": "stderr",
     "output_type": "stream",
     "text": [
      "/tmp/ipykernel_1282148/868147661.py:90: DeprecationWarning: DataFrameGroupBy.apply operated on the grouping columns. This behavior is deprecated, and in a future version of pandas the grouping columns will be excluded from the operation. Either pass `include_groups=False` to exclude the groupings or explicitly select the grouping columns after groupby to silence this warning.\n",
      "  gp = matches.groupby('match_id').apply(filter_by_player_and_ball_number)\n",
      "/tmp/ipykernel_1282148/868147661.py:90: DeprecationWarning: DataFrameGroupBy.apply operated on the grouping columns. This behavior is deprecated, and in a future version of pandas the grouping columns will be excluded from the operation. Either pass `include_groups=False` to exclude the groupings or explicitly select the grouping columns after groupby to silence this warning.\n",
      "  gp = matches.groupby('match_id').apply(filter_by_player_and_ball_number)\n",
      "/tmp/ipykernel_1282148/868147661.py:90: DeprecationWarning: DataFrameGroupBy.apply operated on the grouping columns. This behavior is deprecated, and in a future version of pandas the grouping columns will be excluded from the operation. Either pass `include_groups=False` to exclude the groupings or explicitly select the grouping columns after groupby to silence this warning.\n",
      "  gp = matches.groupby('match_id').apply(filter_by_player_and_ball_number)\n",
      "/tmp/ipykernel_1282148/868147661.py:90: DeprecationWarning: DataFrameGroupBy.apply operated on the grouping columns. This behavior is deprecated, and in a future version of pandas the grouping columns will be excluded from the operation. Either pass `include_groups=False` to exclude the groupings or explicitly select the grouping columns after groupby to silence this warning.\n",
      "  gp = matches.groupby('match_id').apply(filter_by_player_and_ball_number)\n",
      "/tmp/ipykernel_1282148/868147661.py:90: DeprecationWarning: DataFrameGroupBy.apply operated on the grouping columns. This behavior is deprecated, and in a future version of pandas the grouping columns will be excluded from the operation. Either pass `include_groups=False` to exclude the groupings or explicitly select the grouping columns after groupby to silence this warning.\n",
      "  gp = matches.groupby('match_id').apply(filter_by_player_and_ball_number)\n"
     ]
    },
    {
     "name": "stdout",
     "output_type": "stream",
     "text": [
      "Analyzing Player L Croospulle\n",
      "Analyzing Player MNK Fernando\n",
      "Analyzing Player SSD Arachchige\n",
      "Analyzing Player LU Igalagamage\n",
      "Analyzing Player RS Fernando\n",
      "Analyzing Player SMLD Samarakoon\n"
     ]
    },
    {
     "name": "stderr",
     "output_type": "stream",
     "text": [
      "/tmp/ipykernel_1282148/868147661.py:90: DeprecationWarning: DataFrameGroupBy.apply operated on the grouping columns. This behavior is deprecated, and in a future version of pandas the grouping columns will be excluded from the operation. Either pass `include_groups=False` to exclude the groupings or explicitly select the grouping columns after groupby to silence this warning.\n",
      "  gp = matches.groupby('match_id').apply(filter_by_player_and_ball_number)\n",
      "/tmp/ipykernel_1282148/868147661.py:90: DeprecationWarning: DataFrameGroupBy.apply operated on the grouping columns. This behavior is deprecated, and in a future version of pandas the grouping columns will be excluded from the operation. Either pass `include_groups=False` to exclude the groupings or explicitly select the grouping columns after groupby to silence this warning.\n",
      "  gp = matches.groupby('match_id').apply(filter_by_player_and_ball_number)\n",
      "/tmp/ipykernel_1282148/868147661.py:90: DeprecationWarning: DataFrameGroupBy.apply operated on the grouping columns. This behavior is deprecated, and in a future version of pandas the grouping columns will be excluded from the operation. Either pass `include_groups=False` to exclude the groupings or explicitly select the grouping columns after groupby to silence this warning.\n",
      "  gp = matches.groupby('match_id').apply(filter_by_player_and_ball_number)\n",
      "/tmp/ipykernel_1282148/868147661.py:90: DeprecationWarning: DataFrameGroupBy.apply operated on the grouping columns. This behavior is deprecated, and in a future version of pandas the grouping columns will be excluded from the operation. Either pass `include_groups=False` to exclude the groupings or explicitly select the grouping columns after groupby to silence this warning.\n",
      "  gp = matches.groupby('match_id').apply(filter_by_player_and_ball_number)\n",
      "/tmp/ipykernel_1282148/868147661.py:90: DeprecationWarning: DataFrameGroupBy.apply operated on the grouping columns. This behavior is deprecated, and in a future version of pandas the grouping columns will be excluded from the operation. Either pass `include_groups=False` to exclude the groupings or explicitly select the grouping columns after groupby to silence this warning.\n",
      "  gp = matches.groupby('match_id').apply(filter_by_player_and_ball_number)\n",
      "/tmp/ipykernel_1282148/868147661.py:90: DeprecationWarning: DataFrameGroupBy.apply operated on the grouping columns. This behavior is deprecated, and in a future version of pandas the grouping columns will be excluded from the operation. Either pass `include_groups=False` to exclude the groupings or explicitly select the grouping columns after groupby to silence this warning.\n",
      "  gp = matches.groupby('match_id').apply(filter_by_player_and_ball_number)\n"
     ]
    },
    {
     "name": "stdout",
     "output_type": "stream",
     "text": [
      "Analyzing Player V Viyaskanth\n",
      "Analyzing Player N Vimukthi\n",
      "Analyzing Player Mahmudul Hasan Joy\n",
      "Analyzing Player Shahadat Hossain\n",
      "Analyzing Player Jaker Ali\n",
      "Analyzing Player Mrittunjoy Chowdhury\n"
     ]
    },
    {
     "name": "stderr",
     "output_type": "stream",
     "text": [
      "/tmp/ipykernel_1282148/868147661.py:90: DeprecationWarning: DataFrameGroupBy.apply operated on the grouping columns. This behavior is deprecated, and in a future version of pandas the grouping columns will be excluded from the operation. Either pass `include_groups=False` to exclude the groupings or explicitly select the grouping columns after groupby to silence this warning.\n",
      "  gp = matches.groupby('match_id').apply(filter_by_player_and_ball_number)\n",
      "/tmp/ipykernel_1282148/868147661.py:90: DeprecationWarning: DataFrameGroupBy.apply operated on the grouping columns. This behavior is deprecated, and in a future version of pandas the grouping columns will be excluded from the operation. Either pass `include_groups=False` to exclude the groupings or explicitly select the grouping columns after groupby to silence this warning.\n",
      "  gp = matches.groupby('match_id').apply(filter_by_player_and_ball_number)\n",
      "/tmp/ipykernel_1282148/868147661.py:90: DeprecationWarning: DataFrameGroupBy.apply operated on the grouping columns. This behavior is deprecated, and in a future version of pandas the grouping columns will be excluded from the operation. Either pass `include_groups=False` to exclude the groupings or explicitly select the grouping columns after groupby to silence this warning.\n",
      "  gp = matches.groupby('match_id').apply(filter_by_player_and_ball_number)\n",
      "/tmp/ipykernel_1282148/868147661.py:90: DeprecationWarning: DataFrameGroupBy.apply operated on the grouping columns. This behavior is deprecated, and in a future version of pandas the grouping columns will be excluded from the operation. Either pass `include_groups=False` to exclude the groupings or explicitly select the grouping columns after groupby to silence this warning.\n",
      "  gp = matches.groupby('match_id').apply(filter_by_player_and_ball_number)\n",
      "/tmp/ipykernel_1282148/868147661.py:90: DeprecationWarning: DataFrameGroupBy.apply operated on the grouping columns. This behavior is deprecated, and in a future version of pandas the grouping columns will be excluded from the operation. Either pass `include_groups=False` to exclude the groupings or explicitly select the grouping columns after groupby to silence this warning.\n",
      "  gp = matches.groupby('match_id').apply(filter_by_player_and_ball_number)\n"
     ]
    },
    {
     "name": "stdout",
     "output_type": "stream",
     "text": [
      "Analyzing Player Rakibul Hasan\n",
      "Analyzing Player R Mondol\n",
      "Analyzing Player Omair Yousuf\n",
      "Analyzing Player Mirza Baig\n",
      "Analyzing Player Rohail Nazir\n",
      "Analyzing Player Qasim Akram\n"
     ]
    },
    {
     "name": "stderr",
     "output_type": "stream",
     "text": [
      "/tmp/ipykernel_1282148/868147661.py:90: DeprecationWarning: DataFrameGroupBy.apply operated on the grouping columns. This behavior is deprecated, and in a future version of pandas the grouping columns will be excluded from the operation. Either pass `include_groups=False` to exclude the groupings or explicitly select the grouping columns after groupby to silence this warning.\n",
      "  gp = matches.groupby('match_id').apply(filter_by_player_and_ball_number)\n",
      "/tmp/ipykernel_1282148/868147661.py:90: DeprecationWarning: DataFrameGroupBy.apply operated on the grouping columns. This behavior is deprecated, and in a future version of pandas the grouping columns will be excluded from the operation. Either pass `include_groups=False` to exclude the groupings or explicitly select the grouping columns after groupby to silence this warning.\n",
      "  gp = matches.groupby('match_id').apply(filter_by_player_and_ball_number)\n",
      "/tmp/ipykernel_1282148/868147661.py:90: DeprecationWarning: DataFrameGroupBy.apply operated on the grouping columns. This behavior is deprecated, and in a future version of pandas the grouping columns will be excluded from the operation. Either pass `include_groups=False` to exclude the groupings or explicitly select the grouping columns after groupby to silence this warning.\n",
      "  gp = matches.groupby('match_id').apply(filter_by_player_and_ball_number)\n",
      "/tmp/ipykernel_1282148/868147661.py:90: DeprecationWarning: DataFrameGroupBy.apply operated on the grouping columns. This behavior is deprecated, and in a future version of pandas the grouping columns will be excluded from the operation. Either pass `include_groups=False` to exclude the groupings or explicitly select the grouping columns after groupby to silence this warning.\n",
      "  gp = matches.groupby('match_id').apply(filter_by_player_and_ball_number)\n",
      "/tmp/ipykernel_1282148/868147661.py:90: DeprecationWarning: DataFrameGroupBy.apply operated on the grouping columns. This behavior is deprecated, and in a future version of pandas the grouping columns will be excluded from the operation. Either pass `include_groups=False` to exclude the groupings or explicitly select the grouping columns after groupby to silence this warning.\n",
      "  gp = matches.groupby('match_id').apply(filter_by_player_and_ball_number)\n"
     ]
    },
    {
     "name": "stdout",
     "output_type": "stream",
     "text": [
      "Analyzing Player Arafat Minhas\n",
      "Analyzing Player Sufiyan Muqeem\n",
      "Analyzing Player Zubaid Akbari\n",
      "Analyzing Player BJ Bennett\n",
      "Analyzing Player T Gwandu\n"
     ]
    },
    {
     "name": "stderr",
     "output_type": "stream",
     "text": [
      "/tmp/ipykernel_1282148/868147661.py:90: DeprecationWarning: DataFrameGroupBy.apply operated on the grouping columns. This behavior is deprecated, and in a future version of pandas the grouping columns will be excluded from the operation. Either pass `include_groups=False` to exclude the groupings or explicitly select the grouping columns after groupby to silence this warning.\n",
      "  gp = matches.groupby('match_id').apply(filter_by_player_and_ball_number)\n",
      "/tmp/ipykernel_1282148/868147661.py:90: DeprecationWarning: DataFrameGroupBy.apply operated on the grouping columns. This behavior is deprecated, and in a future version of pandas the grouping columns will be excluded from the operation. Either pass `include_groups=False` to exclude the groupings or explicitly select the grouping columns after groupby to silence this warning.\n",
      "  gp = matches.groupby('match_id').apply(filter_by_player_and_ball_number)\n",
      "/tmp/ipykernel_1282148/868147661.py:90: DeprecationWarning: DataFrameGroupBy.apply operated on the grouping columns. This behavior is deprecated, and in a future version of pandas the grouping columns will be excluded from the operation. Either pass `include_groups=False` to exclude the groupings or explicitly select the grouping columns after groupby to silence this warning.\n",
      "  gp = matches.groupby('match_id').apply(filter_by_player_and_ball_number)\n",
      "/tmp/ipykernel_1282148/868147661.py:90: DeprecationWarning: DataFrameGroupBy.apply operated on the grouping columns. This behavior is deprecated, and in a future version of pandas the grouping columns will be excluded from the operation. Either pass `include_groups=False` to exclude the groupings or explicitly select the grouping columns after groupby to silence this warning.\n",
      "  gp = matches.groupby('match_id').apply(filter_by_player_and_ball_number)\n",
      "/tmp/ipykernel_1282148/868147661.py:90: DeprecationWarning: DataFrameGroupBy.apply operated on the grouping columns. This behavior is deprecated, and in a future version of pandas the grouping columns will be excluded from the operation. Either pass `include_groups=False` to exclude the groupings or explicitly select the grouping columns after groupby to silence this warning.\n",
      "  gp = matches.groupby('match_id').apply(filter_by_player_and_ball_number)\n"
     ]
    },
    {
     "name": "stdout",
     "output_type": "stream",
     "text": [
      "Analyzing Player Mohammad Ishaq\n",
      "Analyzing Player Ijaz Ahmad Ahmadzai\n",
      "Analyzing Player Nangeyalia Kharote\n",
      "Analyzing Player AC Gilchrist\n",
      "Analyzing Player ML Hayden\n"
     ]
    },
    {
     "name": "stderr",
     "output_type": "stream",
     "text": [
      "/tmp/ipykernel_1282148/868147661.py:90: DeprecationWarning: DataFrameGroupBy.apply operated on the grouping columns. This behavior is deprecated, and in a future version of pandas the grouping columns will be excluded from the operation. Either pass `include_groups=False` to exclude the groupings or explicitly select the grouping columns after groupby to silence this warning.\n",
      "  gp = matches.groupby('match_id').apply(filter_by_player_and_ball_number)\n",
      "/tmp/ipykernel_1282148/868147661.py:90: DeprecationWarning: DataFrameGroupBy.apply operated on the grouping columns. This behavior is deprecated, and in a future version of pandas the grouping columns will be excluded from the operation. Either pass `include_groups=False` to exclude the groupings or explicitly select the grouping columns after groupby to silence this warning.\n",
      "  gp = matches.groupby('match_id').apply(filter_by_player_and_ball_number)\n",
      "/tmp/ipykernel_1282148/868147661.py:90: DeprecationWarning: DataFrameGroupBy.apply operated on the grouping columns. This behavior is deprecated, and in a future version of pandas the grouping columns will be excluded from the operation. Either pass `include_groups=False` to exclude the groupings or explicitly select the grouping columns after groupby to silence this warning.\n",
      "  gp = matches.groupby('match_id').apply(filter_by_player_and_ball_number)\n",
      "/tmp/ipykernel_1282148/868147661.py:90: DeprecationWarning: DataFrameGroupBy.apply operated on the grouping columns. This behavior is deprecated, and in a future version of pandas the grouping columns will be excluded from the operation. Either pass `include_groups=False` to exclude the groupings or explicitly select the grouping columns after groupby to silence this warning.\n",
      "  gp = matches.groupby('match_id').apply(filter_by_player_and_ball_number)\n"
     ]
    },
    {
     "name": "stdout",
     "output_type": "stream",
     "text": [
      "Analyzing Player A Symonds\n",
      "Analyzing Player MJ Clarke\n",
      "Analyzing Player MEK Hussey\n",
      "Analyzing Player RT Ponting\n"
     ]
    },
    {
     "name": "stderr",
     "output_type": "stream",
     "text": [
      "/tmp/ipykernel_1282148/868147661.py:90: DeprecationWarning: DataFrameGroupBy.apply operated on the grouping columns. This behavior is deprecated, and in a future version of pandas the grouping columns will be excluded from the operation. Either pass `include_groups=False` to exclude the groupings or explicitly select the grouping columns after groupby to silence this warning.\n",
      "  gp = matches.groupby('match_id').apply(filter_by_player_and_ball_number)\n",
      "/tmp/ipykernel_1282148/868147661.py:90: DeprecationWarning: DataFrameGroupBy.apply operated on the grouping columns. This behavior is deprecated, and in a future version of pandas the grouping columns will be excluded from the operation. Either pass `include_groups=False` to exclude the groupings or explicitly select the grouping columns after groupby to silence this warning.\n",
      "  gp = matches.groupby('match_id').apply(filter_by_player_and_ball_number)\n",
      "/tmp/ipykernel_1282148/868147661.py:90: DeprecationWarning: DataFrameGroupBy.apply operated on the grouping columns. This behavior is deprecated, and in a future version of pandas the grouping columns will be excluded from the operation. Either pass `include_groups=False` to exclude the groupings or explicitly select the grouping columns after groupby to silence this warning.\n",
      "  gp = matches.groupby('match_id').apply(filter_by_player_and_ball_number)\n",
      "/tmp/ipykernel_1282148/868147661.py:90: DeprecationWarning: DataFrameGroupBy.apply operated on the grouping columns. This behavior is deprecated, and in a future version of pandas the grouping columns will be excluded from the operation. Either pass `include_groups=False` to exclude the groupings or explicitly select the grouping columns after groupby to silence this warning.\n",
      "  gp = matches.groupby('match_id').apply(filter_by_player_and_ball_number)\n",
      "/tmp/ipykernel_1282148/868147661.py:90: DeprecationWarning: DataFrameGroupBy.apply operated on the grouping columns. This behavior is deprecated, and in a future version of pandas the grouping columns will be excluded from the operation. Either pass `include_groups=False` to exclude the groupings or explicitly select the grouping columns after groupby to silence this warning.\n",
      "  gp = matches.groupby('match_id').apply(filter_by_player_and_ball_number)\n",
      "/tmp/ipykernel_1282148/868147661.py:90: DeprecationWarning: DataFrameGroupBy.apply operated on the grouping columns. This behavior is deprecated, and in a future version of pandas the grouping columns will be excluded from the operation. Either pass `include_groups=False` to exclude the groupings or explicitly select the grouping columns after groupby to silence this warning.\n",
      "  gp = matches.groupby('match_id').apply(filter_by_player_and_ball_number)\n",
      "/tmp/ipykernel_1282148/868147661.py:90: DeprecationWarning: DataFrameGroupBy.apply operated on the grouping columns. This behavior is deprecated, and in a future version of pandas the grouping columns will be excluded from the operation. Either pass `include_groups=False` to exclude the groupings or explicitly select the grouping columns after groupby to silence this warning.\n",
      "  gp = matches.groupby('match_id').apply(filter_by_player_and_ball_number)\n",
      "/tmp/ipykernel_1282148/868147661.py:90: DeprecationWarning: DataFrameGroupBy.apply operated on the grouping columns. This behavior is deprecated, and in a future version of pandas the grouping columns will be excluded from the operation. Either pass `include_groups=False` to exclude the groupings or explicitly select the grouping columns after groupby to silence this warning.\n",
      "  gp = matches.groupby('match_id').apply(filter_by_player_and_ball_number)\n"
     ]
    },
    {
     "name": "stdout",
     "output_type": "stream",
     "text": [
      "Analyzing Player DR Martyn\n",
      "Analyzing Player B Lee\n",
      "Analyzing Player JN Gillespie\n",
      "Analyzing Player MS Kasprowicz\n",
      "Analyzing Player GD McGrath\n"
     ]
    },
    {
     "name": "stderr",
     "output_type": "stream",
     "text": [
      "/tmp/ipykernel_1282148/868147661.py:90: DeprecationWarning: DataFrameGroupBy.apply operated on the grouping columns. This behavior is deprecated, and in a future version of pandas the grouping columns will be excluded from the operation. Either pass `include_groups=False` to exclude the groupings or explicitly select the grouping columns after groupby to silence this warning.\n",
      "  gp = matches.groupby('match_id').apply(filter_by_player_and_ball_number)\n",
      "/tmp/ipykernel_1282148/868147661.py:90: DeprecationWarning: DataFrameGroupBy.apply operated on the grouping columns. This behavior is deprecated, and in a future version of pandas the grouping columns will be excluded from the operation. Either pass `include_groups=False` to exclude the groupings or explicitly select the grouping columns after groupby to silence this warning.\n",
      "  gp = matches.groupby('match_id').apply(filter_by_player_and_ball_number)\n",
      "/tmp/ipykernel_1282148/868147661.py:90: DeprecationWarning: DataFrameGroupBy.apply operated on the grouping columns. This behavior is deprecated, and in a future version of pandas the grouping columns will be excluded from the operation. Either pass `include_groups=False` to exclude the groupings or explicitly select the grouping columns after groupby to silence this warning.\n",
      "  gp = matches.groupby('match_id').apply(filter_by_player_and_ball_number)\n",
      "/tmp/ipykernel_1282148/868147661.py:90: DeprecationWarning: DataFrameGroupBy.apply operated on the grouping columns. This behavior is deprecated, and in a future version of pandas the grouping columns will be excluded from the operation. Either pass `include_groups=False` to exclude the groupings or explicitly select the grouping columns after groupby to silence this warning.\n",
      "  gp = matches.groupby('match_id').apply(filter_by_player_and_ball_number)\n"
     ]
    },
    {
     "name": "stdout",
     "output_type": "stream",
     "text": [
      "Analyzing Player ME Trescothick\n",
      "Analyzing Player GO Jones\n",
      "Analyzing Player A Flintoff\n",
      "Analyzing Player KP Pietersen\n"
     ]
    },
    {
     "name": "stderr",
     "output_type": "stream",
     "text": [
      "/tmp/ipykernel_1282148/868147661.py:90: DeprecationWarning: DataFrameGroupBy.apply operated on the grouping columns. This behavior is deprecated, and in a future version of pandas the grouping columns will be excluded from the operation. Either pass `include_groups=False` to exclude the groupings or explicitly select the grouping columns after groupby to silence this warning.\n",
      "  gp = matches.groupby('match_id').apply(filter_by_player_and_ball_number)\n",
      "/tmp/ipykernel_1282148/868147661.py:90: DeprecationWarning: DataFrameGroupBy.apply operated on the grouping columns. This behavior is deprecated, and in a future version of pandas the grouping columns will be excluded from the operation. Either pass `include_groups=False` to exclude the groupings or explicitly select the grouping columns after groupby to silence this warning.\n",
      "  gp = matches.groupby('match_id').apply(filter_by_player_and_ball_number)\n",
      "/tmp/ipykernel_1282148/868147661.py:90: DeprecationWarning: DataFrameGroupBy.apply operated on the grouping columns. This behavior is deprecated, and in a future version of pandas the grouping columns will be excluded from the operation. Either pass `include_groups=False` to exclude the groupings or explicitly select the grouping columns after groupby to silence this warning.\n",
      "  gp = matches.groupby('match_id').apply(filter_by_player_and_ball_number)\n",
      "/tmp/ipykernel_1282148/868147661.py:90: DeprecationWarning: DataFrameGroupBy.apply operated on the grouping columns. This behavior is deprecated, and in a future version of pandas the grouping columns will be excluded from the operation. Either pass `include_groups=False` to exclude the groupings or explicitly select the grouping columns after groupby to silence this warning.\n",
      "  gp = matches.groupby('match_id').apply(filter_by_player_and_ball_number)\n"
     ]
    },
    {
     "name": "stdout",
     "output_type": "stream",
     "text": [
      "Analyzing Player MP Vaughan\n",
      "Analyzing Player PD Collingwood\n",
      "Analyzing Player AJ Strauss\n",
      "Analyzing Player VS Solanki\n",
      "Analyzing Player SM Katich\n"
     ]
    },
    {
     "name": "stderr",
     "output_type": "stream",
     "text": [
      "/tmp/ipykernel_1282148/868147661.py:90: DeprecationWarning: DataFrameGroupBy.apply operated on the grouping columns. This behavior is deprecated, and in a future version of pandas the grouping columns will be excluded from the operation. Either pass `include_groups=False` to exclude the groupings or explicitly select the grouping columns after groupby to silence this warning.\n",
      "  gp = matches.groupby('match_id').apply(filter_by_player_and_ball_number)\n",
      "/tmp/ipykernel_1282148/868147661.py:90: DeprecationWarning: DataFrameGroupBy.apply operated on the grouping columns. This behavior is deprecated, and in a future version of pandas the grouping columns will be excluded from the operation. Either pass `include_groups=False` to exclude the groupings or explicitly select the grouping columns after groupby to silence this warning.\n",
      "  gp = matches.groupby('match_id').apply(filter_by_player_and_ball_number)\n",
      "/tmp/ipykernel_1282148/868147661.py:90: DeprecationWarning: DataFrameGroupBy.apply operated on the grouping columns. This behavior is deprecated, and in a future version of pandas the grouping columns will be excluded from the operation. Either pass `include_groups=False` to exclude the groupings or explicitly select the grouping columns after groupby to silence this warning.\n",
      "  gp = matches.groupby('match_id').apply(filter_by_player_and_ball_number)\n"
     ]
    },
    {
     "name": "stdout",
     "output_type": "stream",
     "text": [
      "Analyzing Player BB McCullum\n",
      "Analyzing Player SP Fleming\n",
      "Analyzing Player MS Sinclair\n",
      "Analyzing Player SB Styris\n"
     ]
    },
    {
     "name": "stderr",
     "output_type": "stream",
     "text": [
      "/tmp/ipykernel_1282148/868147661.py:90: DeprecationWarning: DataFrameGroupBy.apply operated on the grouping columns. This behavior is deprecated, and in a future version of pandas the grouping columns will be excluded from the operation. Either pass `include_groups=False` to exclude the groupings or explicitly select the grouping columns after groupby to silence this warning.\n",
      "  gp = matches.groupby('match_id').apply(filter_by_player_and_ball_number)\n",
      "/tmp/ipykernel_1282148/868147661.py:90: DeprecationWarning: DataFrameGroupBy.apply operated on the grouping columns. This behavior is deprecated, and in a future version of pandas the grouping columns will be excluded from the operation. Either pass `include_groups=False` to exclude the groupings or explicitly select the grouping columns after groupby to silence this warning.\n",
      "  gp = matches.groupby('match_id').apply(filter_by_player_and_ball_number)\n",
      "/tmp/ipykernel_1282148/868147661.py:90: DeprecationWarning: DataFrameGroupBy.apply operated on the grouping columns. This behavior is deprecated, and in a future version of pandas the grouping columns will be excluded from the operation. Either pass `include_groups=False` to exclude the groupings or explicitly select the grouping columns after groupby to silence this warning.\n",
      "  gp = matches.groupby('match_id').apply(filter_by_player_and_ball_number)\n",
      "/tmp/ipykernel_1282148/868147661.py:90: DeprecationWarning: DataFrameGroupBy.apply operated on the grouping columns. This behavior is deprecated, and in a future version of pandas the grouping columns will be excluded from the operation. Either pass `include_groups=False` to exclude the groupings or explicitly select the grouping columns after groupby to silence this warning.\n",
      "  gp = matches.groupby('match_id').apply(filter_by_player_and_ball_number)\n"
     ]
    },
    {
     "name": "stdout",
     "output_type": "stream",
     "text": [
      "Analyzing Player CD McMillan\n",
      "Analyzing Player CL Cairns\n",
      "Analyzing Player HJH Marshall\n",
      "Analyzing Player AR Adams\n",
      "Analyzing Player JW Wilson\n"
     ]
    },
    {
     "name": "stderr",
     "output_type": "stream",
     "text": [
      "/tmp/ipykernel_1282148/868147661.py:90: DeprecationWarning: DataFrameGroupBy.apply operated on the grouping columns. This behavior is deprecated, and in a future version of pandas the grouping columns will be excluded from the operation. Either pass `include_groups=False` to exclude the groupings or explicitly select the grouping columns after groupby to silence this warning.\n",
      "  gp = matches.groupby('match_id').apply(filter_by_player_and_ball_number)\n",
      "/tmp/ipykernel_1282148/868147661.py:90: DeprecationWarning: DataFrameGroupBy.apply operated on the grouping columns. This behavior is deprecated, and in a future version of pandas the grouping columns will be excluded from the operation. Either pass `include_groups=False` to exclude the groupings or explicitly select the grouping columns after groupby to silence this warning.\n",
      "  gp = matches.groupby('match_id').apply(filter_by_player_and_ball_number)\n",
      "/tmp/ipykernel_1282148/868147661.py:90: DeprecationWarning: DataFrameGroupBy.apply operated on the grouping columns. This behavior is deprecated, and in a future version of pandas the grouping columns will be excluded from the operation. Either pass `include_groups=False` to exclude the groupings or explicitly select the grouping columns after groupby to silence this warning.\n",
      "  gp = matches.groupby('match_id').apply(filter_by_player_and_ball_number)\n",
      "/tmp/ipykernel_1282148/868147661.py:90: DeprecationWarning: DataFrameGroupBy.apply operated on the grouping columns. This behavior is deprecated, and in a future version of pandas the grouping columns will be excluded from the operation. Either pass `include_groups=False` to exclude the groupings or explicitly select the grouping columns after groupby to silence this warning.\n",
      "  gp = matches.groupby('match_id').apply(filter_by_player_and_ball_number)\n",
      "/tmp/ipykernel_1282148/868147661.py:90: DeprecationWarning: DataFrameGroupBy.apply operated on the grouping columns. This behavior is deprecated, and in a future version of pandas the grouping columns will be excluded from the operation. Either pass `include_groups=False` to exclude the groupings or explicitly select the grouping columns after groupby to silence this warning.\n",
      "  gp = matches.groupby('match_id').apply(filter_by_player_and_ball_number)\n"
     ]
    },
    {
     "name": "stdout",
     "output_type": "stream",
     "text": [
      "Analyzing Player DR Tuffey\n",
      "Analyzing Player KD Mills\n",
      "Analyzing Player NJ Astle\n",
      "Analyzing Player JDP Oram\n"
     ]
    },
    {
     "name": "stderr",
     "output_type": "stream",
     "text": [
      "/tmp/ipykernel_1282148/868147661.py:90: DeprecationWarning: DataFrameGroupBy.apply operated on the grouping columns. This behavior is deprecated, and in a future version of pandas the grouping columns will be excluded from the operation. Either pass `include_groups=False` to exclude the groupings or explicitly select the grouping columns after groupby to silence this warning.\n",
      "  gp = matches.groupby('match_id').apply(filter_by_player_and_ball_number)\n",
      "/tmp/ipykernel_1282148/868147661.py:90: DeprecationWarning: DataFrameGroupBy.apply operated on the grouping columns. This behavior is deprecated, and in a future version of pandas the grouping columns will be excluded from the operation. Either pass `include_groups=False` to exclude the groupings or explicitly select the grouping columns after groupby to silence this warning.\n",
      "  gp = matches.groupby('match_id').apply(filter_by_player_and_ball_number)\n",
      "/tmp/ipykernel_1282148/868147661.py:90: DeprecationWarning: DataFrameGroupBy.apply operated on the grouping columns. This behavior is deprecated, and in a future version of pandas the grouping columns will be excluded from the operation. Either pass `include_groups=False` to exclude the groupings or explicitly select the grouping columns after groupby to silence this warning.\n",
      "  gp = matches.groupby('match_id').apply(filter_by_player_and_ball_number)\n",
      "/tmp/ipykernel_1282148/868147661.py:90: DeprecationWarning: DataFrameGroupBy.apply operated on the grouping columns. This behavior is deprecated, and in a future version of pandas the grouping columns will be excluded from the operation. Either pass `include_groups=False` to exclude the groupings or explicitly select the grouping columns after groupby to silence this warning.\n",
      "  gp = matches.groupby('match_id').apply(filter_by_player_and_ball_number)\n"
     ]
    },
    {
     "name": "stdout",
     "output_type": "stream",
     "text": [
      "Analyzing Player GC Smith\n",
      "Analyzing Player JH Kallis\n",
      "Analyzing Player HH Gibbs\n",
      "Analyzing Player JM Kemp\n"
     ]
    },
    {
     "name": "stderr",
     "output_type": "stream",
     "text": [
      "/tmp/ipykernel_1282148/868147661.py:90: DeprecationWarning: DataFrameGroupBy.apply operated on the grouping columns. This behavior is deprecated, and in a future version of pandas the grouping columns will be excluded from the operation. Either pass `include_groups=False` to exclude the groupings or explicitly select the grouping columns after groupby to silence this warning.\n",
      "  gp = matches.groupby('match_id').apply(filter_by_player_and_ball_number)\n",
      "/tmp/ipykernel_1282148/868147661.py:90: DeprecationWarning: DataFrameGroupBy.apply operated on the grouping columns. This behavior is deprecated, and in a future version of pandas the grouping columns will be excluded from the operation. Either pass `include_groups=False` to exclude the groupings or explicitly select the grouping columns after groupby to silence this warning.\n",
      "  gp = matches.groupby('match_id').apply(filter_by_player_and_ball_number)\n",
      "/tmp/ipykernel_1282148/868147661.py:90: DeprecationWarning: DataFrameGroupBy.apply operated on the grouping columns. This behavior is deprecated, and in a future version of pandas the grouping columns will be excluded from the operation. Either pass `include_groups=False` to exclude the groupings or explicitly select the grouping columns after groupby to silence this warning.\n",
      "  gp = matches.groupby('match_id').apply(filter_by_player_and_ball_number)\n",
      "/tmp/ipykernel_1282148/868147661.py:90: DeprecationWarning: DataFrameGroupBy.apply operated on the grouping columns. This behavior is deprecated, and in a future version of pandas the grouping columns will be excluded from the operation. Either pass `include_groups=False` to exclude the groupings or explicitly select the grouping columns after groupby to silence this warning.\n",
      "  gp = matches.groupby('match_id').apply(filter_by_player_and_ball_number)\n"
     ]
    },
    {
     "name": "stdout",
     "output_type": "stream",
     "text": [
      "Analyzing Player MV Boucher\n",
      "Analyzing Player SM Pollock\n",
      "Analyzing Player AG Prince\n",
      "Analyzing Player JA Morkel\n"
     ]
    },
    {
     "name": "stderr",
     "output_type": "stream",
     "text": [
      "/tmp/ipykernel_1282148/868147661.py:90: DeprecationWarning: DataFrameGroupBy.apply operated on the grouping columns. This behavior is deprecated, and in a future version of pandas the grouping columns will be excluded from the operation. Either pass `include_groups=False` to exclude the groupings or explicitly select the grouping columns after groupby to silence this warning.\n",
      "  gp = matches.groupby('match_id').apply(filter_by_player_and_ball_number)\n",
      "/tmp/ipykernel_1282148/868147661.py:90: DeprecationWarning: DataFrameGroupBy.apply operated on the grouping columns. This behavior is deprecated, and in a future version of pandas the grouping columns will be excluded from the operation. Either pass `include_groups=False` to exclude the groupings or explicitly select the grouping columns after groupby to silence this warning.\n",
      "  gp = matches.groupby('match_id').apply(filter_by_player_and_ball_number)\n",
      "/tmp/ipykernel_1282148/868147661.py:90: DeprecationWarning: DataFrameGroupBy.apply operated on the grouping columns. This behavior is deprecated, and in a future version of pandas the grouping columns will be excluded from the operation. Either pass `include_groups=False` to exclude the groupings or explicitly select the grouping columns after groupby to silence this warning.\n",
      "  gp = matches.groupby('match_id').apply(filter_by_player_and_ball_number)\n",
      "/tmp/ipykernel_1282148/868147661.py:90: DeprecationWarning: DataFrameGroupBy.apply operated on the grouping columns. This behavior is deprecated, and in a future version of pandas the grouping columns will be excluded from the operation. Either pass `include_groups=False` to exclude the groupings or explicitly select the grouping columns after groupby to silence this warning.\n",
      "  gp = matches.groupby('match_id').apply(filter_by_player_and_ball_number)\n"
     ]
    },
    {
     "name": "stdout",
     "output_type": "stream",
     "text": [
      "Analyzing Player CK Langeveldt\n",
      "Analyzing Player M Ntini\n",
      "Analyzing Player A Nel\n",
      "Analyzing Player IR Bell\n",
      "Analyzing Player JWM Dalrymple\n"
     ]
    },
    {
     "name": "stderr",
     "output_type": "stream",
     "text": [
      "/tmp/ipykernel_1282148/868147661.py:90: DeprecationWarning: DataFrameGroupBy.apply operated on the grouping columns. This behavior is deprecated, and in a future version of pandas the grouping columns will be excluded from the operation. Either pass `include_groups=False` to exclude the groupings or explicitly select the grouping columns after groupby to silence this warning.\n",
      "  gp = matches.groupby('match_id').apply(filter_by_player_and_ball_number)\n",
      "/tmp/ipykernel_1282148/868147661.py:90: DeprecationWarning: DataFrameGroupBy.apply operated on the grouping columns. This behavior is deprecated, and in a future version of pandas the grouping columns will be excluded from the operation. Either pass `include_groups=False` to exclude the groupings or explicitly select the grouping columns after groupby to silence this warning.\n",
      "  gp = matches.groupby('match_id').apply(filter_by_player_and_ball_number)\n",
      "/tmp/ipykernel_1282148/868147661.py:90: DeprecationWarning: DataFrameGroupBy.apply operated on the grouping columns. This behavior is deprecated, and in a future version of pandas the grouping columns will be excluded from the operation. Either pass `include_groups=False` to exclude the groupings or explicitly select the grouping columns after groupby to silence this warning.\n",
      "  gp = matches.groupby('match_id').apply(filter_by_player_and_ball_number)\n",
      "/tmp/ipykernel_1282148/868147661.py:90: DeprecationWarning: DataFrameGroupBy.apply operated on the grouping columns. This behavior is deprecated, and in a future version of pandas the grouping columns will be excluded from the operation. Either pass `include_groups=False` to exclude the groupings or explicitly select the grouping columns after groupby to silence this warning.\n",
      "  gp = matches.groupby('match_id').apply(filter_by_player_and_ball_number)\n",
      "/tmp/ipykernel_1282148/868147661.py:90: DeprecationWarning: DataFrameGroupBy.apply operated on the grouping columns. This behavior is deprecated, and in a future version of pandas the grouping columns will be excluded from the operation. Either pass `include_groups=False` to exclude the groupings or explicitly select the grouping columns after groupby to silence this warning.\n",
      "  gp = matches.groupby('match_id').apply(filter_by_player_and_ball_number)\n"
     ]
    },
    {
     "name": "stdout",
     "output_type": "stream",
     "text": [
      "Analyzing Player MH Yardy\n",
      "Analyzing Player CMW Read\n",
      "Analyzing Player SI Mahmood\n",
      "Analyzing Player Younis Khan\n",
      "Analyzing Player Shahid Afridi\n"
     ]
    },
    {
     "name": "stderr",
     "output_type": "stream",
     "text": [
      "/tmp/ipykernel_1282148/868147661.py:90: DeprecationWarning: DataFrameGroupBy.apply operated on the grouping columns. This behavior is deprecated, and in a future version of pandas the grouping columns will be excluded from the operation. Either pass `include_groups=False` to exclude the groupings or explicitly select the grouping columns after groupby to silence this warning.\n",
      "  gp = matches.groupby('match_id').apply(filter_by_player_and_ball_number)\n",
      "/tmp/ipykernel_1282148/868147661.py:90: DeprecationWarning: DataFrameGroupBy.apply operated on the grouping columns. This behavior is deprecated, and in a future version of pandas the grouping columns will be excluded from the operation. Either pass `include_groups=False` to exclude the groupings or explicitly select the grouping columns after groupby to silence this warning.\n",
      "  gp = matches.groupby('match_id').apply(filter_by_player_and_ball_number)\n",
      "/tmp/ipykernel_1282148/868147661.py:90: DeprecationWarning: DataFrameGroupBy.apply operated on the grouping columns. This behavior is deprecated, and in a future version of pandas the grouping columns will be excluded from the operation. Either pass `include_groups=False` to exclude the groupings or explicitly select the grouping columns after groupby to silence this warning.\n",
      "  gp = matches.groupby('match_id').apply(filter_by_player_and_ball_number)\n",
      "/tmp/ipykernel_1282148/868147661.py:90: DeprecationWarning: DataFrameGroupBy.apply operated on the grouping columns. This behavior is deprecated, and in a future version of pandas the grouping columns will be excluded from the operation. Either pass `include_groups=False` to exclude the groupings or explicitly select the grouping columns after groupby to silence this warning.\n",
      "  gp = matches.groupby('match_id').apply(filter_by_player_and_ball_number)\n",
      "/tmp/ipykernel_1282148/868147661.py:90: DeprecationWarning: DataFrameGroupBy.apply operated on the grouping columns. This behavior is deprecated, and in a future version of pandas the grouping columns will be excluded from the operation. Either pass `include_groups=False` to exclude the groupings or explicitly select the grouping columns after groupby to silence this warning.\n",
      "  gp = matches.groupby('match_id').apply(filter_by_player_and_ball_number)\n",
      "/tmp/ipykernel_1282148/868147661.py:90: DeprecationWarning: DataFrameGroupBy.apply operated on the grouping columns. This behavior is deprecated, and in a future version of pandas the grouping columns will be excluded from the operation. Either pass `include_groups=False` to exclude the groupings or explicitly select the grouping columns after groupby to silence this warning.\n",
      "  gp = matches.groupby('match_id').apply(filter_by_player_and_ball_number)\n",
      "/tmp/ipykernel_1282148/868147661.py:90: DeprecationWarning: DataFrameGroupBy.apply operated on the grouping columns. This behavior is deprecated, and in a future version of pandas the grouping columns will be excluded from the operation. Either pass `include_groups=False` to exclude the groupings or explicitly select the grouping columns after groupby to silence this warning.\n",
      "  gp = matches.groupby('match_id').apply(filter_by_player_and_ball_number)\n"
     ]
    },
    {
     "name": "stdout",
     "output_type": "stream",
     "text": [
      "Analyzing Player Mohammad Yousuf\n",
      "Analyzing Player Inzamam-ul-Haq\n",
      "Analyzing Player Abdul Razzaq\n",
      "Analyzing Player TT Bresnan\n"
     ]
    },
    {
     "name": "stderr",
     "output_type": "stream",
     "text": [
      "/tmp/ipykernel_1282148/868147661.py:90: DeprecationWarning: DataFrameGroupBy.apply operated on the grouping columns. This behavior is deprecated, and in a future version of pandas the grouping columns will be excluded from the operation. Either pass `include_groups=False` to exclude the groupings or explicitly select the grouping columns after groupby to silence this warning.\n",
      "  gp = matches.groupby('match_id').apply(filter_by_player_and_ball_number)\n",
      "/tmp/ipykernel_1282148/868147661.py:90: DeprecationWarning: DataFrameGroupBy.apply operated on the grouping columns. This behavior is deprecated, and in a future version of pandas the grouping columns will be excluded from the operation. Either pass `include_groups=False` to exclude the groupings or explicitly select the grouping columns after groupby to silence this warning.\n",
      "  gp = matches.groupby('match_id').apply(filter_by_player_and_ball_number)\n",
      "/tmp/ipykernel_1282148/868147661.py:90: DeprecationWarning: DataFrameGroupBy.apply operated on the grouping columns. This behavior is deprecated, and in a future version of pandas the grouping columns will be excluded from the operation. Either pass `include_groups=False` to exclude the groupings or explicitly select the grouping columns after groupby to silence this warning.\n",
      "  gp = matches.groupby('match_id').apply(filter_by_player_and_ball_number)\n"
     ]
    },
    {
     "name": "stdout",
     "output_type": "stream",
     "text": [
      "Analyzing Player ST Jayasuriya\n",
      "Analyzing Player DPMD Jayawardene\n",
      "Analyzing Player TM Dilshan\n"
     ]
    },
    {
     "name": "stderr",
     "output_type": "stream",
     "text": [
      "/tmp/ipykernel_1282148/868147661.py:90: DeprecationWarning: DataFrameGroupBy.apply operated on the grouping columns. This behavior is deprecated, and in a future version of pandas the grouping columns will be excluded from the operation. Either pass `include_groups=False` to exclude the groupings or explicitly select the grouping columns after groupby to silence this warning.\n",
      "  gp = matches.groupby('match_id').apply(filter_by_player_and_ball_number)\n",
      "/tmp/ipykernel_1282148/868147661.py:90: DeprecationWarning: DataFrameGroupBy.apply operated on the grouping columns. This behavior is deprecated, and in a future version of pandas the grouping columns will be excluded from the operation. Either pass `include_groups=False` to exclude the groupings or explicitly select the grouping columns after groupby to silence this warning.\n",
      "  gp = matches.groupby('match_id').apply(filter_by_player_and_ball_number)\n",
      "/tmp/ipykernel_1282148/868147661.py:90: DeprecationWarning: DataFrameGroupBy.apply operated on the grouping columns. This behavior is deprecated, and in a future version of pandas the grouping columns will be excluded from the operation. Either pass `include_groups=False` to exclude the groupings or explicitly select the grouping columns after groupby to silence this warning.\n",
      "  gp = matches.groupby('match_id').apply(filter_by_player_and_ball_number)\n",
      "/tmp/ipykernel_1282148/868147661.py:90: DeprecationWarning: DataFrameGroupBy.apply operated on the grouping columns. This behavior is deprecated, and in a future version of pandas the grouping columns will be excluded from the operation. Either pass `include_groups=False` to exclude the groupings or explicitly select the grouping columns after groupby to silence this warning.\n",
      "  gp = matches.groupby('match_id').apply(filter_by_player_and_ball_number)\n"
     ]
    },
    {
     "name": "stdout",
     "output_type": "stream",
     "text": [
      "Analyzing Player KC Sangakkara\n",
      "Analyzing Player RP Arnold\n",
      "Analyzing Player MF Maharoof\n",
      "Analyzing Player CRD Fernando\n"
     ]
    },
    {
     "name": "stderr",
     "output_type": "stream",
     "text": [
      "/tmp/ipykernel_1282148/868147661.py:90: DeprecationWarning: DataFrameGroupBy.apply operated on the grouping columns. This behavior is deprecated, and in a future version of pandas the grouping columns will be excluded from the operation. Either pass `include_groups=False` to exclude the groupings or explicitly select the grouping columns after groupby to silence this warning.\n",
      "  gp = matches.groupby('match_id').apply(filter_by_player_and_ball_number)\n",
      "/tmp/ipykernel_1282148/868147661.py:90: DeprecationWarning: DataFrameGroupBy.apply operated on the grouping columns. This behavior is deprecated, and in a future version of pandas the grouping columns will be excluded from the operation. Either pass `include_groups=False` to exclude the groupings or explicitly select the grouping columns after groupby to silence this warning.\n",
      "  gp = matches.groupby('match_id').apply(filter_by_player_and_ball_number)\n",
      "/tmp/ipykernel_1282148/868147661.py:90: DeprecationWarning: DataFrameGroupBy.apply operated on the grouping columns. This behavior is deprecated, and in a future version of pandas the grouping columns will be excluded from the operation. Either pass `include_groups=False` to exclude the groupings or explicitly select the grouping columns after groupby to silence this warning.\n",
      "  gp = matches.groupby('match_id').apply(filter_by_player_and_ball_number)\n",
      "/tmp/ipykernel_1282148/868147661.py:90: DeprecationWarning: DataFrameGroupBy.apply operated on the grouping columns. This behavior is deprecated, and in a future version of pandas the grouping columns will be excluded from the operation. Either pass `include_groups=False` to exclude the groupings or explicitly select the grouping columns after groupby to silence this warning.\n",
      "  gp = matches.groupby('match_id').apply(filter_by_player_and_ball_number)\n",
      "/tmp/ipykernel_1282148/868147661.py:90: DeprecationWarning: DataFrameGroupBy.apply operated on the grouping columns. This behavior is deprecated, and in a future version of pandas the grouping columns will be excluded from the operation. Either pass `include_groups=False` to exclude the groupings or explicitly select the grouping columns after groupby to silence this warning.\n",
      "  gp = matches.groupby('match_id').apply(filter_by_player_and_ball_number)\n"
     ]
    },
    {
     "name": "stdout",
     "output_type": "stream",
     "text": [
      "Analyzing Player JR Hopes\n",
      "Analyzing Player HH Dippenaar\n",
      "Analyzing Player AJ Hall\n",
      "Analyzing Player JA Rudolph\n",
      "Analyzing Player J Botha\n"
     ]
    },
    {
     "name": "stderr",
     "output_type": "stream",
     "text": [
      "/tmp/ipykernel_1282148/868147661.py:90: DeprecationWarning: DataFrameGroupBy.apply operated on the grouping columns. This behavior is deprecated, and in a future version of pandas the grouping columns will be excluded from the operation. Either pass `include_groups=False` to exclude the groupings or explicitly select the grouping columns after groupby to silence this warning.\n",
      "  gp = matches.groupby('match_id').apply(filter_by_player_and_ball_number)\n",
      "/tmp/ipykernel_1282148/868147661.py:90: DeprecationWarning: DataFrameGroupBy.apply operated on the grouping columns. This behavior is deprecated, and in a future version of pandas the grouping columns will be excluded from the operation. Either pass `include_groups=False` to exclude the groupings or explicitly select the grouping columns after groupby to silence this warning.\n",
      "  gp = matches.groupby('match_id').apply(filter_by_player_and_ball_number)\n",
      "/tmp/ipykernel_1282148/868147661.py:90: DeprecationWarning: DataFrameGroupBy.apply operated on the grouping columns. This behavior is deprecated, and in a future version of pandas the grouping columns will be excluded from the operation. Either pass `include_groups=False` to exclude the groupings or explicitly select the grouping columns after groupby to silence this warning.\n",
      "  gp = matches.groupby('match_id').apply(filter_by_player_and_ball_number)\n",
      "/tmp/ipykernel_1282148/868147661.py:90: DeprecationWarning: DataFrameGroupBy.apply operated on the grouping columns. This behavior is deprecated, and in a future version of pandas the grouping columns will be excluded from the operation. Either pass `include_groups=False` to exclude the groupings or explicitly select the grouping columns after groupby to silence this warning.\n",
      "  gp = matches.groupby('match_id').apply(filter_by_player_and_ball_number)\n",
      "/tmp/ipykernel_1282148/868147661.py:90: DeprecationWarning: DataFrameGroupBy.apply operated on the grouping columns. This behavior is deprecated, and in a future version of pandas the grouping columns will be excluded from the operation. Either pass `include_groups=False` to exclude the groupings or explicitly select the grouping columns after groupby to silence this warning.\n",
      "  gp = matches.groupby('match_id').apply(filter_by_player_and_ball_number)\n"
     ]
    },
    {
     "name": "stdout",
     "output_type": "stream",
     "text": [
      "Analyzing Player GJP Kruger\n",
      "Analyzing Player M Zondeki\n",
      "Analyzing Player L Vincent\n",
      "Analyzing Player PG Fulton\n",
      "Analyzing Player JEC Franklin\n"
     ]
    },
    {
     "name": "stderr",
     "output_type": "stream",
     "text": [
      "/tmp/ipykernel_1282148/868147661.py:90: DeprecationWarning: DataFrameGroupBy.apply operated on the grouping columns. This behavior is deprecated, and in a future version of pandas the grouping columns will be excluded from the operation. Either pass `include_groups=False` to exclude the groupings or explicitly select the grouping columns after groupby to silence this warning.\n",
      "  gp = matches.groupby('match_id').apply(filter_by_player_and_ball_number)\n",
      "/tmp/ipykernel_1282148/868147661.py:90: DeprecationWarning: DataFrameGroupBy.apply operated on the grouping columns. This behavior is deprecated, and in a future version of pandas the grouping columns will be excluded from the operation. Either pass `include_groups=False` to exclude the groupings or explicitly select the grouping columns after groupby to silence this warning.\n",
      "  gp = matches.groupby('match_id').apply(filter_by_player_and_ball_number)\n",
      "/tmp/ipykernel_1282148/868147661.py:90: DeprecationWarning: DataFrameGroupBy.apply operated on the grouping columns. This behavior is deprecated, and in a future version of pandas the grouping columns will be excluded from the operation. Either pass `include_groups=False` to exclude the groupings or explicitly select the grouping columns after groupby to silence this warning.\n",
      "  gp = matches.groupby('match_id').apply(filter_by_player_and_ball_number)\n",
      "/tmp/ipykernel_1282148/868147661.py:90: DeprecationWarning: DataFrameGroupBy.apply operated on the grouping columns. This behavior is deprecated, and in a future version of pandas the grouping columns will be excluded from the operation. Either pass `include_groups=False` to exclude the groupings or explicitly select the grouping columns after groupby to silence this warning.\n",
      "  gp = matches.groupby('match_id').apply(filter_by_player_and_ball_number)\n"
     ]
    },
    {
     "name": "stdout",
     "output_type": "stream",
     "text": [
      "Analyzing Player SE Bond\n",
      "Analyzing Player D Ganga\n",
      "Analyzing Player RS Morton\n",
      "Analyzing Player DR Smith\n"
     ]
    },
    {
     "name": "stderr",
     "output_type": "stream",
     "text": [
      "/tmp/ipykernel_1282148/868147661.py:90: DeprecationWarning: DataFrameGroupBy.apply operated on the grouping columns. This behavior is deprecated, and in a future version of pandas the grouping columns will be excluded from the operation. Either pass `include_groups=False` to exclude the groupings or explicitly select the grouping columns after groupby to silence this warning.\n",
      "  gp = matches.groupby('match_id').apply(filter_by_player_and_ball_number)\n",
      "/tmp/ipykernel_1282148/868147661.py:90: DeprecationWarning: DataFrameGroupBy.apply operated on the grouping columns. This behavior is deprecated, and in a future version of pandas the grouping columns will be excluded from the operation. Either pass `include_groups=False` to exclude the groupings or explicitly select the grouping columns after groupby to silence this warning.\n",
      "  gp = matches.groupby('match_id').apply(filter_by_player_and_ball_number)\n",
      "/tmp/ipykernel_1282148/868147661.py:90: DeprecationWarning: DataFrameGroupBy.apply operated on the grouping columns. This behavior is deprecated, and in a future version of pandas the grouping columns will be excluded from the operation. Either pass `include_groups=False` to exclude the groupings or explicitly select the grouping columns after groupby to silence this warning.\n",
      "  gp = matches.groupby('match_id').apply(filter_by_player_and_ball_number)\n"
     ]
    },
    {
     "name": "stdout",
     "output_type": "stream",
     "text": [
      "Analyzing Player WW Hinds\n",
      "Analyzing Player S Chanderpaul\n",
      "Analyzing Player SR Watson\n"
     ]
    },
    {
     "name": "stderr",
     "output_type": "stream",
     "text": [
      "/tmp/ipykernel_1282148/868147661.py:90: DeprecationWarning: DataFrameGroupBy.apply operated on the grouping columns. This behavior is deprecated, and in a future version of pandas the grouping columns will be excluded from the operation. Either pass `include_groups=False` to exclude the groupings or explicitly select the grouping columns after groupby to silence this warning.\n",
      "  gp = matches.groupby('match_id').apply(filter_by_player_and_ball_number)\n",
      "/tmp/ipykernel_1282148/868147661.py:90: DeprecationWarning: DataFrameGroupBy.apply operated on the grouping columns. This behavior is deprecated, and in a future version of pandas the grouping columns will be excluded from the operation. Either pass `include_groups=False` to exclude the groupings or explicitly select the grouping columns after groupby to silence this warning.\n",
      "  gp = matches.groupby('match_id').apply(filter_by_player_and_ball_number)\n",
      "/tmp/ipykernel_1282148/868147661.py:90: DeprecationWarning: DataFrameGroupBy.apply operated on the grouping columns. This behavior is deprecated, and in a future version of pandas the grouping columns will be excluded from the operation. Either pass `include_groups=False` to exclude the groupings or explicitly select the grouping columns after groupby to silence this warning.\n",
      "  gp = matches.groupby('match_id').apply(filter_by_player_and_ball_number)\n",
      "/tmp/ipykernel_1282148/868147661.py:90: DeprecationWarning: DataFrameGroupBy.apply operated on the grouping columns. This behavior is deprecated, and in a future version of pandas the grouping columns will be excluded from the operation. Either pass `include_groups=False` to exclude the groupings or explicitly select the grouping columns after groupby to silence this warning.\n",
      "  gp = matches.groupby('match_id').apply(filter_by_player_and_ball_number)\n"
     ]
    },
    {
     "name": "stdout",
     "output_type": "stream",
     "text": [
      "Analyzing Player GB Hogg\n",
      "Analyzing Player NW Bracken\n",
      "Analyzing Player LE Bosman\n",
      "Analyzing Player JJ van der Wath\n",
      "Analyzing Player CL White\n"
     ]
    },
    {
     "name": "stderr",
     "output_type": "stream",
     "text": [
      "/tmp/ipykernel_1282148/868147661.py:90: DeprecationWarning: DataFrameGroupBy.apply operated on the grouping columns. This behavior is deprecated, and in a future version of pandas the grouping columns will be excluded from the operation. Either pass `include_groups=False` to exclude the groupings or explicitly select the grouping columns after groupby to silence this warning.\n",
      "  gp = matches.groupby('match_id').apply(filter_by_player_and_ball_number)\n",
      "/tmp/ipykernel_1282148/868147661.py:90: DeprecationWarning: DataFrameGroupBy.apply operated on the grouping columns. This behavior is deprecated, and in a future version of pandas the grouping columns will be excluded from the operation. Either pass `include_groups=False` to exclude the groupings or explicitly select the grouping columns after groupby to silence this warning.\n",
      "  gp = matches.groupby('match_id').apply(filter_by_player_and_ball_number)\n",
      "/tmp/ipykernel_1282148/868147661.py:90: DeprecationWarning: DataFrameGroupBy.apply operated on the grouping columns. This behavior is deprecated, and in a future version of pandas the grouping columns will be excluded from the operation. Either pass `include_groups=False` to exclude the groupings or explicitly select the grouping columns after groupby to silence this warning.\n",
      "  gp = matches.groupby('match_id').apply(filter_by_player_and_ball_number)\n",
      "/tmp/ipykernel_1282148/868147661.py:90: DeprecationWarning: DataFrameGroupBy.apply operated on the grouping columns. This behavior is deprecated, and in a future version of pandas the grouping columns will be excluded from the operation. Either pass `include_groups=False` to exclude the groupings or explicitly select the grouping columns after groupby to silence this warning.\n",
      "  gp = matches.groupby('match_id').apply(filter_by_player_and_ball_number)\n"
     ]
    },
    {
     "name": "stdout",
     "output_type": "stream",
     "text": [
      "Analyzing Player EC Joyce\n",
      "Analyzing Player PA Nixon\n",
      "Analyzing Player J Lewis\n",
      "Analyzing Player MS Panesar\n",
      "Analyzing Player JM Anderson\n"
     ]
    },
    {
     "name": "stderr",
     "output_type": "stream",
     "text": [
      "/tmp/ipykernel_1282148/868147661.py:90: DeprecationWarning: DataFrameGroupBy.apply operated on the grouping columns. This behavior is deprecated, and in a future version of pandas the grouping columns will be excluded from the operation. Either pass `include_groups=False` to exclude the groupings or explicitly select the grouping columns after groupby to silence this warning.\n",
      "  gp = matches.groupby('match_id').apply(filter_by_player_and_ball_number)\n",
      "/tmp/ipykernel_1282148/868147661.py:90: DeprecationWarning: DataFrameGroupBy.apply operated on the grouping columns. This behavior is deprecated, and in a future version of pandas the grouping columns will be excluded from the operation. Either pass `include_groups=False` to exclude the groupings or explicitly select the grouping columns after groupby to silence this warning.\n",
      "  gp = matches.groupby('match_id').apply(filter_by_player_and_ball_number)\n",
      "/tmp/ipykernel_1282148/868147661.py:90: DeprecationWarning: DataFrameGroupBy.apply operated on the grouping columns. This behavior is deprecated, and in a future version of pandas the grouping columns will be excluded from the operation. Either pass `include_groups=False` to exclude the groupings or explicitly select the grouping columns after groupby to silence this warning.\n",
      "  gp = matches.groupby('match_id').apply(filter_by_player_and_ball_number)\n",
      "/tmp/ipykernel_1282148/868147661.py:90: DeprecationWarning: DataFrameGroupBy.apply operated on the grouping columns. This behavior is deprecated, and in a future version of pandas the grouping columns will be excluded from the operation. Either pass `include_groups=False` to exclude the groupings or explicitly select the grouping columns after groupby to silence this warning.\n",
      "  gp = matches.groupby('match_id').apply(filter_by_player_and_ball_number)\n",
      "/tmp/ipykernel_1282148/868147661.py:90: DeprecationWarning: DataFrameGroupBy.apply operated on the grouping columns. This behavior is deprecated, and in a future version of pandas the grouping columns will be excluded from the operation. Either pass `include_groups=False` to exclude the groupings or explicitly select the grouping columns after groupby to silence this warning.\n",
      "  gp = matches.groupby('match_id').apply(filter_by_player_and_ball_number)\n"
     ]
    },
    {
     "name": "stdout",
     "output_type": "stream",
     "text": [
      "Analyzing Player JAH Marshall\n",
      "Analyzing Player PD McGlashan\n",
      "Analyzing Player MR Gillespie\n",
      "Analyzing Player MS Atapattu\n",
      "Analyzing Player LPC Silva\n"
     ]
    },
    {
     "name": "stderr",
     "output_type": "stream",
     "text": [
      "/tmp/ipykernel_1282148/868147661.py:90: DeprecationWarning: DataFrameGroupBy.apply operated on the grouping columns. This behavior is deprecated, and in a future version of pandas the grouping columns will be excluded from the operation. Either pass `include_groups=False` to exclude the groupings or explicitly select the grouping columns after groupby to silence this warning.\n",
      "  gp = matches.groupby('match_id').apply(filter_by_player_and_ball_number)\n",
      "/tmp/ipykernel_1282148/868147661.py:90: DeprecationWarning: DataFrameGroupBy.apply operated on the grouping columns. This behavior is deprecated, and in a future version of pandas the grouping columns will be excluded from the operation. Either pass `include_groups=False` to exclude the groupings or explicitly select the grouping columns after groupby to silence this warning.\n",
      "  gp = matches.groupby('match_id').apply(filter_by_player_and_ball_number)\n",
      "/tmp/ipykernel_1282148/868147661.py:90: DeprecationWarning: DataFrameGroupBy.apply operated on the grouping columns. This behavior is deprecated, and in a future version of pandas the grouping columns will be excluded from the operation. Either pass `include_groups=False` to exclude the groupings or explicitly select the grouping columns after groupby to silence this warning.\n",
      "  gp = matches.groupby('match_id').apply(filter_by_player_and_ball_number)\n",
      "/tmp/ipykernel_1282148/868147661.py:90: DeprecationWarning: DataFrameGroupBy.apply operated on the grouping columns. This behavior is deprecated, and in a future version of pandas the grouping columns will be excluded from the operation. Either pass `include_groups=False` to exclude the groupings or explicitly select the grouping columns after groupby to silence this warning.\n",
      "  gp = matches.groupby('match_id').apply(filter_by_player_and_ball_number)\n"
     ]
    },
    {
     "name": "stdout",
     "output_type": "stream",
     "text": [
      "Analyzing Player HMCM Bandara\n",
      "Analyzing Player V Sehwag\n",
      "Analyzing Player SR Tendulkar\n",
      "Analyzing Player D Mongia\n",
      "Analyzing Player RJ Peterson\n"
     ]
    },
    {
     "name": "stderr",
     "output_type": "stream",
     "text": [
      "/tmp/ipykernel_1282148/868147661.py:90: DeprecationWarning: DataFrameGroupBy.apply operated on the grouping columns. This behavior is deprecated, and in a future version of pandas the grouping columns will be excluded from the operation. Either pass `include_groups=False` to exclude the groupings or explicitly select the grouping columns after groupby to silence this warning.\n",
      "  gp = matches.groupby('match_id').apply(filter_by_player_and_ball_number)\n",
      "/tmp/ipykernel_1282148/868147661.py:90: DeprecationWarning: DataFrameGroupBy.apply operated on the grouping columns. This behavior is deprecated, and in a future version of pandas the grouping columns will be excluded from the operation. Either pass `include_groups=False` to exclude the groupings or explicitly select the grouping columns after groupby to silence this warning.\n",
      "  gp = matches.groupby('match_id').apply(filter_by_player_and_ball_number)\n",
      "/tmp/ipykernel_1282148/868147661.py:90: DeprecationWarning: DataFrameGroupBy.apply operated on the grouping columns. This behavior is deprecated, and in a future version of pandas the grouping columns will be excluded from the operation. Either pass `include_groups=False` to exclude the groupings or explicitly select the grouping columns after groupby to silence this warning.\n",
      "  gp = matches.groupby('match_id').apply(filter_by_player_and_ball_number)\n",
      "/tmp/ipykernel_1282148/868147661.py:90: DeprecationWarning: DataFrameGroupBy.apply operated on the grouping columns. This behavior is deprecated, and in a future version of pandas the grouping columns will be excluded from the operation. Either pass `include_groups=False` to exclude the groupings or explicitly select the grouping columns after groupby to silence this warning.\n",
      "  gp = matches.groupby('match_id').apply(filter_by_player_and_ball_number)\n",
      "/tmp/ipykernel_1282148/868147661.py:90: DeprecationWarning: DataFrameGroupBy.apply operated on the grouping columns. This behavior is deprecated, and in a future version of pandas the grouping columns will be excluded from the operation. Either pass `include_groups=False` to exclude the groupings or explicitly select the grouping columns after groupby to silence this warning.\n",
      "  gp = matches.groupby('match_id').apply(filter_by_player_and_ball_number)\n"
     ]
    },
    {
     "name": "stdout",
     "output_type": "stream",
     "text": [
      "Analyzing Player R Telemachus\n",
      "Analyzing Player T Henderson\n",
      "Analyzing Player AN Cook\n",
      "Analyzing Player MJ Prior\n",
      "Analyzing Player IJL Trott\n"
     ]
    },
    {
     "name": "stderr",
     "output_type": "stream",
     "text": [
      "/tmp/ipykernel_1282148/868147661.py:90: DeprecationWarning: DataFrameGroupBy.apply operated on the grouping columns. This behavior is deprecated, and in a future version of pandas the grouping columns will be excluded from the operation. Either pass `include_groups=False` to exclude the groupings or explicitly select the grouping columns after groupby to silence this warning.\n",
      "  gp = matches.groupby('match_id').apply(filter_by_player_and_ball_number)\n",
      "/tmp/ipykernel_1282148/868147661.py:90: DeprecationWarning: DataFrameGroupBy.apply operated on the grouping columns. This behavior is deprecated, and in a future version of pandas the grouping columns will be excluded from the operation. Either pass `include_groups=False` to exclude the groupings or explicitly select the grouping columns after groupby to silence this warning.\n",
      "  gp = matches.groupby('match_id').apply(filter_by_player_and_ball_number)\n",
      "/tmp/ipykernel_1282148/868147661.py:90: DeprecationWarning: DataFrameGroupBy.apply operated on the grouping columns. This behavior is deprecated, and in a future version of pandas the grouping columns will be excluded from the operation. Either pass `include_groups=False` to exclude the groupings or explicitly select the grouping columns after groupby to silence this warning.\n",
      "  gp = matches.groupby('match_id').apply(filter_by_player_and_ball_number)\n",
      "/tmp/ipykernel_1282148/868147661.py:90: DeprecationWarning: DataFrameGroupBy.apply operated on the grouping columns. This behavior is deprecated, and in a future version of pandas the grouping columns will be excluded from the operation. Either pass `include_groups=False` to exclude the groupings or explicitly select the grouping columns after groupby to silence this warning.\n",
      "  gp = matches.groupby('match_id').apply(filter_by_player_and_ball_number)\n"
     ]
    },
    {
     "name": "stdout",
     "output_type": "stream",
     "text": [
      "Analyzing Player OA Shah\n",
      "Analyzing Player AD Mascarenhas\n",
      "Analyzing Player SCJ Broad\n",
      "Analyzing Player DS Smith\n"
     ]
    },
    {
     "name": "stderr",
     "output_type": "stream",
     "text": [
      "/tmp/ipykernel_1282148/868147661.py:90: DeprecationWarning: DataFrameGroupBy.apply operated on the grouping columns. This behavior is deprecated, and in a future version of pandas the grouping columns will be excluded from the operation. Either pass `include_groups=False` to exclude the groupings or explicitly select the grouping columns after groupby to silence this warning.\n",
      "  gp = matches.groupby('match_id').apply(filter_by_player_and_ball_number)\n",
      "/tmp/ipykernel_1282148/868147661.py:90: DeprecationWarning: DataFrameGroupBy.apply operated on the grouping columns. This behavior is deprecated, and in a future version of pandas the grouping columns will be excluded from the operation. Either pass `include_groups=False` to exclude the groupings or explicitly select the grouping columns after groupby to silence this warning.\n",
      "  gp = matches.groupby('match_id').apply(filter_by_player_and_ball_number)\n",
      "/tmp/ipykernel_1282148/868147661.py:90: DeprecationWarning: DataFrameGroupBy.apply operated on the grouping columns. This behavior is deprecated, and in a future version of pandas the grouping columns will be excluded from the operation. Either pass `include_groups=False` to exclude the groupings or explicitly select the grouping columns after groupby to silence this warning.\n",
      "  gp = matches.groupby('match_id').apply(filter_by_player_and_ball_number)\n",
      "/tmp/ipykernel_1282148/868147661.py:90: DeprecationWarning: DataFrameGroupBy.apply operated on the grouping columns. This behavior is deprecated, and in a future version of pandas the grouping columns will be excluded from the operation. Either pass `include_groups=False` to exclude the groupings or explicitly select the grouping columns after groupby to silence this warning.\n",
      "  gp = matches.groupby('match_id').apply(filter_by_player_and_ball_number)\n"
     ]
    },
    {
     "name": "stdout",
     "output_type": "stream",
     "text": [
      "Analyzing Player DJG Sammy\n",
      "Analyzing Player ACL Richards\n",
      "Analyzing Player RR Sarwan\n",
      "Analyzing Player BJ Hodge\n"
     ]
    },
    {
     "name": "stderr",
     "output_type": "stream",
     "text": [
      "/tmp/ipykernel_1282148/868147661.py:90: DeprecationWarning: DataFrameGroupBy.apply operated on the grouping columns. This behavior is deprecated, and in a future version of pandas the grouping columns will be excluded from the operation. Either pass `include_groups=False` to exclude the groupings or explicitly select the grouping columns after groupby to silence this warning.\n",
      "  gp = matches.groupby('match_id').apply(filter_by_player_and_ball_number)\n",
      "/tmp/ipykernel_1282148/868147661.py:90: DeprecationWarning: DataFrameGroupBy.apply operated on the grouping columns. This behavior is deprecated, and in a future version of pandas the grouping columns will be excluded from the operation. Either pass `include_groups=False` to exclude the groupings or explicitly select the grouping columns after groupby to silence this warning.\n",
      "  gp = matches.groupby('match_id').apply(filter_by_player_and_ball_number)\n",
      "/tmp/ipykernel_1282148/868147661.py:90: DeprecationWarning: DataFrameGroupBy.apply operated on the grouping columns. This behavior is deprecated, and in a future version of pandas the grouping columns will be excluded from the operation. Either pass `include_groups=False` to exclude the groupings or explicitly select the grouping columns after groupby to silence this warning.\n",
      "  gp = matches.groupby('match_id').apply(filter_by_player_and_ball_number)\n",
      "/tmp/ipykernel_1282148/868147661.py:90: DeprecationWarning: DataFrameGroupBy.apply operated on the grouping columns. This behavior is deprecated, and in a future version of pandas the grouping columns will be excluded from the operation. Either pass `include_groups=False` to exclude the groupings or explicitly select the grouping columns after groupby to silence this warning.\n",
      "  gp = matches.groupby('match_id').apply(filter_by_player_and_ball_number)\n"
     ]
    },
    {
     "name": "stdout",
     "output_type": "stream",
     "text": [
      "Analyzing Player BJ Haddin\n",
      "Analyzing Player MG Johnson\n",
      "Analyzing Player T Taibu\n",
      "Analyzing Player S Matsikenyeri\n"
     ]
    },
    {
     "name": "stderr",
     "output_type": "stream",
     "text": [
      "/tmp/ipykernel_1282148/868147661.py:90: DeprecationWarning: DataFrameGroupBy.apply operated on the grouping columns. This behavior is deprecated, and in a future version of pandas the grouping columns will be excluded from the operation. Either pass `include_groups=False` to exclude the groupings or explicitly select the grouping columns after groupby to silence this warning.\n",
      "  gp = matches.groupby('match_id').apply(filter_by_player_and_ball_number)\n",
      "/tmp/ipykernel_1282148/868147661.py:90: DeprecationWarning: DataFrameGroupBy.apply operated on the grouping columns. This behavior is deprecated, and in a future version of pandas the grouping columns will be excluded from the operation. Either pass `include_groups=False` to exclude the groupings or explicitly select the grouping columns after groupby to silence this warning.\n",
      "  gp = matches.groupby('match_id').apply(filter_by_player_and_ball_number)\n",
      "/tmp/ipykernel_1282148/868147661.py:90: DeprecationWarning: DataFrameGroupBy.apply operated on the grouping columns. This behavior is deprecated, and in a future version of pandas the grouping columns will be excluded from the operation. Either pass `include_groups=False` to exclude the groupings or explicitly select the grouping columns after groupby to silence this warning.\n",
      "  gp = matches.groupby('match_id').apply(filter_by_player_and_ball_number)\n",
      "/tmp/ipykernel_1282148/868147661.py:90: DeprecationWarning: DataFrameGroupBy.apply operated on the grouping columns. This behavior is deprecated, and in a future version of pandas the grouping columns will be excluded from the operation. Either pass `include_groups=False` to exclude the groupings or explicitly select the grouping columns after groupby to silence this warning.\n",
      "  gp = matches.groupby('match_id').apply(filter_by_player_and_ball_number)\n"
     ]
    },
    {
     "name": "stdout",
     "output_type": "stream",
     "text": [
      "Analyzing Player Nazimuddin\n",
      "Analyzing Player Aftab Ahmed\n",
      "Analyzing Player Mohammad Ashraful\n",
      "Analyzing Player Alok Kapali\n"
     ]
    },
    {
     "name": "stderr",
     "output_type": "stream",
     "text": [
      "/tmp/ipykernel_1282148/868147661.py:90: DeprecationWarning: DataFrameGroupBy.apply operated on the grouping columns. This behavior is deprecated, and in a future version of pandas the grouping columns will be excluded from the operation. Either pass `include_groups=False` to exclude the groupings or explicitly select the grouping columns after groupby to silence this warning.\n",
      "  gp = matches.groupby('match_id').apply(filter_by_player_and_ball_number)\n",
      "/tmp/ipykernel_1282148/868147661.py:90: DeprecationWarning: DataFrameGroupBy.apply operated on the grouping columns. This behavior is deprecated, and in a future version of pandas the grouping columns will be excluded from the operation. Either pass `include_groups=False` to exclude the groupings or explicitly select the grouping columns after groupby to silence this warning.\n",
      "  gp = matches.groupby('match_id').apply(filter_by_player_and_ball_number)\n",
      "/tmp/ipykernel_1282148/868147661.py:90: DeprecationWarning: DataFrameGroupBy.apply operated on the grouping columns. This behavior is deprecated, and in a future version of pandas the grouping columns will be excluded from the operation. Either pass `include_groups=False` to exclude the groupings or explicitly select the grouping columns after groupby to silence this warning.\n",
      "  gp = matches.groupby('match_id').apply(filter_by_player_and_ball_number)\n",
      "/tmp/ipykernel_1282148/868147661.py:90: DeprecationWarning: DataFrameGroupBy.apply operated on the grouping columns. This behavior is deprecated, and in a future version of pandas the grouping columns will be excluded from the operation. Either pass `include_groups=False` to exclude the groupings or explicitly select the grouping columns after groupby to silence this warning.\n",
      "  gp = matches.groupby('match_id').apply(filter_by_player_and_ball_number)\n"
     ]
    },
    {
     "name": "stdout",
     "output_type": "stream",
     "text": [
      "Analyzing Player DBL Powell\n",
      "Analyzing Player DL Maddy\n",
      "Analyzing Player LJ Wright\n",
      "Analyzing Player CP Schofield\n"
     ]
    },
    {
     "name": "stderr",
     "output_type": "stream",
     "text": [
      "/tmp/ipykernel_1282148/868147661.py:90: DeprecationWarning: DataFrameGroupBy.apply operated on the grouping columns. This behavior is deprecated, and in a future version of pandas the grouping columns will be excluded from the operation. Either pass `include_groups=False` to exclude the groupings or explicitly select the grouping columns after groupby to silence this warning.\n",
      "  gp = matches.groupby('match_id').apply(filter_by_player_and_ball_number)\n",
      "/tmp/ipykernel_1282148/868147661.py:90: DeprecationWarning: DataFrameGroupBy.apply operated on the grouping columns. This behavior is deprecated, and in a future version of pandas the grouping columns will be excluded from the operation. Either pass `include_groups=False` to exclude the groupings or explicitly select the grouping columns after groupby to silence this warning.\n",
      "  gp = matches.groupby('match_id').apply(filter_by_player_and_ball_number)\n",
      "/tmp/ipykernel_1282148/868147661.py:90: DeprecationWarning: DataFrameGroupBy.apply operated on the grouping columns. This behavior is deprecated, and in a future version of pandas the grouping columns will be excluded from the operation. Either pass `include_groups=False` to exclude the groupings or explicitly select the grouping columns after groupby to silence this warning.\n",
      "  gp = matches.groupby('match_id').apply(filter_by_player_and_ball_number)\n",
      "/tmp/ipykernel_1282148/868147661.py:90: DeprecationWarning: DataFrameGroupBy.apply operated on the grouping columns. This behavior is deprecated, and in a future version of pandas the grouping columns will be excluded from the operation. Either pass `include_groups=False` to exclude the groupings or explicitly select the grouping columns after groupby to silence this warning.\n",
      "  gp = matches.groupby('match_id').apply(filter_by_player_and_ball_number)\n"
     ]
    },
    {
     "name": "stdout",
     "output_type": "stream",
     "text": [
      "Analyzing Player P Utseya\n",
      "Analyzing Player RJ Kirtley\n",
      "Analyzing Player G Gambhir\n",
      "Analyzing Player RV Uthappa\n"
     ]
    },
    {
     "name": "stderr",
     "output_type": "stream",
     "text": [
      "/tmp/ipykernel_1282148/868147661.py:90: DeprecationWarning: DataFrameGroupBy.apply operated on the grouping columns. This behavior is deprecated, and in a future version of pandas the grouping columns will be excluded from the operation. Either pass `include_groups=False` to exclude the groupings or explicitly select the grouping columns after groupby to silence this warning.\n",
      "  gp = matches.groupby('match_id').apply(filter_by_player_and_ball_number)\n",
      "/tmp/ipykernel_1282148/868147661.py:90: DeprecationWarning: DataFrameGroupBy.apply operated on the grouping columns. This behavior is deprecated, and in a future version of pandas the grouping columns will be excluded from the operation. Either pass `include_groups=False` to exclude the groupings or explicitly select the grouping columns after groupby to silence this warning.\n",
      "  gp = matches.groupby('match_id').apply(filter_by_player_and_ball_number)\n",
      "/tmp/ipykernel_1282148/868147661.py:90: DeprecationWarning: DataFrameGroupBy.apply operated on the grouping columns. This behavior is deprecated, and in a future version of pandas the grouping columns will be excluded from the operation. Either pass `include_groups=False` to exclude the groupings or explicitly select the grouping columns after groupby to silence this warning.\n",
      "  gp = matches.groupby('match_id').apply(filter_by_player_and_ball_number)\n",
      "/tmp/ipykernel_1282148/868147661.py:90: DeprecationWarning: DataFrameGroupBy.apply operated on the grouping columns. This behavior is deprecated, and in a future version of pandas the grouping columns will be excluded from the operation. Either pass `include_groups=False` to exclude the groupings or explicitly select the grouping columns after groupby to silence this warning.\n",
      "  gp = matches.groupby('match_id').apply(filter_by_player_and_ball_number)\n"
     ]
    },
    {
     "name": "stdout",
     "output_type": "stream",
     "text": [
      "Analyzing Player IK Pathan\n",
      "Analyzing Player Harbhajan Singh\n",
      "Analyzing Player AB Agarkar\n",
      "Analyzing Player S Sreesanth\n",
      "Analyzing Player Salman Butt\n"
     ]
    },
    {
     "name": "stderr",
     "output_type": "stream",
     "text": [
      "/tmp/ipykernel_1282148/868147661.py:90: DeprecationWarning: DataFrameGroupBy.apply operated on the grouping columns. This behavior is deprecated, and in a future version of pandas the grouping columns will be excluded from the operation. Either pass `include_groups=False` to exclude the groupings or explicitly select the grouping columns after groupby to silence this warning.\n",
      "  gp = matches.groupby('match_id').apply(filter_by_player_and_ball_number)\n",
      "/tmp/ipykernel_1282148/868147661.py:90: DeprecationWarning: DataFrameGroupBy.apply operated on the grouping columns. This behavior is deprecated, and in a future version of pandas the grouping columns will be excluded from the operation. Either pass `include_groups=False` to exclude the groupings or explicitly select the grouping columns after groupby to silence this warning.\n",
      "  gp = matches.groupby('match_id').apply(filter_by_player_and_ball_number)\n",
      "/tmp/ipykernel_1282148/868147661.py:90: DeprecationWarning: DataFrameGroupBy.apply operated on the grouping columns. This behavior is deprecated, and in a future version of pandas the grouping columns will be excluded from the operation. Either pass `include_groups=False` to exclude the groupings or explicitly select the grouping columns after groupby to silence this warning.\n",
      "  gp = matches.groupby('match_id').apply(filter_by_player_and_ball_number)\n",
      "/tmp/ipykernel_1282148/868147661.py:90: DeprecationWarning: DataFrameGroupBy.apply operated on the grouping columns. This behavior is deprecated, and in a future version of pandas the grouping columns will be excluded from the operation. Either pass `include_groups=False` to exclude the groupings or explicitly select the grouping columns after groupby to silence this warning.\n",
      "  gp = matches.groupby('match_id').apply(filter_by_player_and_ball_number)\n",
      "/tmp/ipykernel_1282148/868147661.py:90: DeprecationWarning: DataFrameGroupBy.apply operated on the grouping columns. This behavior is deprecated, and in a future version of pandas the grouping columns will be excluded from the operation. Either pass `include_groups=False` to exclude the groupings or explicitly select the grouping columns after groupby to silence this warning.\n",
      "  gp = matches.groupby('match_id').apply(filter_by_player_and_ball_number)\n",
      "/tmp/ipykernel_1282148/868147661.py:90: DeprecationWarning: DataFrameGroupBy.apply operated on the grouping columns. This behavior is deprecated, and in a future version of pandas the grouping columns will be excluded from the operation. Either pass `include_groups=False` to exclude the groupings or explicitly select the grouping columns after groupby to silence this warning.\n",
      "  gp = matches.groupby('match_id').apply(filter_by_player_and_ball_number)\n",
      "/tmp/ipykernel_1282148/868147661.py:90: DeprecationWarning: DataFrameGroupBy.apply operated on the grouping columns. This behavior is deprecated, and in a future version of pandas the grouping columns will be excluded from the operation. Either pass `include_groups=False` to exclude the groupings or explicitly select the grouping columns after groupby to silence this warning.\n",
      "  gp = matches.groupby('match_id').apply(filter_by_player_and_ball_number)\n"
     ]
    },
    {
     "name": "stdout",
     "output_type": "stream",
     "text": [
      "Analyzing Player Imran Nazir\n",
      "Analyzing Player Misbah-ul-Haq\n",
      "Analyzing Player Yasir Arafat\n",
      "Analyzing Player DL Vettori\n"
     ]
    },
    {
     "name": "stderr",
     "output_type": "stream",
     "text": [
      "/tmp/ipykernel_1282148/868147661.py:90: DeprecationWarning: DataFrameGroupBy.apply operated on the grouping columns. This behavior is deprecated, and in a future version of pandas the grouping columns will be excluded from the operation. Either pass `include_groups=False` to exclude the groupings or explicitly select the grouping columns after groupby to silence this warning.\n",
      "  gp = matches.groupby('match_id').apply(filter_by_player_and_ball_number)\n",
      "/tmp/ipykernel_1282148/868147661.py:90: DeprecationWarning: DataFrameGroupBy.apply operated on the grouping columns. This behavior is deprecated, and in a future version of pandas the grouping columns will be excluded from the operation. Either pass `include_groups=False` to exclude the groupings or explicitly select the grouping columns after groupby to silence this warning.\n",
      "  gp = matches.groupby('match_id').apply(filter_by_player_and_ball_number)\n",
      "/tmp/ipykernel_1282148/868147661.py:90: DeprecationWarning: DataFrameGroupBy.apply operated on the grouping columns. This behavior is deprecated, and in a future version of pandas the grouping columns will be excluded from the operation. Either pass `include_groups=False` to exclude the groupings or explicitly select the grouping columns after groupby to silence this warning.\n",
      "  gp = matches.groupby('match_id').apply(filter_by_player_and_ball_number)\n",
      "/tmp/ipykernel_1282148/868147661.py:90: DeprecationWarning: DataFrameGroupBy.apply operated on the grouping columns. This behavior is deprecated, and in a future version of pandas the grouping columns will be excluded from the operation. Either pass `include_groups=False` to exclude the groupings or explicitly select the grouping columns after groupby to silence this warning.\n",
      "  gp = matches.groupby('match_id').apply(filter_by_player_and_ball_number)\n"
     ]
    },
    {
     "name": "stdout",
     "output_type": "stream",
     "text": [
      "Analyzing Player Farhad Reza\n",
      "Analyzing Player Abdur Razzak\n",
      "Analyzing Player Syed Rasel\n",
      "Analyzing Player RP Singh\n",
      "Analyzing Player JS Patel\n"
     ]
    },
    {
     "name": "stderr",
     "output_type": "stream",
     "text": [
      "/tmp/ipykernel_1282148/868147661.py:90: DeprecationWarning: DataFrameGroupBy.apply operated on the grouping columns. This behavior is deprecated, and in a future version of pandas the grouping columns will be excluded from the operation. Either pass `include_groups=False` to exclude the groupings or explicitly select the grouping columns after groupby to silence this warning.\n",
      "  gp = matches.groupby('match_id').apply(filter_by_player_and_ball_number)\n",
      "/tmp/ipykernel_1282148/868147661.py:90: DeprecationWarning: DataFrameGroupBy.apply operated on the grouping columns. This behavior is deprecated, and in a future version of pandas the grouping columns will be excluded from the operation. Either pass `include_groups=False` to exclude the groupings or explicitly select the grouping columns after groupby to silence this warning.\n",
      "  gp = matches.groupby('match_id').apply(filter_by_player_and_ball_number)\n",
      "/tmp/ipykernel_1282148/868147661.py:90: DeprecationWarning: DataFrameGroupBy.apply operated on the grouping columns. This behavior is deprecated, and in a future version of pandas the grouping columns will be excluded from the operation. Either pass `include_groups=False` to exclude the groupings or explicitly select the grouping columns after groupby to silence this warning.\n",
      "  gp = matches.groupby('match_id').apply(filter_by_player_and_ball_number)\n",
      "/tmp/ipykernel_1282148/868147661.py:90: DeprecationWarning: DataFrameGroupBy.apply operated on the grouping columns. This behavior is deprecated, and in a future version of pandas the grouping columns will be excluded from the operation. Either pass `include_groups=False` to exclude the groupings or explicitly select the grouping columns after groupby to silence this warning.\n",
      "  gp = matches.groupby('match_id').apply(filter_by_player_and_ball_number)\n",
      "/tmp/ipykernel_1282148/868147661.py:90: DeprecationWarning: DataFrameGroupBy.apply operated on the grouping columns. This behavior is deprecated, and in a future version of pandas the grouping columns will be excluded from the operation. Either pass `include_groups=False` to exclude the groupings or explicitly select the grouping columns after groupby to silence this warning.\n",
      "  gp = matches.groupby('match_id').apply(filter_by_player_and_ball_number)\n"
     ]
    },
    {
     "name": "stdout",
     "output_type": "stream",
     "text": [
      "Analyzing Player JN Snape\n",
      "Analyzing Player VD Philander\n",
      "Analyzing Player J Mubarak\n",
      "Analyzing Player G Wijekoon\n",
      "Analyzing Player WPUJC Vaas\n"
     ]
    },
    {
     "name": "stderr",
     "output_type": "stream",
     "text": [
      "/tmp/ipykernel_1282148/868147661.py:90: DeprecationWarning: DataFrameGroupBy.apply operated on the grouping columns. This behavior is deprecated, and in a future version of pandas the grouping columns will be excluded from the operation. Either pass `include_groups=False` to exclude the groupings or explicitly select the grouping columns after groupby to silence this warning.\n",
      "  gp = matches.groupby('match_id').apply(filter_by_player_and_ball_number)\n",
      "/tmp/ipykernel_1282148/868147661.py:90: DeprecationWarning: DataFrameGroupBy.apply operated on the grouping columns. This behavior is deprecated, and in a future version of pandas the grouping columns will be excluded from the operation. Either pass `include_groups=False` to exclude the groupings or explicitly select the grouping columns after groupby to silence this warning.\n",
      "  gp = matches.groupby('match_id').apply(filter_by_player_and_ball_number)\n",
      "/tmp/ipykernel_1282148/868147661.py:90: DeprecationWarning: DataFrameGroupBy.apply operated on the grouping columns. This behavior is deprecated, and in a future version of pandas the grouping columns will be excluded from the operation. Either pass `include_groups=False` to exclude the groupings or explicitly select the grouping columns after groupby to silence this warning.\n",
      "  gp = matches.groupby('match_id').apply(filter_by_player_and_ball_number)\n",
      "/tmp/ipykernel_1282148/868147661.py:90: DeprecationWarning: DataFrameGroupBy.apply operated on the grouping columns. This behavior is deprecated, and in a future version of pandas the grouping columns will be excluded from the operation. Either pass `include_groups=False` to exclude the groupings or explicitly select the grouping columns after groupby to silence this warning.\n",
      "  gp = matches.groupby('match_id').apply(filter_by_player_and_ball_number)\n"
     ]
    },
    {
     "name": "stdout",
     "output_type": "stream",
     "text": [
      "Analyzing Player Nadif Chowdhury\n",
      "Analyzing Player NL McCullum\n",
      "Analyzing Player Junaid Siddique\n",
      "Analyzing Player YK Pathan\n"
     ]
    },
    {
     "name": "stderr",
     "output_type": "stream",
     "text": [
      "/tmp/ipykernel_1282148/868147661.py:90: DeprecationWarning: DataFrameGroupBy.apply operated on the grouping columns. This behavior is deprecated, and in a future version of pandas the grouping columns will be excluded from the operation. Either pass `include_groups=False` to exclude the groupings or explicitly select the grouping columns after groupby to silence this warning.\n",
      "  gp = matches.groupby('match_id').apply(filter_by_player_and_ball_number)\n",
      "/tmp/ipykernel_1282148/868147661.py:90: DeprecationWarning: DataFrameGroupBy.apply operated on the grouping columns. This behavior is deprecated, and in a future version of pandas the grouping columns will be excluded from the operation. Either pass `include_groups=False` to exclude the groupings or explicitly select the grouping columns after groupby to silence this warning.\n",
      "  gp = matches.groupby('match_id').apply(filter_by_player_and_ball_number)\n",
      "/tmp/ipykernel_1282148/868147661.py:90: DeprecationWarning: DataFrameGroupBy.apply operated on the grouping columns. This behavior is deprecated, and in a future version of pandas the grouping columns will be excluded from the operation. Either pass `include_groups=False` to exclude the groupings or explicitly select the grouping columns after groupby to silence this warning.\n",
      "  gp = matches.groupby('match_id').apply(filter_by_player_and_ball_number)\n",
      "/tmp/ipykernel_1282148/868147661.py:90: DeprecationWarning: DataFrameGroupBy.apply operated on the grouping columns. This behavior is deprecated, and in a future version of pandas the grouping columns will be excluded from the operation. Either pass `include_groups=False` to exclude the groupings or explicitly select the grouping columns after groupby to silence this warning.\n",
      "  gp = matches.groupby('match_id').apply(filter_by_player_and_ball_number)\n"
     ]
    },
    {
     "name": "stdout",
     "output_type": "stream",
     "text": [
      "Analyzing Player Umar Gul\n",
      "Analyzing Player Mohammad Asif\n",
      "Analyzing Player AC Voges\n",
      "Analyzing Player LA Pomersbach\n",
      "Analyzing Player JM How\n"
     ]
    },
    {
     "name": "stderr",
     "output_type": "stream",
     "text": [
      "/tmp/ipykernel_1282148/868147661.py:90: DeprecationWarning: DataFrameGroupBy.apply operated on the grouping columns. This behavior is deprecated, and in a future version of pandas the grouping columns will be excluded from the operation. Either pass `include_groups=False` to exclude the groupings or explicitly select the grouping columns after groupby to silence this warning.\n",
      "  gp = matches.groupby('match_id').apply(filter_by_player_and_ball_number)\n",
      "/tmp/ipykernel_1282148/868147661.py:90: DeprecationWarning: DataFrameGroupBy.apply operated on the grouping columns. This behavior is deprecated, and in a future version of pandas the grouping columns will be excluded from the operation. Either pass `include_groups=False` to exclude the groupings or explicitly select the grouping columns after groupby to silence this warning.\n",
      "  gp = matches.groupby('match_id').apply(filter_by_player_and_ball_number)\n",
      "/tmp/ipykernel_1282148/868147661.py:90: DeprecationWarning: DataFrameGroupBy.apply operated on the grouping columns. This behavior is deprecated, and in a future version of pandas the grouping columns will be excluded from the operation. Either pass `include_groups=False` to exclude the groupings or explicitly select the grouping columns after groupby to silence this warning.\n",
      "  gp = matches.groupby('match_id').apply(filter_by_player_and_ball_number)\n",
      "/tmp/ipykernel_1282148/868147661.py:90: DeprecationWarning: DataFrameGroupBy.apply operated on the grouping columns. This behavior is deprecated, and in a future version of pandas the grouping columns will be excluded from the operation. Either pass `include_groups=False` to exclude the groupings or explicitly select the grouping columns after groupby to silence this warning.\n",
      "  gp = matches.groupby('match_id').apply(filter_by_player_and_ball_number)\n",
      "/tmp/ipykernel_1282148/868147661.py:90: DeprecationWarning: DataFrameGroupBy.apply operated on the grouping columns. This behavior is deprecated, and in a future version of pandas the grouping columns will be excluded from the operation. Either pass `include_groups=False` to exclude the groupings or explicitly select the grouping columns after groupby to silence this warning.\n",
      "  gp = matches.groupby('match_id').apply(filter_by_player_and_ball_number)\n"
     ]
    },
    {
     "name": "stdout",
     "output_type": "stream",
     "text": [
      "Analyzing Player P Kumar\n",
      "Analyzing Player I Sharma\n",
      "Analyzing Player DR Flynn\n",
      "Analyzing Player MJ Mason\n",
      "Analyzing Player GJ Hopkins\n"
     ]
    },
    {
     "name": "stderr",
     "output_type": "stream",
     "text": [
      "/tmp/ipykernel_1282148/868147661.py:90: DeprecationWarning: DataFrameGroupBy.apply operated on the grouping columns. This behavior is deprecated, and in a future version of pandas the grouping columns will be excluded from the operation. Either pass `include_groups=False` to exclude the groupings or explicitly select the grouping columns after groupby to silence this warning.\n",
      "  gp = matches.groupby('match_id').apply(filter_by_player_and_ball_number)\n",
      "/tmp/ipykernel_1282148/868147661.py:90: DeprecationWarning: DataFrameGroupBy.apply operated on the grouping columns. This behavior is deprecated, and in a future version of pandas the grouping columns will be excluded from the operation. Either pass `include_groups=False` to exclude the groupings or explicitly select the grouping columns after groupby to silence this warning.\n",
      "  gp = matches.groupby('match_id').apply(filter_by_player_and_ball_number)\n",
      "/tmp/ipykernel_1282148/868147661.py:90: DeprecationWarning: DataFrameGroupBy.apply operated on the grouping columns. This behavior is deprecated, and in a future version of pandas the grouping columns will be excluded from the operation. Either pass `include_groups=False` to exclude the groupings or explicitly select the grouping columns after groupby to silence this warning.\n",
      "  gp = matches.groupby('match_id').apply(filter_by_player_and_ball_number)\n",
      "/tmp/ipykernel_1282148/868147661.py:90: DeprecationWarning: DataFrameGroupBy.apply operated on the grouping columns. This behavior is deprecated, and in a future version of pandas the grouping columns will be excluded from the operation. Either pass `include_groups=False` to exclude the groupings or explicitly select the grouping columns after groupby to silence this warning.\n",
      "  gp = matches.groupby('match_id').apply(filter_by_player_and_ball_number)\n",
      "/tmp/ipykernel_1282148/868147661.py:90: DeprecationWarning: DataFrameGroupBy.apply operated on the grouping columns. This behavior is deprecated, and in a future version of pandas the grouping columns will be excluded from the operation. Either pass `include_groups=False` to exclude the groupings or explicitly select the grouping columns after groupby to silence this warning.\n",
      "  gp = matches.groupby('match_id').apply(filter_by_player_and_ball_number)\n"
     ]
    },
    {
     "name": "stdout",
     "output_type": "stream",
     "text": [
      "Analyzing Player JL Ontong\n",
      "Analyzing Player RN Lewis\n",
      "Analyzing Player P Mustard\n",
      "Analyzing Player GP Swann\n",
      "Analyzing Player RJ Sidebottom\n"
     ]
    },
    {
     "name": "stderr",
     "output_type": "stream",
     "text": [
      "/tmp/ipykernel_1282148/868147661.py:90: DeprecationWarning: DataFrameGroupBy.apply operated on the grouping columns. This behavior is deprecated, and in a future version of pandas the grouping columns will be excluded from the operation. Either pass `include_groups=False` to exclude the groupings or explicitly select the grouping columns after groupby to silence this warning.\n",
      "  gp = matches.groupby('match_id').apply(filter_by_player_and_ball_number)\n",
      "/tmp/ipykernel_1282148/868147661.py:90: DeprecationWarning: DataFrameGroupBy.apply operated on the grouping columns. This behavior is deprecated, and in a future version of pandas the grouping columns will be excluded from the operation. Either pass `include_groups=False` to exclude the groupings or explicitly select the grouping columns after groupby to silence this warning.\n",
      "  gp = matches.groupby('match_id').apply(filter_by_player_and_ball_number)\n",
      "/tmp/ipykernel_1282148/868147661.py:90: DeprecationWarning: DataFrameGroupBy.apply operated on the grouping columns. This behavior is deprecated, and in a future version of pandas the grouping columns will be excluded from the operation. Either pass `include_groups=False` to exclude the groupings or explicitly select the grouping columns after groupby to silence this warning.\n",
      "  gp = matches.groupby('match_id').apply(filter_by_player_and_ball_number)\n",
      "/tmp/ipykernel_1282148/868147661.py:90: DeprecationWarning: DataFrameGroupBy.apply operated on the grouping columns. This behavior is deprecated, and in a future version of pandas the grouping columns will be excluded from the operation. Either pass `include_groups=False` to exclude the groupings or explicitly select the grouping columns after groupby to silence this warning.\n",
      "  gp = matches.groupby('match_id').apply(filter_by_player_and_ball_number)\n"
     ]
    },
    {
     "name": "stdout",
     "output_type": "stream",
     "text": [
      "Analyzing Player JD Ryder\n",
      "Analyzing Player CS Martin\n",
      "Analyzing Player PA Hitchcock\n",
      "Analyzing Player Shoaib Akhtar\n",
      "Analyzing Player MN van Wyk\n"
     ]
    },
    {
     "name": "stderr",
     "output_type": "stream",
     "text": [
      "/tmp/ipykernel_1282148/868147661.py:90: DeprecationWarning: DataFrameGroupBy.apply operated on the grouping columns. This behavior is deprecated, and in a future version of pandas the grouping columns will be excluded from the operation. Either pass `include_groups=False` to exclude the groupings or explicitly select the grouping columns after groupby to silence this warning.\n",
      "  gp = matches.groupby('match_id').apply(filter_by_player_and_ball_number)\n",
      "/tmp/ipykernel_1282148/868147661.py:90: DeprecationWarning: DataFrameGroupBy.apply operated on the grouping columns. This behavior is deprecated, and in a future version of pandas the grouping columns will be excluded from the operation. Either pass `include_groups=False` to exclude the groupings or explicitly select the grouping columns after groupby to silence this warning.\n",
      "  gp = matches.groupby('match_id').apply(filter_by_player_and_ball_number)\n",
      "/tmp/ipykernel_1282148/868147661.py:90: DeprecationWarning: DataFrameGroupBy.apply operated on the grouping columns. This behavior is deprecated, and in a future version of pandas the grouping columns will be excluded from the operation. Either pass `include_groups=False` to exclude the groupings or explicitly select the grouping columns after groupby to silence this warning.\n",
      "  gp = matches.groupby('match_id').apply(filter_by_player_and_ball_number)\n",
      "/tmp/ipykernel_1282148/868147661.py:90: DeprecationWarning: DataFrameGroupBy.apply operated on the grouping columns. This behavior is deprecated, and in a future version of pandas the grouping columns will be excluded from the operation. Either pass `include_groups=False` to exclude the groupings or explicitly select the grouping columns after groupby to silence this warning.\n",
      "  gp = matches.groupby('match_id').apply(filter_by_player_and_ball_number)\n",
      "/tmp/ipykernel_1282148/868147661.py:90: DeprecationWarning: DataFrameGroupBy.apply operated on the grouping columns. This behavior is deprecated, and in a future version of pandas the grouping columns will be excluded from the operation. Either pass `include_groups=False` to exclude the groupings or explicitly select the grouping columns after groupby to silence this warning.\n",
      "  gp = matches.groupby('match_id').apply(filter_by_player_and_ball_number)\n"
     ]
    },
    {
     "name": "stdout",
     "output_type": "stream",
     "text": [
      "Analyzing Player GH Bodi\n",
      "Analyzing Player BA Parchment\n",
      "Analyzing Player SE Marsh\n",
      "Analyzing Player DJ Hussey\n"
     ]
    },
    {
     "name": "stderr",
     "output_type": "stream",
     "text": [
      "/tmp/ipykernel_1282148/868147661.py:90: DeprecationWarning: DataFrameGroupBy.apply operated on the grouping columns. This behavior is deprecated, and in a future version of pandas the grouping columns will be excluded from the operation. Either pass `include_groups=False` to exclude the groupings or explicitly select the grouping columns after groupby to silence this warning.\n",
      "  gp = matches.groupby('match_id').apply(filter_by_player_and_ball_number)\n",
      "/tmp/ipykernel_1282148/868147661.py:90: DeprecationWarning: DataFrameGroupBy.apply operated on the grouping columns. This behavior is deprecated, and in a future version of pandas the grouping columns will be excluded from the operation. Either pass `include_groups=False` to exclude the groupings or explicitly select the grouping columns after groupby to silence this warning.\n",
      "  gp = matches.groupby('match_id').apply(filter_by_player_and_ball_number)\n",
      "/tmp/ipykernel_1282148/868147661.py:90: DeprecationWarning: DataFrameGroupBy.apply operated on the grouping columns. This behavior is deprecated, and in a future version of pandas the grouping columns will be excluded from the operation. Either pass `include_groups=False` to exclude the groupings or explicitly select the grouping columns after groupby to silence this warning.\n",
      "  gp = matches.groupby('match_id').apply(filter_by_player_and_ball_number)\n",
      "/tmp/ipykernel_1282148/868147661.py:90: DeprecationWarning: DataFrameGroupBy.apply operated on the grouping columns. This behavior is deprecated, and in a future version of pandas the grouping columns will be excluded from the operation. Either pass `include_groups=False` to exclude the groupings or explicitly select the grouping columns after groupby to silence this warning.\n",
      "  gp = matches.groupby('match_id').apply(filter_by_player_and_ball_number)\n"
     ]
    },
    {
     "name": "stdout",
     "output_type": "stream",
     "text": [
      "Analyzing Player XM Marshall\n",
      "Analyzing Player WKD Perkins\n",
      "Analyzing Player Dhiman Ghosh\n",
      "Analyzing Player Fawad Alam\n",
      "Analyzing Player RS Bopara\n"
     ]
    },
    {
     "name": "stderr",
     "output_type": "stream",
     "text": [
      "/tmp/ipykernel_1282148/868147661.py:90: DeprecationWarning: DataFrameGroupBy.apply operated on the grouping columns. This behavior is deprecated, and in a future version of pandas the grouping columns will be excluded from the operation. Either pass `include_groups=False` to exclude the groupings or explicitly select the grouping columns after groupby to silence this warning.\n",
      "  gp = matches.groupby('match_id').apply(filter_by_player_and_ball_number)\n",
      "/tmp/ipykernel_1282148/868147661.py:90: DeprecationWarning: DataFrameGroupBy.apply operated on the grouping columns. This behavior is deprecated, and in a future version of pandas the grouping columns will be excluded from the operation. Either pass `include_groups=False` to exclude the groupings or explicitly select the grouping columns after groupby to silence this warning.\n",
      "  gp = matches.groupby('match_id').apply(filter_by_player_and_ball_number)\n",
      "/tmp/ipykernel_1282148/868147661.py:90: DeprecationWarning: DataFrameGroupBy.apply operated on the grouping columns. This behavior is deprecated, and in a future version of pandas the grouping columns will be excluded from the operation. Either pass `include_groups=False` to exclude the groupings or explicitly select the grouping columns after groupby to silence this warning.\n",
      "  gp = matches.groupby('match_id').apply(filter_by_player_and_ball_number)\n",
      "/tmp/ipykernel_1282148/868147661.py:90: DeprecationWarning: DataFrameGroupBy.apply operated on the grouping columns. This behavior is deprecated, and in a future version of pandas the grouping columns will be excluded from the operation. Either pass `include_groups=False` to exclude the groupings or explicitly select the grouping columns after groupby to silence this warning.\n",
      "  gp = matches.groupby('match_id').apply(filter_by_player_and_ball_number)\n",
      "/tmp/ipykernel_1282148/868147661.py:90: DeprecationWarning: DataFrameGroupBy.apply operated on the grouping columns. This behavior is deprecated, and in a future version of pandas the grouping columns will be excluded from the operation. Either pass `include_groups=False` to exclude the groupings or explicitly select the grouping columns after groupby to silence this warning.\n",
      "  gp = matches.groupby('match_id').apply(filter_by_player_and_ball_number)\n",
      "/tmp/ipykernel_1282148/868147661.py:90: DeprecationWarning: DataFrameGroupBy.apply operated on the grouping columns. This behavior is deprecated, and in a future version of pandas the grouping columns will be excluded from the operation. Either pass `include_groups=False` to exclude the groupings or explicitly select the grouping columns after groupby to silence this warning.\n",
      "  gp = matches.groupby('match_id').apply(filter_by_player_and_ball_number)\n",
      "/tmp/ipykernel_1282148/868147661.py:90: DeprecationWarning: DataFrameGroupBy.apply operated on the grouping columns. This behavior is deprecated, and in a future version of pandas the grouping columns will be excluded from the operation. Either pass `include_groups=False` to exclude the groupings or explicitly select the grouping columns after groupby to silence this warning.\n",
      "  gp = matches.groupby('match_id').apply(filter_by_player_and_ball_number)\n",
      "/tmp/ipykernel_1282148/868147661.py:90: DeprecationWarning: DataFrameGroupBy.apply operated on the grouping columns. This behavior is deprecated, and in a future version of pandas the grouping columns will be excluded from the operation. Either pass `include_groups=False` to exclude the groupings or explicitly select the grouping columns after groupby to silence this warning.\n",
      "  gp = matches.groupby('match_id').apply(filter_by_player_and_ball_number)\n",
      "/tmp/ipykernel_1282148/868147661.py:90: DeprecationWarning: DataFrameGroupBy.apply operated on the grouping columns. This behavior is deprecated, and in a future version of pandas the grouping columns will be excluded from the operation. Either pass `include_groups=False` to exclude the groupings or explicitly select the grouping columns after groupby to silence this warning.\n",
      "  gp = matches.groupby('match_id').apply(filter_by_player_and_ball_number)\n"
     ]
    },
    {
     "name": "stdout",
     "output_type": "stream",
     "text": [
      "Analyzing Player Raqibul Hasan\n",
      "Analyzing Player Naeem Islam\n",
      "Analyzing Player Mehrab Hossain jnr\n",
      "Analyzing Player RK Kleinveldt\n",
      "Analyzing Player J Louw\n"
     ]
    },
    {
     "name": "stderr",
     "output_type": "stream",
     "text": [
      "/tmp/ipykernel_1282148/868147661.py:90: DeprecationWarning: DataFrameGroupBy.apply operated on the grouping columns. This behavior is deprecated, and in a future version of pandas the grouping columns will be excluded from the operation. Either pass `include_groups=False` to exclude the groupings or explicitly select the grouping columns after groupby to silence this warning.\n",
      "  gp = matches.groupby('match_id').apply(filter_by_player_and_ball_number)\n",
      "/tmp/ipykernel_1282148/868147661.py:90: DeprecationWarning: DataFrameGroupBy.apply operated on the grouping columns. This behavior is deprecated, and in a future version of pandas the grouping columns will be excluded from the operation. Either pass `include_groups=False` to exclude the groupings or explicitly select the grouping columns after groupby to silence this warning.\n",
      "  gp = matches.groupby('match_id').apply(filter_by_player_and_ball_number)\n",
      "/tmp/ipykernel_1282148/868147661.py:90: DeprecationWarning: DataFrameGroupBy.apply operated on the grouping columns. This behavior is deprecated, and in a future version of pandas the grouping columns will be excluded from the operation. Either pass `include_groups=False` to exclude the groupings or explicitly select the grouping columns after groupby to silence this warning.\n",
      "  gp = matches.groupby('match_id').apply(filter_by_player_and_ball_number)\n",
      "/tmp/ipykernel_1282148/868147661.py:90: DeprecationWarning: DataFrameGroupBy.apply operated on the grouping columns. This behavior is deprecated, and in a future version of pandas the grouping columns will be excluded from the operation. Either pass `include_groups=False` to exclude the groupings or explicitly select the grouping columns after groupby to silence this warning.\n",
      "  gp = matches.groupby('match_id').apply(filter_by_player_and_ball_number)\n",
      "/tmp/ipykernel_1282148/868147661.py:90: DeprecationWarning: DataFrameGroupBy.apply operated on the grouping columns. This behavior is deprecated, and in a future version of pandas the grouping columns will be excluded from the operation. Either pass `include_groups=False` to exclude the groupings or explicitly select the grouping columns after groupby to silence this warning.\n",
      "  gp = matches.groupby('match_id').apply(filter_by_player_and_ball_number)\n"
     ]
    },
    {
     "name": "stdout",
     "output_type": "stream",
     "text": [
      "Analyzing Player VB van Jaarsveld\n",
      "Analyzing Player CJ Ferguson\n",
      "Analyzing Player RE van der Merwe\n",
      "Analyzing Player BW Hilfenhaus\n",
      "Analyzing Player SW Tait\n"
     ]
    },
    {
     "name": "stderr",
     "output_type": "stream",
     "text": [
      "/tmp/ipykernel_1282148/868147661.py:90: DeprecationWarning: DataFrameGroupBy.apply operated on the grouping columns. This behavior is deprecated, and in a future version of pandas the grouping columns will be excluded from the operation. Either pass `include_groups=False` to exclude the groupings or explicitly select the grouping columns after groupby to silence this warning.\n",
      "  gp = matches.groupby('match_id').apply(filter_by_player_and_ball_number)\n",
      "/tmp/ipykernel_1282148/868147661.py:90: DeprecationWarning: DataFrameGroupBy.apply operated on the grouping columns. This behavior is deprecated, and in a future version of pandas the grouping columns will be excluded from the operation. Either pass `include_groups=False` to exclude the groupings or explicitly select the grouping columns after groupby to silence this warning.\n",
      "  gp = matches.groupby('match_id').apply(filter_by_player_and_ball_number)\n",
      "/tmp/ipykernel_1282148/868147661.py:90: DeprecationWarning: DataFrameGroupBy.apply operated on the grouping columns. This behavior is deprecated, and in a future version of pandas the grouping columns will be excluded from the operation. Either pass `include_groups=False` to exclude the groupings or explicitly select the grouping columns after groupby to silence this warning.\n",
      "  gp = matches.groupby('match_id').apply(filter_by_player_and_ball_number)\n",
      "/tmp/ipykernel_1282148/868147661.py:90: DeprecationWarning: DataFrameGroupBy.apply operated on the grouping columns. This behavior is deprecated, and in a future version of pandas the grouping columns will be excluded from the operation. Either pass `include_groups=False` to exclude the groupings or explicitly select the grouping columns after groupby to silence this warning.\n",
      "  gp = matches.groupby('match_id').apply(filter_by_player_and_ball_number)\n",
      "/tmp/ipykernel_1282148/868147661.py:90: DeprecationWarning: DataFrameGroupBy.apply operated on the grouping columns. This behavior is deprecated, and in a future version of pandas the grouping columns will be excluded from the operation. Either pass `include_groups=False` to exclude the groupings or explicitly select the grouping columns after groupby to silence this warning.\n",
      "  gp = matches.groupby('match_id').apply(filter_by_player_and_ball_number)\n"
     ]
    },
    {
     "name": "stdout",
     "output_type": "stream",
     "text": [
      "Analyzing Player LL Tsotsobe\n",
      "Analyzing Player ND McKenzie\n",
      "Analyzing Player PM Siddle\n",
      "Analyzing Player GD Elliott\n",
      "Analyzing Player SM Davies\n"
     ]
    },
    {
     "name": "stderr",
     "output_type": "stream",
     "text": [
      "/tmp/ipykernel_1282148/868147661.py:90: DeprecationWarning: DataFrameGroupBy.apply operated on the grouping columns. This behavior is deprecated, and in a future version of pandas the grouping columns will be excluded from the operation. Either pass `include_groups=False` to exclude the groupings or explicitly select the grouping columns after groupby to silence this warning.\n",
      "  gp = matches.groupby('match_id').apply(filter_by_player_and_ball_number)\n",
      "/tmp/ipykernel_1282148/868147661.py:90: DeprecationWarning: DataFrameGroupBy.apply operated on the grouping columns. This behavior is deprecated, and in a future version of pandas the grouping columns will be excluded from the operation. Either pass `include_groups=False` to exclude the groupings or explicitly select the grouping columns after groupby to silence this warning.\n",
      "  gp = matches.groupby('match_id').apply(filter_by_player_and_ball_number)\n",
      "/tmp/ipykernel_1282148/868147661.py:90: DeprecationWarning: DataFrameGroupBy.apply operated on the grouping columns. This behavior is deprecated, and in a future version of pandas the grouping columns will be excluded from the operation. Either pass `include_groups=False` to exclude the groupings or explicitly select the grouping columns after groupby to silence this warning.\n",
      "  gp = matches.groupby('match_id').apply(filter_by_player_and_ball_number)\n",
      "/tmp/ipykernel_1282148/868147661.py:90: DeprecationWarning: DataFrameGroupBy.apply operated on the grouping columns. This behavior is deprecated, and in a future version of pandas the grouping columns will be excluded from the operation. Either pass `include_groups=False` to exclude the groupings or explicitly select the grouping columns after groupby to silence this warning.\n",
      "  gp = matches.groupby('match_id').apply(filter_by_player_and_ball_number)\n",
      "/tmp/ipykernel_1282148/868147661.py:90: DeprecationWarning: DataFrameGroupBy.apply operated on the grouping columns. This behavior is deprecated, and in a future version of pandas the grouping columns will be excluded from the operation. Either pass `include_groups=False` to exclude the groupings or explicitly select the grouping columns after groupby to silence this warning.\n",
      "  gp = matches.groupby('match_id').apply(filter_by_player_and_ball_number)\n"
     ]
    },
    {
     "name": "stdout",
     "output_type": "stream",
     "text": [
      "Analyzing Player GJ Batty\n",
      "Analyzing Player A Khan\n",
      "Analyzing Player JS Foster\n",
      "Analyzing Player JP Bray\n",
      "Analyzing Player NJ O'Brien\n"
     ]
    },
    {
     "name": "stderr",
     "output_type": "stream",
     "text": [
      "/tmp/ipykernel_1282148/868147661.py:90: DeprecationWarning: DataFrameGroupBy.apply operated on the grouping columns. This behavior is deprecated, and in a future version of pandas the grouping columns will be excluded from the operation. Either pass `include_groups=False` to exclude the groupings or explicitly select the grouping columns after groupby to silence this warning.\n",
      "  gp = matches.groupby('match_id').apply(filter_by_player_and_ball_number)\n",
      "/tmp/ipykernel_1282148/868147661.py:90: DeprecationWarning: DataFrameGroupBy.apply operated on the grouping columns. This behavior is deprecated, and in a future version of pandas the grouping columns will be excluded from the operation. Either pass `include_groups=False` to exclude the groupings or explicitly select the grouping columns after groupby to silence this warning.\n",
      "  gp = matches.groupby('match_id').apply(filter_by_player_and_ball_number)\n",
      "/tmp/ipykernel_1282148/868147661.py:90: DeprecationWarning: DataFrameGroupBy.apply operated on the grouping columns. This behavior is deprecated, and in a future version of pandas the grouping columns will be excluded from the operation. Either pass `include_groups=False` to exclude the groupings or explicitly select the grouping columns after groupby to silence this warning.\n",
      "  gp = matches.groupby('match_id').apply(filter_by_player_and_ball_number)\n",
      "/tmp/ipykernel_1282148/868147661.py:90: DeprecationWarning: DataFrameGroupBy.apply operated on the grouping columns. This behavior is deprecated, and in a future version of pandas the grouping columns will be excluded from the operation. Either pass `include_groups=False` to exclude the groupings or explicitly select the grouping columns after groupby to silence this warning.\n",
      "  gp = matches.groupby('match_id').apply(filter_by_player_and_ball_number)\n",
      "/tmp/ipykernel_1282148/868147661.py:90: DeprecationWarning: DataFrameGroupBy.apply operated on the grouping columns. This behavior is deprecated, and in a future version of pandas the grouping columns will be excluded from the operation. Either pass `include_groups=False` to exclude the groupings or explicitly select the grouping columns after groupby to silence this warning.\n",
      "  gp = matches.groupby('match_id').apply(filter_by_player_and_ball_number)\n"
     ]
    },
    {
     "name": "stdout",
     "output_type": "stream",
     "text": [
      "Analyzing Player JF Mooney\n",
      "Analyzing Player NM Hauritz\n",
      "Analyzing Player AC Botha\n",
      "Analyzing Player AR White\n",
      "Analyzing Player RM West\n"
     ]
    },
    {
     "name": "stderr",
     "output_type": "stream",
     "text": [
      "/tmp/ipykernel_1282148/868147661.py:90: DeprecationWarning: DataFrameGroupBy.apply operated on the grouping columns. This behavior is deprecated, and in a future version of pandas the grouping columns will be excluded from the operation. Either pass `include_groups=False` to exclude the groupings or explicitly select the grouping columns after groupby to silence this warning.\n",
      "  gp = matches.groupby('match_id').apply(filter_by_player_and_ball_number)\n",
      "/tmp/ipykernel_1282148/868147661.py:90: DeprecationWarning: DataFrameGroupBy.apply operated on the grouping columns. This behavior is deprecated, and in a future version of pandas the grouping columns will be excluded from the operation. Either pass `include_groups=False` to exclude the groupings or explicitly select the grouping columns after groupby to silence this warning.\n",
      "  gp = matches.groupby('match_id').apply(filter_by_player_and_ball_number)\n",
      "/tmp/ipykernel_1282148/868147661.py:90: DeprecationWarning: DataFrameGroupBy.apply operated on the grouping columns. This behavior is deprecated, and in a future version of pandas the grouping columns will be excluded from the operation. Either pass `include_groups=False` to exclude the groupings or explicitly select the grouping columns after groupby to silence this warning.\n",
      "  gp = matches.groupby('match_id').apply(filter_by_player_and_ball_number)\n",
      "/tmp/ipykernel_1282148/868147661.py:90: DeprecationWarning: DataFrameGroupBy.apply operated on the grouping columns. This behavior is deprecated, and in a future version of pandas the grouping columns will be excluded from the operation. Either pass `include_groups=False` to exclude the groupings or explicitly select the grouping columns after groupby to silence this warning.\n",
      "  gp = matches.groupby('match_id').apply(filter_by_player_and_ball_number)\n",
      "/tmp/ipykernel_1282148/868147661.py:90: DeprecationWarning: DataFrameGroupBy.apply operated on the grouping columns. This behavior is deprecated, and in a future version of pandas the grouping columns will be excluded from the operation. Either pass `include_groups=False` to exclude the groupings or explicitly select the grouping columns after groupby to silence this warning.\n",
      "  gp = matches.groupby('match_id').apply(filter_by_player_and_ball_number)\n"
     ]
    },
    {
     "name": "stdout",
     "output_type": "stream",
     "text": [
      "Analyzing Player AR Cusack\n",
      "Analyzing Player WK McCallan\n",
      "Analyzing Player DT Johnston\n",
      "Analyzing Player PC Connell\n",
      "Analyzing Player AJ Redmond\n"
     ]
    },
    {
     "name": "stderr",
     "output_type": "stream",
     "text": [
      "/tmp/ipykernel_1282148/868147661.py:90: DeprecationWarning: DataFrameGroupBy.apply operated on the grouping columns. This behavior is deprecated, and in a future version of pandas the grouping columns will be excluded from the operation. Either pass `include_groups=False` to exclude the groupings or explicitly select the grouping columns after groupby to silence this warning.\n",
      "  gp = matches.groupby('match_id').apply(filter_by_player_and_ball_number)\n",
      "/tmp/ipykernel_1282148/868147661.py:90: DeprecationWarning: DataFrameGroupBy.apply operated on the grouping columns. This behavior is deprecated, and in a future version of pandas the grouping columns will be excluded from the operation. Either pass `include_groups=False` to exclude the groupings or explicitly select the grouping columns after groupby to silence this warning.\n",
      "  gp = matches.groupby('match_id').apply(filter_by_player_and_ball_number)\n",
      "/tmp/ipykernel_1282148/868147661.py:90: DeprecationWarning: DataFrameGroupBy.apply operated on the grouping columns. This behavior is deprecated, and in a future version of pandas the grouping columns will be excluded from the operation. Either pass `include_groups=False` to exclude the groupings or explicitly select the grouping columns after groupby to silence this warning.\n",
      "  gp = matches.groupby('match_id').apply(filter_by_player_and_ball_number)\n",
      "/tmp/ipykernel_1282148/868147661.py:90: DeprecationWarning: DataFrameGroupBy.apply operated on the grouping columns. This behavior is deprecated, and in a future version of pandas the grouping columns will be excluded from the operation. Either pass `include_groups=False` to exclude the groupings or explicitly select the grouping columns after groupby to silence this warning.\n",
      "  gp = matches.groupby('match_id').apply(filter_by_player_and_ball_number)\n",
      "/tmp/ipykernel_1282148/868147661.py:90: DeprecationWarning: DataFrameGroupBy.apply operated on the grouping columns. This behavior is deprecated, and in a future version of pandas the grouping columns will be excluded from the operation. Either pass `include_groups=False` to exclude the groupings or explicitly select the grouping columns after groupby to silence this warning.\n",
      "  gp = matches.groupby('match_id').apply(filter_by_player_and_ball_number)\n"
     ]
    },
    {
     "name": "stdout",
     "output_type": "stream",
     "text": [
      "Analyzing Player SJ Benn\n",
      "Analyzing Player IG Butler\n",
      "Analyzing Player Shahzaib Hasan\n",
      "Analyzing Player M Muralitharan\n",
      "Analyzing Player BAW Mendis\n"
     ]
    },
    {
     "name": "stderr",
     "output_type": "stream",
     "text": [
      "/tmp/ipykernel_1282148/868147661.py:90: DeprecationWarning: DataFrameGroupBy.apply operated on the grouping columns. This behavior is deprecated, and in a future version of pandas the grouping columns will be excluded from the operation. Either pass `include_groups=False` to exclude the groupings or explicitly select the grouping columns after groupby to silence this warning.\n",
      "  gp = matches.groupby('match_id').apply(filter_by_player_and_ball_number)\n",
      "/tmp/ipykernel_1282148/868147661.py:90: DeprecationWarning: DataFrameGroupBy.apply operated on the grouping columns. This behavior is deprecated, and in a future version of pandas the grouping columns will be excluded from the operation. Either pass `include_groups=False` to exclude the groupings or explicitly select the grouping columns after groupby to silence this warning.\n",
      "  gp = matches.groupby('match_id').apply(filter_by_player_and_ball_number)\n",
      "/tmp/ipykernel_1282148/868147661.py:90: DeprecationWarning: DataFrameGroupBy.apply operated on the grouping columns. This behavior is deprecated, and in a future version of pandas the grouping columns will be excluded from the operation. Either pass `include_groups=False` to exclude the groupings or explicitly select the grouping columns after groupby to silence this warning.\n",
      "  gp = matches.groupby('match_id').apply(filter_by_player_and_ball_number)\n",
      "/tmp/ipykernel_1282148/868147661.py:90: DeprecationWarning: DataFrameGroupBy.apply operated on the grouping columns. This behavior is deprecated, and in a future version of pandas the grouping columns will be excluded from the operation. Either pass `include_groups=False` to exclude the groupings or explicitly select the grouping columns after groupby to silence this warning.\n",
      "  gp = matches.groupby('match_id').apply(filter_by_player_and_ball_number)\n",
      "/tmp/ipykernel_1282148/868147661.py:90: DeprecationWarning: DataFrameGroupBy.apply operated on the grouping columns. This behavior is deprecated, and in a future version of pandas the grouping columns will be excluded from the operation. Either pass `include_groups=False` to exclude the groupings or explicitly select the grouping columns after groupby to silence this warning.\n",
      "  gp = matches.groupby('match_id').apply(filter_by_player_and_ball_number)\n"
     ]
    },
    {
     "name": "stdout",
     "output_type": "stream",
     "text": [
      "Analyzing Player Z Khan\n",
      "Analyzing Player Shoaib Khan jnr\n",
      "Analyzing Player SHT Kandamby\n",
      "Analyzing Player K Weeraratne\n",
      "Analyzing Player T Thushara\n"
     ]
    },
    {
     "name": "stderr",
     "output_type": "stream",
     "text": [
      "/tmp/ipykernel_1282148/868147661.py:90: DeprecationWarning: DataFrameGroupBy.apply operated on the grouping columns. This behavior is deprecated, and in a future version of pandas the grouping columns will be excluded from the operation. Either pass `include_groups=False` to exclude the groupings or explicitly select the grouping columns after groupby to silence this warning.\n",
      "  gp = matches.groupby('match_id').apply(filter_by_player_and_ball_number)\n",
      "/tmp/ipykernel_1282148/868147661.py:90: DeprecationWarning: DataFrameGroupBy.apply operated on the grouping columns. This behavior is deprecated, and in a future version of pandas the grouping columns will be excluded from the operation. Either pass `include_groups=False` to exclude the groupings or explicitly select the grouping columns after groupby to silence this warning.\n",
      "  gp = matches.groupby('match_id').apply(filter_by_player_and_ball_number)\n",
      "/tmp/ipykernel_1282148/868147661.py:90: DeprecationWarning: DataFrameGroupBy.apply operated on the grouping columns. This behavior is deprecated, and in a future version of pandas the grouping columns will be excluded from the operation. Either pass `include_groups=False` to exclude the groupings or explicitly select the grouping columns after groupby to silence this warning.\n",
      "  gp = matches.groupby('match_id').apply(filter_by_player_and_ball_number)\n",
      "/tmp/ipykernel_1282148/868147661.py:90: DeprecationWarning: DataFrameGroupBy.apply operated on the grouping columns. This behavior is deprecated, and in a future version of pandas the grouping columns will be excluded from the operation. Either pass `include_groups=False` to exclude the groupings or explicitly select the grouping columns after groupby to silence this warning.\n",
      "  gp = matches.groupby('match_id').apply(filter_by_player_and_ball_number)\n",
      "/tmp/ipykernel_1282148/868147661.py:90: DeprecationWarning: DataFrameGroupBy.apply operated on the grouping columns. This behavior is deprecated, and in a future version of pandas the grouping columns will be excluded from the operation. Either pass `include_groups=False` to exclude the groupings or explicitly select the grouping columns after groupby to silence this warning.\n",
      "  gp = matches.groupby('match_id').apply(filter_by_player_and_ball_number)\n"
     ]
    },
    {
     "name": "stdout",
     "output_type": "stream",
     "text": [
      "Analyzing Player SE Findlay\n",
      "Analyzing Player CS Baugh\n",
      "Analyzing Player EP Thompson\n",
      "Analyzing Player HG Kuhn\n",
      "Analyzing Player R McLaren\n"
     ]
    },
    {
     "name": "stderr",
     "output_type": "stream",
     "text": [
      "/tmp/ipykernel_1282148/868147661.py:90: DeprecationWarning: DataFrameGroupBy.apply operated on the grouping columns. This behavior is deprecated, and in a future version of pandas the grouping columns will be excluded from the operation. Either pass `include_groups=False` to exclude the groupings or explicitly select the grouping columns after groupby to silence this warning.\n",
      "  gp = matches.groupby('match_id').apply(filter_by_player_and_ball_number)\n",
      "/tmp/ipykernel_1282148/868147661.py:90: DeprecationWarning: DataFrameGroupBy.apply operated on the grouping columns. This behavior is deprecated, and in a future version of pandas the grouping columns will be excluded from the operation. Either pass `include_groups=False` to exclude the groupings or explicitly select the grouping columns after groupby to silence this warning.\n",
      "  gp = matches.groupby('match_id').apply(filter_by_player_and_ball_number)\n",
      "/tmp/ipykernel_1282148/868147661.py:90: DeprecationWarning: DataFrameGroupBy.apply operated on the grouping columns. This behavior is deprecated, and in a future version of pandas the grouping columns will be excluded from the operation. Either pass `include_groups=False` to exclude the groupings or explicitly select the grouping columns after groupby to silence this warning.\n",
      "  gp = matches.groupby('match_id').apply(filter_by_player_and_ball_number)\n",
      "/tmp/ipykernel_1282148/868147661.py:90: DeprecationWarning: DataFrameGroupBy.apply operated on the grouping columns. This behavior is deprecated, and in a future version of pandas the grouping columns will be excluded from the operation. Either pass `include_groups=False` to exclude the groupings or explicitly select the grouping columns after groupby to silence this warning.\n",
      "  gp = matches.groupby('match_id').apply(filter_by_player_and_ball_number)\n",
      "/tmp/ipykernel_1282148/868147661.py:90: DeprecationWarning: DataFrameGroupBy.apply operated on the grouping columns. This behavior is deprecated, and in a future version of pandas the grouping columns will be excluded from the operation. Either pass `include_groups=False` to exclude the groupings or explicitly select the grouping columns after groupby to silence this warning.\n",
      "  gp = matches.groupby('match_id').apply(filter_by_player_and_ball_number)\n"
     ]
    },
    {
     "name": "stdout",
     "output_type": "stream",
     "text": [
      "Analyzing Player MJ North\n",
      "Analyzing Player Nazmul Hossain\n",
      "Analyzing Player DM Richards\n",
      "Analyzing Player TM Dowlin\n",
      "Analyzing Player FL Reifer\n",
      "Analyzing Player DE Bernard\n"
     ]
    },
    {
     "name": "stderr",
     "output_type": "stream",
     "text": [
      "/tmp/ipykernel_1282148/868147661.py:90: DeprecationWarning: DataFrameGroupBy.apply operated on the grouping columns. This behavior is deprecated, and in a future version of pandas the grouping columns will be excluded from the operation. Either pass `include_groups=False` to exclude the groupings or explicitly select the grouping columns after groupby to silence this warning.\n",
      "  gp = matches.groupby('match_id').apply(filter_by_player_and_ball_number)\n",
      "/tmp/ipykernel_1282148/868147661.py:90: DeprecationWarning: DataFrameGroupBy.apply operated on the grouping columns. This behavior is deprecated, and in a future version of pandas the grouping columns will be excluded from the operation. Either pass `include_groups=False` to exclude the groupings or explicitly select the grouping columns after groupby to silence this warning.\n",
      "  gp = matches.groupby('match_id').apply(filter_by_player_and_ball_number)\n",
      "/tmp/ipykernel_1282148/868147661.py:90: DeprecationWarning: DataFrameGroupBy.apply operated on the grouping columns. This behavior is deprecated, and in a future version of pandas the grouping columns will be excluded from the operation. Either pass `include_groups=False` to exclude the groupings or explicitly select the grouping columns after groupby to silence this warning.\n",
      "  gp = matches.groupby('match_id').apply(filter_by_player_and_ball_number)\n",
      "/tmp/ipykernel_1282148/868147661.py:90: DeprecationWarning: DataFrameGroupBy.apply operated on the grouping columns. This behavior is deprecated, and in a future version of pandas the grouping columns will be excluded from the operation. Either pass `include_groups=False` to exclude the groupings or explicitly select the grouping columns after groupby to silence this warning.\n",
      "  gp = matches.groupby('match_id').apply(filter_by_player_and_ball_number)\n",
      "/tmp/ipykernel_1282148/868147661.py:90: DeprecationWarning: DataFrameGroupBy.apply operated on the grouping columns. This behavior is deprecated, and in a future version of pandas the grouping columns will be excluded from the operation. Either pass `include_groups=False` to exclude the groupings or explicitly select the grouping columns after groupby to silence this warning.\n",
      "  gp = matches.groupby('match_id').apply(filter_by_player_and_ball_number)\n"
     ]
    },
    {
     "name": "stdout",
     "output_type": "stream",
     "text": [
      "Analyzing Player RJMGM Rupasinghe\n",
      "Analyzing Player TR Birt\n",
      "Analyzing Player N Deonarine\n",
      "Analyzing Player NO Miller\n",
      "Analyzing Player DP Nannes\n"
     ]
    },
    {
     "name": "stderr",
     "output_type": "stream",
     "text": [
      "/tmp/ipykernel_1282148/868147661.py:90: DeprecationWarning: DataFrameGroupBy.apply operated on the grouping columns. This behavior is deprecated, and in a future version of pandas the grouping columns will be excluded from the operation. Either pass `include_groups=False` to exclude the groupings or explicitly select the grouping columns after groupby to silence this warning.\n",
      "  gp = matches.groupby('match_id').apply(filter_by_player_and_ball_number)\n",
      "/tmp/ipykernel_1282148/868147661.py:90: DeprecationWarning: DataFrameGroupBy.apply operated on the grouping columns. This behavior is deprecated, and in a future version of pandas the grouping columns will be excluded from the operation. Either pass `include_groups=False` to exclude the groupings or explicitly select the grouping columns after groupby to silence this warning.\n",
      "  gp = matches.groupby('match_id').apply(filter_by_player_and_ball_number)\n",
      "/tmp/ipykernel_1282148/868147661.py:90: DeprecationWarning: DataFrameGroupBy.apply operated on the grouping columns. This behavior is deprecated, and in a future version of pandas the grouping columns will be excluded from the operation. Either pass `include_groups=False` to exclude the groupings or explicitly select the grouping columns after groupby to silence this warning.\n",
      "  gp = matches.groupby('match_id').apply(filter_by_player_and_ball_number)\n",
      "/tmp/ipykernel_1282148/868147661.py:90: DeprecationWarning: DataFrameGroupBy.apply operated on the grouping columns. This behavior is deprecated, and in a future version of pandas the grouping columns will be excluded from the operation. Either pass `include_groups=False` to exclude the groupings or explicitly select the grouping columns after groupby to silence this warning.\n",
      "  gp = matches.groupby('match_id').apply(filter_by_player_and_ball_number)\n"
     ]
    },
    {
     "name": "stdout",
     "output_type": "stream",
     "text": [
      "Analyzing Player Imran Farhat\n",
      "Analyzing Player Naved-ul-Hasan\n",
      "Analyzing Player Saeed Ajmal\n",
      "Analyzing Player Suhrawadi Shuvo\n",
      "Analyzing Player MJ Lumb\n"
     ]
    },
    {
     "name": "stderr",
     "output_type": "stream",
     "text": [
      "/tmp/ipykernel_1282148/868147661.py:90: DeprecationWarning: DataFrameGroupBy.apply operated on the grouping columns. This behavior is deprecated, and in a future version of pandas the grouping columns will be excluded from the operation. Either pass `include_groups=False` to exclude the groupings or explicitly select the grouping columns after groupby to silence this warning.\n",
      "  gp = matches.groupby('match_id').apply(filter_by_player_and_ball_number)\n",
      "/tmp/ipykernel_1282148/868147661.py:90: DeprecationWarning: DataFrameGroupBy.apply operated on the grouping columns. This behavior is deprecated, and in a future version of pandas the grouping columns will be excluded from the operation. Either pass `include_groups=False` to exclude the groupings or explicitly select the grouping columns after groupby to silence this warning.\n",
      "  gp = matches.groupby('match_id').apply(filter_by_player_and_ball_number)\n",
      "/tmp/ipykernel_1282148/868147661.py:90: DeprecationWarning: DataFrameGroupBy.apply operated on the grouping columns. This behavior is deprecated, and in a future version of pandas the grouping columns will be excluded from the operation. Either pass `include_groups=False` to exclude the groupings or explicitly select the grouping columns after groupby to silence this warning.\n",
      "  gp = matches.groupby('match_id').apply(filter_by_player_and_ball_number)\n",
      "/tmp/ipykernel_1282148/868147661.py:90: DeprecationWarning: DataFrameGroupBy.apply operated on the grouping columns. This behavior is deprecated, and in a future version of pandas the grouping columns will be excluded from the operation. Either pass `include_groups=False` to exclude the groupings or explicitly select the grouping columns after groupby to silence this warning.\n",
      "  gp = matches.groupby('match_id').apply(filter_by_player_and_ball_number)\n"
     ]
    },
    {
     "name": "stdout",
     "output_type": "stream",
     "text": [
      "Analyzing Player C Kieswetter\n",
      "Analyzing Player M Vijay\n",
      "Analyzing Player Mohammad Sami\n",
      "Analyzing Player AM Blignaut\n",
      "Analyzing Player CK Coventry\n"
     ]
    },
    {
     "name": "stderr",
     "output_type": "stream",
     "text": [
      "/tmp/ipykernel_1282148/868147661.py:90: DeprecationWarning: DataFrameGroupBy.apply operated on the grouping columns. This behavior is deprecated, and in a future version of pandas the grouping columns will be excluded from the operation. Either pass `include_groups=False` to exclude the groupings or explicitly select the grouping columns after groupby to silence this warning.\n",
      "  gp = matches.groupby('match_id').apply(filter_by_player_and_ball_number)\n",
      "/tmp/ipykernel_1282148/868147661.py:90: DeprecationWarning: DataFrameGroupBy.apply operated on the grouping columns. This behavior is deprecated, and in a future version of pandas the grouping columns will be excluded from the operation. Either pass `include_groups=False` to exclude the groupings or explicitly select the grouping columns after groupby to silence this warning.\n",
      "  gp = matches.groupby('match_id').apply(filter_by_player_and_ball_number)\n",
      "/tmp/ipykernel_1282148/868147661.py:90: DeprecationWarning: DataFrameGroupBy.apply operated on the grouping columns. This behavior is deprecated, and in a future version of pandas the grouping columns will be excluded from the operation. Either pass `include_groups=False` to exclude the groupings or explicitly select the grouping columns after groupby to silence this warning.\n",
      "  gp = matches.groupby('match_id').apply(filter_by_player_and_ball_number)\n",
      "/tmp/ipykernel_1282148/868147661.py:90: DeprecationWarning: DataFrameGroupBy.apply operated on the grouping columns. This behavior is deprecated, and in a future version of pandas the grouping columns will be excluded from the operation. Either pass `include_groups=False` to exclude the groupings or explicitly select the grouping columns after groupby to silence this warning.\n",
      "  gp = matches.groupby('match_id').apply(filter_by_player_and_ball_number)\n",
      "/tmp/ipykernel_1282148/868147661.py:90: DeprecationWarning: DataFrameGroupBy.apply operated on the grouping columns. This behavior is deprecated, and in a future version of pandas the grouping columns will be excluded from the operation. Either pass `include_groups=False` to exclude the groupings or explicitly select the grouping columns after groupby to silence this warning.\n",
      "  gp = matches.groupby('match_id').apply(filter_by_player_and_ball_number)\n"
     ]
    },
    {
     "name": "stdout",
     "output_type": "stream",
     "text": [
      "Analyzing Player GA Lamb\n",
      "Analyzing Player RW Price\n",
      "Analyzing Player RJ Harris\n",
      "Analyzing Player Jahurul Islam\n",
      "Analyzing Player A Nehra\n"
     ]
    },
    {
     "name": "stderr",
     "output_type": "stream",
     "text": [
      "/tmp/ipykernel_1282148/868147661.py:90: DeprecationWarning: DataFrameGroupBy.apply operated on the grouping columns. This behavior is deprecated, and in a future version of pandas the grouping columns will be excluded from the operation. Either pass `include_groups=False` to exclude the groupings or explicitly select the grouping columns after groupby to silence this warning.\n",
      "  gp = matches.groupby('match_id').apply(filter_by_player_and_ball_number)\n",
      "/tmp/ipykernel_1282148/868147661.py:90: DeprecationWarning: DataFrameGroupBy.apply operated on the grouping columns. This behavior is deprecated, and in a future version of pandas the grouping columns will be excluded from the operation. Either pass `include_groups=False` to exclude the groupings or explicitly select the grouping columns after groupby to silence this warning.\n",
      "  gp = matches.groupby('match_id').apply(filter_by_player_and_ball_number)\n",
      "/tmp/ipykernel_1282148/868147661.py:90: DeprecationWarning: DataFrameGroupBy.apply operated on the grouping columns. This behavior is deprecated, and in a future version of pandas the grouping columns will be excluded from the operation. Either pass `include_groups=False` to exclude the groupings or explicitly select the grouping columns after groupby to silence this warning.\n",
      "  gp = matches.groupby('match_id').apply(filter_by_player_and_ball_number)\n",
      "/tmp/ipykernel_1282148/868147661.py:90: DeprecationWarning: DataFrameGroupBy.apply operated on the grouping columns. This behavior is deprecated, and in a future version of pandas the grouping columns will be excluded from the operation. Either pass `include_groups=False` to exclude the groupings or explicitly select the grouping columns after groupby to silence this warning.\n",
      "  gp = matches.groupby('match_id').apply(filter_by_player_and_ball_number)\n",
      "/tmp/ipykernel_1282148/868147661.py:90: DeprecationWarning: DataFrameGroupBy.apply operated on the grouping columns. This behavior is deprecated, and in a future version of pandas the grouping columns will be excluded from the operation. Either pass `include_groups=False` to exclude the groupings or explicitly select the grouping columns after groupby to silence this warning.\n",
      "  gp = matches.groupby('match_id').apply(filter_by_player_and_ball_number)\n"
     ]
    },
    {
     "name": "stdout",
     "output_type": "stream",
     "text": [
      "Analyzing Player Abdur Rehman\n",
      "Analyzing Player S Randiv\n",
      "Analyzing Player UWMBCA Welegedara\n",
      "Analyzing Player CU Jayasinghe\n",
      "Analyzing Player PJ Ingram\n"
     ]
    },
    {
     "name": "stderr",
     "output_type": "stream",
     "text": [
      "/tmp/ipykernel_1282148/868147661.py:90: DeprecationWarning: DataFrameGroupBy.apply operated on the grouping columns. This behavior is deprecated, and in a future version of pandas the grouping columns will be excluded from the operation. Either pass `include_groups=False` to exclude the groupings or explicitly select the grouping columns after groupby to silence this warning.\n",
      "  gp = matches.groupby('match_id').apply(filter_by_player_and_ball_number)\n",
      "/tmp/ipykernel_1282148/868147661.py:90: DeprecationWarning: DataFrameGroupBy.apply operated on the grouping columns. This behavior is deprecated, and in a future version of pandas the grouping columns will be excluded from the operation. Either pass `include_groups=False` to exclude the groupings or explicitly select the grouping columns after groupby to silence this warning.\n",
      "  gp = matches.groupby('match_id').apply(filter_by_player_and_ball_number)\n",
      "/tmp/ipykernel_1282148/868147661.py:90: DeprecationWarning: DataFrameGroupBy.apply operated on the grouping columns. This behavior is deprecated, and in a future version of pandas the grouping columns will be excluded from the operation. Either pass `include_groups=False` to exclude the groupings or explicitly select the grouping columns after groupby to silence this warning.\n",
      "  gp = matches.groupby('match_id').apply(filter_by_player_and_ball_number)\n",
      "/tmp/ipykernel_1282148/868147661.py:90: DeprecationWarning: DataFrameGroupBy.apply operated on the grouping columns. This behavior is deprecated, and in a future version of pandas the grouping columns will be excluded from the operation. Either pass `include_groups=False` to exclude the groupings or explicitly select the grouping columns after groupby to silence this warning.\n",
      "  gp = matches.groupby('match_id').apply(filter_by_player_and_ball_number)\n",
      "/tmp/ipykernel_1282148/868147661.py:90: DeprecationWarning: DataFrameGroupBy.apply operated on the grouping columns. This behavior is deprecated, and in a future version of pandas the grouping columns will be excluded from the operation. Either pass `include_groups=False` to exclude the groupings or explicitly select the grouping columns after groupby to silence this warning.\n",
      "  gp = matches.groupby('match_id').apply(filter_by_player_and_ball_number)\n"
     ]
    },
    {
     "name": "stdout",
     "output_type": "stream",
     "text": [
      "Analyzing Player SNJ O'Keefe\n",
      "Analyzing Player BJ Watling\n",
      "Analyzing Player AB Dinda\n",
      "Analyzing Player PP Ojha\n",
      "Analyzing Player AB Barath\n"
     ]
    },
    {
     "name": "stderr",
     "output_type": "stream",
     "text": [
      "/tmp/ipykernel_1282148/868147661.py:90: DeprecationWarning: DataFrameGroupBy.apply operated on the grouping columns. This behavior is deprecated, and in a future version of pandas the grouping columns will be excluded from the operation. Either pass `include_groups=False` to exclude the groupings or explicitly select the grouping columns after groupby to silence this warning.\n",
      "  gp = matches.groupby('match_id').apply(filter_by_player_and_ball_number)\n",
      "/tmp/ipykernel_1282148/868147661.py:90: DeprecationWarning: DataFrameGroupBy.apply operated on the grouping columns. This behavior is deprecated, and in a future version of pandas the grouping columns will be excluded from the operation. Either pass `include_groups=False` to exclude the groupings or explicitly select the grouping columns after groupby to silence this warning.\n",
      "  gp = matches.groupby('match_id').apply(filter_by_player_and_ball_number)\n",
      "/tmp/ipykernel_1282148/868147661.py:90: DeprecationWarning: DataFrameGroupBy.apply operated on the grouping columns. This behavior is deprecated, and in a future version of pandas the grouping columns will be excluded from the operation. Either pass `include_groups=False` to exclude the groupings or explicitly select the grouping columns after groupby to silence this warning.\n",
      "  gp = matches.groupby('match_id').apply(filter_by_player_and_ball_number)\n",
      "/tmp/ipykernel_1282148/868147661.py:90: DeprecationWarning: DataFrameGroupBy.apply operated on the grouping columns. This behavior is deprecated, and in a future version of pandas the grouping columns will be excluded from the operation. Either pass `include_groups=False` to exclude the groupings or explicitly select the grouping columns after groupby to silence this warning.\n",
      "  gp = matches.groupby('match_id').apply(filter_by_player_and_ball_number)\n",
      "/tmp/ipykernel_1282148/868147661.py:90: DeprecationWarning: DataFrameGroupBy.apply operated on the grouping columns. This behavior is deprecated, and in a future version of pandas the grouping columns will be excluded from the operation. Either pass `include_groups=False` to exclude the groupings or explicitly select the grouping columns after groupby to silence this warning.\n",
      "  gp = matches.groupby('match_id').apply(filter_by_player_and_ball_number)\n"
     ]
    },
    {
     "name": "stdout",
     "output_type": "stream",
     "text": [
      "Analyzing Player SW Masakadza\n",
      "Analyzing Player AN Petersen\n",
      "Analyzing Player KAJ Roach\n",
      "Analyzing Player JW Hastings\n",
      "Analyzing Player CJ McKay\n"
     ]
    },
    {
     "name": "stderr",
     "output_type": "stream",
     "text": [
      "/tmp/ipykernel_1282148/868147661.py:90: DeprecationWarning: DataFrameGroupBy.apply operated on the grouping columns. This behavior is deprecated, and in a future version of pandas the grouping columns will be excluded from the operation. Either pass `include_groups=False` to exclude the groupings or explicitly select the grouping columns after groupby to silence this warning.\n",
      "  gp = matches.groupby('match_id').apply(filter_by_player_and_ball_number)\n",
      "/tmp/ipykernel_1282148/868147661.py:90: DeprecationWarning: DataFrameGroupBy.apply operated on the grouping columns. This behavior is deprecated, and in a future version of pandas the grouping columns will be excluded from the operation. Either pass `include_groups=False` to exclude the groupings or explicitly select the grouping columns after groupby to silence this warning.\n",
      "  gp = matches.groupby('match_id').apply(filter_by_player_and_ball_number)\n",
      "/tmp/ipykernel_1282148/868147661.py:90: DeprecationWarning: DataFrameGroupBy.apply operated on the grouping columns. This behavior is deprecated, and in a future version of pandas the grouping columns will be excluded from the operation. Either pass `include_groups=False` to exclude the groupings or explicitly select the grouping columns after groupby to silence this warning.\n",
      "  gp = matches.groupby('match_id').apply(filter_by_player_and_ball_number)\n",
      "/tmp/ipykernel_1282148/868147661.py:90: DeprecationWarning: DataFrameGroupBy.apply operated on the grouping columns. This behavior is deprecated, and in a future version of pandas the grouping columns will be excluded from the operation. Either pass `include_groups=False` to exclude the groupings or explicitly select the grouping columns after groupby to silence this warning.\n",
      "  gp = matches.groupby('match_id').apply(filter_by_player_and_ball_number)\n",
      "/tmp/ipykernel_1282148/868147661.py:90: DeprecationWarning: DataFrameGroupBy.apply operated on the grouping columns. This behavior is deprecated, and in a future version of pandas the grouping columns will be excluded from the operation. Either pass `include_groups=False` to exclude the groupings or explicitly select the grouping columns after groupby to silence this warning.\n",
      "  gp = matches.groupby('match_id').apply(filter_by_player_and_ball_number)\n"
     ]
    },
    {
     "name": "stdout",
     "output_type": "stream",
     "text": [
      "Analyzing Player A Shahzad\n",
      "Analyzing Player NV Ojha\n",
      "Analyzing Player EC Rainsford\n",
      "Analyzing Player RJ Nicol\n",
      "Analyzing Player AJ McKay\n"
     ]
    },
    {
     "name": "stderr",
     "output_type": "stream",
     "text": [
      "/tmp/ipykernel_1282148/868147661.py:90: DeprecationWarning: DataFrameGroupBy.apply operated on the grouping columns. This behavior is deprecated, and in a future version of pandas the grouping columns will be excluded from the operation. Either pass `include_groups=False` to exclude the groupings or explicitly select the grouping columns after groupby to silence this warning.\n",
      "  gp = matches.groupby('match_id').apply(filter_by_player_and_ball_number)\n",
      "/tmp/ipykernel_1282148/868147661.py:90: DeprecationWarning: DataFrameGroupBy.apply operated on the grouping columns. This behavior is deprecated, and in a future version of pandas the grouping columns will be excluded from the operation. Either pass `include_groups=False` to exclude the groupings or explicitly select the grouping columns after groupby to silence this warning.\n",
      "  gp = matches.groupby('match_id').apply(filter_by_player_and_ball_number)\n",
      "/tmp/ipykernel_1282148/868147661.py:90: DeprecationWarning: DataFrameGroupBy.apply operated on the grouping columns. This behavior is deprecated, and in a future version of pandas the grouping columns will be excluded from the operation. Either pass `include_groups=False` to exclude the groupings or explicitly select the grouping columns after groupby to silence this warning.\n",
      "  gp = matches.groupby('match_id').apply(filter_by_player_and_ball_number)\n",
      "/tmp/ipykernel_1282148/868147661.py:90: DeprecationWarning: DataFrameGroupBy.apply operated on the grouping columns. This behavior is deprecated, and in a future version of pandas the grouping columns will be excluded from the operation. Either pass `include_groups=False` to exclude the groupings or explicitly select the grouping columns after groupby to silence this warning.\n",
      "  gp = matches.groupby('match_id').apply(filter_by_player_and_ball_number)\n",
      "/tmp/ipykernel_1282148/868147661.py:90: DeprecationWarning: DataFrameGroupBy.apply operated on the grouping columns. This behavior is deprecated, and in a future version of pandas the grouping columns will be excluded from the operation. Either pass `include_groups=False` to exclude the groupings or explicitly select the grouping columns after groupby to silence this warning.\n",
      "  gp = matches.groupby('match_id').apply(filter_by_player_and_ball_number)\n"
     ]
    },
    {
     "name": "stdout",
     "output_type": "stream",
     "text": [
      "Analyzing Player Zulqarnain Haider\n",
      "Analyzing Player CA Ingram\n",
      "Analyzing Player KM Dabengwa\n",
      "Analyzing Player J Theron\n",
      "Analyzing Player DG Brownlie\n"
     ]
    },
    {
     "name": "stderr",
     "output_type": "stream",
     "text": [
      "/tmp/ipykernel_1282148/868147661.py:90: DeprecationWarning: DataFrameGroupBy.apply operated on the grouping columns. This behavior is deprecated, and in a future version of pandas the grouping columns will be excluded from the operation. Either pass `include_groups=False` to exclude the groupings or explicitly select the grouping columns after groupby to silence this warning.\n",
      "  gp = matches.groupby('match_id').apply(filter_by_player_and_ball_number)\n",
      "/tmp/ipykernel_1282148/868147661.py:90: DeprecationWarning: DataFrameGroupBy.apply operated on the grouping columns. This behavior is deprecated, and in a future version of pandas the grouping columns will be excluded from the operation. Either pass `include_groups=False` to exclude the groupings or explicitly select the grouping columns after groupby to silence this warning.\n",
      "  gp = matches.groupby('match_id').apply(filter_by_player_and_ball_number)\n",
      "/tmp/ipykernel_1282148/868147661.py:90: DeprecationWarning: DataFrameGroupBy.apply operated on the grouping columns. This behavior is deprecated, and in a future version of pandas the grouping columns will be excluded from the operation. Either pass `include_groups=False` to exclude the groupings or explicitly select the grouping columns after groupby to silence this warning.\n",
      "  gp = matches.groupby('match_id').apply(filter_by_player_and_ball_number)\n",
      "/tmp/ipykernel_1282148/868147661.py:90: DeprecationWarning: DataFrameGroupBy.apply operated on the grouping columns. This behavior is deprecated, and in a future version of pandas the grouping columns will be excluded from the operation. Either pass `include_groups=False` to exclude the groupings or explicitly select the grouping columns after groupby to silence this warning.\n",
      "  gp = matches.groupby('match_id').apply(filter_by_player_and_ball_number)\n",
      "/tmp/ipykernel_1282148/868147661.py:90: DeprecationWarning: DataFrameGroupBy.apply operated on the grouping columns. This behavior is deprecated, and in a future version of pandas the grouping columns will be excluded from the operation. Either pass `include_groups=False` to exclude the groupings or explicitly select the grouping columns after groupby to silence this warning.\n",
      "  gp = matches.groupby('match_id').apply(filter_by_player_and_ball_number)\n"
     ]
    },
    {
     "name": "stdout",
     "output_type": "stream",
     "text": [
      "Analyzing Player Asad Shafiq\n",
      "Analyzing Player SR Patel\n",
      "Analyzing Player PA Patel\n",
      "Analyzing Player R Dravid\n",
      "Analyzing Player R Vinay Kumar\n"
     ]
    },
    {
     "name": "stderr",
     "output_type": "stream",
     "text": [
      "/tmp/ipykernel_1282148/868147661.py:90: DeprecationWarning: DataFrameGroupBy.apply operated on the grouping columns. This behavior is deprecated, and in a future version of pandas the grouping columns will be excluded from the operation. Either pass `include_groups=False` to exclude the groupings or explicitly select the grouping columns after groupby to silence this warning.\n",
      "  gp = matches.groupby('match_id').apply(filter_by_player_and_ball_number)\n",
      "/tmp/ipykernel_1282148/868147661.py:90: DeprecationWarning: DataFrameGroupBy.apply operated on the grouping columns. This behavior is deprecated, and in a future version of pandas the grouping columns will be excluded from the operation. Either pass `include_groups=False` to exclude the groupings or explicitly select the grouping columns after groupby to silence this warning.\n",
      "  gp = matches.groupby('match_id').apply(filter_by_player_and_ball_number)\n",
      "/tmp/ipykernel_1282148/868147661.py:90: DeprecationWarning: DataFrameGroupBy.apply operated on the grouping columns. This behavior is deprecated, and in a future version of pandas the grouping columns will be excluded from the operation. Either pass `include_groups=False` to exclude the groupings or explicitly select the grouping columns after groupby to silence this warning.\n",
      "  gp = matches.groupby('match_id').apply(filter_by_player_and_ball_number)\n",
      "/tmp/ipykernel_1282148/868147661.py:90: DeprecationWarning: DataFrameGroupBy.apply operated on the grouping columns. This behavior is deprecated, and in a future version of pandas the grouping columns will be excluded from the operation. Either pass `include_groups=False` to exclude the groupings or explicitly select the grouping columns after groupby to silence this warning.\n",
      "  gp = matches.groupby('match_id').apply(filter_by_player_and_ball_number)\n",
      "/tmp/ipykernel_1282148/868147661.py:90: DeprecationWarning: DataFrameGroupBy.apply operated on the grouping columns. This behavior is deprecated, and in a future version of pandas the grouping columns will be excluded from the operation. Either pass `include_groups=False` to exclude the groupings or explicitly select the grouping columns after groupby to silence this warning.\n",
      "  gp = matches.groupby('match_id').apply(filter_by_player_and_ball_number)\n"
     ]
    },
    {
     "name": "stdout",
     "output_type": "stream",
     "text": [
      "Analyzing Player MM Patel\n",
      "Analyzing Player Mohammad Salman\n",
      "Analyzing Player Junaid Khan\n",
      "Analyzing Player DP Hyatt\n",
      "Analyzing Player CD Barnwell\n"
     ]
    },
    {
     "name": "stderr",
     "output_type": "stream",
     "text": [
      "/tmp/ipykernel_1282148/868147661.py:90: DeprecationWarning: DataFrameGroupBy.apply operated on the grouping columns. This behavior is deprecated, and in a future version of pandas the grouping columns will be excluded from the operation. Either pass `include_groups=False` to exclude the groupings or explicitly select the grouping columns after groupby to silence this warning.\n",
      "  gp = matches.groupby('match_id').apply(filter_by_player_and_ball_number)\n",
      "/tmp/ipykernel_1282148/868147661.py:90: DeprecationWarning: DataFrameGroupBy.apply operated on the grouping columns. This behavior is deprecated, and in a future version of pandas the grouping columns will be excluded from the operation. Either pass `include_groups=False` to exclude the groupings or explicitly select the grouping columns after groupby to silence this warning.\n",
      "  gp = matches.groupby('match_id').apply(filter_by_player_and_ball_number)\n",
      "/tmp/ipykernel_1282148/868147661.py:90: DeprecationWarning: DataFrameGroupBy.apply operated on the grouping columns. This behavior is deprecated, and in a future version of pandas the grouping columns will be excluded from the operation. Either pass `include_groups=False` to exclude the groupings or explicitly select the grouping columns after groupby to silence this warning.\n",
      "  gp = matches.groupby('match_id').apply(filter_by_player_and_ball_number)\n",
      "/tmp/ipykernel_1282148/868147661.py:90: DeprecationWarning: DataFrameGroupBy.apply operated on the grouping columns. This behavior is deprecated, and in a future version of pandas the grouping columns will be excluded from the operation. Either pass `include_groups=False` to exclude the groupings or explicitly select the grouping columns after groupby to silence this warning.\n",
      "  gp = matches.groupby('match_id').apply(filter_by_player_and_ball_number)\n",
      "/tmp/ipykernel_1282148/868147661.py:90: DeprecationWarning: DataFrameGroupBy.apply operated on the grouping columns. This behavior is deprecated, and in a future version of pandas the grouping columns will be excluded from the operation. Either pass `include_groups=False` to exclude the groupings or explicitly select the grouping columns after groupby to silence this warning.\n",
      "  gp = matches.groupby('match_id').apply(filter_by_player_and_ball_number)\n"
     ]
    },
    {
     "name": "stdout",
     "output_type": "stream",
     "text": [
      "Analyzing Player S Badrinath\n",
      "Analyzing Player JL Pattinson\n",
      "Analyzing Player MDK Perera\n",
      "Analyzing Player HMRKB Herath\n",
      "Analyzing Player GJ Bailey\n"
     ]
    },
    {
     "name": "stderr",
     "output_type": "stream",
     "text": [
      "/tmp/ipykernel_1282148/868147661.py:90: DeprecationWarning: DataFrameGroupBy.apply operated on the grouping columns. This behavior is deprecated, and in a future version of pandas the grouping columns will be excluded from the operation. Either pass `include_groups=False` to exclude the groupings or explicitly select the grouping columns after groupby to silence this warning.\n",
      "  gp = matches.groupby('match_id').apply(filter_by_player_and_ball_number)\n",
      "/tmp/ipykernel_1282148/868147661.py:90: DeprecationWarning: DataFrameGroupBy.apply operated on the grouping columns. This behavior is deprecated, and in a future version of pandas the grouping columns will be excluded from the operation. Either pass `include_groups=False` to exclude the groupings or explicitly select the grouping columns after groupby to silence this warning.\n",
      "  gp = matches.groupby('match_id').apply(filter_by_player_and_ball_number)\n",
      "/tmp/ipykernel_1282148/868147661.py:90: DeprecationWarning: DataFrameGroupBy.apply operated on the grouping columns. This behavior is deprecated, and in a future version of pandas the grouping columns will be excluded from the operation. Either pass `include_groups=False` to exclude the groupings or explicitly select the grouping columns after groupby to silence this warning.\n",
      "  gp = matches.groupby('match_id').apply(filter_by_player_and_ball_number)\n",
      "/tmp/ipykernel_1282148/868147661.py:90: DeprecationWarning: DataFrameGroupBy.apply operated on the grouping columns. This behavior is deprecated, and in a future version of pandas the grouping columns will be excluded from the operation. Either pass `include_groups=False` to exclude the groupings or explicitly select the grouping columns after groupby to silence this warning.\n",
      "  gp = matches.groupby('match_id').apply(filter_by_player_and_ball_number)\n"
     ]
    },
    {
     "name": "stdout",
     "output_type": "stream",
     "text": [
      "Analyzing Player XJ Doherty\n",
      "Analyzing Player F Mutizwa\n",
      "Analyzing Player KO Meth\n",
      "Analyzing Player AM Ellis\n",
      "Analyzing Player RE Levi\n"
     ]
    },
    {
     "name": "stderr",
     "output_type": "stream",
     "text": [
      "/tmp/ipykernel_1282148/868147661.py:90: DeprecationWarning: DataFrameGroupBy.apply operated on the grouping columns. This behavior is deprecated, and in a future version of pandas the grouping columns will be excluded from the operation. Either pass `include_groups=False` to exclude the groupings or explicitly select the grouping columns after groupby to silence this warning.\n",
      "  gp = matches.groupby('match_id').apply(filter_by_player_and_ball_number)\n",
      "/tmp/ipykernel_1282148/868147661.py:90: DeprecationWarning: DataFrameGroupBy.apply operated on the grouping columns. This behavior is deprecated, and in a future version of pandas the grouping columns will be excluded from the operation. Either pass `include_groups=False` to exclude the groupings or explicitly select the grouping columns after groupby to silence this warning.\n",
      "  gp = matches.groupby('match_id').apply(filter_by_player_and_ball_number)\n",
      "/tmp/ipykernel_1282148/868147661.py:90: DeprecationWarning: DataFrameGroupBy.apply operated on the grouping columns. This behavior is deprecated, and in a future version of pandas the grouping columns will be excluded from the operation. Either pass `include_groups=False` to exclude the groupings or explicitly select the grouping columns after groupby to silence this warning.\n",
      "  gp = matches.groupby('match_id').apply(filter_by_player_and_ball_number)\n",
      "/tmp/ipykernel_1282148/868147661.py:90: DeprecationWarning: DataFrameGroupBy.apply operated on the grouping columns. This behavior is deprecated, and in a future version of pandas the grouping columns will be excluded from the operation. Either pass `include_groups=False` to exclude the groupings or explicitly select the grouping columns after groupby to silence this warning.\n",
      "  gp = matches.groupby('match_id').apply(filter_by_player_and_ball_number)\n",
      "/tmp/ipykernel_1282148/868147661.py:90: DeprecationWarning: DataFrameGroupBy.apply operated on the grouping columns. This behavior is deprecated, and in a future version of pandas the grouping columns will be excluded from the operation. Either pass `include_groups=False` to exclude the groupings or explicitly select the grouping columns after groupby to silence this warning.\n",
      "  gp = matches.groupby('match_id').apply(filter_by_player_and_ball_number)\n"
     ]
    },
    {
     "name": "stdout",
     "output_type": "stream",
     "text": [
      "Analyzing Player MK Tiwary\n",
      "Analyzing Player Rameez Raja (2)\n",
      "Analyzing Player Yasir Shah\n",
      "Analyzing Player NE Bonner\n",
      "Analyzing Player DO Christian\n",
      "Analyzing Player SG Borthwick\n"
     ]
    },
    {
     "name": "stderr",
     "output_type": "stream",
     "text": [
      "/tmp/ipykernel_1282148/868147661.py:90: DeprecationWarning: DataFrameGroupBy.apply operated on the grouping columns. This behavior is deprecated, and in a future version of pandas the grouping columns will be excluded from the operation. Either pass `include_groups=False` to exclude the groupings or explicitly select the grouping columns after groupby to silence this warning.\n",
      "  gp = matches.groupby('match_id').apply(filter_by_player_and_ball_number)\n",
      "/tmp/ipykernel_1282148/868147661.py:90: DeprecationWarning: DataFrameGroupBy.apply operated on the grouping columns. This behavior is deprecated, and in a future version of pandas the grouping columns will be excluded from the operation. Either pass `include_groups=False` to exclude the groupings or explicitly select the grouping columns after groupby to silence this warning.\n",
      "  gp = matches.groupby('match_id').apply(filter_by_player_and_ball_number)\n",
      "/tmp/ipykernel_1282148/868147661.py:90: DeprecationWarning: DataFrameGroupBy.apply operated on the grouping columns. This behavior is deprecated, and in a future version of pandas the grouping columns will be excluded from the operation. Either pass `include_groups=False` to exclude the groupings or explicitly select the grouping columns after groupby to silence this warning.\n",
      "  gp = matches.groupby('match_id').apply(filter_by_player_and_ball_number)\n",
      "/tmp/ipykernel_1282148/868147661.py:90: DeprecationWarning: DataFrameGroupBy.apply operated on the grouping columns. This behavior is deprecated, and in a future version of pandas the grouping columns will be excluded from the operation. Either pass `include_groups=False` to exclude the groupings or explicitly select the grouping columns after groupby to silence this warning.\n",
      "  gp = matches.groupby('match_id').apply(filter_by_player_and_ball_number)\n",
      "/tmp/ipykernel_1282148/868147661.py:90: DeprecationWarning: DataFrameGroupBy.apply operated on the grouping columns. This behavior is deprecated, and in a future version of pandas the grouping columns will be excluded from the operation. Either pass `include_groups=False` to exclude the groupings or explicitly select the grouping columns after groupby to silence this warning.\n",
      "  gp = matches.groupby('match_id').apply(filter_by_player_and_ball_number)\n",
      "/tmp/ipykernel_1282148/868147661.py:90: DeprecationWarning: DataFrameGroupBy.apply operated on the grouping columns. This behavior is deprecated, and in a future version of pandas the grouping columns will be excluded from the operation. Either pass `include_groups=False` to exclude the groupings or explicitly select the grouping columns after groupby to silence this warning.\n",
      "  gp = matches.groupby('match_id').apply(filter_by_player_and_ball_number)\n",
      "/tmp/ipykernel_1282148/868147661.py:90: DeprecationWarning: DataFrameGroupBy.apply operated on the grouping columns. This behavior is deprecated, and in a future version of pandas the grouping columns will be excluded from the operation. Either pass `include_groups=False` to exclude the groupings or explicitly select the grouping columns after groupby to silence this warning.\n",
      "  gp = matches.groupby('match_id').apply(filter_by_player_and_ball_number)\n",
      "/tmp/ipykernel_1282148/868147661.py:90: DeprecationWarning: DataFrameGroupBy.apply operated on the grouping columns. This behavior is deprecated, and in a future version of pandas the grouping columns will be excluded from the operation. Either pass `include_groups=False` to exclude the groupings or explicitly select the grouping columns after groupby to silence this warning.\n",
      "  gp = matches.groupby('match_id').apply(filter_by_player_and_ball_number)\n",
      "/tmp/ipykernel_1282148/868147661.py:90: DeprecationWarning: DataFrameGroupBy.apply operated on the grouping columns. This behavior is deprecated, and in a future version of pandas the grouping columns will be excluded from the operation. Either pass `include_groups=False` to exclude the groupings or explicitly select the grouping columns after groupby to silence this warning.\n",
      "  gp = matches.groupby('match_id').apply(filter_by_player_and_ball_number)\n",
      "/tmp/ipykernel_1282148/868147661.py:90: DeprecationWarning: DataFrameGroupBy.apply operated on the grouping columns. This behavior is deprecated, and in a future version of pandas the grouping columns will be excluded from the operation. Either pass `include_groups=False` to exclude the groupings or explicitly select the grouping columns after groupby to silence this warning.\n",
      "  gp = matches.groupby('match_id').apply(filter_by_player_and_ball_number)\n"
     ]
    },
    {
     "name": "stdout",
     "output_type": "stream",
     "text": [
      "Analyzing Player JW Dernbach\n",
      "Analyzing Player MC Bascombe\n",
      "Analyzing Player Awais Zia\n",
      "Analyzing Player Hammad Azam\n",
      "Analyzing Player Aizaz Cheema\n"
     ]
    },
    {
     "name": "stderr",
     "output_type": "stream",
     "text": [
      "/tmp/ipykernel_1282148/868147661.py:90: DeprecationWarning: DataFrameGroupBy.apply operated on the grouping columns. This behavior is deprecated, and in a future version of pandas the grouping columns will be excluded from the operation. Either pass `include_groups=False` to exclude the groupings or explicitly select the grouping columns after groupby to silence this warning.\n",
      "  gp = matches.groupby('match_id').apply(filter_by_player_and_ball_number)\n",
      "/tmp/ipykernel_1282148/868147661.py:90: DeprecationWarning: DataFrameGroupBy.apply operated on the grouping columns. This behavior is deprecated, and in a future version of pandas the grouping columns will be excluded from the operation. Either pass `include_groups=False` to exclude the groupings or explicitly select the grouping columns after groupby to silence this warning.\n",
      "  gp = matches.groupby('match_id').apply(filter_by_player_and_ball_number)\n",
      "/tmp/ipykernel_1282148/868147661.py:90: DeprecationWarning: DataFrameGroupBy.apply operated on the grouping columns. This behavior is deprecated, and in a future version of pandas the grouping columns will be excluded from the operation. Either pass `include_groups=False` to exclude the groupings or explicitly select the grouping columns after groupby to silence this warning.\n",
      "  gp = matches.groupby('match_id').apply(filter_by_player_and_ball_number)\n",
      "/tmp/ipykernel_1282148/868147661.py:90: DeprecationWarning: DataFrameGroupBy.apply operated on the grouping columns. This behavior is deprecated, and in a future version of pandas the grouping columns will be excluded from the operation. Either pass `include_groups=False` to exclude the groupings or explicitly select the grouping columns after groupby to silence this warning.\n",
      "  gp = matches.groupby('match_id').apply(filter_by_player_and_ball_number)\n",
      "/tmp/ipykernel_1282148/868147661.py:90: DeprecationWarning: DataFrameGroupBy.apply operated on the grouping columns. This behavior is deprecated, and in a future version of pandas the grouping columns will be excluded from the operation. Either pass `include_groups=False` to exclude the groupings or explicitly select the grouping columns after groupby to silence this warning.\n",
      "  gp = matches.groupby('match_id').apply(filter_by_player_and_ball_number)\n"
     ]
    },
    {
     "name": "stdout",
     "output_type": "stream",
     "text": [
      "Analyzing Player Nasir Hossain\n",
      "Analyzing Player BV Vitori\n",
      "Analyzing Player NG Jones\n",
      "Analyzing Player Ziaur Rahman\n",
      "Analyzing Player Elias Sunny\n"
     ]
    },
    {
     "name": "stderr",
     "output_type": "stream",
     "text": [
      "/tmp/ipykernel_1282148/868147661.py:90: DeprecationWarning: DataFrameGroupBy.apply operated on the grouping columns. This behavior is deprecated, and in a future version of pandas the grouping columns will be excluded from the operation. Either pass `include_groups=False` to exclude the groupings or explicitly select the grouping columns after groupby to silence this warning.\n",
      "  gp = matches.groupby('match_id').apply(filter_by_player_and_ball_number)\n",
      "/tmp/ipykernel_1282148/868147661.py:90: DeprecationWarning: DataFrameGroupBy.apply operated on the grouping columns. This behavior is deprecated, and in a future version of pandas the grouping columns will be excluded from the operation. Either pass `include_groups=False` to exclude the groupings or explicitly select the grouping columns after groupby to silence this warning.\n",
      "  gp = matches.groupby('match_id').apply(filter_by_player_and_ball_number)\n",
      "/tmp/ipykernel_1282148/868147661.py:90: DeprecationWarning: DataFrameGroupBy.apply operated on the grouping columns. This behavior is deprecated, and in a future version of pandas the grouping columns will be excluded from the operation. Either pass `include_groups=False` to exclude the groupings or explicitly select the grouping columns after groupby to silence this warning.\n",
      "  gp = matches.groupby('match_id').apply(filter_by_player_and_ball_number)\n",
      "/tmp/ipykernel_1282148/868147661.py:90: DeprecationWarning: DataFrameGroupBy.apply operated on the grouping columns. This behavior is deprecated, and in a future version of pandas the grouping columns will be excluded from the operation. Either pass `include_groups=False` to exclude the groupings or explicitly select the grouping columns after groupby to silence this warning.\n",
      "  gp = matches.groupby('match_id').apply(filter_by_player_and_ball_number)\n"
     ]
    },
    {
     "name": "stdout",
     "output_type": "stream",
     "text": [
      "Analyzing Player HDRL Thirimanne\n",
      "Analyzing Player Nasir Jamshed\n",
      "Analyzing Player ST Finn\n",
      "Analyzing Player GE Mathurin\n"
     ]
    },
    {
     "name": "stderr",
     "output_type": "stream",
     "text": [
      "/tmp/ipykernel_1282148/868147661.py:90: DeprecationWarning: DataFrameGroupBy.apply operated on the grouping columns. This behavior is deprecated, and in a future version of pandas the grouping columns will be excluded from the operation. Either pass `include_groups=False` to exclude the groupings or explicitly select the grouping columns after groupby to silence this warning.\n",
      "  gp = matches.groupby('match_id').apply(filter_by_player_and_ball_number)\n",
      "/tmp/ipykernel_1282148/868147661.py:90: DeprecationWarning: DataFrameGroupBy.apply operated on the grouping columns. This behavior is deprecated, and in a future version of pandas the grouping columns will be excluded from the operation. Either pass `include_groups=False` to exclude the groupings or explicitly select the grouping columns after groupby to silence this warning.\n",
      "  gp = matches.groupby('match_id').apply(filter_by_player_and_ball_number)\n",
      "/tmp/ipykernel_1282148/868147661.py:90: DeprecationWarning: DataFrameGroupBy.apply operated on the grouping columns. This behavior is deprecated, and in a future version of pandas the grouping columns will be excluded from the operation. Either pass `include_groups=False` to exclude the groupings or explicitly select the grouping columns after groupby to silence this warning.\n",
      "  gp = matches.groupby('match_id').apply(filter_by_player_and_ball_number)\n",
      "/tmp/ipykernel_1282148/868147661.py:90: DeprecationWarning: DataFrameGroupBy.apply operated on the grouping columns. This behavior is deprecated, and in a future version of pandas the grouping columns will be excluded from the operation. Either pass `include_groups=False` to exclude the groupings or explicitly select the grouping columns after groupby to silence this warning.\n",
      "  gp = matches.groupby('match_id').apply(filter_by_player_and_ball_number)\n",
      "/tmp/ipykernel_1282148/868147661.py:90: DeprecationWarning: DataFrameGroupBy.apply operated on the grouping columns. This behavior is deprecated, and in a future version of pandas the grouping columns will be excluded from the operation. Either pass `include_groups=False` to exclude the groupings or explicitly select the grouping columns after groupby to silence this warning.\n",
      "  gp = matches.groupby('match_id').apply(filter_by_player_and_ball_number)\n"
     ]
    },
    {
     "name": "stdout",
     "output_type": "stream",
     "text": [
      "Analyzing Player Shakeel Ansar\n",
      "Analyzing Player KS Lokuarachchi\n",
      "Analyzing Player SMSM Senanayake\n",
      "Analyzing Player RMS Eranga\n",
      "Analyzing Player JC Tredwell\n"
     ]
    },
    {
     "name": "stderr",
     "output_type": "stream",
     "text": [
      "/tmp/ipykernel_1282148/868147661.py:90: DeprecationWarning: DataFrameGroupBy.apply operated on the grouping columns. This behavior is deprecated, and in a future version of pandas the grouping columns will be excluded from the operation. Either pass `include_groups=False` to exclude the groupings or explicitly select the grouping columns after groupby to silence this warning.\n",
      "  gp = matches.groupby('match_id').apply(filter_by_player_and_ball_number)\n",
      "/tmp/ipykernel_1282148/868147661.py:90: DeprecationWarning: DataFrameGroupBy.apply operated on the grouping columns. This behavior is deprecated, and in a future version of pandas the grouping columns will be excluded from the operation. Either pass `include_groups=False` to exclude the groupings or explicitly select the grouping columns after groupby to silence this warning.\n",
      "  gp = matches.groupby('match_id').apply(filter_by_player_and_ball_number)\n",
      "/tmp/ipykernel_1282148/868147661.py:90: DeprecationWarning: DataFrameGroupBy.apply operated on the grouping columns. This behavior is deprecated, and in a future version of pandas the grouping columns will be excluded from the operation. Either pass `include_groups=False` to exclude the groupings or explicitly select the grouping columns after groupby to silence this warning.\n",
      "  gp = matches.groupby('match_id').apply(filter_by_player_and_ball_number)\n",
      "/tmp/ipykernel_1282148/868147661.py:90: DeprecationWarning: DataFrameGroupBy.apply operated on the grouping columns. This behavior is deprecated, and in a future version of pandas the grouping columns will be excluded from the operation. Either pass `include_groups=False` to exclude the groupings or explicitly select the grouping columns after groupby to silence this warning.\n",
      "  gp = matches.groupby('match_id').apply(filter_by_player_and_ball_number)\n",
      "/tmp/ipykernel_1282148/868147661.py:90: DeprecationWarning: DataFrameGroupBy.apply operated on the grouping columns. This behavior is deprecated, and in a future version of pandas the grouping columns will be excluded from the operation. Either pass `include_groups=False` to exclude the groupings or explicitly select the grouping columns after groupby to silence this warning.\n",
      "  gp = matches.groupby('match_id').apply(filter_by_player_and_ball_number)\n"
     ]
    },
    {
     "name": "stdout",
     "output_type": "stream",
     "text": [
      "Analyzing Player PP Chawla\n",
      "Analyzing Player Fawad Ahmed\n",
      "Analyzing Player MC Sorensen\n",
      "Analyzing Player RM Hira\n",
      "Analyzing Player MJ McClenaghan\n"
     ]
    },
    {
     "name": "stderr",
     "output_type": "stream",
     "text": [
      "/tmp/ipykernel_1282148/868147661.py:90: DeprecationWarning: DataFrameGroupBy.apply operated on the grouping columns. This behavior is deprecated, and in a future version of pandas the grouping columns will be excluded from the operation. Either pass `include_groups=False` to exclude the groupings or explicitly select the grouping columns after groupby to silence this warning.\n",
      "  gp = matches.groupby('match_id').apply(filter_by_player_and_ball_number)\n",
      "/tmp/ipykernel_1282148/868147661.py:90: DeprecationWarning: DataFrameGroupBy.apply operated on the grouping columns. This behavior is deprecated, and in a future version of pandas the grouping columns will be excluded from the operation. Either pass `include_groups=False` to exclude the groupings or explicitly select the grouping columns after groupby to silence this warning.\n",
      "  gp = matches.groupby('match_id').apply(filter_by_player_and_ball_number)\n",
      "/tmp/ipykernel_1282148/868147661.py:90: DeprecationWarning: DataFrameGroupBy.apply operated on the grouping columns. This behavior is deprecated, and in a future version of pandas the grouping columns will be excluded from the operation. Either pass `include_groups=False` to exclude the groupings or explicitly select the grouping columns after groupby to silence this warning.\n",
      "  gp = matches.groupby('match_id').apply(filter_by_player_and_ball_number)\n",
      "/tmp/ipykernel_1282148/868147661.py:90: DeprecationWarning: DataFrameGroupBy.apply operated on the grouping columns. This behavior is deprecated, and in a future version of pandas the grouping columns will be excluded from the operation. Either pass `include_groups=False` to exclude the groupings or explicitly select the grouping columns after groupby to silence this warning.\n",
      "  gp = matches.groupby('match_id').apply(filter_by_player_and_ball_number)\n",
      "/tmp/ipykernel_1282148/868147661.py:90: DeprecationWarning: DataFrameGroupBy.apply operated on the grouping columns. This behavior is deprecated, and in a future version of pandas the grouping columns will be excluded from the operation. Either pass `include_groups=False` to exclude the groupings or explicitly select the grouping columns after groupby to silence this warning.\n",
      "  gp = matches.groupby('match_id').apply(filter_by_player_and_ball_number)\n"
     ]
    },
    {
     "name": "stdout",
     "output_type": "stream",
     "text": [
      "Analyzing Player H Davids\n",
      "Analyzing Player KJ Abbott\n",
      "Analyzing Player Raza Hasan\n",
      "Analyzing Player BJ Rohrer\n",
      "Analyzing Player BCJ Cutting\n"
     ]
    },
    {
     "name": "stderr",
     "output_type": "stream",
     "text": [
      "/tmp/ipykernel_1282148/868147661.py:90: DeprecationWarning: DataFrameGroupBy.apply operated on the grouping columns. This behavior is deprecated, and in a future version of pandas the grouping columns will be excluded from the operation. Either pass `include_groups=False` to exclude the groupings or explicitly select the grouping columns after groupby to silence this warning.\n",
      "  gp = matches.groupby('match_id').apply(filter_by_player_and_ball_number)\n",
      "/tmp/ipykernel_1282148/868147661.py:90: DeprecationWarning: DataFrameGroupBy.apply operated on the grouping columns. This behavior is deprecated, and in a future version of pandas the grouping columns will be excluded from the operation. Either pass `include_groups=False` to exclude the groupings or explicitly select the grouping columns after groupby to silence this warning.\n",
      "  gp = matches.groupby('match_id').apply(filter_by_player_and_ball_number)\n",
      "/tmp/ipykernel_1282148/868147661.py:90: DeprecationWarning: DataFrameGroupBy.apply operated on the grouping columns. This behavior is deprecated, and in a future version of pandas the grouping columns will be excluded from the operation. Either pass `include_groups=False` to exclude the groupings or explicitly select the grouping columns after groupby to silence this warning.\n",
      "  gp = matches.groupby('match_id').apply(filter_by_player_and_ball_number)\n",
      "/tmp/ipykernel_1282148/868147661.py:90: DeprecationWarning: DataFrameGroupBy.apply operated on the grouping columns. This behavior is deprecated, and in a future version of pandas the grouping columns will be excluded from the operation. Either pass `include_groups=False` to exclude the groupings or explicitly select the grouping columns after groupby to silence this warning.\n",
      "  gp = matches.groupby('match_id').apply(filter_by_player_and_ball_number)\n",
      "/tmp/ipykernel_1282148/868147661.py:90: DeprecationWarning: DataFrameGroupBy.apply operated on the grouping columns. This behavior is deprecated, and in a future version of pandas the grouping columns will be excluded from the operation. Either pass `include_groups=False` to exclude the groupings or explicitly select the grouping columns after groupby to silence this warning.\n",
      "  gp = matches.groupby('match_id').apply(filter_by_player_and_ball_number)\n"
     ]
    },
    {
     "name": "stdout",
     "output_type": "stream",
     "text": [
      "Analyzing Player N M'shangwe\n",
      "Analyzing Player Shamsur Rahman\n",
      "Analyzing Player Sohag Gazi\n",
      "Analyzing Player Mominul Haque\n",
      "Analyzing Player T Panyangara\n"
     ]
    },
    {
     "name": "stderr",
     "output_type": "stream",
     "text": [
      "/tmp/ipykernel_1282148/868147661.py:90: DeprecationWarning: DataFrameGroupBy.apply operated on the grouping columns. This behavior is deprecated, and in a future version of pandas the grouping columns will be excluded from the operation. Either pass `include_groups=False` to exclude the groupings or explicitly select the grouping columns after groupby to silence this warning.\n",
      "  gp = matches.groupby('match_id').apply(filter_by_player_and_ball_number)\n",
      "/tmp/ipykernel_1282148/868147661.py:90: DeprecationWarning: DataFrameGroupBy.apply operated on the grouping columns. This behavior is deprecated, and in a future version of pandas the grouping columns will be excluded from the operation. Either pass `include_groups=False` to exclude the groupings or explicitly select the grouping columns after groupby to silence this warning.\n",
      "  gp = matches.groupby('match_id').apply(filter_by_player_and_ball_number)\n",
      "/tmp/ipykernel_1282148/868147661.py:90: DeprecationWarning: DataFrameGroupBy.apply operated on the grouping columns. This behavior is deprecated, and in a future version of pandas the grouping columns will be excluded from the operation. Either pass `include_groups=False` to exclude the groupings or explicitly select the grouping columns after groupby to silence this warning.\n",
      "  gp = matches.groupby('match_id').apply(filter_by_player_and_ball_number)\n",
      "/tmp/ipykernel_1282148/868147661.py:90: DeprecationWarning: DataFrameGroupBy.apply operated on the grouping columns. This behavior is deprecated, and in a future version of pandas the grouping columns will be excluded from the operation. Either pass `include_groups=False` to exclude the groupings or explicitly select the grouping columns after groupby to silence this warning.\n",
      "  gp = matches.groupby('match_id').apply(filter_by_player_and_ball_number)\n",
      "/tmp/ipykernel_1282148/868147661.py:90: DeprecationWarning: DataFrameGroupBy.apply operated on the grouping columns. This behavior is deprecated, and in a future version of pandas the grouping columns will be excluded from the operation. Either pass `include_groups=False` to exclude the groupings or explicitly select the grouping columns after groupby to silence this warning.\n",
      "  gp = matches.groupby('match_id').apply(filter_by_player_and_ball_number)\n"
     ]
    },
    {
     "name": "stdout",
     "output_type": "stream",
     "text": [
      "Analyzing Player D Wiese\n",
      "Analyzing Player Zulfiqar Babar\n",
      "Analyzing Player TL Best\n",
      "Analyzing Player Mohammad Irfan\n",
      "Analyzing Player Bilawal Bhatti\n"
     ]
    },
    {
     "name": "stderr",
     "output_type": "stream",
     "text": [
      "/tmp/ipykernel_1282148/868147661.py:90: DeprecationWarning: DataFrameGroupBy.apply operated on the grouping columns. This behavior is deprecated, and in a future version of pandas the grouping columns will be excluded from the operation. Either pass `include_groups=False` to exclude the groupings or explicitly select the grouping columns after groupby to silence this warning.\n",
      "  gp = matches.groupby('match_id').apply(filter_by_player_and_ball_number)\n",
      "/tmp/ipykernel_1282148/868147661.py:90: DeprecationWarning: DataFrameGroupBy.apply operated on the grouping columns. This behavior is deprecated, and in a future version of pandas the grouping columns will be excluded from the operation. Either pass `include_groups=False` to exclude the groupings or explicitly select the grouping columns after groupby to silence this warning.\n",
      "  gp = matches.groupby('match_id').apply(filter_by_player_and_ball_number)\n",
      "/tmp/ipykernel_1282148/868147661.py:90: DeprecationWarning: DataFrameGroupBy.apply operated on the grouping columns. This behavior is deprecated, and in a future version of pandas the grouping columns will be excluded from the operation. Either pass `include_groups=False` to exclude the groupings or explicitly select the grouping columns after groupby to silence this warning.\n",
      "  gp = matches.groupby('match_id').apply(filter_by_player_and_ball_number)\n",
      "/tmp/ipykernel_1282148/868147661.py:90: DeprecationWarning: DataFrameGroupBy.apply operated on the grouping columns. This behavior is deprecated, and in a future version of pandas the grouping columns will be excluded from the operation. Either pass `include_groups=False` to exclude the groupings or explicitly select the grouping columns after groupby to silence this warning.\n",
      "  gp = matches.groupby('match_id').apply(filter_by_player_and_ball_number)\n",
      "/tmp/ipykernel_1282148/868147661.py:90: DeprecationWarning: DataFrameGroupBy.apply operated on the grouping columns. This behavior is deprecated, and in a future version of pandas the grouping columns will be excluded from the operation. Either pass `include_groups=False` to exclude the groupings or explicitly select the grouping columns after groupby to silence this warning.\n",
      "  gp = matches.groupby('match_id').apply(filter_by_player_and_ball_number)\n"
     ]
    },
    {
     "name": "stdout",
     "output_type": "stream",
     "text": [
      "Analyzing Player Usman Shinwari\n",
      "Analyzing Player Anwar Ali\n",
      "Analyzing Player KOA Powell\n",
      "Analyzing Player MA Carberry\n",
      "Analyzing Player KDK Vithanage\n"
     ]
    },
    {
     "name": "stderr",
     "output_type": "stream",
     "text": [
      "/tmp/ipykernel_1282148/868147661.py:90: DeprecationWarning: DataFrameGroupBy.apply operated on the grouping columns. This behavior is deprecated, and in a future version of pandas the grouping columns will be excluded from the operation. Either pass `include_groups=False` to exclude the groupings or explicitly select the grouping columns after groupby to silence this warning.\n",
      "  gp = matches.groupby('match_id').apply(filter_by_player_and_ball_number)\n",
      "/tmp/ipykernel_1282148/868147661.py:90: DeprecationWarning: DataFrameGroupBy.apply operated on the grouping columns. This behavior is deprecated, and in a future version of pandas the grouping columns will be excluded from the operation. Either pass `include_groups=False` to exclude the groupings or explicitly select the grouping columns after groupby to silence this warning.\n",
      "  gp = matches.groupby('match_id').apply(filter_by_player_and_ball_number)\n",
      "/tmp/ipykernel_1282148/868147661.py:90: DeprecationWarning: DataFrameGroupBy.apply operated on the grouping columns. This behavior is deprecated, and in a future version of pandas the grouping columns will be excluded from the operation. Either pass `include_groups=False` to exclude the groupings or explicitly select the grouping columns after groupby to silence this warning.\n",
      "  gp = matches.groupby('match_id').apply(filter_by_player_and_ball_number)\n",
      "/tmp/ipykernel_1282148/868147661.py:90: DeprecationWarning: DataFrameGroupBy.apply operated on the grouping columns. This behavior is deprecated, and in a future version of pandas the grouping columns will be excluded from the operation. Either pass `include_groups=False` to exclude the groupings or explicitly select the grouping columns after groupby to silence this warning.\n",
      "  gp = matches.groupby('match_id').apply(filter_by_player_and_ball_number)\n",
      "/tmp/ipykernel_1282148/868147661.py:90: DeprecationWarning: DataFrameGroupBy.apply operated on the grouping columns. This behavior is deprecated, and in a future version of pandas the grouping columns will be excluded from the operation. Either pass `include_groups=False` to exclude the groupings or explicitly select the grouping columns after groupby to silence this warning.\n",
      "  gp = matches.groupby('match_id').apply(filter_by_player_and_ball_number)\n"
     ]
    },
    {
     "name": "stdout",
     "output_type": "stream",
     "text": [
      "Analyzing Player Al-Amin Hossain\n",
      "Analyzing Player AP Devcich\n",
      "Analyzing Player AD Poynter\n",
      "Analyzing Player JM Muirhead\n",
      "Analyzing Player DE Bollinger\n"
     ]
    },
    {
     "name": "stderr",
     "output_type": "stream",
     "text": [
      "/tmp/ipykernel_1282148/868147661.py:90: DeprecationWarning: DataFrameGroupBy.apply operated on the grouping columns. This behavior is deprecated, and in a future version of pandas the grouping columns will be excluded from the operation. Either pass `include_groups=False` to exclude the groupings or explicitly select the grouping columns after groupby to silence this warning.\n",
      "  gp = matches.groupby('match_id').apply(filter_by_player_and_ball_number)\n",
      "/tmp/ipykernel_1282148/868147661.py:90: DeprecationWarning: DataFrameGroupBy.apply operated on the grouping columns. This behavior is deprecated, and in a future version of pandas the grouping columns will be excluded from the operation. Either pass `include_groups=False` to exclude the groupings or explicitly select the grouping columns after groupby to silence this warning.\n",
      "  gp = matches.groupby('match_id').apply(filter_by_player_and_ball_number)\n",
      "/tmp/ipykernel_1282148/868147661.py:90: DeprecationWarning: DataFrameGroupBy.apply operated on the grouping columns. This behavior is deprecated, and in a future version of pandas the grouping columns will be excluded from the operation. Either pass `include_groups=False` to exclude the groupings or explicitly select the grouping columns after groupby to silence this warning.\n",
      "  gp = matches.groupby('match_id').apply(filter_by_player_and_ball_number)\n",
      "/tmp/ipykernel_1282148/868147661.py:90: DeprecationWarning: DataFrameGroupBy.apply operated on the grouping columns. This behavior is deprecated, and in a future version of pandas the grouping columns will be excluded from the operation. Either pass `include_groups=False` to exclude the groupings or explicitly select the grouping columns after groupby to silence this warning.\n",
      "  gp = matches.groupby('match_id').apply(filter_by_player_and_ball_number)\n",
      "/tmp/ipykernel_1282148/868147661.py:90: DeprecationWarning: DataFrameGroupBy.apply operated on the grouping columns. This behavior is deprecated, and in a future version of pandas the grouping columns will be excluded from the operation. Either pass `include_groups=False` to exclude the groupings or explicitly select the grouping columns after groupby to silence this warning.\n",
      "  gp = matches.groupby('match_id').apply(filter_by_player_and_ball_number)\n"
     ]
    },
    {
     "name": "stdout",
     "output_type": "stream",
     "text": [
      "Analyzing Player Arafat Sunny\n",
      "Analyzing Player TJ Murtagh\n",
      "Analyzing Player PJ Hughes\n",
      "Analyzing Player Saad Nasim\n",
      "Analyzing Player NJ Reardon\n",
      "Analyzing Player CJ Boyce\n"
     ]
    },
    {
     "name": "stderr",
     "output_type": "stream",
     "text": [
      "/tmp/ipykernel_1282148/868147661.py:90: DeprecationWarning: DataFrameGroupBy.apply operated on the grouping columns. This behavior is deprecated, and in a future version of pandas the grouping columns will be excluded from the operation. Either pass `include_groups=False` to exclude the groupings or explicitly select the grouping columns after groupby to silence this warning.\n",
      "  gp = matches.groupby('match_id').apply(filter_by_player_and_ball_number)\n",
      "/tmp/ipykernel_1282148/868147661.py:90: DeprecationWarning: DataFrameGroupBy.apply operated on the grouping columns. This behavior is deprecated, and in a future version of pandas the grouping columns will be excluded from the operation. Either pass `include_groups=False` to exclude the groupings or explicitly select the grouping columns after groupby to silence this warning.\n",
      "  gp = matches.groupby('match_id').apply(filter_by_player_and_ball_number)\n",
      "/tmp/ipykernel_1282148/868147661.py:90: DeprecationWarning: DataFrameGroupBy.apply operated on the grouping columns. This behavior is deprecated, and in a future version of pandas the grouping columns will be excluded from the operation. Either pass `include_groups=False` to exclude the groupings or explicitly select the grouping columns after groupby to silence this warning.\n",
      "  gp = matches.groupby('match_id').apply(filter_by_player_and_ball_number)\n",
      "/tmp/ipykernel_1282148/868147661.py:90: DeprecationWarning: DataFrameGroupBy.apply operated on the grouping columns. This behavior is deprecated, and in a future version of pandas the grouping columns will be excluded from the operation. Either pass `include_groups=False` to exclude the groupings or explicitly select the grouping columns after groupby to silence this warning.\n",
      "  gp = matches.groupby('match_id').apply(filter_by_player_and_ball_number)\n",
      "/tmp/ipykernel_1282148/868147661.py:90: DeprecationWarning: DataFrameGroupBy.apply operated on the grouping columns. This behavior is deprecated, and in a future version of pandas the grouping columns will be excluded from the operation. Either pass `include_groups=False` to exclude the groupings or explicitly select the grouping columns after groupby to silence this warning.\n",
      "  gp = matches.groupby('match_id').apply(filter_by_player_and_ball_number)\n"
     ]
    },
    {
     "name": "stdout",
     "output_type": "stream",
     "text": [
      "Analyzing Player GH Worker\n",
      "Analyzing Player AM Phangiso\n",
      "Analyzing Player Mukhtar Ahmed\n",
      "Analyzing Player Nauman Anwar\n",
      "Analyzing Player UT Khawaja\n"
     ]
    },
    {
     "name": "stderr",
     "output_type": "stream",
     "text": [
      "/tmp/ipykernel_1282148/868147661.py:90: DeprecationWarning: DataFrameGroupBy.apply operated on the grouping columns. This behavior is deprecated, and in a future version of pandas the grouping columns will be excluded from the operation. Either pass `include_groups=False` to exclude the groupings or explicitly select the grouping columns after groupby to silence this warning.\n",
      "  gp = matches.groupby('match_id').apply(filter_by_player_and_ball_number)\n",
      "/tmp/ipykernel_1282148/868147661.py:90: DeprecationWarning: DataFrameGroupBy.apply operated on the grouping columns. This behavior is deprecated, and in a future version of pandas the grouping columns will be excluded from the operation. Either pass `include_groups=False` to exclude the groupings or explicitly select the grouping columns after groupby to silence this warning.\n",
      "  gp = matches.groupby('match_id').apply(filter_by_player_and_ball_number)\n",
      "/tmp/ipykernel_1282148/868147661.py:90: DeprecationWarning: DataFrameGroupBy.apply operated on the grouping columns. This behavior is deprecated, and in a future version of pandas the grouping columns will be excluded from the operation. Either pass `include_groups=False` to exclude the groupings or explicitly select the grouping columns after groupby to silence this warning.\n",
      "  gp = matches.groupby('match_id').apply(filter_by_player_and_ball_number)\n",
      "/tmp/ipykernel_1282148/868147661.py:90: DeprecationWarning: DataFrameGroupBy.apply operated on the grouping columns. This behavior is deprecated, and in a future version of pandas the grouping columns will be excluded from the operation. Either pass `include_groups=False` to exclude the groupings or explicitly select the grouping columns after groupby to silence this warning.\n",
      "  gp = matches.groupby('match_id').apply(filter_by_player_and_ball_number)\n",
      "/tmp/ipykernel_1282148/868147661.py:90: DeprecationWarning: DataFrameGroupBy.apply operated on the grouping columns. This behavior is deprecated, and in a future version of pandas the grouping columns will be excluded from the operation. Either pass `include_groups=False` to exclude the groupings or explicitly select the grouping columns after groupby to silence this warning.\n",
      "  gp = matches.groupby('match_id').apply(filter_by_player_and_ball_number)\n"
     ]
    },
    {
     "name": "stdout",
     "output_type": "stream",
     "text": [
      "Analyzing Player PM Nevill\n",
      "Analyzing Player STR Binny\n",
      "Analyzing Player MM Sharma\n",
      "Analyzing Player Sandeep Sharma\n",
      "Analyzing Player Rafatullah Mohmand\n"
     ]
    },
    {
     "name": "stderr",
     "output_type": "stream",
     "text": [
      "/tmp/ipykernel_1282148/868147661.py:90: DeprecationWarning: DataFrameGroupBy.apply operated on the grouping columns. This behavior is deprecated, and in a future version of pandas the grouping columns will be excluded from the operation. Either pass `include_groups=False` to exclude the groupings or explicitly select the grouping columns after groupby to silence this warning.\n",
      "  gp = matches.groupby('match_id').apply(filter_by_player_and_ball_number)\n",
      "/tmp/ipykernel_1282148/868147661.py:90: DeprecationWarning: DataFrameGroupBy.apply operated on the grouping columns. This behavior is deprecated, and in a future version of pandas the grouping columns will be excluded from the operation. Either pass `include_groups=False` to exclude the groupings or explicitly select the grouping columns after groupby to silence this warning.\n",
      "  gp = matches.groupby('match_id').apply(filter_by_player_and_ball_number)\n",
      "/tmp/ipykernel_1282148/868147661.py:90: DeprecationWarning: DataFrameGroupBy.apply operated on the grouping columns. This behavior is deprecated, and in a future version of pandas the grouping columns will be excluded from the operation. Either pass `include_groups=False` to exclude the groupings or explicitly select the grouping columns after groupby to silence this warning.\n",
      "  gp = matches.groupby('match_id').apply(filter_by_player_and_ball_number)\n",
      "/tmp/ipykernel_1282148/868147661.py:90: DeprecationWarning: DataFrameGroupBy.apply operated on the grouping columns. This behavior is deprecated, and in a future version of pandas the grouping columns will be excluded from the operation. Either pass `include_groups=False` to exclude the groupings or explicitly select the grouping columns after groupby to silence this warning.\n",
      "  gp = matches.groupby('match_id').apply(filter_by_player_and_ball_number)\n",
      "/tmp/ipykernel_1282148/868147661.py:90: DeprecationWarning: DataFrameGroupBy.apply operated on the grouping columns. This behavior is deprecated, and in a future version of pandas the grouping columns will be excluded from the operation. Either pass `include_groups=False` to exclude the groupings or explicitly select the grouping columns after groupby to silence this warning.\n",
      "  gp = matches.groupby('match_id').apply(filter_by_player_and_ball_number)\n"
     ]
    },
    {
     "name": "stdout",
     "output_type": "stream",
     "text": [
      "Analyzing Player Imran Khan (1)\n",
      "Analyzing Player RLB Rambukwella\n",
      "Analyzing Player KMC Bandara\n",
      "Analyzing Player TB de Bruyn\n",
      "Analyzing Player ST de Silva\n",
      "Analyzing Player Shuvagata Hom\n"
     ]
    },
    {
     "name": "stderr",
     "output_type": "stream",
     "text": [
      "/tmp/ipykernel_1282148/868147661.py:90: DeprecationWarning: DataFrameGroupBy.apply operated on the grouping columns. This behavior is deprecated, and in a future version of pandas the grouping columns will be excluded from the operation. Either pass `include_groups=False` to exclude the groupings or explicitly select the grouping columns after groupby to silence this warning.\n",
      "  gp = matches.groupby('match_id').apply(filter_by_player_and_ball_number)\n",
      "/tmp/ipykernel_1282148/868147661.py:90: DeprecationWarning: DataFrameGroupBy.apply operated on the grouping columns. This behavior is deprecated, and in a future version of pandas the grouping columns will be excluded from the operation. Either pass `include_groups=False` to exclude the groupings or explicitly select the grouping columns after groupby to silence this warning.\n",
      "  gp = matches.groupby('match_id').apply(filter_by_player_and_ball_number)\n",
      "/tmp/ipykernel_1282148/868147661.py:90: DeprecationWarning: DataFrameGroupBy.apply operated on the grouping columns. This behavior is deprecated, and in a future version of pandas the grouping columns will be excluded from the operation. Either pass `include_groups=False` to exclude the groupings or explicitly select the grouping columns after groupby to silence this warning.\n",
      "  gp = matches.groupby('match_id').apply(filter_by_player_and_ball_number)\n",
      "/tmp/ipykernel_1282148/868147661.py:90: DeprecationWarning: DataFrameGroupBy.apply operated on the grouping columns. This behavior is deprecated, and in a future version of pandas the grouping columns will be excluded from the operation. Either pass `include_groups=False` to exclude the groupings or explicitly select the grouping columns after groupby to silence this warning.\n",
      "  gp = matches.groupby('match_id').apply(filter_by_player_and_ball_number)\n",
      "/tmp/ipykernel_1282148/868147661.py:90: DeprecationWarning: DataFrameGroupBy.apply operated on the grouping columns. This behavior is deprecated, and in a future version of pandas the grouping columns will be excluded from the operation. Either pass `include_groups=False` to exclude the groupings or explicitly select the grouping columns after groupby to silence this warning.\n",
      "  gp = matches.groupby('match_id').apply(filter_by_player_and_ball_number)\n"
     ]
    },
    {
     "name": "stdout",
     "output_type": "stream",
     "text": [
      "Analyzing Player Muktar Ali\n",
      "Analyzing Player Khurram Manzoor\n"
     ]
    }
   ],
   "source": [
    "# selected_batters = [\"PWH de Silva\",'KIC Asalanka','BKG Mendis',\"P Nissanka\",'PHKD Mendis','S Samarawickrama','AD Mathews','MD Shanaka','DM de Silva','M Theekshana','PVD Chameera','N Thushara','M Pathirana','D Madushanka']\n",
    "\n",
    "merged_df = pd.DataFrame()\n",
    "\n",
    "for player in data['batter'].unique():\n",
    "    print(\"Analyzing Player\", player)\n",
    "    \n",
    "    player_scores = getPlayerScores(player)\n",
    "    merged_df = pd.concat([merged_df, player_scores])\n",
    "\n",
    "merged_df.to_csv('merged_df_checkpoint.csv')"
   ]
  },
  {
   "cell_type": "code",
   "execution_count": 16,
   "metadata": {
    "scrolled": true
   },
   "outputs": [
    {
     "name": "stdout",
     "output_type": "stream",
     "text": [
      "<class 'pandas.core.frame.DataFrame'>\n",
      "RangeIndex: 14957 entries, 0 to 14956\n",
      "Data columns (total 27 columns):\n",
      " #   Column               Non-Null Count  Dtype  \n",
      "---  ------               --------------  -----  \n",
      " 0   index                14957 non-null  int64  \n",
      " 1   Unnamed: 0           14957 non-null  int64  \n",
      " 2   match_id             14957 non-null  object \n",
      " 3   batter               14957 non-null  object \n",
      " 4   batter_runs          14957 non-null  int64  \n",
      " 5   balls_faced          14957 non-null  int64  \n",
      " 6   wicket_type          14957 non-null  object \n",
      " 7   won                  14957 non-null  float64\n",
      " 8   innings              14957 non-null  int64  \n",
      " 9   wickets_fallen       14957 non-null  int64  \n",
      " 10  bowling_team         14957 non-null  object \n",
      " 11  batting_team         14957 non-null  object \n",
      " 12  venue                14957 non-null  object \n",
      " 13  toss_winner          14957 non-null  int64  \n",
      " 14  batter_type          14957 non-null  object \n",
      " 15  non_striker_type     14957 non-null  object \n",
      " 16  first_ball           14957 non-null  int64  \n",
      " 17  current_team_total   14957 non-null  int64  \n",
      " 18  strike_rate          14957 non-null  float64\n",
      " 19  out                  14957 non-null  bool   \n",
      " 20  last_ball            14957 non-null  int64  \n",
      " 21  Left arm Fast        14792 non-null  float64\n",
      " 22  Left arm Orthodox    14424 non-null  float64\n",
      " 23  Left arm Wrist spin  10637 non-null  float64\n",
      " 24  Right arm Fast       14945 non-null  float64\n",
      " 25  Right arm Legbreak   14332 non-null  float64\n",
      " 26  Right arm Offbreak   14567 non-null  float64\n",
      "dtypes: bool(1), float64(8), int64(10), object(8)\n",
      "memory usage: 3.0+ MB\n"
     ]
    }
   ],
   "source": [
    "import pandas as pd\n",
    "import numpy as np\n",
    "\n",
    "merged_df = pd.read_csv('merged_df_checkpoint.csv')\n",
    "merged_df.reset_index(inplace=True)\n",
    "merged_df.info()"
   ]
  },
  {
   "cell_type": "code",
   "execution_count": 17,
   "metadata": {},
   "outputs": [
    {
     "data": {
      "text/html": [
       "<div>\n",
       "<style scoped>\n",
       "    .dataframe tbody tr th:only-of-type {\n",
       "        vertical-align: middle;\n",
       "    }\n",
       "\n",
       "    .dataframe tbody tr th {\n",
       "        vertical-align: top;\n",
       "    }\n",
       "\n",
       "    .dataframe thead th {\n",
       "        text-align: right;\n",
       "    }\n",
       "</style>\n",
       "<table border=\"1\" class=\"dataframe\">\n",
       "  <thead>\n",
       "    <tr style=\"text-align: right;\">\n",
       "      <th></th>\n",
       "      <th>match_id</th>\n",
       "      <th>batter</th>\n",
       "      <th>batter_runs</th>\n",
       "      <th>balls_faced</th>\n",
       "      <th>wicket_type</th>\n",
       "      <th>won</th>\n",
       "      <th>innings</th>\n",
       "      <th>wickets_fallen</th>\n",
       "      <th>bowling_team</th>\n",
       "      <th>batting_team</th>\n",
       "      <th>...</th>\n",
       "      <th>current_team_total</th>\n",
       "      <th>strike_rate</th>\n",
       "      <th>out</th>\n",
       "      <th>last_ball</th>\n",
       "      <th>Left arm Fast</th>\n",
       "      <th>Left arm Orthodox</th>\n",
       "      <th>Left arm Wrist spin</th>\n",
       "      <th>Right arm Fast</th>\n",
       "      <th>Right arm Legbreak</th>\n",
       "      <th>Right arm Offbreak</th>\n",
       "    </tr>\n",
       "  </thead>\n",
       "  <tbody>\n",
       "    <tr>\n",
       "      <th>0</th>\n",
       "      <td>Australia_England_2011-01-12</td>\n",
       "      <td>AJ Finch</td>\n",
       "      <td>15</td>\n",
       "      <td>14</td>\n",
       "      <td>0</td>\n",
       "      <td>0.0</td>\n",
       "      <td>1</td>\n",
       "      <td>3</td>\n",
       "      <td>England</td>\n",
       "      <td>Australia</td>\n",
       "      <td>...</td>\n",
       "      <td>116</td>\n",
       "      <td>107.14</td>\n",
       "      <td>False</td>\n",
       "      <td>120</td>\n",
       "      <td>0.0</td>\n",
       "      <td>6.0</td>\n",
       "      <td>0.0</td>\n",
       "      <td>49.0</td>\n",
       "      <td>0.0</td>\n",
       "      <td>6.0</td>\n",
       "    </tr>\n",
       "    <tr>\n",
       "      <th>1</th>\n",
       "      <td>Australia_England_2011-01-14</td>\n",
       "      <td>AJ Finch</td>\n",
       "      <td>53</td>\n",
       "      <td>33</td>\n",
       "      <td>0</td>\n",
       "      <td>1.0</td>\n",
       "      <td>1</td>\n",
       "      <td>4</td>\n",
       "      <td>England</td>\n",
       "      <td>Australia</td>\n",
       "      <td>...</td>\n",
       "      <td>76</td>\n",
       "      <td>160.61</td>\n",
       "      <td>False</td>\n",
       "      <td>120</td>\n",
       "      <td>12.0</td>\n",
       "      <td>18.0</td>\n",
       "      <td>0.0</td>\n",
       "      <td>55.0</td>\n",
       "      <td>0.0</td>\n",
       "      <td>32.0</td>\n",
       "    </tr>\n",
       "    <tr>\n",
       "      <th>2</th>\n",
       "      <td>Australia_England_2014-01-29</td>\n",
       "      <td>AJ Finch</td>\n",
       "      <td>52</td>\n",
       "      <td>31</td>\n",
       "      <td>caught</td>\n",
       "      <td>1.0</td>\n",
       "      <td>1</td>\n",
       "      <td>0</td>\n",
       "      <td>England</td>\n",
       "      <td>Australia</td>\n",
       "      <td>...</td>\n",
       "      <td>3</td>\n",
       "      <td>167.74</td>\n",
       "      <td>True</td>\n",
       "      <td>64</td>\n",
       "      <td>0.0</td>\n",
       "      <td>27.0</td>\n",
       "      <td>0.0</td>\n",
       "      <td>180.0</td>\n",
       "      <td>25.0</td>\n",
       "      <td>17.0</td>\n",
       "    </tr>\n",
       "    <tr>\n",
       "      <th>3</th>\n",
       "      <td>Australia_England_2014-01-31</td>\n",
       "      <td>AJ Finch</td>\n",
       "      <td>10</td>\n",
       "      <td>11</td>\n",
       "      <td>lbw</td>\n",
       "      <td>1.0</td>\n",
       "      <td>2</td>\n",
       "      <td>0</td>\n",
       "      <td>England</td>\n",
       "      <td>Australia</td>\n",
       "      <td>...</td>\n",
       "      <td>0</td>\n",
       "      <td>90.91</td>\n",
       "      <td>True</td>\n",
       "      <td>31</td>\n",
       "      <td>24.0</td>\n",
       "      <td>0.0</td>\n",
       "      <td>0.0</td>\n",
       "      <td>101.0</td>\n",
       "      <td>38.0</td>\n",
       "      <td>29.0</td>\n",
       "    </tr>\n",
       "    <tr>\n",
       "      <th>4</th>\n",
       "      <td>Australia_England_2014-02-02</td>\n",
       "      <td>AJ Finch</td>\n",
       "      <td>30</td>\n",
       "      <td>21</td>\n",
       "      <td>caught</td>\n",
       "      <td>1.0</td>\n",
       "      <td>1</td>\n",
       "      <td>0</td>\n",
       "      <td>England</td>\n",
       "      <td>Australia</td>\n",
       "      <td>...</td>\n",
       "      <td>0</td>\n",
       "      <td>142.86</td>\n",
       "      <td>True</td>\n",
       "      <td>40</td>\n",
       "      <td>12.0</td>\n",
       "      <td>0.0</td>\n",
       "      <td>0.0</td>\n",
       "      <td>170.0</td>\n",
       "      <td>12.0</td>\n",
       "      <td>30.0</td>\n",
       "    </tr>\n",
       "  </tbody>\n",
       "</table>\n",
       "<p>5 rows × 25 columns</p>\n",
       "</div>"
      ],
      "text/plain": [
       "                       match_id    batter  batter_runs  balls_faced  \\\n",
       "0  Australia_England_2011-01-12  AJ Finch           15           14   \n",
       "1  Australia_England_2011-01-14  AJ Finch           53           33   \n",
       "2  Australia_England_2014-01-29  AJ Finch           52           31   \n",
       "3  Australia_England_2014-01-31  AJ Finch           10           11   \n",
       "4  Australia_England_2014-02-02  AJ Finch           30           21   \n",
       "\n",
       "  wicket_type  won  innings  wickets_fallen bowling_team batting_team  ...  \\\n",
       "0           0  0.0        1               3      England    Australia  ...   \n",
       "1           0  1.0        1               4      England    Australia  ...   \n",
       "2      caught  1.0        1               0      England    Australia  ...   \n",
       "3         lbw  1.0        2               0      England    Australia  ...   \n",
       "4      caught  1.0        1               0      England    Australia  ...   \n",
       "\n",
       "  current_team_total  strike_rate    out last_ball  Left arm Fast  \\\n",
       "0                116       107.14  False       120            0.0   \n",
       "1                 76       160.61  False       120           12.0   \n",
       "2                  3       167.74   True        64            0.0   \n",
       "3                  0        90.91   True        31           24.0   \n",
       "4                  0       142.86   True        40           12.0   \n",
       "\n",
       "   Left arm Orthodox  Left arm Wrist spin  Right arm Fast  Right arm Legbreak  \\\n",
       "0                6.0                  0.0            49.0                 0.0   \n",
       "1               18.0                  0.0            55.0                 0.0   \n",
       "2               27.0                  0.0           180.0                25.0   \n",
       "3                0.0                  0.0           101.0                38.0   \n",
       "4                0.0                  0.0           170.0                12.0   \n",
       "\n",
       "   Right arm Offbreak  \n",
       "0                 6.0  \n",
       "1                32.0  \n",
       "2                17.0  \n",
       "3                29.0  \n",
       "4                30.0  \n",
       "\n",
       "[5 rows x 25 columns]"
      ]
     },
     "execution_count": 17,
     "metadata": {},
     "output_type": "execute_result"
    }
   ],
   "source": [
    "merged_df.drop(['index','Unnamed: 0'], axis = 1, inplace = True)\n",
    "merged_df.head()"
   ]
  },
  {
   "cell_type": "code",
   "execution_count": 36,
   "metadata": {},
   "outputs": [],
   "source": [
    "# Drop all the records of lower order batsman (6 down and onwards)\n",
    "merged_df = merged_df[merged_df['wickets_fallen'] < 6]\n",
    "\n",
    "# Drop all the records of opening batsmen\n",
    "merged_df = merged_df[merged_df['wickets_fallen'] != 0]\n",
    "\n",
    "merged_df.reset_index(drop=True, inplace=True)"
   ]
  },
  {
   "cell_type": "markdown",
   "metadata": {},
   "source": [
    "Split train and test data set (By Stratifying according to runs scored)"
   ]
  },
  {
   "cell_type": "code",
   "execution_count": 37,
   "metadata": {},
   "outputs": [
    {
     "data": {
      "text/plain": [
       "<Axes: >"
      ]
     },
     "execution_count": 37,
     "metadata": {},
     "output_type": "execute_result"
    },
    {
     "data": {
      "image/png": "[encoded data removed]",
      "text/plain": [
       "<Figure size 640x480 with 1 Axes>"
      ]
     },
     "metadata": {},
     "output_type": "display_data"
    }
   ],
   "source": [
    "merged_df['batter_runs_cat'] = pd.cut(merged_df['batter_runs'], bins = [-1, 4, 15, 30, np.inf], labels = ['0-4', '5-15', '15-30', '30+'])\n",
    "merged_df['batter_runs_cat'].hist()"
   ]
  },
  {
   "cell_type": "code",
   "execution_count": 38,
   "metadata": {},
   "outputs": [
    {
     "name": "stdout",
     "output_type": "stream",
     "text": [
      "batter_runs_cat\n",
      "5-15     0.311111\n",
      "0-4      0.246246\n",
      "15-30    0.232432\n",
      "30+      0.210210\n",
      "Name: count, dtype: float64\n"
     ]
    }
   ],
   "source": [
    "from sklearn.model_selection import StratifiedShuffleSplit\n",
    "\n",
    "# Split Train Test Data Sets\n",
    "split = StratifiedShuffleSplit(n_splits=1, test_size=0.2, random_state = 42);\n",
    "for train_index, test_index in split.split(merged_df, merged_df['batter_runs_cat']):\n",
    "    strat_train_set = merged_df.loc[train_index]\n",
    "    strat_test_set = merged_df.loc[test_index]\n",
    "\n",
    "print(strat_test_set['batter_runs_cat'].value_counts() / len(strat_test_set));\n",
    "\n",
    "# Drop the categorical column used for strat\n",
    "for set_ in (strat_test_set, strat_train_set):\n",
    "    set_.drop('batter_runs_cat', axis = 1, inplace = True)\n",
    "\n",
    "\n",
    "strat_train_set.to_csv(\"strat_train_set.csv\")\n",
    "strat_test_set.to_csv(\"strat_test_set.csv\")"
   ]
  },
  {
   "cell_type": "markdown",
   "metadata": {},
   "source": [
    "## Attach the bowler type data to the dataset"
   ]
  },
  {
   "cell_type": "code",
   "execution_count": 39,
   "metadata": {},
   "outputs": [
    {
     "name": "stderr",
     "output_type": "stream",
     "text": [
      "/tmp/ipykernel_1310566/978985555.py:90: DeprecationWarning: DataFrameGroupBy.apply operated on the grouping columns. This behavior is deprecated, and in a future version of pandas the grouping columns will be excluded from the operation. Either pass `include_groups=False` to exclude the groupings or explicitly select the grouping columns after groupby to silence this warning.\n",
      "  result = gp.apply(attach_bowler_type_stats);\n",
      "/tmp/ipykernel_1310566/978985555.py:95: DeprecationWarning: DataFrameGroupBy.apply operated on the grouping columns. This behavior is deprecated, and in a future version of pandas the grouping columns will be excluded from the operation. Either pass `include_groups=False` to exclude the groupings or explicitly select the grouping columns after groupby to silence this warning.\n",
      "  result = gp.apply(attach_bowler_type_stats);\n"
     ]
    }
   ],
   "source": [
    "def get_player_v_bowlers(player_name: str, match_ids, innings=[1, 2], ) -> pd.DataFrame:\n",
    "    player_data = data.loc[\n",
    "        (data['batter'] == player_name) & (data['innings'].isin(\n",
    "            innings)) & (data['match_id'].isin(match_ids))\n",
    "    ]\n",
    "\n",
    "    player_data.head()\n",
    "\n",
    "    # Convert all medium bowlers to fast\n",
    "    player_data.loc[player_data['bowler_type'] ==\n",
    "                    'Left arm Medium', 'bowler_type'] = 'Left arm Fast'\n",
    "    player_data.loc[player_data['bowler_type'] ==\n",
    "                    'Right arm Medium', 'bowler_type'] = 'Right arm Fast'\n",
    "\n",
    "    player_data['out'] = (player_data['wicket_type'] != '0') & (\n",
    "        player_data['wicket_type'] != 'run out')\n",
    "\n",
    "    cols = ['batter', 'non_striker', 'runs_by_bat', 'out',\n",
    "            'won', 'innings', 'over', 'delivery', 'bowler_type']\n",
    "    player_data = player_data[cols]\n",
    "\n",
    "    gp = player_data.groupby('bowler_type')\n",
    "\n",
    "    player_v_bowler = pd.DataFrame()\n",
    "    player_v_bowler['strike_rate'] = round(gp['runs_by_bat'].mean() * 100, 3)\n",
    "    player_v_bowler['strike_rate_std'] = gp['runs_by_bat'].std()\n",
    "    player_v_bowler['wickets'] = gp['out'].sum()\n",
    "    player_v_bowler['deliveries_per_wicket'] = round(1 / gp['out'].mean(), 3)\n",
    "    player_v_bowler['deliveries'] = gp.size()\n",
    "    return player_v_bowler\n",
    "\n",
    "\n",
    "# for player in data['batter'].unique():\n",
    "\n",
    "#     # Attaching the player_v_bowler results to this dataset\n",
    "#     print(f\"Updating {player}...\")\n",
    "#     print(strat_train_set[strat_train_set['batter' == player]]);\n",
    "#     player_scores = strat_train_set[strat_train_set['batter' == player]]\n",
    "\n",
    "#     player_vs_bowler = get_player_v_bowlers(player_name, player_scores.index)\n",
    "\n",
    "#     bowler_types = ['Left arm Fast', 'Right arm Fast', 'Left arm Orthodox',\n",
    "#                     'Left arm Wrist spin', 'Right arm Legbreak', 'Right arm Offbreak']\n",
    "#     for bowler_type in bowler_types:\n",
    "#         if bowler_type in player_vs_bowler.index:\n",
    "#             player_scores[f'{bowler_type} Expected Runs'] = player_vs_bowler.loc[bowler_type,\n",
    "#                                                                                  'strike_rate'] / 100 * player_scores[bowler_type]\n",
    "#             player_scores[f'{bowler_type} Expected Wickets'] = player_scores[bowler_type] / \\\n",
    "#                 player_vs_bowler.loc[bowler_type, 'deliveries_per_wicket']\n",
    "#             player_scores[f'{bowler_type} Strike Rate'] = player_vs_bowler.loc[bowler_type, 'strike_rate']\n",
    "#             player_scores[f'{bowler_type} Deliveries Per Wicket'] = player_vs_bowler.loc[bowler_type,\n",
    "#                                                                                      'deliveries_per_wicket']\n",
    "#         else:\n",
    "#             player_scores[bowler_type] = 0\n",
    "#             player_scores[f'{bowler_type} Expected Runs'] = 0\n",
    "#             player_scores[f'{bowler_type} Expected Wickets'] = 0\n",
    "#             player_scores[f'{bowler_type} Strike Rate'] = 0\n",
    "#             player_scores[f'{bowler_type} Deliveries Per Wicket'] = 0\n",
    "\n",
    "#     # strat_train_set.update(player_scores)\n",
    "\n",
    "match_ids_in_train_set = strat_train_set['match_id']\n",
    "def attach_bowler_type_stats(player_scores):\n",
    "    \n",
    "    player_name = player_scores['batter'].iloc[0]\n",
    "    player_vs_bowler = get_player_v_bowlers(player_name, match_ids = match_ids_in_train_set);\n",
    "    \n",
    "    bowler_types = ['Left arm Fast', 'Right arm Fast', 'Left arm Orthodox',\n",
    "                    'Left arm Wrist spin', 'Right arm Legbreak', 'Right arm Offbreak']\n",
    "    for bowler_type in bowler_types:\n",
    "        if bowler_type in player_vs_bowler.index:\n",
    "            player_scores[f'{bowler_type} Expected Runs'] = player_vs_bowler.loc[bowler_type,\n",
    "                                                                                 'strike_rate'] / 100 * player_scores[bowler_type]\n",
    "            player_scores[f'{bowler_type} Expected Wickets'] = player_scores[bowler_type] / \\\n",
    "                player_vs_bowler.loc[bowler_type, 'deliveries_per_wicket']\n",
    "            player_scores[f'{bowler_type} Strike Rate'] = player_vs_bowler.loc[bowler_type, 'strike_rate']\n",
    "            player_scores[f'{bowler_type} Deliveries Per Wicket'] = player_vs_bowler.loc[bowler_type,\n",
    "                                                                                     'deliveries_per_wicket']\n",
    "        else:\n",
    "            player_scores[bowler_type] = 0\n",
    "            player_scores[f'{bowler_type} Expected Runs'] = 0\n",
    "            player_scores[f'{bowler_type} Expected Wickets'] = 0\n",
    "            player_scores[f'{bowler_type} Strike Rate'] = 0\n",
    "            player_scores[f'{bowler_type} Deliveries Per Wicket'] = 0\n",
    "            \n",
    "    return player_scores\n",
    "\n",
    " # Appending bowler type data to the training set   \n",
    "gp = strat_train_set.groupby('batter')\n",
    "result = gp.apply(attach_bowler_type_stats);\n",
    "\n",
    "strat_train_set = result.reset_index(drop=True)\n",
    "\n",
    "# Appending the bowler type data to the testing set -> Only the training summaries are used (test set averages, strikerates are not used)\n",
    "result = gp.apply(attach_bowler_type_stats);\n",
    "strat_test_set = result.reset_index(drop=True)\n",
    "\n",
    "# Saving checkpoint\n",
    "strat_train_set.to_csv(\"strat_train_set.csv\")\n",
    "strat_test_set.to_csv(\"strat_test_set.csv\")"
   ]
  },
  {
   "cell_type": "code",
   "execution_count": 40,
   "metadata": {},
   "outputs": [],
   "source": [
    "# Additional Features Experimenting\n",
    "\n",
    "# bowler_types = ['Left arm Fast', 'Right arm Fast', 'Left arm Orthodox', 'Left arm Wrist spin', 'Right arm Legbreak', 'Right arm Offbreak']\n",
    "# bowler_types_expected_wickets_cols = [bowler_type + \" Expected Wickets\" for bowler_type in bowler_types]\n",
    "# bowler_types_expected_runs_cols = [bowler_type + \" Expected Runs\" for bowler_type in bowler_types]\n",
    "\n",
    "# strat_train_set['expected_wickets'] = strat_train_set.loc[:, bowler_types_expected_wickets_cols].sum(axis=1)\n",
    "# strat_train_set['expected_runs'] = strat_train_set.loc[:, bowler_types_expected_runs_cols].sum(axis=1)\n",
    "# strat_train_set['expected_runs'] = strat_train_set['expected_runs'] / np.sqrt(strat_train_set['expected_wickets']) \n",
    "\n",
    "# strat_test_set['expected_wickets'] = strat_test_set.loc[:, bowler_types_expected_wickets_cols].sum(axis=1)\n",
    "# strat_test_set['expected_runs'] = strat_test_set.loc[:, bowler_types_expected_runs_cols].sum(axis=1)\n",
    "# strat_test_set['expected_runs'] = strat_test_set['expected_runs'] / np.sqrt(strat_test_set['expected_wickets'])\n",
    "\n",
    "\n",
    "# print(strat_train_set.loc[:, ['batter_runs', 'expected_runs']].corr())\n",
    "# strat_train_set.loc[:, ['batter_runs', 'expected_runs']]"
   ]
  },
  {
   "cell_type": "code",
   "execution_count": 40,
   "metadata": {},
   "outputs": [],
   "source": [
    "# Remove the columns that cannot be known by the ongoing match state\n",
    "# Example: The out or wicket type is not known during the match\n",
    "strat_test_set.drop(['wicket_type', 'out', 'match_id', 'won'], axis = 1, inplace = True)\n",
    "strat_train_set.drop(['wicket_type', 'out', 'match_id', 'won'], axis = 1, inplace = True)\n"
   ]
  },
  {
   "cell_type": "code",
   "execution_count": 41,
   "metadata": {},
   "outputs": [],
   "source": [
    "# fill 0 for NaN\n",
    "strat_test_set.fillna(value=0, inplace=True)\n",
    "strat_train_set.fillna(value=0, inplace=True)\n",
    "# Saving checkpoint\n",
    "strat_train_set.to_csv(\"strat_train_set.csv\")\n",
    "strat_test_set.to_csv(\"strat_test_set.csv\")"
   ]
  },
  {
   "cell_type": "code",
   "execution_count": 2,
   "metadata": {},
   "outputs": [],
   "source": [
    "import pandas as pd\n",
    "import numpy as np\n",
    "\n",
    "strat_train_set = pd.read_csv('strat_train_set.csv');\n",
    "\n",
    "# Possible Targets: But we'll be only concerned with the number of runs scored for now\n",
    "targets = ['batter_runs', 'balls_faced', 'last_ball', 'strike_rate']\n",
    "\n",
    "\n",
    "# Match State -> Only data available in a given moment of a match. This will be the input\n",
    "X = strat_train_set.drop(targets, axis=1)\n",
    "y = strat_train_set['batter_runs']\n",
    "\n",
    "# Replace infinity values by a high constant value\n",
    "# These occured at deliveries per wicket column\n",
    "# So infinity can be thought as the batsman never getting out\n",
    "# i.e 120 balls faced, hence replacing inf with 120\n",
    "X.replace([np.inf], 120, inplace=True);\n",
    "\n",
    "# Preprocess the data\n",
    "X_processed = pd.get_dummies(data=X,dtype=int)"
   ]
  },
  {
   "cell_type": "code",
   "execution_count": 3,
   "metadata": {},
   "outputs": [
    {
     "name": "stdout",
     "output_type": "stream",
     "text": [
      "<class 'pandas.core.frame.DataFrame'>\n",
      "RangeIndex: 6658 entries, 0 to 6657\n",
      "Columns: 809 entries, Unnamed: 0 to non_striker_type_Right hand Bat\n",
      "dtypes: float64(30), int64(779)\n",
      "memory usage: 41.1 MB\n"
     ]
    }
   ],
   "source": [
    "X_processed.info()"
   ]
  },
  {
   "cell_type": "code",
   "execution_count": 4,
   "metadata": {},
   "outputs": [
    {
     "data": {
      "text/plain": [
       "Index(['batter', 'innings', 'wickets_fallen', 'bowling_team', 'batting_team',\n",
       "       'venue', 'toss_winner', 'batter_type', 'non_striker_type', 'first_ball',\n",
       "       'current_team_total', 'Left arm Fast', 'Left arm Orthodox',\n",
       "       'Left arm Wrist spin', 'Right arm Fast', 'Right arm Legbreak',\n",
       "       'Right arm Offbreak', 'Left arm Fast Expected Runs',\n",
       "       'Left arm Fast Expected Wickets', 'Left arm Fast Strike Rate',\n",
       "       'Left arm Fast Deliveries Per Wicket', 'Right arm Fast Expected Runs',\n",
       "       'Right arm Fast Expected Wickets', 'Right arm Fast Strike Rate',\n",
       "       'Right arm Fast Deliveries Per Wicket',\n",
       "       'Left arm Orthodox Expected Runs', 'Left arm Orthodox Expected Wickets',\n",
       "       'Left arm Orthodox Strike Rate',\n",
       "       'Left arm Orthodox Deliveries Per Wicket',\n",
       "       'Left arm Wrist spin Expected Runs',\n",
       "       'Left arm Wrist spin Expected Wickets',\n",
       "       'Left arm Wrist spin Strike Rate',\n",
       "       'Left arm Wrist spin Deliveries Per Wicket',\n",
       "       'Right arm Legbreak Expected Runs',\n",
       "       'Right arm Legbreak Expected Wickets', 'Right arm Legbreak Strike Rate',\n",
       "       'Right arm Legbreak Deliveries Per Wicket',\n",
       "       'Right arm Offbreak Expected Runs',\n",
       "       'Right arm Offbreak Expected Wickets', 'Right arm Offbreak Strike Rate',\n",
       "       'Right arm Offbreak Deliveries Per Wicket'],\n",
       "      dtype='object')"
      ]
     },
     "execution_count": 4,
     "metadata": {},
     "output_type": "execute_result"
    }
   ],
   "source": [
    "X.drop('Unnamed: 0', inplace=True, axis=1)\n",
    "X.columns"
   ]
  },
  {
   "cell_type": "code",
   "execution_count": 33,
   "metadata": {},
   "outputs": [],
   "source": [
    "def display_scores(scores):\n",
    "    print(\"Scores: \", scores)\n",
    "    print(\"Mean: \", scores.mean())\n",
    "    print(\"Standard Deviation: \", scores.std())"
   ]
  },
  {
   "cell_type": "markdown",
   "metadata": {},
   "source": [
    "# Cross Validation (Train Set)\n",
    "Baseline model without any hyperparameter tuning or complex feature engineering"
   ]
  },
  {
   "cell_type": "code",
   "execution_count": 46,
   "metadata": {},
   "outputs": [
    {
     "name": "stdout",
     "output_type": "stream",
     "text": [
      "Scores:  [14.60794089 18.45218013 18.19319807 16.62477952 18.36302365 17.42231983\n",
      " 16.16974018 18.54359487 17.91199267 18.14445765]\n",
      "Mean:  17.4433227451809\n",
      "Standard Deviation:  1.2115961930048422\n"
     ]
    }
   ],
   "source": [
    "from sklearn.ensemble import RandomForestRegressor\n",
    "from sklearn.model_selection import cross_val_score\n",
    "\n",
    "forest_reg = RandomForestRegressor(random_state=42)\n",
    "scores = cross_val_score(forest_reg, X_processed, y, scoring=\"neg_mean_squared_error\", cv = 10)\n",
    "\n",
    "\n",
    "display_scores(np.sqrt(-scores))"
   ]
  },
  {
   "cell_type": "markdown",
   "metadata": {},
   "source": [
    "The random forest regressor gives a good result compared to the earlier models tested. \\\n",
    "The mean rmse is 8.33, which means that if the model predicts that the batsman will score 20, the average error will be in 8 runs width so it can be either 28 or 12"
   ]
  },
  {
   "cell_type": "markdown",
   "metadata": {},
   "source": [
    "### GradientBoosting Model"
   ]
  },
  {
   "cell_type": "code",
   "execution_count": 45,
   "metadata": {},
   "outputs": [
    {
     "name": "stdout",
     "output_type": "stream",
     "text": [
      "Root Mean Squared Error (RMSE): 16.85\n"
     ]
    }
   ],
   "source": [
    "import pandas as pd\n",
    "from sklearn.model_selection import train_test_split\n",
    "from sklearn.ensemble import GradientBoostingRegressor\n",
    "\n",
    "\n",
    "# Split data into training and validating sets\n",
    "X_train, X_val, y_train, y_val = train_test_split(X_processed, y, test_size=0.2, random_state=42)\n",
    "\n",
    "model = GradientBoostingRegressor(n_estimators=100, random_state=42)\n",
    "\n",
    "# Train the model\n",
    "model.fit(X_train, y_train)\n",
    "\n",
    "# Make predictions on the test set\n",
    "y_pred = model.predict(X_val)\n",
    "\n",
    "# Evaluate model performance\n",
    "from sklearn.metrics import mean_squared_error\n",
    "rmse = np.sqrt(mean_squared_error(y_val, y_pred))\n",
    "print(f\"Root Mean Squared Error (RMSE): {rmse:.2f}\")"
   ]
  },
  {
   "cell_type": "code",
   "execution_count": 47,
   "metadata": {},
   "outputs": [
    {
     "data": {
      "image/png": "[encoded data removed]",
      "text/plain": [
       "<Figure size 1000x600 with 1 Axes>"
      ]
     },
     "metadata": {},
     "output_type": "display_data"
    }
   ],
   "source": [
    "import matplotlib.pyplot as plt\n",
    "\n",
    "plt.figure(figsize=(10, 6))\n",
    "plt.scatter(y_val, y_pred, alpha=0.7, label='Predicted vs. Actual')\n",
    "plt.xlabel('Actual Target Values')\n",
    "plt.ylabel('Predicted Target Values')\n",
    "plt.title('Validation Set - Predicted vs. Actual Values')\n",
    "plt.legend()\n",
    "plt.grid(True)\n",
    "plt.show()"
   ]
  },
  {
   "cell_type": "markdown",
   "metadata": {},
   "source": [
    "### XGBoost"
   ]
  },
  {
   "cell_type": "code",
   "execution_count": 48,
   "metadata": {},
   "outputs": [
    {
     "name": "stdout",
     "output_type": "stream",
     "text": [
      "Root Mean Squared Error (RMSE): 17.94\n"
     ]
    }
   ],
   "source": [
    "import pandas as pd\n",
    "from sklearn.model_selection import train_test_split\n",
    "from xgboost import XGBRegressor\n",
    "\n",
    "# Split data into training and testing sets\n",
    "X_train, X_test, y_train, y_test = train_test_split(X_processed, y, test_size=0.2, random_state=42)\n",
    "\n",
    "model = XGBRegressor(random_state=42)\n",
    "\n",
    "# Train the model\n",
    "model.fit(X_train, y_train)\n",
    "\n",
    "# Make predictions on the test set\n",
    "y_pred = model.predict(X_test)\n",
    "\n",
    "# Evaluate model performance\n",
    "from sklearn.metrics import mean_squared_error\n",
    "rmse = np.sqrt(mean_squared_error(y_test, y_pred))\n",
    "print(f\"Root Mean Squared Error (RMSE): {rmse:.2f}\")"
   ]
  },
  {
   "cell_type": "markdown",
   "metadata": {},
   "source": [
    "### Deep NN"
   ]
  },
  {
   "cell_type": "code",
   "execution_count": 10,
   "metadata": {},
   "outputs": [
    {
     "name": "stdout",
     "output_type": "stream",
     "text": [
      "Epoch 1/100\n",
      "300/300 [==============================] - 5s 13ms/step - loss: 525.7346 - val_loss: 812.1312\n",
      "Epoch 2/100\n",
      "300/300 [==============================] - 4s 12ms/step - loss: 367.6661 - val_loss: 347.5015\n",
      "Epoch 3/100\n",
      "300/300 [==============================] - 3s 11ms/step - loss: 347.5027 - val_loss: 342.1517\n",
      "Epoch 4/100\n",
      "300/300 [==============================] - 3s 11ms/step - loss: 333.9038 - val_loss: 355.2978\n",
      "Epoch 5/100\n",
      "300/300 [==============================] - 3s 11ms/step - loss: 329.5605 - val_loss: 331.0279\n",
      "Epoch 6/100\n",
      "300/300 [==============================] - 3s 11ms/step - loss: 332.9339 - val_loss: 338.1597\n",
      "Epoch 7/100\n",
      "300/300 [==============================] - 3s 12ms/step - loss: 327.6294 - val_loss: 329.6011\n",
      "Epoch 8/100\n",
      "300/300 [==============================] - 3s 11ms/step - loss: 322.7045 - val_loss: 341.2361\n",
      "Epoch 9/100\n",
      "300/300 [==============================] - 3s 11ms/step - loss: 331.1420 - val_loss: 332.1675\n",
      "Epoch 10/100\n",
      "300/300 [==============================] - 3s 11ms/step - loss: 324.8242 - val_loss: 330.4782\n",
      "Epoch 11/100\n",
      "300/300 [==============================] - 3s 11ms/step - loss: 321.9566 - val_loss: 349.6795\n",
      "Epoch 12/100\n",
      "300/300 [==============================] - 3s 11ms/step - loss: 321.8502 - val_loss: 337.7602\n",
      "Epoch 13/100\n",
      "300/300 [==============================] - 4s 12ms/step - loss: 320.7680 - val_loss: 334.2632\n",
      "Epoch 14/100\n",
      "300/300 [==============================] - 4s 12ms/step - loss: 320.3119 - val_loss: 356.1371\n",
      "Epoch 15/100\n",
      "300/300 [==============================] - 3s 10ms/step - loss: 317.6143 - val_loss: 332.1398\n",
      "Epoch 16/100\n",
      "300/300 [==============================] - 3s 10ms/step - loss: 319.9117 - val_loss: 324.5549\n",
      "Epoch 17/100\n",
      "300/300 [==============================] - 3s 11ms/step - loss: 317.9723 - val_loss: 327.1108\n",
      "Epoch 18/100\n",
      "300/300 [==============================] - 4s 12ms/step - loss: 321.4729 - val_loss: 326.8097\n",
      "Epoch 19/100\n",
      "300/300 [==============================] - 4s 14ms/step - loss: 313.6747 - val_loss: 326.5482\n",
      "Epoch 20/100\n",
      "300/300 [==============================] - 4s 12ms/step - loss: 313.9036 - val_loss: 332.5319\n",
      "Epoch 21/100\n",
      "300/300 [==============================] - 4s 12ms/step - loss: 321.6214 - val_loss: 329.1487\n",
      "Epoch 22/100\n",
      "300/300 [==============================] - 3s 11ms/step - loss: 316.0343 - val_loss: 325.2953\n",
      "Epoch 23/100\n",
      "300/300 [==============================] - 4s 13ms/step - loss: 312.1114 - val_loss: 355.1642\n",
      "Epoch 24/100\n",
      "300/300 [==============================] - 3s 10ms/step - loss: 311.6835 - val_loss: 335.9624\n",
      "Epoch 25/100\n",
      "300/300 [==============================] - 4s 12ms/step - loss: 313.0461 - val_loss: 333.1535\n",
      "Epoch 26/100\n",
      "300/300 [==============================] - 3s 11ms/step - loss: 314.9139 - val_loss: 327.8106\n",
      "Epoch 27/100\n",
      "300/300 [==============================] - 3s 12ms/step - loss: 309.7246 - val_loss: 325.7752\n",
      "Epoch 28/100\n",
      "300/300 [==============================] - 4s 13ms/step - loss: 312.8742 - val_loss: 328.0304\n",
      "Epoch 29/100\n",
      "300/300 [==============================] - 4s 12ms/step - loss: 309.3583 - val_loss: 329.3449\n",
      "Epoch 30/100\n",
      "300/300 [==============================] - 3s 11ms/step - loss: 307.6728 - val_loss: 326.3785\n",
      "Epoch 31/100\n",
      "300/300 [==============================] - 4s 12ms/step - loss: 308.5276 - val_loss: 324.4681\n",
      "Epoch 32/100\n",
      "300/300 [==============================] - 4s 12ms/step - loss: 308.7741 - val_loss: 331.6582\n",
      "Epoch 33/100\n",
      "300/300 [==============================] - 3s 11ms/step - loss: 312.0873 - val_loss: 329.4183\n",
      "Epoch 34/100\n",
      "300/300 [==============================] - 3s 11ms/step - loss: 307.4493 - val_loss: 325.0141\n",
      "Epoch 35/100\n",
      "300/300 [==============================] - 3s 11ms/step - loss: 306.4730 - val_loss: 322.5563\n",
      "Epoch 36/100\n",
      "300/300 [==============================] - 3s 11ms/step - loss: 306.5160 - val_loss: 339.5624\n",
      "Epoch 37/100\n",
      "300/300 [==============================] - 3s 12ms/step - loss: 310.1873 - val_loss: 324.5184\n",
      "Epoch 38/100\n",
      "300/300 [==============================] - 4s 12ms/step - loss: 306.1010 - val_loss: 332.5079\n",
      "Epoch 39/100\n",
      "300/300 [==============================] - 4s 12ms/step - loss: 306.0287 - val_loss: 326.6754\n",
      "Epoch 40/100\n",
      "300/300 [==============================] - 4s 12ms/step - loss: 304.3254 - val_loss: 327.6841\n",
      "Epoch 41/100\n",
      "300/300 [==============================] - 3s 11ms/step - loss: 303.2899 - val_loss: 323.0252\n",
      "Epoch 42/100\n",
      "300/300 [==============================] - 3s 11ms/step - loss: 304.7250 - val_loss: 337.1792\n",
      "Epoch 43/100\n",
      "300/300 [==============================] - 4s 12ms/step - loss: 303.6765 - val_loss: 326.4093\n",
      "Epoch 44/100\n",
      "300/300 [==============================] - 4s 13ms/step - loss: 301.7094 - val_loss: 355.7102\n",
      "Epoch 45/100\n",
      "300/300 [==============================] - 4s 13ms/step - loss: 301.0587 - val_loss: 331.9894\n",
      "Epoch 46/100\n",
      "300/300 [==============================] - 4s 12ms/step - loss: 305.3792 - val_loss: 337.9711\n",
      "Epoch 47/100\n",
      "300/300 [==============================] - 4s 12ms/step - loss: 299.4011 - val_loss: 335.7028\n",
      "Epoch 48/100\n",
      "300/300 [==============================] - 4s 12ms/step - loss: 302.6490 - val_loss: 333.9749\n",
      "Epoch 49/100\n",
      "300/300 [==============================] - 3s 11ms/step - loss: 301.6106 - val_loss: 353.9208\n",
      "Epoch 50/100\n",
      "300/300 [==============================] - 4s 12ms/step - loss: 299.1218 - val_loss: 343.5942\n",
      "Epoch 51/100\n",
      "300/300 [==============================] - 4s 12ms/step - loss: 299.2119 - val_loss: 330.7581\n",
      "Epoch 52/100\n",
      "300/300 [==============================] - 4s 12ms/step - loss: 297.8194 - val_loss: 333.4371\n",
      "Epoch 53/100\n",
      "300/300 [==============================] - 4s 12ms/step - loss: 298.9307 - val_loss: 326.9198\n",
      "Epoch 54/100\n",
      "300/300 [==============================] - 4s 12ms/step - loss: 295.0251 - val_loss: 332.8556\n",
      "Epoch 55/100\n",
      "300/300 [==============================] - 3s 11ms/step - loss: 296.7478 - val_loss: 329.6797\n",
      "Epoch 56/100\n",
      "300/300 [==============================] - 3s 10ms/step - loss: 296.5176 - val_loss: 331.0357\n",
      "Epoch 57/100\n",
      "300/300 [==============================] - 3s 11ms/step - loss: 295.9262 - val_loss: 332.6757\n",
      "Epoch 58/100\n",
      "300/300 [==============================] - 3s 11ms/step - loss: 293.0993 - val_loss: 331.0288\n",
      "Epoch 59/100\n",
      "300/300 [==============================] - 3s 11ms/step - loss: 295.5385 - val_loss: 329.7409\n",
      "Epoch 60/100\n",
      "300/300 [==============================] - 3s 12ms/step - loss: 295.6711 - val_loss: 332.7285\n",
      "Epoch 61/100\n",
      "300/300 [==============================] - 3s 10ms/step - loss: 293.9535 - val_loss: 326.7231\n",
      "Epoch 62/100\n",
      "300/300 [==============================] - 3s 11ms/step - loss: 291.5356 - val_loss: 339.3832\n",
      "Epoch 63/100\n",
      "300/300 [==============================] - 4s 12ms/step - loss: 289.5595 - val_loss: 335.8810\n",
      "Epoch 64/100\n",
      "300/300 [==============================] - 3s 11ms/step - loss: 290.8377 - val_loss: 332.0630\n",
      "Epoch 65/100\n",
      "300/300 [==============================] - 4s 13ms/step - loss: 288.6294 - val_loss: 338.0785\n",
      "Epoch 66/100\n",
      "300/300 [==============================] - 4s 12ms/step - loss: 289.8847 - val_loss: 328.4648\n",
      "Epoch 67/100\n",
      "300/300 [==============================] - 4s 12ms/step - loss: 289.7540 - val_loss: 329.8533\n",
      "Epoch 68/100\n",
      "300/300 [==============================] - 4s 12ms/step - loss: 288.3090 - val_loss: 332.5213\n",
      "Epoch 69/100\n",
      "300/300 [==============================] - 4s 12ms/step - loss: 290.2409 - val_loss: 336.6797\n",
      "Epoch 70/100\n",
      "300/300 [==============================] - 3s 11ms/step - loss: 287.1105 - val_loss: 335.4769\n",
      "Epoch 71/100\n",
      "300/300 [==============================] - 4s 12ms/step - loss: 284.3212 - val_loss: 338.8233\n",
      "Epoch 72/100\n",
      "300/300 [==============================] - 3s 11ms/step - loss: 285.8383 - val_loss: 364.5299\n",
      "Epoch 73/100\n",
      "300/300 [==============================] - 3s 11ms/step - loss: 291.3977 - val_loss: 339.3474\n",
      "Epoch 74/100\n",
      "300/300 [==============================] - 4s 12ms/step - loss: 284.7007 - val_loss: 354.6497\n",
      "Epoch 75/100\n",
      " 97/300 [========>.....................] - ETA: 2s - loss: 278.9276"
     ]
    },
    {
     "name": "stderr",
     "output_type": "stream",
     "text": [
      "\n",
      "KeyboardInterrupt\n",
      "\n"
     ]
    }
   ],
   "source": [
    "import tensorflow as tf\n",
    "from tensorflow import keras\n",
    "from tensorflow.keras import layers\n",
    "from sklearn.preprocessing import StandardScaler\n",
    "\n",
    "scaler = StandardScaler()\n",
    "X_processed_scaled = scaler.fit_transform(X_processed)\n",
    "X_train, X_val, y_train, y_val = train_test_split(X_processed, y, test_size=0.2, random_state=42)\n",
    "\n",
    "# Define the model architecture\n",
    "model = keras.Sequential([\n",
    "  layers.Dense(512, activation='relu', input_shape=(X_train.shape[1],)),  # First hidden layer with 256 neurons and ReLU activation\n",
    "  layers.Dense(256, activation='relu'),  # First hidden layer with 256 neurons and ReLU activation\n",
    "  layers.Dense(128, activation='relu'),  # Second hidden layer with 128 neurons and ReLU activation\n",
    "  layers.Dense(64, activation='relu'),  # Third hidden layer with 64 neurons and ReLU activation\n",
    "  layers.Dense(32, activation='relu'),  # Third hidden layer with 64 neurons and ReLU activation\n",
    "  layers.Dense(1)  # Output layer with 1 neuron for regression (single value prediction)\n",
    "])\n",
    "\n",
    "# Compile the model\n",
    "model.compile(loss='mse', optimizer='adam')  # Mean squared error loss and Adam optimizer\n",
    "\n",
    "\n",
    "\n",
    "# Train the model with validation split\n",
    "history = model.fit(X_train, y_train, epochs=100, batch_size=32,\n",
    "                    validation_data=(X_val, y_val), verbose=1)  # Added validation data\n",
    "\n",
    "# Access training and validation loss history for further analysis (optional)\n",
    "train_loss = history.history['loss']\n",
    "val_loss = history.history['val_loss']\n"
   ]
  },
  {
   "cell_type": "code",
   "execution_count": null,
   "metadata": {},
   "outputs": [],
   "source": []
  }
 ],
 "metadata": {
  "kernelspec": {
   "display_name": "Python 3 (ipykernel)",
   "language": "python",
   "name": "python3"
  },
  "language_info": {
   "codemirror_mode": {
    "name": "ipython",
    "version": 3
   },
   "file_extension": ".py",
   "mimetype": "text/x-python",
   "name": "python",
   "nbconvert_exporter": "python",
   "pygments_lexer": "ipython3",
   "version": "3.11.5"
  }
 },
 "nbformat": 4,
 "nbformat_minor": 4
}
