{
 "cells": [
  {
   "cell_type": "code",
   "execution_count": 9,
   "metadata": {},
   "outputs": [
    {
     "name": "stdout",
     "output_type": "stream",
     "text": [
      "<class 'pandas.core.frame.DataFrame'>\n",
      "RangeIndex: 217242 entries, 0 to 217241\n",
      "Data columns (total 32 columns):\n",
      " #   Column               Non-Null Count   Dtype  \n",
      "---  ------               --------------   -----  \n",
      " 0   batter               217242 non-null  object \n",
      " 1   bowler               217242 non-null  object \n",
      " 2   non_striker          217242 non-null  object \n",
      " 3   runs_by_bat          217242 non-null  int64  \n",
      " 4   extra_runs           217242 non-null  int64  \n",
      " 5   total_runs_delivery  217242 non-null  int64  \n",
      " 6   current_team_total   217242 non-null  int64  \n",
      " 7   runs_remain          217242 non-null  float64\n",
      " 8   batter_runs          217242 non-null  int64  \n",
      " 9   balls_faced          217242 non-null  int64  \n",
      " 10  wickets_fallen       217242 non-null  int64  \n",
      " 11  extra_type           217242 non-null  object \n",
      " 12  delivery             217242 non-null  float64\n",
      " 13  over                 217242 non-null  int64  \n",
      " 14  wicket_type          217242 non-null  object \n",
      " 15  player_out           217242 non-null  object \n",
      " 16  toss_decision        217242 non-null  object \n",
      " 17  toss_winner          217242 non-null  object \n",
      " 18  innings              217242 non-null  int64  \n",
      " 19  venue                217242 non-null  object \n",
      " 20  year                 217242 non-null  int64  \n",
      " 21  month                217242 non-null  int64  \n",
      " 22  match_id             217242 non-null  object \n",
      " 23  winning_team         217242 non-null  object \n",
      " 24  batting_team         217242 non-null  object \n",
      " 25  bowling_team         217242 non-null  object \n",
      " 26  won                  217242 non-null  float64\n",
      " 27  final_team_total     217242 non-null  int64  \n",
      " 28  batter_type          217242 non-null  object \n",
      " 29  non_striker_type     217242 non-null  object \n",
      " 30  bowler_type          217242 non-null  object \n",
      " 31  replacements         217242 non-null  object \n",
      "dtypes: float64(3), int64(12), object(17)\n",
      "memory usage: 53.0+ MB\n"
     ]
    }
   ],
   "source": [
    "import pandas as pd\n",
    "import numpy as np\n",
    "import matplotlib.pyplot as plt\n",
    "\n",
    "# Load the data\n",
    "data = pd.read_csv('../Data/selected_data/processed_data.csv')\n",
    "\n",
    "# merging medium bowlers to fast\n",
    "data.loc[data['bowler_type'] == 'Left arm Medium', 'bowler_type'] = 'Left arm Fast'\n",
    "data.loc[data['bowler_type'] == 'Right arm Medium', 'bowler_type'] = 'Right arm Fast'\n",
    "data.info()"
   ]
  },
  {
   "cell_type": "code",
   "execution_count": 101,
   "metadata": {},
   "outputs": [
    {
     "name": "stderr",
     "output_type": "stream",
     "text": [
      "C:\\Users\\kaush\\AppData\\Local\\Temp\\ipykernel_29932\\521095522.py:117: SettingWithCopyWarning: \n",
      "A value is trying to be set on a copy of a slice from a DataFrame.\n",
      "Try using .loc[row_indexer,col_indexer] = value instead\n",
      "\n",
      "See the caveats in the documentation: https://pandas.pydata.org/pandas-docs/stable/user_guide/indexing.html#returning-a-view-versus-a-copy\n",
      "  player_data['out'] = (player_data['wicket_type'] != '0') & (player_data['wicket_type'] != 'run out')\n"
     ]
    },
    {
     "data": {
      "text/html": [
       "<div>\n",
       "<style scoped>\n",
       "    .dataframe tbody tr th:only-of-type {\n",
       "        vertical-align: middle;\n",
       "    }\n",
       "\n",
       "    .dataframe tbody tr th {\n",
       "        vertical-align: top;\n",
       "    }\n",
       "\n",
       "    .dataframe thead th {\n",
       "        text-align: right;\n",
       "    }\n",
       "</style>\n",
       "<table border=\"1\" class=\"dataframe\">\n",
       "  <thead>\n",
       "    <tr style=\"text-align: right;\">\n",
       "      <th></th>\n",
       "      <th>match_id</th>\n",
       "      <th>batter</th>\n",
       "      <th>non_striker</th>\n",
       "      <th>batter_runs</th>\n",
       "      <th>balls_faced</th>\n",
       "      <th>wicket_type</th>\n",
       "      <th>won</th>\n",
       "      <th>innings</th>\n",
       "      <th>wickets_fallen</th>\n",
       "      <th>bowling_team</th>\n",
       "      <th>...</th>\n",
       "      <th>Left arm Orthodox</th>\n",
       "      <th>Left arm Orthodox Expected Runs</th>\n",
       "      <th>Left arm Orthodox Expected Wickets</th>\n",
       "      <th>Left arm Wrist spin</th>\n",
       "      <th>Left arm Wrist spin Expected Runs</th>\n",
       "      <th>Left arm Wrist spin Expected Wickets</th>\n",
       "      <th>Right arm Legbreak Expected Runs</th>\n",
       "      <th>Right arm Legbreak Expected Wickets</th>\n",
       "      <th>Right arm Offbreak Expected Runs</th>\n",
       "      <th>Right arm Offbreak Expected Wickets</th>\n",
       "    </tr>\n",
       "  </thead>\n",
       "  <tbody>\n",
       "    <tr>\n",
       "      <th>0</th>\n",
       "      <td>England_India_2018-07-03</td>\n",
       "      <td>DJ Willey</td>\n",
       "      <td>LE Plunkett</td>\n",
       "      <td>3</td>\n",
       "      <td>4</td>\n",
       "      <td>0</td>\n",
       "      <td>0.0</td>\n",
       "      <td>1</td>\n",
       "      <td>8</td>\n",
       "      <td>India</td>\n",
       "      <td>...</td>\n",
       "      <td>0</td>\n",
       "      <td>0</td>\n",
       "      <td>0</td>\n",
       "      <td>0</td>\n",
       "      <td>0</td>\n",
       "      <td>0</td>\n",
       "      <td>0</td>\n",
       "      <td>0</td>\n",
       "      <td>0.0</td>\n",
       "      <td>0.0</td>\n",
       "    </tr>\n",
       "    <tr>\n",
       "      <th>1</th>\n",
       "      <td>England_India_2018-07-08</td>\n",
       "      <td>LE Plunkett</td>\n",
       "      <td>CJ Jordan</td>\n",
       "      <td>9</td>\n",
       "      <td>4</td>\n",
       "      <td>caught</td>\n",
       "      <td>0.0</td>\n",
       "      <td>1</td>\n",
       "      <td>7</td>\n",
       "      <td>India</td>\n",
       "      <td>...</td>\n",
       "      <td>0</td>\n",
       "      <td>0</td>\n",
       "      <td>0</td>\n",
       "      <td>0</td>\n",
       "      <td>0</td>\n",
       "      <td>0</td>\n",
       "      <td>0</td>\n",
       "      <td>0</td>\n",
       "      <td>0.0</td>\n",
       "      <td>0.0</td>\n",
       "    </tr>\n",
       "    <tr>\n",
       "      <th>2</th>\n",
       "      <td>England_Pakistan_2015-11-27</td>\n",
       "      <td>LE Plunkett</td>\n",
       "      <td>DJ Willey</td>\n",
       "      <td>1</td>\n",
       "      <td>2</td>\n",
       "      <td>caught</td>\n",
       "      <td>1.0</td>\n",
       "      <td>1</td>\n",
       "      <td>6</td>\n",
       "      <td>Pakistan</td>\n",
       "      <td>...</td>\n",
       "      <td>0</td>\n",
       "      <td>0</td>\n",
       "      <td>0</td>\n",
       "      <td>0</td>\n",
       "      <td>0</td>\n",
       "      <td>0</td>\n",
       "      <td>0</td>\n",
       "      <td>0</td>\n",
       "      <td>0.0</td>\n",
       "      <td>0.0</td>\n",
       "    </tr>\n",
       "    <tr>\n",
       "      <th>3</th>\n",
       "      <td>England_Pakistan_2016-09-07</td>\n",
       "      <td>MM Ali</td>\n",
       "      <td>LE Plunkett</td>\n",
       "      <td>0</td>\n",
       "      <td>0</td>\n",
       "      <td>0</td>\n",
       "      <td>0.0</td>\n",
       "      <td>1</td>\n",
       "      <td>7</td>\n",
       "      <td>Pakistan</td>\n",
       "      <td>...</td>\n",
       "      <td>0</td>\n",
       "      <td>0</td>\n",
       "      <td>0</td>\n",
       "      <td>0</td>\n",
       "      <td>0</td>\n",
       "      <td>0</td>\n",
       "      <td>0</td>\n",
       "      <td>0</td>\n",
       "      <td>NaN</td>\n",
       "      <td>NaN</td>\n",
       "    </tr>\n",
       "    <tr>\n",
       "      <th>4</th>\n",
       "      <td>England_South Africa_2017-06-23</td>\n",
       "      <td>LA Dawson</td>\n",
       "      <td>LE Plunkett</td>\n",
       "      <td>0</td>\n",
       "      <td>0</td>\n",
       "      <td>0</td>\n",
       "      <td>0.0</td>\n",
       "      <td>2</td>\n",
       "      <td>6</td>\n",
       "      <td>South Africa</td>\n",
       "      <td>...</td>\n",
       "      <td>0</td>\n",
       "      <td>0</td>\n",
       "      <td>0</td>\n",
       "      <td>0</td>\n",
       "      <td>0</td>\n",
       "      <td>0</td>\n",
       "      <td>0</td>\n",
       "      <td>0</td>\n",
       "      <td>NaN</td>\n",
       "      <td>NaN</td>\n",
       "    </tr>\n",
       "    <tr>\n",
       "      <th>5</th>\n",
       "      <td>England_South Africa_2017-06-25</td>\n",
       "      <td>LE Plunkett</td>\n",
       "      <td>JC Buttler</td>\n",
       "      <td>0</td>\n",
       "      <td>2</td>\n",
       "      <td>caught</td>\n",
       "      <td>1.0</td>\n",
       "      <td>1</td>\n",
       "      <td>5</td>\n",
       "      <td>South Africa</td>\n",
       "      <td>...</td>\n",
       "      <td>0</td>\n",
       "      <td>0</td>\n",
       "      <td>0</td>\n",
       "      <td>0</td>\n",
       "      <td>0</td>\n",
       "      <td>0</td>\n",
       "      <td>0</td>\n",
       "      <td>0</td>\n",
       "      <td>0.0</td>\n",
       "      <td>0.0</td>\n",
       "    </tr>\n",
       "    <tr>\n",
       "      <th>6</th>\n",
       "      <td>England_Sri Lanka_2018-10-27</td>\n",
       "      <td>CJ Jordan</td>\n",
       "      <td>LE Plunkett</td>\n",
       "      <td>7</td>\n",
       "      <td>5</td>\n",
       "      <td>0</td>\n",
       "      <td>1.0</td>\n",
       "      <td>1</td>\n",
       "      <td>7</td>\n",
       "      <td>Sri Lanka</td>\n",
       "      <td>...</td>\n",
       "      <td>0</td>\n",
       "      <td>0</td>\n",
       "      <td>0</td>\n",
       "      <td>0</td>\n",
       "      <td>0</td>\n",
       "      <td>0</td>\n",
       "      <td>0</td>\n",
       "      <td>0</td>\n",
       "      <td>0.0</td>\n",
       "      <td>0.0</td>\n",
       "    </tr>\n",
       "    <tr>\n",
       "      <th>7</th>\n",
       "      <td>England_West Indies_2016-04-03</td>\n",
       "      <td>LE Plunkett</td>\n",
       "      <td>CJ Jordan</td>\n",
       "      <td>4</td>\n",
       "      <td>4</td>\n",
       "      <td>caught</td>\n",
       "      <td>0.0</td>\n",
       "      <td>1</td>\n",
       "      <td>8</td>\n",
       "      <td>West Indies</td>\n",
       "      <td>...</td>\n",
       "      <td>0</td>\n",
       "      <td>0</td>\n",
       "      <td>0</td>\n",
       "      <td>0</td>\n",
       "      <td>0</td>\n",
       "      <td>0</td>\n",
       "      <td>0</td>\n",
       "      <td>0</td>\n",
       "      <td>0.0</td>\n",
       "      <td>0.0</td>\n",
       "    </tr>\n",
       "    <tr>\n",
       "      <th>8</th>\n",
       "      <td>India_England_2017-02-01</td>\n",
       "      <td>LE Plunkett</td>\n",
       "      <td>AU Rashid</td>\n",
       "      <td>0</td>\n",
       "      <td>1</td>\n",
       "      <td>bowled</td>\n",
       "      <td>0.0</td>\n",
       "      <td>2</td>\n",
       "      <td>6</td>\n",
       "      <td>India</td>\n",
       "      <td>...</td>\n",
       "      <td>0</td>\n",
       "      <td>0</td>\n",
       "      <td>0</td>\n",
       "      <td>0</td>\n",
       "      <td>0</td>\n",
       "      <td>0</td>\n",
       "      <td>0</td>\n",
       "      <td>0</td>\n",
       "      <td>0.0</td>\n",
       "      <td>0.0</td>\n",
       "    </tr>\n",
       "    <tr>\n",
       "      <th>9</th>\n",
       "      <td>New Zealand_England_2018-02-13</td>\n",
       "      <td>LE Plunkett</td>\n",
       "      <td>DJ Willey</td>\n",
       "      <td>0</td>\n",
       "      <td>1</td>\n",
       "      <td>bowled</td>\n",
       "      <td>0.0</td>\n",
       "      <td>2</td>\n",
       "      <td>8</td>\n",
       "      <td>New Zealand</td>\n",
       "      <td>...</td>\n",
       "      <td>0</td>\n",
       "      <td>0</td>\n",
       "      <td>0</td>\n",
       "      <td>0</td>\n",
       "      <td>0</td>\n",
       "      <td>0</td>\n",
       "      <td>0</td>\n",
       "      <td>0</td>\n",
       "      <td>0.0</td>\n",
       "      <td>0.0</td>\n",
       "    </tr>\n",
       "    <tr>\n",
       "      <th>10</th>\n",
       "      <td>West Indies_England_2017-09-16</td>\n",
       "      <td>LE Plunkett</td>\n",
       "      <td>TK Curran</td>\n",
       "      <td>18</td>\n",
       "      <td>11</td>\n",
       "      <td>bowled</td>\n",
       "      <td>0.0</td>\n",
       "      <td>2</td>\n",
       "      <td>7</td>\n",
       "      <td>West Indies</td>\n",
       "      <td>...</td>\n",
       "      <td>0</td>\n",
       "      <td>0</td>\n",
       "      <td>0</td>\n",
       "      <td>0</td>\n",
       "      <td>0</td>\n",
       "      <td>0</td>\n",
       "      <td>0</td>\n",
       "      <td>0</td>\n",
       "      <td>0.0</td>\n",
       "      <td>0.0</td>\n",
       "    </tr>\n",
       "  </tbody>\n",
       "</table>\n",
       "<p>11 rows × 32 columns</p>\n",
       "</div>"
      ],
      "text/plain": [
       "                           match_id       batter  non_striker  batter_runs  \\\n",
       "0          England_India_2018-07-03    DJ Willey  LE Plunkett            3   \n",
       "1          England_India_2018-07-08  LE Plunkett    CJ Jordan            9   \n",
       "2       England_Pakistan_2015-11-27  LE Plunkett    DJ Willey            1   \n",
       "3       England_Pakistan_2016-09-07       MM Ali  LE Plunkett            0   \n",
       "4   England_South Africa_2017-06-23    LA Dawson  LE Plunkett            0   \n",
       "5   England_South Africa_2017-06-25  LE Plunkett   JC Buttler            0   \n",
       "6      England_Sri Lanka_2018-10-27    CJ Jordan  LE Plunkett            7   \n",
       "7    England_West Indies_2016-04-03  LE Plunkett    CJ Jordan            4   \n",
       "8          India_England_2017-02-01  LE Plunkett    AU Rashid            0   \n",
       "9    New Zealand_England_2018-02-13  LE Plunkett    DJ Willey            0   \n",
       "10   West Indies_England_2017-09-16  LE Plunkett    TK Curran           18   \n",
       "\n",
       "    balls_faced wicket_type  won  innings  wickets_fallen  bowling_team  ...  \\\n",
       "0             4           0  0.0        1               8         India  ...   \n",
       "1             4      caught  0.0        1               7         India  ...   \n",
       "2             2      caught  1.0        1               6      Pakistan  ...   \n",
       "3             0           0  0.0        1               7      Pakistan  ...   \n",
       "4             0           0  0.0        2               6  South Africa  ...   \n",
       "5             2      caught  1.0        1               5  South Africa  ...   \n",
       "6             5           0  1.0        1               7     Sri Lanka  ...   \n",
       "7             4      caught  0.0        1               8   West Indies  ...   \n",
       "8             1      bowled  0.0        2               6         India  ...   \n",
       "9             1      bowled  0.0        2               8   New Zealand  ...   \n",
       "10           11      bowled  0.0        2               7   West Indies  ...   \n",
       "\n",
       "    Left arm Orthodox  Left arm Orthodox Expected Runs  \\\n",
       "0                   0                                0   \n",
       "1                   0                                0   \n",
       "2                   0                                0   \n",
       "3                   0                                0   \n",
       "4                   0                                0   \n",
       "5                   0                                0   \n",
       "6                   0                                0   \n",
       "7                   0                                0   \n",
       "8                   0                                0   \n",
       "9                   0                                0   \n",
       "10                  0                                0   \n",
       "\n",
       "    Left arm Orthodox Expected Wickets  Left arm Wrist spin  \\\n",
       "0                                    0                    0   \n",
       "1                                    0                    0   \n",
       "2                                    0                    0   \n",
       "3                                    0                    0   \n",
       "4                                    0                    0   \n",
       "5                                    0                    0   \n",
       "6                                    0                    0   \n",
       "7                                    0                    0   \n",
       "8                                    0                    0   \n",
       "9                                    0                    0   \n",
       "10                                   0                    0   \n",
       "\n",
       "    Left arm Wrist spin Expected Runs  Left arm Wrist spin Expected Wickets  \\\n",
       "0                                   0                                     0   \n",
       "1                                   0                                     0   \n",
       "2                                   0                                     0   \n",
       "3                                   0                                     0   \n",
       "4                                   0                                     0   \n",
       "5                                   0                                     0   \n",
       "6                                   0                                     0   \n",
       "7                                   0                                     0   \n",
       "8                                   0                                     0   \n",
       "9                                   0                                     0   \n",
       "10                                  0                                     0   \n",
       "\n",
       "    Right arm Legbreak Expected Runs  Right arm Legbreak Expected Wickets  \\\n",
       "0                                  0                                    0   \n",
       "1                                  0                                    0   \n",
       "2                                  0                                    0   \n",
       "3                                  0                                    0   \n",
       "4                                  0                                    0   \n",
       "5                                  0                                    0   \n",
       "6                                  0                                    0   \n",
       "7                                  0                                    0   \n",
       "8                                  0                                    0   \n",
       "9                                  0                                    0   \n",
       "10                                 0                                    0   \n",
       "\n",
       "    Right arm Offbreak Expected Runs  Right arm Offbreak Expected Wickets  \n",
       "0                                0.0                                  0.0  \n",
       "1                                0.0                                  0.0  \n",
       "2                                0.0                                  0.0  \n",
       "3                                NaN                                  NaN  \n",
       "4                                NaN                                  NaN  \n",
       "5                                0.0                                  0.0  \n",
       "6                                0.0                                  0.0  \n",
       "7                                0.0                                  0.0  \n",
       "8                                0.0                                  0.0  \n",
       "9                                0.0                                  0.0  \n",
       "10                               0.0                                  0.0  \n",
       "\n",
       "[11 rows x 32 columns]"
      ]
     },
     "execution_count": 101,
     "metadata": {},
     "output_type": "execute_result"
    }
   ],
   "source": [
    "def getPlayerScores(player_name: str, innings: list[int] = [1, 2] ) -> pd.DataFrame:\n",
    "    # Get the data for BKG Mendis if batter is BKG Mendis or non-striker is BKG Mendis\n",
    "\tplayer_data = data.loc[\n",
    "\t\t((data['batter'] == player_name) | (data['non_striker'] == player_name)) & (data['innings'].isin(innings))\n",
    "\t]\n",
    "\n",
    "\tplayer_data.head()\n",
    "\n",
    "\t# 3 matches missing from the data\n",
    "\t# group data by match_id\n",
    "\tgp = player_data.groupby('match_id')\n",
    "\tcols = [ 'batter', 'non_striker', 'batter_runs', 'balls_faced', 'wicket_type', 'won', 'innings', 'over', 'delivery', 'wickets_fallen', 'bowling_team']\n",
    "\tplayer_scores= gp.last().loc[:, cols]\n",
    "\n",
    "\t# get the first ball he faced or at non-striker\n",
    "\tfirst_ball = gp.first().loc[:, ['over', 'delivery', 'wickets_fallen']]\n",
    "\tfirst_ball['first_ball'] = (first_ball['over'] * 6 + first_ball['delivery']).astype(int)\n",
    "\n",
    "\tplayer_scores['first_ball'] = first_ball['first_ball']\n",
    "\tplayer_scores['wickets_fallen'] = first_ball['wickets_fallen']\n",
    "\n",
    "\t# when BKG Mendis is the non-striker when the last ball was bowled\n",
    "\t# The batter_runs and balls_faced are not his, but the on_strike batter's\n",
    "\t# So, we need to get the last ball he faced\n",
    "\t# he might not even have faced a ball\n",
    "\n",
    "\t# get the last ball he faced\n",
    "\n",
    "\tmatches_non_striker = player_scores[player_scores['non_striker'] == player_name].index\n",
    "\t\n",
    "\t# Sometimes the player might not even have faced a single ball\n",
    "\t# Eg: Afghanistan_Sri Lanka_2022-11-01 MD Shanaka not out on the non strikers end\n",
    "\n",
    "\tplayer_scores.loc[matches_non_striker, ['batter_runs', 'balls_faced']] = [0, 0]\n",
    "\t\n",
    "\t\n",
    "\t# get the last batter == player_name row from gp data\n",
    "\tgp = player_data[(player_data['batter'] == player_name) & (player_data['match_id'].isin(matches_non_striker))].groupby(['match_id'])\n",
    "\tlast_batter_scores = gp.last()[['batter_runs', 'balls_faced']]\t\n",
    "\t\n",
    "\t# update the rows with non_striker with correct values\n",
    "\tplayer_scores.update(last_batter_scores)\n",
    "\t\n",
    "\t\n",
    "\n",
    "\n",
    "\n",
    "\t# adding new features\n",
    "\t# strike rate\n",
    "\tplayer_scores['strike_rate'] = round(player_scores['batter_runs'] / player_scores['balls_faced'] * 100, 2)\n",
    "\tplayer_scores['out'] = player_scores['wicket_type'] != '0'\n",
    "\tplayer_scores['last_ball'] = (player_scores['over'] * 6 + player_scores['delivery']).astype(int)\n",
    "\n",
    "\t# drop over and delivery\n",
    "\tplayer_scores.drop(['over', 'delivery'], inplace=True, axis=1)\n",
    "\n",
    "\n",
    "\t# concatenating the remaining bowler types number to the dataset\n",
    "\tmatches = data[data['match_id'].isin(player_scores.index)]\n",
    "\t# matches = matches[matches['batting_team'] == 'Sri Lanka']\n",
    "\tcols = ['match_id', 'batter', 'non_striker', 'bowler_type', 'batter_runs', 'balls_faced', 'wicket_type', 'won', 'innings', 'over', 'delivery', 'wickets_fallen']\n",
    "\tmatches = matches[cols]\n",
    "\tmatches['ball_number'] = (matches['over'] * 6 + matches['delivery']).astype(int)\n",
    "\tmatches.drop(['over', 'delivery'], inplace=True, axis = 1)\n",
    "\n",
    "\n",
    "\tdef filter_by_player_and_ball_number(group):\n",
    "\t\tplayer_data = group[group['batter'] == player_name]\n",
    "\t\t\n",
    "\t\tif player_data.empty:\n",
    "\t\t\treturn player_data.drop('match_id', axis=1)\n",
    "\t\t\n",
    "\t\tfirst_ball_number = player_data['ball_number'].iloc[0]\n",
    "\n",
    "\t\t# return player_data[player_data['ball_number'] > first_ball_number].drop('match_id', axis=1) # This is for number of balls faced\n",
    "\t\t\n",
    "\t\t# fixed error should be greater or equal\n",
    "\t\tremaining = group[group['ball_number'] >= first_ball_number].drop('match_id', axis=1) # return the remianing number of deliveries for each type\n",
    "\t\treturn remaining\n",
    "\n",
    "\tgp = matches.groupby('match_id').apply(filter_by_player_and_ball_number)\n",
    "\tremaining_ball_types = gp.groupby('match_id')['bowler_type'].value_counts().unstack(fill_value = 0)\n",
    "\tremaining_ball_types = remaining_ball_types.reset_index()\n",
    "\n",
    "\tplayer_scores = player_scores.merge(remaining_ball_types, how='left', on='match_id')\n",
    "\n",
    "\t### Attaching the player_v_bowler results to this dataset\n",
    "\tplayer_vs_bowler = get_player_v_bowlers(player_name)\n",
    "\t\n",
    "\n",
    "\n",
    "\tbowler_types = ['Left arm Fast', 'Right arm Fast', 'Left arm Orthodox', 'Left arm Wrist spin', 'Right arm Legbreak', 'Right arm Offbreak']\n",
    "\tfor bowler_type in bowler_types:\n",
    "\t\t\tif bowler_type in player_vs_bowler.index:\n",
    "\t\t\t\tplayer_scores[f'{bowler_type} Expected Runs'] = player_vs_bowler.loc[bowler_type, 'strike_rate'] / 100 *  player_scores[bowler_type]\n",
    "\t\t\t\tplayer_scores[f'{bowler_type} Expected Wickets'] = player_scores[bowler_type] / player_vs_bowler.loc[bowler_type, 'deliveries_per_wicket']\n",
    "\t\t\telse:\n",
    "\t\t\t\tplayer_scores[bowler_type] = 0\n",
    "\t\t\t\tplayer_scores[f'{bowler_type} Expected Runs'] = 0\n",
    "\t\t\t\tplayer_scores[f'{bowler_type} Expected Wickets'] = 0\n",
    "\t\n",
    "\t# player_scores.fillna(0, inplace=True)\n",
    "\treturn player_scores\n",
    "\n",
    "def get_player_v_bowlers(player_name: str, innings = [1, 2]) -> pd.DataFrame:\n",
    "\tplayer_data = data.loc[\n",
    "\t\t\t(data['batter'] == player_name) & (data['innings'].isin(innings))\n",
    "\t\t]\n",
    "\n",
    "\tplayer_data.head()\n",
    "\n",
    "\t# Convert all medium bowlers to fast\n",
    "\tplayer_data.loc[player_data['bowler_type'] == 'Left arm Medium', 'bowler_type'] = 'Left arm Fast'\n",
    "\tplayer_data.loc[player_data['bowler_type'] == 'Right arm Medium', 'bowler_type'] = 'Right arm Fast'\n",
    "\n",
    "\n",
    "\tplayer_data['out'] = (player_data['wicket_type'] != '0') & (player_data['wicket_type'] != 'run out') \n",
    "\n",
    "\n",
    "\tcols = ['batter', 'non_striker', 'runs_by_bat', 'out', 'won', 'innings', 'over', 'delivery','bowler_type']\n",
    "\tplayer_data = player_data[cols]\n",
    "\n",
    "\tgp = player_data.groupby('bowler_type')\n",
    "\n",
    "\tplayer_v_bowler = pd.DataFrame()\n",
    "\tplayer_v_bowler['strike_rate'] = round(gp['runs_by_bat'].mean() * 100, 3)\n",
    "\tplayer_v_bowler['strike_rate_std'] = gp['runs_by_bat'].std()\n",
    "\tplayer_v_bowler['wickets'] = gp['out'].sum()\n",
    "\tplayer_v_bowler['deliveries_per_wicket'] = round(1 / gp['out'].mean(), 3)\n",
    "\tplayer_v_bowler['deliveries'] = gp.size()\n",
    "\treturn player_v_bowler\n",
    "\n"
   ]
  },
  {
   "cell_type": "code",
   "execution_count": 87,
   "metadata": {},
   "outputs": [
    {
     "name": "stdout",
     "output_type": "stream",
     "text": [
      "Analyzing Player AJ Finch\n"
     ]
    },
    {
     "name": "stderr",
     "output_type": "stream",
     "text": [
      "C:\\Users\\kaush\\AppData\\Local\\Temp\\ipykernel_29932\\3643444084.py:115: SettingWithCopyWarning: \n",
      "A value is trying to be set on a copy of a slice from a DataFrame.\n",
      "Try using .loc[row_indexer,col_indexer] = value instead\n",
      "\n",
      "See the caveats in the documentation: https://pandas.pydata.org/pandas-docs/stable/user_guide/indexing.html#returning-a-view-versus-a-copy\n",
      "  player_data['out'] = (player_data['wicket_type'] != '0') & (player_data['wicket_type'] != 'run out')\n",
      "C:\\Users\\kaush\\AppData\\Local\\Temp\\ipykernel_29932\\3643444084.py:115: SettingWithCopyWarning: \n",
      "A value is trying to be set on a copy of a slice from a DataFrame.\n",
      "Try using .loc[row_indexer,col_indexer] = value instead\n",
      "\n",
      "See the caveats in the documentation: https://pandas.pydata.org/pandas-docs/stable/user_guide/indexing.html#returning-a-view-versus-a-copy\n",
      "  player_data['out'] = (player_data['wicket_type'] != '0') & (player_data['wicket_type'] != 'run out')\n"
     ]
    },
    {
     "name": "stdout",
     "output_type": "stream",
     "text": [
      "Analyzing Player M Klinger\n",
      "Analyzing Player TM Head\n"
     ]
    },
    {
     "name": "stderr",
     "output_type": "stream",
     "text": [
      "C:\\Users\\kaush\\AppData\\Local\\Temp\\ipykernel_29932\\3643444084.py:115: SettingWithCopyWarning: \n",
      "A value is trying to be set on a copy of a slice from a DataFrame.\n",
      "Try using .loc[row_indexer,col_indexer] = value instead\n",
      "\n",
      "See the caveats in the documentation: https://pandas.pydata.org/pandas-docs/stable/user_guide/indexing.html#returning-a-view-versus-a-copy\n",
      "  player_data['out'] = (player_data['wicket_type'] != '0') & (player_data['wicket_type'] != 'run out')\n",
      "C:\\Users\\kaush\\AppData\\Local\\Temp\\ipykernel_29932\\3643444084.py:115: SettingWithCopyWarning: \n",
      "A value is trying to be set on a copy of a slice from a DataFrame.\n",
      "Try using .loc[row_indexer,col_indexer] = value instead\n",
      "\n",
      "See the caveats in the documentation: https://pandas.pydata.org/pandas-docs/stable/user_guide/indexing.html#returning-a-view-versus-a-copy\n",
      "  player_data['out'] = (player_data['wicket_type'] != '0') & (player_data['wicket_type'] != 'run out')\n"
     ]
    },
    {
     "name": "stdout",
     "output_type": "stream",
     "text": [
      "Analyzing Player MC Henriques\n",
      "Analyzing Player AJ Turner\n"
     ]
    },
    {
     "name": "stderr",
     "output_type": "stream",
     "text": [
      "C:\\Users\\kaush\\AppData\\Local\\Temp\\ipykernel_29932\\3643444084.py:115: SettingWithCopyWarning: \n",
      "A value is trying to be set on a copy of a slice from a DataFrame.\n",
      "Try using .loc[row_indexer,col_indexer] = value instead\n",
      "\n",
      "See the caveats in the documentation: https://pandas.pydata.org/pandas-docs/stable/user_guide/indexing.html#returning-a-view-versus-a-copy\n",
      "  player_data['out'] = (player_data['wicket_type'] != '0') & (player_data['wicket_type'] != 'run out')\n",
      "C:\\Users\\kaush\\AppData\\Local\\Temp\\ipykernel_29932\\3643444084.py:115: SettingWithCopyWarning: \n",
      "A value is trying to be set on a copy of a slice from a DataFrame.\n",
      "Try using .loc[row_indexer,col_indexer] = value instead\n",
      "\n",
      "See the caveats in the documentation: https://pandas.pydata.org/pandas-docs/stable/user_guide/indexing.html#returning-a-view-versus-a-copy\n",
      "  player_data['out'] = (player_data['wicket_type'] != '0') & (player_data['wicket_type'] != 'run out')\n"
     ]
    },
    {
     "name": "stdout",
     "output_type": "stream",
     "text": [
      "Analyzing Player JP Faulkner\n",
      "Analyzing Player N Dickwella\n"
     ]
    },
    {
     "name": "stderr",
     "output_type": "stream",
     "text": [
      "C:\\Users\\kaush\\AppData\\Local\\Temp\\ipykernel_29932\\3643444084.py:115: SettingWithCopyWarning: \n",
      "A value is trying to be set on a copy of a slice from a DataFrame.\n",
      "Try using .loc[row_indexer,col_indexer] = value instead\n",
      "\n",
      "See the caveats in the documentation: https://pandas.pydata.org/pandas-docs/stable/user_guide/indexing.html#returning-a-view-versus-a-copy\n",
      "  player_data['out'] = (player_data['wicket_type'] != '0') & (player_data['wicket_type'] != 'run out')\n",
      "C:\\Users\\kaush\\AppData\\Local\\Temp\\ipykernel_29932\\3643444084.py:115: SettingWithCopyWarning: \n",
      "A value is trying to be set on a copy of a slice from a DataFrame.\n",
      "Try using .loc[row_indexer,col_indexer] = value instead\n",
      "\n",
      "See the caveats in the documentation: https://pandas.pydata.org/pandas-docs/stable/user_guide/indexing.html#returning-a-view-versus-a-copy\n",
      "  player_data['out'] = (player_data['wicket_type'] != '0') & (player_data['wicket_type'] != 'run out')\n"
     ]
    },
    {
     "name": "stdout",
     "output_type": "stream",
     "text": [
      "Analyzing Player WU Tharanga\n",
      "Analyzing Player EMDY Munaweera\n"
     ]
    },
    {
     "name": "stderr",
     "output_type": "stream",
     "text": [
      "C:\\Users\\kaush\\AppData\\Local\\Temp\\ipykernel_29932\\3643444084.py:115: SettingWithCopyWarning: \n",
      "A value is trying to be set on a copy of a slice from a DataFrame.\n",
      "Try using .loc[row_indexer,col_indexer] = value instead\n",
      "\n",
      "See the caveats in the documentation: https://pandas.pydata.org/pandas-docs/stable/user_guide/indexing.html#returning-a-view-versus-a-copy\n",
      "  player_data['out'] = (player_data['wicket_type'] != '0') & (player_data['wicket_type'] != 'run out')\n",
      "C:\\Users\\kaush\\AppData\\Local\\Temp\\ipykernel_29932\\3643444084.py:115: SettingWithCopyWarning: \n",
      "A value is trying to be set on a copy of a slice from a DataFrame.\n",
      "Try using .loc[row_indexer,col_indexer] = value instead\n",
      "\n",
      "See the caveats in the documentation: https://pandas.pydata.org/pandas-docs/stable/user_guide/indexing.html#returning-a-view-versus-a-copy\n",
      "  player_data['out'] = (player_data['wicket_type'] != '0') & (player_data['wicket_type'] != 'run out')\n"
     ]
    },
    {
     "name": "stdout",
     "output_type": "stream",
     "text": [
      "Analyzing Player DAS Gunaratne\n",
      "Analyzing Player TAM Siriwardana\n"
     ]
    },
    {
     "name": "stderr",
     "output_type": "stream",
     "text": [
      "C:\\Users\\kaush\\AppData\\Local\\Temp\\ipykernel_29932\\3643444084.py:115: SettingWithCopyWarning: \n",
      "A value is trying to be set on a copy of a slice from a DataFrame.\n",
      "Try using .loc[row_indexer,col_indexer] = value instead\n",
      "\n",
      "See the caveats in the documentation: https://pandas.pydata.org/pandas-docs/stable/user_guide/indexing.html#returning-a-view-versus-a-copy\n",
      "  player_data['out'] = (player_data['wicket_type'] != '0') & (player_data['wicket_type'] != 'run out')\n",
      "C:\\Users\\kaush\\AppData\\Local\\Temp\\ipykernel_29932\\3643444084.py:115: SettingWithCopyWarning: \n",
      "A value is trying to be set on a copy of a slice from a DataFrame.\n",
      "Try using .loc[row_indexer,col_indexer] = value instead\n",
      "\n",
      "See the caveats in the documentation: https://pandas.pydata.org/pandas-docs/stable/user_guide/indexing.html#returning-a-view-versus-a-copy\n",
      "  player_data['out'] = (player_data['wicket_type'] != '0') & (player_data['wicket_type'] != 'run out')\n"
     ]
    },
    {
     "name": "stdout",
     "output_type": "stream",
     "text": [
      "Analyzing Player CK Kapugedera\n",
      "Analyzing Player S Prasanna\n"
     ]
    },
    {
     "name": "stderr",
     "output_type": "stream",
     "text": [
      "C:\\Users\\kaush\\AppData\\Local\\Temp\\ipykernel_29932\\3643444084.py:115: SettingWithCopyWarning: \n",
      "A value is trying to be set on a copy of a slice from a DataFrame.\n",
      "Try using .loc[row_indexer,col_indexer] = value instead\n",
      "\n",
      "See the caveats in the documentation: https://pandas.pydata.org/pandas-docs/stable/user_guide/indexing.html#returning-a-view-versus-a-copy\n",
      "  player_data['out'] = (player_data['wicket_type'] != '0') & (player_data['wicket_type'] != 'run out')\n",
      "C:\\Users\\kaush\\AppData\\Local\\Temp\\ipykernel_29932\\3643444084.py:115: SettingWithCopyWarning: \n",
      "A value is trying to be set on a copy of a slice from a DataFrame.\n",
      "Try using .loc[row_indexer,col_indexer] = value instead\n",
      "\n",
      "See the caveats in the documentation: https://pandas.pydata.org/pandas-docs/stable/user_guide/indexing.html#returning-a-view-versus-a-copy\n",
      "  player_data['out'] = (player_data['wicket_type'] != '0') & (player_data['wicket_type'] != 'run out')\n",
      "C:\\Users\\kaush\\AppData\\Local\\Temp\\ipykernel_29932\\3643444084.py:115: SettingWithCopyWarning: \n",
      "A value is trying to be set on a copy of a slice from a DataFrame.\n",
      "Try using .loc[row_indexer,col_indexer] = value instead\n",
      "\n",
      "See the caveats in the documentation: https://pandas.pydata.org/pandas-docs/stable/user_guide/indexing.html#returning-a-view-versus-a-copy\n",
      "  player_data['out'] = (player_data['wicket_type'] != '0') & (player_data['wicket_type'] != 'run out')\n"
     ]
    },
    {
     "name": "stdout",
     "output_type": "stream",
     "text": [
      "Analyzing Player BR Dunk\n",
      "Analyzing Player TD Paine\n",
      "Analyzing Player PJ Cummins\n"
     ]
    },
    {
     "name": "stderr",
     "output_type": "stream",
     "text": [
      "C:\\Users\\kaush\\AppData\\Local\\Temp\\ipykernel_29932\\3643444084.py:115: SettingWithCopyWarning: \n",
      "A value is trying to be set on a copy of a slice from a DataFrame.\n",
      "Try using .loc[row_indexer,col_indexer] = value instead\n",
      "\n",
      "See the caveats in the documentation: https://pandas.pydata.org/pandas-docs/stable/user_guide/indexing.html#returning-a-view-versus-a-copy\n",
      "  player_data['out'] = (player_data['wicket_type'] != '0') & (player_data['wicket_type'] != 'run out')\n",
      "C:\\Users\\kaush\\AppData\\Local\\Temp\\ipykernel_29932\\3643444084.py:115: SettingWithCopyWarning: \n",
      "A value is trying to be set on a copy of a slice from a DataFrame.\n",
      "Try using .loc[row_indexer,col_indexer] = value instead\n",
      "\n",
      "See the caveats in the documentation: https://pandas.pydata.org/pandas-docs/stable/user_guide/indexing.html#returning-a-view-versus-a-copy\n",
      "  player_data['out'] = (player_data['wicket_type'] != '0') & (player_data['wicket_type'] != 'run out')\n",
      "C:\\Users\\kaush\\AppData\\Local\\Temp\\ipykernel_29932\\3643444084.py:115: SettingWithCopyWarning: \n",
      "A value is trying to be set on a copy of a slice from a DataFrame.\n",
      "Try using .loc[row_indexer,col_indexer] = value instead\n",
      "\n",
      "See the caveats in the documentation: https://pandas.pydata.org/pandas-docs/stable/user_guide/indexing.html#returning-a-view-versus-a-copy\n",
      "  player_data['out'] = (player_data['wicket_type'] != '0') & (player_data['wicket_type'] != 'run out')\n"
     ]
    },
    {
     "name": "stdout",
     "output_type": "stream",
     "text": [
      "Analyzing Player AJ Tye\n",
      "Analyzing Player JA Richardson\n",
      "Analyzing Player BKG Mendis\n"
     ]
    },
    {
     "name": "stderr",
     "output_type": "stream",
     "text": [
      "C:\\Users\\kaush\\AppData\\Local\\Temp\\ipykernel_29932\\3643444084.py:115: SettingWithCopyWarning: \n",
      "A value is trying to be set on a copy of a slice from a DataFrame.\n",
      "Try using .loc[row_indexer,col_indexer] = value instead\n",
      "\n",
      "See the caveats in the documentation: https://pandas.pydata.org/pandas-docs/stable/user_guide/indexing.html#returning-a-view-versus-a-copy\n",
      "  player_data['out'] = (player_data['wicket_type'] != '0') & (player_data['wicket_type'] != 'run out')\n",
      "C:\\Users\\kaush\\AppData\\Local\\Temp\\ipykernel_29932\\3643444084.py:115: SettingWithCopyWarning: \n",
      "A value is trying to be set on a copy of a slice from a DataFrame.\n",
      "Try using .loc[row_indexer,col_indexer] = value instead\n",
      "\n",
      "See the caveats in the documentation: https://pandas.pydata.org/pandas-docs/stable/user_guide/indexing.html#returning-a-view-versus-a-copy\n",
      "  player_data['out'] = (player_data['wicket_type'] != '0') & (player_data['wicket_type'] != 'run out')\n"
     ]
    },
    {
     "name": "stdout",
     "output_type": "stream",
     "text": [
      "Analyzing Player KMDN Kulasekara\n",
      "Analyzing Player SL Malinga\n"
     ]
    },
    {
     "name": "stderr",
     "output_type": "stream",
     "text": [
      "C:\\Users\\kaush\\AppData\\Local\\Temp\\ipykernel_29932\\3643444084.py:115: SettingWithCopyWarning: \n",
      "A value is trying to be set on a copy of a slice from a DataFrame.\n",
      "Try using .loc[row_indexer,col_indexer] = value instead\n",
      "\n",
      "See the caveats in the documentation: https://pandas.pydata.org/pandas-docs/stable/user_guide/indexing.html#returning-a-view-versus-a-copy\n",
      "  player_data['out'] = (player_data['wicket_type'] != '0') & (player_data['wicket_type'] != 'run out')\n"
     ]
    },
    {
     "name": "stdout",
     "output_type": "stream",
     "text": [
      "Analyzing Player MD Shanaka\n",
      "Analyzing Player JRMVB Sanjaya\n"
     ]
    },
    {
     "name": "stderr",
     "output_type": "stream",
     "text": [
      "C:\\Users\\kaush\\AppData\\Local\\Temp\\ipykernel_29932\\3643444084.py:115: SettingWithCopyWarning: \n",
      "A value is trying to be set on a copy of a slice from a DataFrame.\n",
      "Try using .loc[row_indexer,col_indexer] = value instead\n",
      "\n",
      "See the caveats in the documentation: https://pandas.pydata.org/pandas-docs/stable/user_guide/indexing.html#returning-a-view-versus-a-copy\n",
      "  player_data['out'] = (player_data['wicket_type'] != '0') & (player_data['wicket_type'] != 'run out')\n",
      "C:\\Users\\kaush\\AppData\\Local\\Temp\\ipykernel_29932\\3643444084.py:115: SettingWithCopyWarning: \n",
      "A value is trying to be set on a copy of a slice from a DataFrame.\n",
      "Try using .loc[row_indexer,col_indexer] = value instead\n",
      "\n",
      "See the caveats in the documentation: https://pandas.pydata.org/pandas-docs/stable/user_guide/indexing.html#returning-a-view-versus-a-copy\n",
      "  player_data['out'] = (player_data['wicket_type'] != '0') & (player_data['wicket_type'] != 'run out')\n"
     ]
    },
    {
     "name": "stdout",
     "output_type": "stream",
     "text": [
      "Analyzing Player KL Rahul\n",
      "Analyzing Player AT Rayudu\n"
     ]
    },
    {
     "name": "stderr",
     "output_type": "stream",
     "text": [
      "C:\\Users\\kaush\\AppData\\Local\\Temp\\ipykernel_29932\\3643444084.py:115: SettingWithCopyWarning: \n",
      "A value is trying to be set on a copy of a slice from a DataFrame.\n",
      "Try using .loc[row_indexer,col_indexer] = value instead\n",
      "\n",
      "See the caveats in the documentation: https://pandas.pydata.org/pandas-docs/stable/user_guide/indexing.html#returning-a-view-versus-a-copy\n",
      "  player_data['out'] = (player_data['wicket_type'] != '0') & (player_data['wicket_type'] != 'run out')\n",
      "C:\\Users\\kaush\\AppData\\Local\\Temp\\ipykernel_29932\\3643444084.py:115: SettingWithCopyWarning: \n",
      "A value is trying to be set on a copy of a slice from a DataFrame.\n",
      "Try using .loc[row_indexer,col_indexer] = value instead\n",
      "\n",
      "See the caveats in the documentation: https://pandas.pydata.org/pandas-docs/stable/user_guide/indexing.html#returning-a-view-versus-a-copy\n",
      "  player_data['out'] = (player_data['wicket_type'] != '0') & (player_data['wicket_type'] != 'run out')\n",
      "C:\\Users\\kaush\\AppData\\Local\\Temp\\ipykernel_29932\\3643444084.py:115: SettingWithCopyWarning: \n",
      "A value is trying to be set on a copy of a slice from a DataFrame.\n",
      "Try using .loc[row_indexer,col_indexer] = value instead\n",
      "\n",
      "See the caveats in the documentation: https://pandas.pydata.org/pandas-docs/stable/user_guide/indexing.html#returning-a-view-versus-a-copy\n",
      "  player_data['out'] = (player_data['wicket_type'] != '0') & (player_data['wicket_type'] != 'run out')\n"
     ]
    },
    {
     "name": "stdout",
     "output_type": "stream",
     "text": [
      "Analyzing Player Mandeep Singh\n",
      "Analyzing Player MK Pandey\n"
     ]
    },
    {
     "name": "stderr",
     "output_type": "stream",
     "text": [
      "C:\\Users\\kaush\\AppData\\Local\\Temp\\ipykernel_29932\\3643444084.py:115: SettingWithCopyWarning: \n",
      "A value is trying to be set on a copy of a slice from a DataFrame.\n",
      "Try using .loc[row_indexer,col_indexer] = value instead\n",
      "\n",
      "See the caveats in the documentation: https://pandas.pydata.org/pandas-docs/stable/user_guide/indexing.html#returning-a-view-versus-a-copy\n",
      "  player_data['out'] = (player_data['wicket_type'] != '0') & (player_data['wicket_type'] != 'run out')\n",
      "C:\\Users\\kaush\\AppData\\Local\\Temp\\ipykernel_29932\\3643444084.py:115: SettingWithCopyWarning: \n",
      "A value is trying to be set on a copy of a slice from a DataFrame.\n",
      "Try using .loc[row_indexer,col_indexer] = value instead\n",
      "\n",
      "See the caveats in the documentation: https://pandas.pydata.org/pandas-docs/stable/user_guide/indexing.html#returning-a-view-versus-a-copy\n",
      "  player_data['out'] = (player_data['wicket_type'] != '0') & (player_data['wicket_type'] != 'run out')\n"
     ]
    },
    {
     "name": "stdout",
     "output_type": "stream",
     "text": [
      "Analyzing Player KM Jadhav\n",
      "Analyzing Player MS Dhoni\n"
     ]
    },
    {
     "name": "stderr",
     "output_type": "stream",
     "text": [
      "C:\\Users\\kaush\\AppData\\Local\\Temp\\ipykernel_29932\\3643444084.py:115: SettingWithCopyWarning: \n",
      "A value is trying to be set on a copy of a slice from a DataFrame.\n",
      "Try using .loc[row_indexer,col_indexer] = value instead\n",
      "\n",
      "See the caveats in the documentation: https://pandas.pydata.org/pandas-docs/stable/user_guide/indexing.html#returning-a-view-versus-a-copy\n",
      "  player_data['out'] = (player_data['wicket_type'] != '0') & (player_data['wicket_type'] != 'run out')\n",
      "C:\\Users\\kaush\\AppData\\Local\\Temp\\ipykernel_29932\\3643444084.py:115: SettingWithCopyWarning: \n",
      "A value is trying to be set on a copy of a slice from a DataFrame.\n",
      "Try using .loc[row_indexer,col_indexer] = value instead\n",
      "\n",
      "See the caveats in the documentation: https://pandas.pydata.org/pandas-docs/stable/user_guide/indexing.html#returning-a-view-versus-a-copy\n",
      "  player_data['out'] = (player_data['wicket_type'] != '0') & (player_data['wicket_type'] != 'run out')\n",
      "C:\\Users\\kaush\\AppData\\Local\\Temp\\ipykernel_29932\\3643444084.py:115: SettingWithCopyWarning: \n",
      "A value is trying to be set on a copy of a slice from a DataFrame.\n",
      "Try using .loc[row_indexer,col_indexer] = value instead\n",
      "\n",
      "See the caveats in the documentation: https://pandas.pydata.org/pandas-docs/stable/user_guide/indexing.html#returning-a-view-versus-a-copy\n",
      "  player_data['out'] = (player_data['wicket_type'] != '0') & (player_data['wicket_type'] != 'run out')\n"
     ]
    },
    {
     "name": "stdout",
     "output_type": "stream",
     "text": [
      "Analyzing Player AR Patel\n",
      "Analyzing Player R Dhawan\n",
      "Analyzing Player CJ Chibhabha\n"
     ]
    },
    {
     "name": "stderr",
     "output_type": "stream",
     "text": [
      "C:\\Users\\kaush\\AppData\\Local\\Temp\\ipykernel_29932\\3643444084.py:115: SettingWithCopyWarning: \n",
      "A value is trying to be set on a copy of a slice from a DataFrame.\n",
      "Try using .loc[row_indexer,col_indexer] = value instead\n",
      "\n",
      "See the caveats in the documentation: https://pandas.pydata.org/pandas-docs/stable/user_guide/indexing.html#returning-a-view-versus-a-copy\n",
      "  player_data['out'] = (player_data['wicket_type'] != '0') & (player_data['wicket_type'] != 'run out')\n",
      "C:\\Users\\kaush\\AppData\\Local\\Temp\\ipykernel_29932\\3643444084.py:115: SettingWithCopyWarning: \n",
      "A value is trying to be set on a copy of a slice from a DataFrame.\n",
      "Try using .loc[row_indexer,col_indexer] = value instead\n",
      "\n",
      "See the caveats in the documentation: https://pandas.pydata.org/pandas-docs/stable/user_guide/indexing.html#returning-a-view-versus-a-copy\n",
      "  player_data['out'] = (player_data['wicket_type'] != '0') & (player_data['wicket_type'] != 'run out')\n"
     ]
    },
    {
     "name": "stdout",
     "output_type": "stream",
     "text": [
      "Analyzing Player H Masakadza\n",
      "Analyzing Player R Mutumbami\n"
     ]
    },
    {
     "name": "stderr",
     "output_type": "stream",
     "text": [
      "C:\\Users\\kaush\\AppData\\Local\\Temp\\ipykernel_29932\\3643444084.py:115: SettingWithCopyWarning: \n",
      "A value is trying to be set on a copy of a slice from a DataFrame.\n",
      "Try using .loc[row_indexer,col_indexer] = value instead\n",
      "\n",
      "See the caveats in the documentation: https://pandas.pydata.org/pandas-docs/stable/user_guide/indexing.html#returning-a-view-versus-a-copy\n",
      "  player_data['out'] = (player_data['wicket_type'] != '0') & (player_data['wicket_type'] != 'run out')\n",
      "C:\\Users\\kaush\\AppData\\Local\\Temp\\ipykernel_29932\\3643444084.py:115: SettingWithCopyWarning: \n",
      "A value is trying to be set on a copy of a slice from a DataFrame.\n",
      "Try using .loc[row_indexer,col_indexer] = value instead\n",
      "\n",
      "See the caveats in the documentation: https://pandas.pydata.org/pandas-docs/stable/user_guide/indexing.html#returning-a-view-versus-a-copy\n",
      "  player_data['out'] = (player_data['wicket_type'] != '0') & (player_data['wicket_type'] != 'run out')\n"
     ]
    },
    {
     "name": "stdout",
     "output_type": "stream",
     "text": [
      "Analyzing Player Sikandar Raza\n",
      "Analyzing Player MN Waller\n"
     ]
    },
    {
     "name": "stderr",
     "output_type": "stream",
     "text": [
      "C:\\Users\\kaush\\AppData\\Local\\Temp\\ipykernel_29932\\3643444084.py:115: SettingWithCopyWarning: \n",
      "A value is trying to be set on a copy of a slice from a DataFrame.\n",
      "Try using .loc[row_indexer,col_indexer] = value instead\n",
      "\n",
      "See the caveats in the documentation: https://pandas.pydata.org/pandas-docs/stable/user_guide/indexing.html#returning-a-view-versus-a-copy\n",
      "  player_data['out'] = (player_data['wicket_type'] != '0') & (player_data['wicket_type'] != 'run out')\n",
      "C:\\Users\\kaush\\AppData\\Local\\Temp\\ipykernel_29932\\3643444084.py:115: SettingWithCopyWarning: \n",
      "A value is trying to be set on a copy of a slice from a DataFrame.\n",
      "Try using .loc[row_indexer,col_indexer] = value instead\n",
      "\n",
      "See the caveats in the documentation: https://pandas.pydata.org/pandas-docs/stable/user_guide/indexing.html#returning-a-view-versus-a-copy\n",
      "  player_data['out'] = (player_data['wicket_type'] != '0') & (player_data['wicket_type'] != 'run out')\n"
     ]
    },
    {
     "name": "stdout",
     "output_type": "stream",
     "text": [
      "Analyzing Player CT Mutombodzi\n",
      "Analyzing Player E Chigumbura\n"
     ]
    },
    {
     "name": "stderr",
     "output_type": "stream",
     "text": [
      "C:\\Users\\kaush\\AppData\\Local\\Temp\\ipykernel_29932\\3643444084.py:115: SettingWithCopyWarning: \n",
      "A value is trying to be set on a copy of a slice from a DataFrame.\n",
      "Try using .loc[row_indexer,col_indexer] = value instead\n",
      "\n",
      "See the caveats in the documentation: https://pandas.pydata.org/pandas-docs/stable/user_guide/indexing.html#returning-a-view-versus-a-copy\n",
      "  player_data['out'] = (player_data['wicket_type'] != '0') & (player_data['wicket_type'] != 'run out')\n",
      "C:\\Users\\kaush\\AppData\\Local\\Temp\\ipykernel_29932\\3643444084.py:115: SettingWithCopyWarning: \n",
      "A value is trying to be set on a copy of a slice from a DataFrame.\n",
      "Try using .loc[row_indexer,col_indexer] = value instead\n",
      "\n",
      "See the caveats in the documentation: https://pandas.pydata.org/pandas-docs/stable/user_guide/indexing.html#returning-a-view-versus-a-copy\n",
      "  player_data['out'] = (player_data['wicket_type'] != '0') & (player_data['wicket_type'] != 'run out')\n"
     ]
    },
    {
     "name": "stdout",
     "output_type": "stream",
     "text": [
      "Analyzing Player AG Cremer\n",
      "Analyzing Player N Madziva\n"
     ]
    },
    {
     "name": "stderr",
     "output_type": "stream",
     "text": [
      "C:\\Users\\kaush\\AppData\\Local\\Temp\\ipykernel_29932\\3643444084.py:115: SettingWithCopyWarning: \n",
      "A value is trying to be set on a copy of a slice from a DataFrame.\n",
      "Try using .loc[row_indexer,col_indexer] = value instead\n",
      "\n",
      "See the caveats in the documentation: https://pandas.pydata.org/pandas-docs/stable/user_guide/indexing.html#returning-a-view-versus-a-copy\n",
      "  player_data['out'] = (player_data['wicket_type'] != '0') & (player_data['wicket_type'] != 'run out')\n",
      "C:\\Users\\kaush\\AppData\\Local\\Temp\\ipykernel_29932\\3643444084.py:115: SettingWithCopyWarning: \n",
      "A value is trying to be set on a copy of a slice from a DataFrame.\n",
      "Try using .loc[row_indexer,col_indexer] = value instead\n",
      "\n",
      "See the caveats in the documentation: https://pandas.pydata.org/pandas-docs/stable/user_guide/indexing.html#returning-a-view-versus-a-copy\n",
      "  player_data['out'] = (player_data['wicket_type'] != '0') & (player_data['wicket_type'] != 'run out')\n",
      "C:\\Users\\kaush\\AppData\\Local\\Temp\\ipykernel_29932\\3643444084.py:115: SettingWithCopyWarning: \n",
      "A value is trying to be set on a copy of a slice from a DataFrame.\n",
      "Try using .loc[row_indexer,col_indexer] = value instead\n",
      "\n",
      "See the caveats in the documentation: https://pandas.pydata.org/pandas-docs/stable/user_guide/indexing.html#returning-a-view-versus-a-copy\n",
      "  player_data['out'] = (player_data['wicket_type'] != '0') & (player_data['wicket_type'] != 'run out')\n"
     ]
    },
    {
     "name": "stdout",
     "output_type": "stream",
     "text": [
      "Analyzing Player PJ Moor\n",
      "Analyzing Player DT Tiripano\n",
      "Analyzing Player T Muzarabani\n"
     ]
    },
    {
     "name": "stderr",
     "output_type": "stream",
     "text": [
      "C:\\Users\\kaush\\AppData\\Local\\Temp\\ipykernel_29932\\3643444084.py:115: SettingWithCopyWarning: \n",
      "A value is trying to be set on a copy of a slice from a DataFrame.\n",
      "Try using .loc[row_indexer,col_indexer] = value instead\n",
      "\n",
      "See the caveats in the documentation: https://pandas.pydata.org/pandas-docs/stable/user_guide/indexing.html#returning-a-view-versus-a-copy\n",
      "  player_data['out'] = (player_data['wicket_type'] != '0') & (player_data['wicket_type'] != 'run out')\n",
      "C:\\Users\\kaush\\AppData\\Local\\Temp\\ipykernel_29932\\3643444084.py:115: SettingWithCopyWarning: \n",
      "A value is trying to be set on a copy of a slice from a DataFrame.\n",
      "Try using .loc[row_indexer,col_indexer] = value instead\n",
      "\n",
      "See the caveats in the documentation: https://pandas.pydata.org/pandas-docs/stable/user_guide/indexing.html#returning-a-view-versus-a-copy\n",
      "  player_data['out'] = (player_data['wicket_type'] != '0') & (player_data['wicket_type'] != 'run out')\n",
      "C:\\Users\\kaush\\AppData\\Local\\Temp\\ipykernel_29932\\3643444084.py:115: SettingWithCopyWarning: \n",
      "A value is trying to be set on a copy of a slice from a DataFrame.\n",
      "Try using .loc[row_indexer,col_indexer] = value instead\n",
      "\n",
      "See the caveats in the documentation: https://pandas.pydata.org/pandas-docs/stable/user_guide/indexing.html#returning-a-view-versus-a-copy\n",
      "  player_data['out'] = (player_data['wicket_type'] != '0') & (player_data['wicket_type'] != 'run out')\n"
     ]
    },
    {
     "name": "stdout",
     "output_type": "stream",
     "text": [
      "Analyzing Player DS Kulkarni\n",
      "Analyzing Player V Sibanda\n",
      "Analyzing Player T Maruma\n"
     ]
    },
    {
     "name": "stderr",
     "output_type": "stream",
     "text": [
      "C:\\Users\\kaush\\AppData\\Local\\Temp\\ipykernel_29932\\3643444084.py:115: SettingWithCopyWarning: \n",
      "A value is trying to be set on a copy of a slice from a DataFrame.\n",
      "Try using .loc[row_indexer,col_indexer] = value instead\n",
      "\n",
      "See the caveats in the documentation: https://pandas.pydata.org/pandas-docs/stable/user_guide/indexing.html#returning-a-view-versus-a-copy\n",
      "  player_data['out'] = (player_data['wicket_type'] != '0') & (player_data['wicket_type'] != 'run out')\n",
      "C:\\Users\\kaush\\AppData\\Local\\Temp\\ipykernel_29932\\3643444084.py:115: SettingWithCopyWarning: \n",
      "A value is trying to be set on a copy of a slice from a DataFrame.\n",
      "Try using .loc[row_indexer,col_indexer] = value instead\n",
      "\n",
      "See the caveats in the documentation: https://pandas.pydata.org/pandas-docs/stable/user_guide/indexing.html#returning-a-view-versus-a-copy\n",
      "  player_data['out'] = (player_data['wicket_type'] != '0') & (player_data['wicket_type'] != 'run out')\n"
     ]
    },
    {
     "name": "stdout",
     "output_type": "stream",
     "text": [
      "Analyzing Player Tamim Iqbal\n",
      "Analyzing Player Imrul Kayes\n"
     ]
    },
    {
     "name": "stderr",
     "output_type": "stream",
     "text": [
      "C:\\Users\\kaush\\AppData\\Local\\Temp\\ipykernel_29932\\3643444084.py:115: SettingWithCopyWarning: \n",
      "A value is trying to be set on a copy of a slice from a DataFrame.\n",
      "Try using .loc[row_indexer,col_indexer] = value instead\n",
      "\n",
      "See the caveats in the documentation: https://pandas.pydata.org/pandas-docs/stable/user_guide/indexing.html#returning-a-view-versus-a-copy\n",
      "  player_data['out'] = (player_data['wicket_type'] != '0') & (player_data['wicket_type'] != 'run out')\n",
      "C:\\Users\\kaush\\AppData\\Local\\Temp\\ipykernel_29932\\3643444084.py:115: SettingWithCopyWarning: \n",
      "A value is trying to be set on a copy of a slice from a DataFrame.\n",
      "Try using .loc[row_indexer,col_indexer] = value instead\n",
      "\n",
      "See the caveats in the documentation: https://pandas.pydata.org/pandas-docs/stable/user_guide/indexing.html#returning-a-view-versus-a-copy\n",
      "  player_data['out'] = (player_data['wicket_type'] != '0') & (player_data['wicket_type'] != 'run out')\n"
     ]
    },
    {
     "name": "stdout",
     "output_type": "stream",
     "text": [
      "Analyzing Player Sabbir Rahman\n",
      "Analyzing Player Shakib Al Hasan\n"
     ]
    },
    {
     "name": "stderr",
     "output_type": "stream",
     "text": [
      "C:\\Users\\kaush\\AppData\\Local\\Temp\\ipykernel_29932\\3643444084.py:115: SettingWithCopyWarning: \n",
      "A value is trying to be set on a copy of a slice from a DataFrame.\n",
      "Try using .loc[row_indexer,col_indexer] = value instead\n",
      "\n",
      "See the caveats in the documentation: https://pandas.pydata.org/pandas-docs/stable/user_guide/indexing.html#returning-a-view-versus-a-copy\n",
      "  player_data['out'] = (player_data['wicket_type'] != '0') & (player_data['wicket_type'] != 'run out')\n",
      "C:\\Users\\kaush\\AppData\\Local\\Temp\\ipykernel_29932\\3643444084.py:115: SettingWithCopyWarning: \n",
      "A value is trying to be set on a copy of a slice from a DataFrame.\n",
      "Try using .loc[row_indexer,col_indexer] = value instead\n",
      "\n",
      "See the caveats in the documentation: https://pandas.pydata.org/pandas-docs/stable/user_guide/indexing.html#returning-a-view-versus-a-copy\n",
      "  player_data['out'] = (player_data['wicket_type'] != '0') & (player_data['wicket_type'] != 'run out')\n"
     ]
    },
    {
     "name": "stdout",
     "output_type": "stream",
     "text": [
      "Analyzing Player Soumya Sarkar\n",
      "Analyzing Player Mahmudullah\n"
     ]
    },
    {
     "name": "stderr",
     "output_type": "stream",
     "text": [
      "C:\\Users\\kaush\\AppData\\Local\\Temp\\ipykernel_29932\\3643444084.py:115: SettingWithCopyWarning: \n",
      "A value is trying to be set on a copy of a slice from a DataFrame.\n",
      "Try using .loc[row_indexer,col_indexer] = value instead\n",
      "\n",
      "See the caveats in the documentation: https://pandas.pydata.org/pandas-docs/stable/user_guide/indexing.html#returning-a-view-versus-a-copy\n",
      "  player_data['out'] = (player_data['wicket_type'] != '0') & (player_data['wicket_type'] != 'run out')\n",
      "C:\\Users\\kaush\\AppData\\Local\\Temp\\ipykernel_29932\\3643444084.py:115: SettingWithCopyWarning: \n",
      "A value is trying to be set on a copy of a slice from a DataFrame.\n",
      "Try using .loc[row_indexer,col_indexer] = value instead\n",
      "\n",
      "See the caveats in the documentation: https://pandas.pydata.org/pandas-docs/stable/user_guide/indexing.html#returning-a-view-versus-a-copy\n",
      "  player_data['out'] = (player_data['wicket_type'] != '0') & (player_data['wicket_type'] != 'run out')\n"
     ]
    },
    {
     "name": "stdout",
     "output_type": "stream",
     "text": [
      "Analyzing Player Mosaddek Hossain\n",
      "Analyzing Player Mashrafe Mortaza\n"
     ]
    },
    {
     "name": "stderr",
     "output_type": "stream",
     "text": [
      "C:\\Users\\kaush\\AppData\\Local\\Temp\\ipykernel_29932\\3643444084.py:115: SettingWithCopyWarning: \n",
      "A value is trying to be set on a copy of a slice from a DataFrame.\n",
      "Try using .loc[row_indexer,col_indexer] = value instead\n",
      "\n",
      "See the caveats in the documentation: https://pandas.pydata.org/pandas-docs/stable/user_guide/indexing.html#returning-a-view-versus-a-copy\n",
      "  player_data['out'] = (player_data['wicket_type'] != '0') & (player_data['wicket_type'] != 'run out')\n",
      "C:\\Users\\kaush\\AppData\\Local\\Temp\\ipykernel_29932\\3643444084.py:115: SettingWithCopyWarning: \n",
      "A value is trying to be set on a copy of a slice from a DataFrame.\n",
      "Try using .loc[row_indexer,col_indexer] = value instead\n",
      "\n",
      "See the caveats in the documentation: https://pandas.pydata.org/pandas-docs/stable/user_guide/indexing.html#returning-a-view-versus-a-copy\n",
      "  player_data['out'] = (player_data['wicket_type'] != '0') & (player_data['wicket_type'] != 'run out')\n"
     ]
    },
    {
     "name": "stdout",
     "output_type": "stream",
     "text": [
      "Analyzing Player Nurul Hasan\n",
      "Analyzing Player Rubel Hossain\n"
     ]
    },
    {
     "name": "stderr",
     "output_type": "stream",
     "text": [
      "C:\\Users\\kaush\\AppData\\Local\\Temp\\ipykernel_29932\\3643444084.py:115: SettingWithCopyWarning: \n",
      "A value is trying to be set on a copy of a slice from a DataFrame.\n",
      "Try using .loc[row_indexer,col_indexer] = value instead\n",
      "\n",
      "See the caveats in the documentation: https://pandas.pydata.org/pandas-docs/stable/user_guide/indexing.html#returning-a-view-versus-a-copy\n",
      "  player_data['out'] = (player_data['wicket_type'] != '0') & (player_data['wicket_type'] != 'run out')\n",
      "C:\\Users\\kaush\\AppData\\Local\\Temp\\ipykernel_29932\\3643444084.py:115: SettingWithCopyWarning: \n",
      "A value is trying to be set on a copy of a slice from a DataFrame.\n",
      "Try using .loc[row_indexer,col_indexer] = value instead\n",
      "\n",
      "See the caveats in the documentation: https://pandas.pydata.org/pandas-docs/stable/user_guide/indexing.html#returning-a-view-versus-a-copy\n",
      "  player_data['out'] = (player_data['wicket_type'] != '0') & (player_data['wicket_type'] != 'run out')\n"
     ]
    },
    {
     "name": "stdout",
     "output_type": "stream",
     "text": [
      "Analyzing Player NT Broom\n",
      "Analyzing Player KS Williamson\n"
     ]
    },
    {
     "name": "stderr",
     "output_type": "stream",
     "text": [
      "C:\\Users\\kaush\\AppData\\Local\\Temp\\ipykernel_29932\\3643444084.py:115: SettingWithCopyWarning: \n",
      "A value is trying to be set on a copy of a slice from a DataFrame.\n",
      "Try using .loc[row_indexer,col_indexer] = value instead\n",
      "\n",
      "See the caveats in the documentation: https://pandas.pydata.org/pandas-docs/stable/user_guide/indexing.html#returning-a-view-versus-a-copy\n",
      "  player_data['out'] = (player_data['wicket_type'] != '0') & (player_data['wicket_type'] != 'run out')\n",
      "C:\\Users\\kaush\\AppData\\Local\\Temp\\ipykernel_29932\\3643444084.py:115: SettingWithCopyWarning: \n",
      "A value is trying to be set on a copy of a slice from a DataFrame.\n",
      "Try using .loc[row_indexer,col_indexer] = value instead\n",
      "\n",
      "See the caveats in the documentation: https://pandas.pydata.org/pandas-docs/stable/user_guide/indexing.html#returning-a-view-versus-a-copy\n",
      "  player_data['out'] = (player_data['wicket_type'] != '0') & (player_data['wicket_type'] != 'run out')\n"
     ]
    },
    {
     "name": "stdout",
     "output_type": "stream",
     "text": [
      "Analyzing Player C Munro\n",
      "Analyzing Player CJ Anderson\n"
     ]
    },
    {
     "name": "stderr",
     "output_type": "stream",
     "text": [
      "C:\\Users\\kaush\\AppData\\Local\\Temp\\ipykernel_29932\\3643444084.py:115: SettingWithCopyWarning: \n",
      "A value is trying to be set on a copy of a slice from a DataFrame.\n",
      "Try using .loc[row_indexer,col_indexer] = value instead\n",
      "\n",
      "See the caveats in the documentation: https://pandas.pydata.org/pandas-docs/stable/user_guide/indexing.html#returning-a-view-versus-a-copy\n",
      "  player_data['out'] = (player_data['wicket_type'] != '0') & (player_data['wicket_type'] != 'run out')\n",
      "C:\\Users\\kaush\\AppData\\Local\\Temp\\ipykernel_29932\\3643444084.py:115: SettingWithCopyWarning: \n",
      "A value is trying to be set on a copy of a slice from a DataFrame.\n",
      "Try using .loc[row_indexer,col_indexer] = value instead\n",
      "\n",
      "See the caveats in the documentation: https://pandas.pydata.org/pandas-docs/stable/user_guide/indexing.html#returning-a-view-versus-a-copy\n",
      "  player_data['out'] = (player_data['wicket_type'] != '0') & (player_data['wicket_type'] != 'run out')\n"
     ]
    },
    {
     "name": "stdout",
     "output_type": "stream",
     "text": [
      "Analyzing Player TC Bruce\n",
      "Analyzing Player C de Grandhomme\n"
     ]
    },
    {
     "name": "stderr",
     "output_type": "stream",
     "text": [
      "C:\\Users\\kaush\\AppData\\Local\\Temp\\ipykernel_29932\\3643444084.py:115: SettingWithCopyWarning: \n",
      "A value is trying to be set on a copy of a slice from a DataFrame.\n",
      "Try using .loc[row_indexer,col_indexer] = value instead\n",
      "\n",
      "See the caveats in the documentation: https://pandas.pydata.org/pandas-docs/stable/user_guide/indexing.html#returning-a-view-versus-a-copy\n",
      "  player_data['out'] = (player_data['wicket_type'] != '0') & (player_data['wicket_type'] != 'run out')\n",
      "C:\\Users\\kaush\\AppData\\Local\\Temp\\ipykernel_29932\\3643444084.py:115: SettingWithCopyWarning: \n",
      "A value is trying to be set on a copy of a slice from a DataFrame.\n",
      "Try using .loc[row_indexer,col_indexer] = value instead\n",
      "\n",
      "See the caveats in the documentation: https://pandas.pydata.org/pandas-docs/stable/user_guide/indexing.html#returning-a-view-versus-a-copy\n",
      "  player_data['out'] = (player_data['wicket_type'] != '0') & (player_data['wicket_type'] != 'run out')\n"
     ]
    },
    {
     "name": "stdout",
     "output_type": "stream",
     "text": [
      "Analyzing Player Mustafizur Rahman\n",
      "Analyzing Player L Ronchi\n"
     ]
    },
    {
     "name": "stderr",
     "output_type": "stream",
     "text": [
      "C:\\Users\\kaush\\AppData\\Local\\Temp\\ipykernel_29932\\3643444084.py:115: SettingWithCopyWarning: \n",
      "A value is trying to be set on a copy of a slice from a DataFrame.\n",
      "Try using .loc[row_indexer,col_indexer] = value instead\n",
      "\n",
      "See the caveats in the documentation: https://pandas.pydata.org/pandas-docs/stable/user_guide/indexing.html#returning-a-view-versus-a-copy\n",
      "  player_data['out'] = (player_data['wicket_type'] != '0') & (player_data['wicket_type'] != 'run out')\n",
      "C:\\Users\\kaush\\AppData\\Local\\Temp\\ipykernel_29932\\3643444084.py:115: SettingWithCopyWarning: \n",
      "A value is trying to be set on a copy of a slice from a DataFrame.\n",
      "Try using .loc[row_indexer,col_indexer] = value instead\n",
      "\n",
      "See the caveats in the documentation: https://pandas.pydata.org/pandas-docs/stable/user_guide/indexing.html#returning-a-view-versus-a-copy\n",
      "  player_data['out'] = (player_data['wicket_type'] != '0') & (player_data['wicket_type'] != 'run out')\n"
     ]
    },
    {
     "name": "stdout",
     "output_type": "stream",
     "text": [
      "Analyzing Player JDS Neesham\n",
      "Analyzing Player MJ Santner\n"
     ]
    },
    {
     "name": "stderr",
     "output_type": "stream",
     "text": [
      "C:\\Users\\kaush\\AppData\\Local\\Temp\\ipykernel_29932\\3643444084.py:115: SettingWithCopyWarning: \n",
      "A value is trying to be set on a copy of a slice from a DataFrame.\n",
      "Try using .loc[row_indexer,col_indexer] = value instead\n",
      "\n",
      "See the caveats in the documentation: https://pandas.pydata.org/pandas-docs/stable/user_guide/indexing.html#returning-a-view-versus-a-copy\n",
      "  player_data['out'] = (player_data['wicket_type'] != '0') & (player_data['wicket_type'] != 'run out')\n",
      "C:\\Users\\kaush\\AppData\\Local\\Temp\\ipykernel_29932\\3643444084.py:115: SettingWithCopyWarning: \n",
      "A value is trying to be set on a copy of a slice from a DataFrame.\n",
      "Try using .loc[row_indexer,col_indexer] = value instead\n",
      "\n",
      "See the caveats in the documentation: https://pandas.pydata.org/pandas-docs/stable/user_guide/indexing.html#returning-a-view-versus-a-copy\n",
      "  player_data['out'] = (player_data['wicket_type'] != '0') & (player_data['wicket_type'] != 'run out')\n"
     ]
    },
    {
     "name": "stdout",
     "output_type": "stream",
     "text": [
      "Analyzing Player GD Phillips\n",
      "Analyzing Player BM Wheeler\n"
     ]
    },
    {
     "name": "stderr",
     "output_type": "stream",
     "text": [
      "C:\\Users\\kaush\\AppData\\Local\\Temp\\ipykernel_29932\\3643444084.py:115: SettingWithCopyWarning: \n",
      "A value is trying to be set on a copy of a slice from a DataFrame.\n",
      "Try using .loc[row_indexer,col_indexer] = value instead\n",
      "\n",
      "See the caveats in the documentation: https://pandas.pydata.org/pandas-docs/stable/user_guide/indexing.html#returning-a-view-versus-a-copy\n",
      "  player_data['out'] = (player_data['wicket_type'] != '0') & (player_data['wicket_type'] != 'run out')\n",
      "C:\\Users\\kaush\\AppData\\Local\\Temp\\ipykernel_29932\\3643444084.py:115: SettingWithCopyWarning: \n",
      "A value is trying to be set on a copy of a slice from a DataFrame.\n",
      "Try using .loc[row_indexer,col_indexer] = value instead\n",
      "\n",
      "See the caveats in the documentation: https://pandas.pydata.org/pandas-docs/stable/user_guide/indexing.html#returning-a-view-versus-a-copy\n",
      "  player_data['out'] = (player_data['wicket_type'] != '0') & (player_data['wicket_type'] != 'run out')\n"
     ]
    },
    {
     "name": "stdout",
     "output_type": "stream",
     "text": [
      "Analyzing Player TG Southee\n",
      "Analyzing Player TA Boult\n"
     ]
    },
    {
     "name": "stderr",
     "output_type": "stream",
     "text": [
      "C:\\Users\\kaush\\AppData\\Local\\Temp\\ipykernel_29932\\3643444084.py:115: SettingWithCopyWarning: \n",
      "A value is trying to be set on a copy of a slice from a DataFrame.\n",
      "Try using .loc[row_indexer,col_indexer] = value instead\n",
      "\n",
      "See the caveats in the documentation: https://pandas.pydata.org/pandas-docs/stable/user_guide/indexing.html#returning-a-view-versus-a-copy\n",
      "  player_data['out'] = (player_data['wicket_type'] != '0') & (player_data['wicket_type'] != 'run out')\n",
      "C:\\Users\\kaush\\AppData\\Local\\Temp\\ipykernel_29932\\3643444084.py:115: SettingWithCopyWarning: \n",
      "A value is trying to be set on a copy of a slice from a DataFrame.\n",
      "Try using .loc[row_indexer,col_indexer] = value instead\n",
      "\n",
      "See the caveats in the documentation: https://pandas.pydata.org/pandas-docs/stable/user_guide/indexing.html#returning-a-view-versus-a-copy\n",
      "  player_data['out'] = (player_data['wicket_type'] != '0') & (player_data['wicket_type'] != 'run out')\n"
     ]
    },
    {
     "name": "stdout",
     "output_type": "stream",
     "text": [
      "Analyzing Player HM Amla\n",
      "Analyzing Player Q de Kock\n"
     ]
    },
    {
     "name": "stderr",
     "output_type": "stream",
     "text": [
      "C:\\Users\\kaush\\AppData\\Local\\Temp\\ipykernel_29932\\3643444084.py:115: SettingWithCopyWarning: \n",
      "A value is trying to be set on a copy of a slice from a DataFrame.\n",
      "Try using .loc[row_indexer,col_indexer] = value instead\n",
      "\n",
      "See the caveats in the documentation: https://pandas.pydata.org/pandas-docs/stable/user_guide/indexing.html#returning-a-view-versus-a-copy\n",
      "  player_data['out'] = (player_data['wicket_type'] != '0') & (player_data['wicket_type'] != 'run out')\n",
      "C:\\Users\\kaush\\AppData\\Local\\Temp\\ipykernel_29932\\3643444084.py:115: SettingWithCopyWarning: \n",
      "A value is trying to be set on a copy of a slice from a DataFrame.\n",
      "Try using .loc[row_indexer,col_indexer] = value instead\n",
      "\n",
      "See the caveats in the documentation: https://pandas.pydata.org/pandas-docs/stable/user_guide/indexing.html#returning-a-view-versus-a-copy\n",
      "  player_data['out'] = (player_data['wicket_type'] != '0') & (player_data['wicket_type'] != 'run out')\n"
     ]
    },
    {
     "name": "stdout",
     "output_type": "stream",
     "text": [
      "Analyzing Player F du Plessis\n",
      "Analyzing Player AB de Villiers\n"
     ]
    },
    {
     "name": "stderr",
     "output_type": "stream",
     "text": [
      "C:\\Users\\kaush\\AppData\\Local\\Temp\\ipykernel_29932\\3643444084.py:115: SettingWithCopyWarning: \n",
      "A value is trying to be set on a copy of a slice from a DataFrame.\n",
      "Try using .loc[row_indexer,col_indexer] = value instead\n",
      "\n",
      "See the caveats in the documentation: https://pandas.pydata.org/pandas-docs/stable/user_guide/indexing.html#returning-a-view-versus-a-copy\n",
      "  player_data['out'] = (player_data['wicket_type'] != '0') & (player_data['wicket_type'] != 'run out')\n",
      "C:\\Users\\kaush\\AppData\\Local\\Temp\\ipykernel_29932\\3643444084.py:115: SettingWithCopyWarning: \n",
      "A value is trying to be set on a copy of a slice from a DataFrame.\n",
      "Try using .loc[row_indexer,col_indexer] = value instead\n",
      "\n",
      "See the caveats in the documentation: https://pandas.pydata.org/pandas-docs/stable/user_guide/indexing.html#returning-a-view-versus-a-copy\n",
      "  player_data['out'] = (player_data['wicket_type'] != '0') & (player_data['wicket_type'] != 'run out')\n"
     ]
    },
    {
     "name": "stdout",
     "output_type": "stream",
     "text": [
      "Analyzing Player JP Duminy\n",
      "Analyzing Player F Behardien\n"
     ]
    },
    {
     "name": "stderr",
     "output_type": "stream",
     "text": [
      "C:\\Users\\kaush\\AppData\\Local\\Temp\\ipykernel_29932\\3643444084.py:115: SettingWithCopyWarning: \n",
      "A value is trying to be set on a copy of a slice from a DataFrame.\n",
      "Try using .loc[row_indexer,col_indexer] = value instead\n",
      "\n",
      "See the caveats in the documentation: https://pandas.pydata.org/pandas-docs/stable/user_guide/indexing.html#returning-a-view-versus-a-copy\n",
      "  player_data['out'] = (player_data['wicket_type'] != '0') & (player_data['wicket_type'] != 'run out')\n",
      "C:\\Users\\kaush\\AppData\\Local\\Temp\\ipykernel_29932\\3643444084.py:115: SettingWithCopyWarning: \n",
      "A value is trying to be set on a copy of a slice from a DataFrame.\n",
      "Try using .loc[row_indexer,col_indexer] = value instead\n",
      "\n",
      "See the caveats in the documentation: https://pandas.pydata.org/pandas-docs/stable/user_guide/indexing.html#returning-a-view-versus-a-copy\n",
      "  player_data['out'] = (player_data['wicket_type'] != '0') & (player_data['wicket_type'] != 'run out')\n"
     ]
    },
    {
     "name": "stdout",
     "output_type": "stream",
     "text": [
      "Analyzing Player CH Morris\n",
      "Analyzing Player WD Parnell\n"
     ]
    },
    {
     "name": "stderr",
     "output_type": "stream",
     "text": [
      "C:\\Users\\kaush\\AppData\\Local\\Temp\\ipykernel_29932\\3643444084.py:115: SettingWithCopyWarning: \n",
      "A value is trying to be set on a copy of a slice from a DataFrame.\n",
      "Try using .loc[row_indexer,col_indexer] = value instead\n",
      "\n",
      "See the caveats in the documentation: https://pandas.pydata.org/pandas-docs/stable/user_guide/indexing.html#returning-a-view-versus-a-copy\n",
      "  player_data['out'] = (player_data['wicket_type'] != '0') & (player_data['wicket_type'] != 'run out')\n",
      "C:\\Users\\kaush\\AppData\\Local\\Temp\\ipykernel_29932\\3643444084.py:115: SettingWithCopyWarning: \n",
      "A value is trying to be set on a copy of a slice from a DataFrame.\n",
      "Try using .loc[row_indexer,col_indexer] = value instead\n",
      "\n",
      "See the caveats in the documentation: https://pandas.pydata.org/pandas-docs/stable/user_guide/indexing.html#returning-a-view-versus-a-copy\n",
      "  player_data['out'] = (player_data['wicket_type'] != '0') & (player_data['wicket_type'] != 'run out')\n"
     ]
    },
    {
     "name": "stdout",
     "output_type": "stream",
     "text": [
      "Analyzing Player JJ Roy\n",
      "Analyzing Player AD Hales\n"
     ]
    },
    {
     "name": "stderr",
     "output_type": "stream",
     "text": [
      "C:\\Users\\kaush\\AppData\\Local\\Temp\\ipykernel_29932\\3643444084.py:115: SettingWithCopyWarning: \n",
      "A value is trying to be set on a copy of a slice from a DataFrame.\n",
      "Try using .loc[row_indexer,col_indexer] = value instead\n",
      "\n",
      "See the caveats in the documentation: https://pandas.pydata.org/pandas-docs/stable/user_guide/indexing.html#returning-a-view-versus-a-copy\n",
      "  player_data['out'] = (player_data['wicket_type'] != '0') & (player_data['wicket_type'] != 'run out')\n",
      "C:\\Users\\kaush\\AppData\\Local\\Temp\\ipykernel_29932\\3643444084.py:115: SettingWithCopyWarning: \n",
      "A value is trying to be set on a copy of a slice from a DataFrame.\n",
      "Try using .loc[row_indexer,col_indexer] = value instead\n",
      "\n",
      "See the caveats in the documentation: https://pandas.pydata.org/pandas-docs/stable/user_guide/indexing.html#returning-a-view-versus-a-copy\n",
      "  player_data['out'] = (player_data['wicket_type'] != '0') & (player_data['wicket_type'] != 'run out')\n"
     ]
    },
    {
     "name": "stdout",
     "output_type": "stream",
     "text": [
      "Analyzing Player JM Bairstow\n",
      "Analyzing Player JT Smuts\n"
     ]
    },
    {
     "name": "stderr",
     "output_type": "stream",
     "text": [
      "C:\\Users\\kaush\\AppData\\Local\\Temp\\ipykernel_29932\\3643444084.py:115: SettingWithCopyWarning: \n",
      "A value is trying to be set on a copy of a slice from a DataFrame.\n",
      "Try using .loc[row_indexer,col_indexer] = value instead\n",
      "\n",
      "See the caveats in the documentation: https://pandas.pydata.org/pandas-docs/stable/user_guide/indexing.html#returning-a-view-versus-a-copy\n",
      "  player_data['out'] = (player_data['wicket_type'] != '0') & (player_data['wicket_type'] != 'run out')\n",
      "C:\\Users\\kaush\\AppData\\Local\\Temp\\ipykernel_29932\\3643444084.py:115: SettingWithCopyWarning: \n",
      "A value is trying to be set on a copy of a slice from a DataFrame.\n",
      "Try using .loc[row_indexer,col_indexer] = value instead\n",
      "\n",
      "See the caveats in the documentation: https://pandas.pydata.org/pandas-docs/stable/user_guide/indexing.html#returning-a-view-versus-a-copy\n",
      "  player_data['out'] = (player_data['wicket_type'] != '0') & (player_data['wicket_type'] != 'run out')\n"
     ]
    },
    {
     "name": "stdout",
     "output_type": "stream",
     "text": [
      "Analyzing Player RR Hendricks\n",
      "Analyzing Player DA Miller\n"
     ]
    },
    {
     "name": "stderr",
     "output_type": "stream",
     "text": [
      "C:\\Users\\kaush\\AppData\\Local\\Temp\\ipykernel_29932\\3643444084.py:115: SettingWithCopyWarning: \n",
      "A value is trying to be set on a copy of a slice from a DataFrame.\n",
      "Try using .loc[row_indexer,col_indexer] = value instead\n",
      "\n",
      "See the caveats in the documentation: https://pandas.pydata.org/pandas-docs/stable/user_guide/indexing.html#returning-a-view-versus-a-copy\n",
      "  player_data['out'] = (player_data['wicket_type'] != '0') & (player_data['wicket_type'] != 'run out')\n",
      "C:\\Users\\kaush\\AppData\\Local\\Temp\\ipykernel_29932\\3643444084.py:115: SettingWithCopyWarning: \n",
      "A value is trying to be set on a copy of a slice from a DataFrame.\n",
      "Try using .loc[row_indexer,col_indexer] = value instead\n",
      "\n",
      "See the caveats in the documentation: https://pandas.pydata.org/pandas-docs/stable/user_guide/indexing.html#returning-a-view-versus-a-copy\n",
      "  player_data['out'] = (player_data['wicket_type'] != '0') & (player_data['wicket_type'] != 'run out')\n"
     ]
    },
    {
     "name": "stdout",
     "output_type": "stream",
     "text": [
      "Analyzing Player SW Billings\n",
      "Analyzing Player LS Livingstone\n"
     ]
    },
    {
     "name": "stderr",
     "output_type": "stream",
     "text": [
      "C:\\Users\\kaush\\AppData\\Local\\Temp\\ipykernel_29932\\3643444084.py:115: SettingWithCopyWarning: \n",
      "A value is trying to be set on a copy of a slice from a DataFrame.\n",
      "Try using .loc[row_indexer,col_indexer] = value instead\n",
      "\n",
      "See the caveats in the documentation: https://pandas.pydata.org/pandas-docs/stable/user_guide/indexing.html#returning-a-view-versus-a-copy\n",
      "  player_data['out'] = (player_data['wicket_type'] != '0') & (player_data['wicket_type'] != 'run out')\n"
     ]
    },
    {
     "name": "stdout",
     "output_type": "stream",
     "text": [
      "Analyzing Player JC Buttler\n"
     ]
    },
    {
     "name": "stderr",
     "output_type": "stream",
     "text": [
      "C:\\Users\\kaush\\AppData\\Local\\Temp\\ipykernel_29932\\3643444084.py:115: SettingWithCopyWarning: \n",
      "A value is trying to be set on a copy of a slice from a DataFrame.\n",
      "Try using .loc[row_indexer,col_indexer] = value instead\n",
      "\n",
      "See the caveats in the documentation: https://pandas.pydata.org/pandas-docs/stable/user_guide/indexing.html#returning-a-view-versus-a-copy\n",
      "  player_data['out'] = (player_data['wicket_type'] != '0') & (player_data['wicket_type'] != 'run out')\n"
     ]
    },
    {
     "name": "stdout",
     "output_type": "stream",
     "text": [
      "Analyzing Player EJG Morgan\n"
     ]
    },
    {
     "name": "stderr",
     "output_type": "stream",
     "text": [
      "C:\\Users\\kaush\\AppData\\Local\\Temp\\ipykernel_29932\\3643444084.py:115: SettingWithCopyWarning: \n",
      "A value is trying to be set on a copy of a slice from a DataFrame.\n",
      "Try using .loc[row_indexer,col_indexer] = value instead\n",
      "\n",
      "See the caveats in the documentation: https://pandas.pydata.org/pandas-docs/stable/user_guide/indexing.html#returning-a-view-versus-a-copy\n",
      "  player_data['out'] = (player_data['wicket_type'] != '0') & (player_data['wicket_type'] != 'run out')\n",
      "C:\\Users\\kaush\\AppData\\Local\\Temp\\ipykernel_29932\\3643444084.py:115: SettingWithCopyWarning: \n",
      "A value is trying to be set on a copy of a slice from a DataFrame.\n",
      "Try using .loc[row_indexer,col_indexer] = value instead\n",
      "\n",
      "See the caveats in the documentation: https://pandas.pydata.org/pandas-docs/stable/user_guide/indexing.html#returning-a-view-versus-a-copy\n",
      "  player_data['out'] = (player_data['wicket_type'] != '0') & (player_data['wicket_type'] != 'run out')\n",
      "C:\\Users\\kaush\\AppData\\Local\\Temp\\ipykernel_29932\\3643444084.py:115: SettingWithCopyWarning: \n",
      "A value is trying to be set on a copy of a slice from a DataFrame.\n",
      "Try using .loc[row_indexer,col_indexer] = value instead\n",
      "\n",
      "See the caveats in the documentation: https://pandas.pydata.org/pandas-docs/stable/user_guide/indexing.html#returning-a-view-versus-a-copy\n",
      "  player_data['out'] = (player_data['wicket_type'] != '0') & (player_data['wicket_type'] != 'run out')\n"
     ]
    },
    {
     "name": "stdout",
     "output_type": "stream",
     "text": [
      "Analyzing Player LA Dawson\n",
      "Analyzing Player M Mosehle\n",
      "Analyzing Player AL Phehlukwayo\n",
      "Analyzing Player M Morkel\n",
      "Analyzing Player D Paterson\n"
     ]
    },
    {
     "name": "stderr",
     "output_type": "stream",
     "text": [
      "C:\\Users\\kaush\\AppData\\Local\\Temp\\ipykernel_29932\\3643444084.py:115: SettingWithCopyWarning: \n",
      "A value is trying to be set on a copy of a slice from a DataFrame.\n",
      "Try using .loc[row_indexer,col_indexer] = value instead\n",
      "\n",
      "See the caveats in the documentation: https://pandas.pydata.org/pandas-docs/stable/user_guide/indexing.html#returning-a-view-versus-a-copy\n",
      "  player_data['out'] = (player_data['wicket_type'] != '0') & (player_data['wicket_type'] != 'run out')\n",
      "C:\\Users\\kaush\\AppData\\Local\\Temp\\ipykernel_29932\\3643444084.py:115: SettingWithCopyWarning: \n",
      "A value is trying to be set on a copy of a slice from a DataFrame.\n",
      "Try using .loc[row_indexer,col_indexer] = value instead\n",
      "\n",
      "See the caveats in the documentation: https://pandas.pydata.org/pandas-docs/stable/user_guide/indexing.html#returning-a-view-versus-a-copy\n",
      "  player_data['out'] = (player_data['wicket_type'] != '0') & (player_data['wicket_type'] != 'run out')\n",
      "C:\\Users\\kaush\\AppData\\Local\\Temp\\ipykernel_29932\\3643444084.py:115: SettingWithCopyWarning: \n",
      "A value is trying to be set on a copy of a slice from a DataFrame.\n",
      "Try using .loc[row_indexer,col_indexer] = value instead\n",
      "\n",
      "See the caveats in the documentation: https://pandas.pydata.org/pandas-docs/stable/user_guide/indexing.html#returning-a-view-versus-a-copy\n",
      "  player_data['out'] = (player_data['wicket_type'] != '0') & (player_data['wicket_type'] != 'run out')\n"
     ]
    },
    {
     "name": "stdout",
     "output_type": "stream",
     "text": [
      "Analyzing Player DJ Malan\n",
      "Analyzing Player LE Plunkett\n"
     ]
    },
    {
     "name": "stderr",
     "output_type": "stream",
     "text": [
      "C:\\Users\\kaush\\AppData\\Local\\Temp\\ipykernel_29932\\3643444084.py:115: SettingWithCopyWarning: \n",
      "A value is trying to be set on a copy of a slice from a DataFrame.\n",
      "Try using .loc[row_indexer,col_indexer] = value instead\n",
      "\n",
      "See the caveats in the documentation: https://pandas.pydata.org/pandas-docs/stable/user_guide/indexing.html#returning-a-view-versus-a-copy\n",
      "  player_data['out'] = (player_data['wicket_type'] != '0') & (player_data['wicket_type'] != 'run out')\n",
      "C:\\Users\\kaush\\AppData\\Local\\Temp\\ipykernel_29932\\3643444084.py:115: SettingWithCopyWarning: \n",
      "A value is trying to be set on a copy of a slice from a DataFrame.\n",
      "Try using .loc[row_indexer,col_indexer] = value instead\n",
      "\n",
      "See the caveats in the documentation: https://pandas.pydata.org/pandas-docs/stable/user_guide/indexing.html#returning-a-view-versus-a-copy\n",
      "  player_data['out'] = (player_data['wicket_type'] != '0') & (player_data['wicket_type'] != 'run out')\n"
     ]
    },
    {
     "ename": "KeyError",
     "evalue": "'Right arm Offbreak'",
     "output_type": "error",
     "traceback": [
      "\u001b[1;31m---------------------------------------------------------------------------\u001b[0m",
      "\u001b[1;31mKeyError\u001b[0m                                  Traceback (most recent call last)",
      "File \u001b[1;32mc:\\Users\\kaush\\pyver\\py3115\\Lib\\site-packages\\pandas\\core\\indexes\\base.py:3791\u001b[0m, in \u001b[0;36mIndex.get_loc\u001b[1;34m(self, key)\u001b[0m\n\u001b[0;32m   3790\u001b[0m \u001b[38;5;28;01mtry\u001b[39;00m:\n\u001b[1;32m-> 3791\u001b[0m     \u001b[38;5;28;01mreturn\u001b[39;00m \u001b[38;5;28;43mself\u001b[39;49m\u001b[38;5;241;43m.\u001b[39;49m\u001b[43m_engine\u001b[49m\u001b[38;5;241;43m.\u001b[39;49m\u001b[43mget_loc\u001b[49m\u001b[43m(\u001b[49m\u001b[43mcasted_key\u001b[49m\u001b[43m)\u001b[49m\n\u001b[0;32m   3792\u001b[0m \u001b[38;5;28;01mexcept\u001b[39;00m \u001b[38;5;167;01mKeyError\u001b[39;00m \u001b[38;5;28;01mas\u001b[39;00m err:\n",
      "File \u001b[1;32mindex.pyx:152\u001b[0m, in \u001b[0;36mpandas._libs.index.IndexEngine.get_loc\u001b[1;34m()\u001b[0m\n",
      "File \u001b[1;32mindex.pyx:181\u001b[0m, in \u001b[0;36mpandas._libs.index.IndexEngine.get_loc\u001b[1;34m()\u001b[0m\n",
      "File \u001b[1;32mpandas\\_libs\\hashtable_class_helper.pxi:7080\u001b[0m, in \u001b[0;36mpandas._libs.hashtable.PyObjectHashTable.get_item\u001b[1;34m()\u001b[0m\n",
      "File \u001b[1;32mpandas\\_libs\\hashtable_class_helper.pxi:7088\u001b[0m, in \u001b[0;36mpandas._libs.hashtable.PyObjectHashTable.get_item\u001b[1;34m()\u001b[0m\n",
      "\u001b[1;31mKeyError\u001b[0m: 'Right arm Offbreak'",
      "\nThe above exception was the direct cause of the following exception:\n",
      "\u001b[1;31mKeyError\u001b[0m                                  Traceback (most recent call last)",
      "Cell \u001b[1;32mIn[87], line 8\u001b[0m\n\u001b[0;32m      5\u001b[0m \u001b[38;5;28;01mfor\u001b[39;00m player \u001b[38;5;129;01min\u001b[39;00m data[\u001b[38;5;124m'\u001b[39m\u001b[38;5;124mbatter\u001b[39m\u001b[38;5;124m'\u001b[39m]\u001b[38;5;241m.\u001b[39munique():\n\u001b[0;32m      6\u001b[0m     \u001b[38;5;28mprint\u001b[39m(\u001b[38;5;124m\"\u001b[39m\u001b[38;5;124mAnalyzing Player\u001b[39m\u001b[38;5;124m\"\u001b[39m, player)\n\u001b[1;32m----> 8\u001b[0m     player_scores \u001b[38;5;241m=\u001b[39m \u001b[43mgetPlayerScores\u001b[49m\u001b[43m(\u001b[49m\u001b[43mplayer\u001b[49m\u001b[43m)\u001b[49m\n\u001b[0;32m      9\u001b[0m     player_scores[\u001b[38;5;124m'\u001b[39m\u001b[38;5;124mbatter\u001b[39m\u001b[38;5;124m'\u001b[39m] \u001b[38;5;241m=\u001b[39m player\n\u001b[0;32m     10\u001b[0m     player_scores\u001b[38;5;241m.\u001b[39mdrop(\u001b[38;5;124m'\u001b[39m\u001b[38;5;124mnon_striker\u001b[39m\u001b[38;5;124m'\u001b[39m, inplace\u001b[38;5;241m=\u001b[39m\u001b[38;5;28;01mTrue\u001b[39;00m, axis \u001b[38;5;241m=\u001b[39m \u001b[38;5;241m1\u001b[39m)\n",
      "Cell \u001b[1;32mIn[85], line 94\u001b[0m, in \u001b[0;36mgetPlayerScores\u001b[1;34m(player_name, innings)\u001b[0m\n\u001b[0;32m     92\u001b[0m \u001b[38;5;28;01mfor\u001b[39;00m bowler_type \u001b[38;5;129;01min\u001b[39;00m bowler_types:\n\u001b[0;32m     93\u001b[0m \t\t\u001b[38;5;28;01mif\u001b[39;00m bowler_type \u001b[38;5;129;01min\u001b[39;00m player_vs_bowler\u001b[38;5;241m.\u001b[39mindex:\n\u001b[1;32m---> 94\u001b[0m \t\t\tplayer_scores[\u001b[38;5;124mf\u001b[39m\u001b[38;5;124m'\u001b[39m\u001b[38;5;132;01m{\u001b[39;00mbowler_type\u001b[38;5;132;01m}\u001b[39;00m\u001b[38;5;124m Expected Runs\u001b[39m\u001b[38;5;124m'\u001b[39m] \u001b[38;5;241m=\u001b[39m player_vs_bowler\u001b[38;5;241m.\u001b[39mloc[bowler_type, \u001b[38;5;124m'\u001b[39m\u001b[38;5;124mstrike_rate\u001b[39m\u001b[38;5;124m'\u001b[39m] \u001b[38;5;241m/\u001b[39m \u001b[38;5;241m100\u001b[39m \u001b[38;5;241m*\u001b[39m  \u001b[43mplayer_scores\u001b[49m\u001b[43m[\u001b[49m\u001b[43mbowler_type\u001b[49m\u001b[43m]\u001b[49m\n\u001b[0;32m     95\u001b[0m \t\t\tplayer_scores[\u001b[38;5;124mf\u001b[39m\u001b[38;5;124m'\u001b[39m\u001b[38;5;132;01m{\u001b[39;00mbowler_type\u001b[38;5;132;01m}\u001b[39;00m\u001b[38;5;124m Expected Wickets\u001b[39m\u001b[38;5;124m'\u001b[39m] \u001b[38;5;241m=\u001b[39m player_scores[bowler_type] \u001b[38;5;241m/\u001b[39m player_vs_bowler\u001b[38;5;241m.\u001b[39mloc[bowler_type, \u001b[38;5;124m'\u001b[39m\u001b[38;5;124mdeliveries_per_wicket\u001b[39m\u001b[38;5;124m'\u001b[39m]\n\u001b[0;32m     96\u001b[0m \t\t\u001b[38;5;28;01melse\u001b[39;00m:\n",
      "File \u001b[1;32mc:\\Users\\kaush\\pyver\\py3115\\Lib\\site-packages\\pandas\\core\\frame.py:3893\u001b[0m, in \u001b[0;36mDataFrame.__getitem__\u001b[1;34m(self, key)\u001b[0m\n\u001b[0;32m   3891\u001b[0m \u001b[38;5;28;01mif\u001b[39;00m \u001b[38;5;28mself\u001b[39m\u001b[38;5;241m.\u001b[39mcolumns\u001b[38;5;241m.\u001b[39mnlevels \u001b[38;5;241m>\u001b[39m \u001b[38;5;241m1\u001b[39m:\n\u001b[0;32m   3892\u001b[0m     \u001b[38;5;28;01mreturn\u001b[39;00m \u001b[38;5;28mself\u001b[39m\u001b[38;5;241m.\u001b[39m_getitem_multilevel(key)\n\u001b[1;32m-> 3893\u001b[0m indexer \u001b[38;5;241m=\u001b[39m \u001b[38;5;28;43mself\u001b[39;49m\u001b[38;5;241;43m.\u001b[39;49m\u001b[43mcolumns\u001b[49m\u001b[38;5;241;43m.\u001b[39;49m\u001b[43mget_loc\u001b[49m\u001b[43m(\u001b[49m\u001b[43mkey\u001b[49m\u001b[43m)\u001b[49m\n\u001b[0;32m   3894\u001b[0m \u001b[38;5;28;01mif\u001b[39;00m is_integer(indexer):\n\u001b[0;32m   3895\u001b[0m     indexer \u001b[38;5;241m=\u001b[39m [indexer]\n",
      "File \u001b[1;32mc:\\Users\\kaush\\pyver\\py3115\\Lib\\site-packages\\pandas\\core\\indexes\\base.py:3798\u001b[0m, in \u001b[0;36mIndex.get_loc\u001b[1;34m(self, key)\u001b[0m\n\u001b[0;32m   3793\u001b[0m     \u001b[38;5;28;01mif\u001b[39;00m \u001b[38;5;28misinstance\u001b[39m(casted_key, \u001b[38;5;28mslice\u001b[39m) \u001b[38;5;129;01mor\u001b[39;00m (\n\u001b[0;32m   3794\u001b[0m         \u001b[38;5;28misinstance\u001b[39m(casted_key, abc\u001b[38;5;241m.\u001b[39mIterable)\n\u001b[0;32m   3795\u001b[0m         \u001b[38;5;129;01mand\u001b[39;00m \u001b[38;5;28many\u001b[39m(\u001b[38;5;28misinstance\u001b[39m(x, \u001b[38;5;28mslice\u001b[39m) \u001b[38;5;28;01mfor\u001b[39;00m x \u001b[38;5;129;01min\u001b[39;00m casted_key)\n\u001b[0;32m   3796\u001b[0m     ):\n\u001b[0;32m   3797\u001b[0m         \u001b[38;5;28;01mraise\u001b[39;00m InvalidIndexError(key)\n\u001b[1;32m-> 3798\u001b[0m     \u001b[38;5;28;01mraise\u001b[39;00m \u001b[38;5;167;01mKeyError\u001b[39;00m(key) \u001b[38;5;28;01mfrom\u001b[39;00m \u001b[38;5;21;01merr\u001b[39;00m\n\u001b[0;32m   3799\u001b[0m \u001b[38;5;28;01mexcept\u001b[39;00m \u001b[38;5;167;01mTypeError\u001b[39;00m:\n\u001b[0;32m   3800\u001b[0m     \u001b[38;5;66;03m# If we have a listlike key, _check_indexing_error will raise\u001b[39;00m\n\u001b[0;32m   3801\u001b[0m     \u001b[38;5;66;03m#  InvalidIndexError. Otherwise we fall through and re-raise\u001b[39;00m\n\u001b[0;32m   3802\u001b[0m     \u001b[38;5;66;03m#  the TypeError.\u001b[39;00m\n\u001b[0;32m   3803\u001b[0m     \u001b[38;5;28mself\u001b[39m\u001b[38;5;241m.\u001b[39m_check_indexing_error(key)\n",
      "\u001b[1;31mKeyError\u001b[0m: 'Right arm Offbreak'"
     ]
    }
   ],
   "source": [
    "selected_batters = [\"PWH de Silva\",'KIC Asalanka','BKG Mendis',\"P Nissanka\",'PHKD Mendis','S Samarawickrama','AD Mathews','MD Shanaka','DM de Silva','M Theekshana','PVD Chameera','N Thushara','M Pathirana','D Madushanka']\n",
    "\n",
    "merged_df = pd.DataFrame()\n",
    "\n",
    "for player in data['batter'].unique():\n",
    "    print(\"Analyzing Player\", player)\n",
    "    \n",
    "    player_scores = getPlayerScores(player)\n",
    "    player_scores['batter'] = player\n",
    "    player_scores.drop('non_striker', inplace=True, axis = 1)\n",
    "    merged_df = pd.concat([merged_df, player_scores])\n",
    "\n"
   ]
  },
  {
   "cell_type": "code",
   "execution_count": 26,
   "metadata": {},
   "outputs": [
    {
     "name": "stdout",
     "output_type": "stream",
     "text": [
      "<class 'pandas.core.frame.DataFrame'>\n",
      "Index: 414 entries, 0 to 38\n",
      "Data columns (total 31 columns):\n",
      " #   Column                                Non-Null Count  Dtype  \n",
      "---  ------                                --------------  -----  \n",
      " 0   match_id                              414 non-null    object \n",
      " 1   batter                                414 non-null    object \n",
      " 2   batter_runs                           414 non-null    int64  \n",
      " 3   balls_faced                           414 non-null    int64  \n",
      " 4   wicket_type                           414 non-null    object \n",
      " 5   won                                   414 non-null    float64\n",
      " 6   innings                               414 non-null    int64  \n",
      " 7   wickets_fallen                        414 non-null    int64  \n",
      " 8   bowling_team                          414 non-null    object \n",
      " 9   first_ball                            414 non-null    int32  \n",
      " 10  strike_rate                           414 non-null    float64\n",
      " 11  out                                   414 non-null    bool   \n",
      " 12  last_ball                             414 non-null    int32  \n",
      " 13  Left arm Fast                         414 non-null    float64\n",
      " 14  Left arm Orthodox                     414 non-null    float64\n",
      " 15  Left arm Wrist spin                   414 non-null    float64\n",
      " 16  Right arm Fast                        414 non-null    float64\n",
      " 17  Right arm Legbreak                    414 non-null    float64\n",
      " 18  Right arm Offbreak                    414 non-null    float64\n",
      " 19  Left arm Fast Expected Runs           414 non-null    float64\n",
      " 20  Left arm Fast Expected Wickets        414 non-null    float64\n",
      " 21  Right arm Fast Expected Runs          414 non-null    float64\n",
      " 22  Right arm Fast Expected Wickets       414 non-null    float64\n",
      " 23  Left arm Orthodox Expected Runs       414 non-null    float64\n",
      " 24  Left arm Orthodox Expected Wickets    414 non-null    float64\n",
      " 25  Left arm Wrist spin Expected Runs     414 non-null    float64\n",
      " 26  Left arm Wrist spin Expected Wickets  414 non-null    float64\n",
      " 27  Right arm Legbreak Expected Runs      414 non-null    float64\n",
      " 28  Right arm Legbreak Expected Wickets   414 non-null    float64\n",
      " 29  Right arm Offbreak Expected Runs      414 non-null    float64\n",
      " 30  Right arm Offbreak Expected Wickets   414 non-null    float64\n",
      "dtypes: bool(1), float64(20), int32(2), int64(4), object(4)\n",
      "memory usage: 97.4+ KB\n"
     ]
    }
   ],
   "source": [
    "merged_df.info()"
   ]
  },
  {
   "cell_type": "code",
   "execution_count": 27,
   "metadata": {},
   "outputs": [],
   "source": [
    "\n",
    "targets = ['batter_runs', 'balls_faced', 'last_ball', 'strike_rate']\n",
    "target_df = merged_df[targets]\n",
    "\n",
    "input_df = merged_df.drop(targets, axis=1)\n",
    "input_df.drop(['wicket_type', 'out', 'match_id', 'won'], inplace=True, axis = 1)\n",
    "\n",
    "# Preprocess the data\n",
    "input_df = pd.get_dummies(data=input_df,dtype=int)\n"
   ]
  },
  {
   "cell_type": "code",
   "execution_count": 28,
   "metadata": {},
   "outputs": [],
   "source": [
    "def display_scores(scores):\n",
    "    print(\"Scores: \", scores)\n",
    "    print(\"Mean: \", scores.mean())\n",
    "    print(\"Standard Deviation: \", scores.std())"
   ]
  },
  {
   "cell_type": "code",
   "execution_count": 56,
   "metadata": {},
   "outputs": [
    {
     "name": "stdout",
     "output_type": "stream",
     "text": [
      "Scores:  [11.23875099 21.08260398 21.5296031  22.38462483 22.98090406 15.27791328\n",
      " 15.97101032 14.53591012 13.56735681 14.31100549]\n",
      "Mean:  17.287968295803275\n",
      "Standard Deviation:  4.04256060212877\n"
     ]
    }
   ],
   "source": [
    "from sklearn.model_selection import cross_val_score\n",
    "from sklearn.tree import DecisionTreeRegressor\n",
    "\n",
    "batter_runs = target_df['balls_faced']\n",
    "tree_reg = DecisionTreeRegressor()\n",
    "\n",
    "scores = cross_val_score(tree_reg, input_df, batter_runs, scoring=\"neg_mean_squared_error\", cv = 10)\n",
    "tree_rmse_scores = np.sqrt(-scores)\n",
    "\n",
    "\n",
    "\n",
    "display_scores(tree_rmse_scores)\n",
    "    \n"
   ]
  },
  {
   "cell_type": "code",
   "execution_count": 30,
   "metadata": {},
   "outputs": [
    {
     "ename": "SyntaxError",
     "evalue": "invalid syntax (3355457040.py, line 3)",
     "output_type": "error",
     "traceback": [
      "\u001b[1;36m  Cell \u001b[1;32mIn[30], line 3\u001b[1;36m\u001b[0m\n\u001b[1;33m    forest_reg.\u001b[0m\n\u001b[1;37m               ^\u001b[0m\n\u001b[1;31mSyntaxError\u001b[0m\u001b[1;31m:\u001b[0m invalid syntax\n"
     ]
    }
   ],
   "source": [
    "from sklearn.ensemble import RandomForestRegressor\n",
    "forest_reg = RandomForestRegressor()\n"
   ]
  }
 ],
 "metadata": {
  "kernelspec": {
   "display_name": "Python 3",
   "language": "python",
   "name": "python3"
  },
  "language_info": {
   "codemirror_mode": {
    "name": "ipython",
    "version": 3
   },
   "file_extension": ".py",
   "mimetype": "text/x-python",
   "name": "python",
   "nbconvert_exporter": "python",
   "pygments_lexer": "ipython3",
   "version": "3.11.5"
  }
 },
 "nbformat": 4,
 "nbformat_minor": 2
}
