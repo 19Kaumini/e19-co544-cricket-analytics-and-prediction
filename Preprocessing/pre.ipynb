{
 "cells": [
  {
   "cell_type": "code",
   "execution_count": 37,
   "metadata": {},
   "outputs": [],
   "source": [
    "import pandas as pd\n",
    "import numpy as np\n",
    "import seaborn as sns"
   ]
  },
  {
   "cell_type": "code",
   "execution_count": 38,
   "metadata": {},
   "outputs": [
    {
     "name": "stderr",
     "output_type": "stream",
     "text": [
      "C:\\Users\\Mansitha Eashwara\\AppData\\Local\\Temp\\ipykernel_15420\\2502520839.py:1: DtypeWarning: Columns (33,34) have mixed types. Specify dtype option on import or set low_memory=False.\n",
      "  df = pd.read_csv(\"../Data/selected_data/merged_data.csv\")\n"
     ]
    }
   ],
   "source": [
    "df = pd.read_csv(\"../Data/selected_data/merged_data.csv\")"
   ]
  },
  {
   "cell_type": "code",
   "execution_count": 39,
   "metadata": {},
   "outputs": [
    {
     "data": {
      "text/html": [
       "<div>\n",
       "<style scoped>\n",
       "    .dataframe tbody tr th:only-of-type {\n",
       "        vertical-align: middle;\n",
       "    }\n",
       "\n",
       "    .dataframe tbody tr th {\n",
       "        vertical-align: top;\n",
       "    }\n",
       "\n",
       "    .dataframe thead th {\n",
       "        text-align: right;\n",
       "    }\n",
       "</style>\n",
       "<table border=\"1\" class=\"dataframe\">\n",
       "  <thead>\n",
       "    <tr style=\"text-align: right;\">\n",
       "      <th></th>\n",
       "      <th>Unnamed: 0</th>\n",
       "      <th>batter</th>\n",
       "      <th>bowler</th>\n",
       "      <th>non_striker</th>\n",
       "      <th>runs_by_bat</th>\n",
       "      <th>extra_runs</th>\n",
       "      <th>total_runs_delivery</th>\n",
       "      <th>current_team_total</th>\n",
       "      <th>runs_remain</th>\n",
       "      <th>batter_runs</th>\n",
       "      <th>...</th>\n",
       "      <th>winning_team</th>\n",
       "      <th>batting_team</th>\n",
       "      <th>bowling_team</th>\n",
       "      <th>won</th>\n",
       "      <th>final_team_total</th>\n",
       "      <th>batter_type</th>\n",
       "      <th>non_striker_type</th>\n",
       "      <th>bowler_type</th>\n",
       "      <th>replacements</th>\n",
       "      <th>review</th>\n",
       "    </tr>\n",
       "  </thead>\n",
       "  <tbody>\n",
       "    <tr>\n",
       "      <th>0</th>\n",
       "      <td>0</td>\n",
       "      <td>AJ Finch</td>\n",
       "      <td>SL Malinga</td>\n",
       "      <td>M Klinger</td>\n",
       "      <td>0</td>\n",
       "      <td>0</td>\n",
       "      <td>0</td>\n",
       "      <td>0</td>\n",
       "      <td>NaN</td>\n",
       "      <td>0</td>\n",
       "      <td>...</td>\n",
       "      <td>Sri Lanka</td>\n",
       "      <td>Australia</td>\n",
       "      <td>Sri Lanka</td>\n",
       "      <td>0.0</td>\n",
       "      <td>168</td>\n",
       "      <td>Right hand Bat</td>\n",
       "      <td>NaN</td>\n",
       "      <td>Right arm Fast</td>\n",
       "      <td>NaN</td>\n",
       "      <td>NaN</td>\n",
       "    </tr>\n",
       "    <tr>\n",
       "      <th>1</th>\n",
       "      <td>1</td>\n",
       "      <td>AJ Finch</td>\n",
       "      <td>SL Malinga</td>\n",
       "      <td>M Klinger</td>\n",
       "      <td>0</td>\n",
       "      <td>0</td>\n",
       "      <td>0</td>\n",
       "      <td>0</td>\n",
       "      <td>NaN</td>\n",
       "      <td>0</td>\n",
       "      <td>...</td>\n",
       "      <td>Sri Lanka</td>\n",
       "      <td>Australia</td>\n",
       "      <td>Sri Lanka</td>\n",
       "      <td>0.0</td>\n",
       "      <td>168</td>\n",
       "      <td>Right hand Bat</td>\n",
       "      <td>NaN</td>\n",
       "      <td>Right arm Fast</td>\n",
       "      <td>NaN</td>\n",
       "      <td>NaN</td>\n",
       "    </tr>\n",
       "    <tr>\n",
       "      <th>2</th>\n",
       "      <td>2</td>\n",
       "      <td>AJ Finch</td>\n",
       "      <td>SL Malinga</td>\n",
       "      <td>M Klinger</td>\n",
       "      <td>1</td>\n",
       "      <td>0</td>\n",
       "      <td>1</td>\n",
       "      <td>1</td>\n",
       "      <td>NaN</td>\n",
       "      <td>1</td>\n",
       "      <td>...</td>\n",
       "      <td>Sri Lanka</td>\n",
       "      <td>Australia</td>\n",
       "      <td>Sri Lanka</td>\n",
       "      <td>0.0</td>\n",
       "      <td>168</td>\n",
       "      <td>Right hand Bat</td>\n",
       "      <td>NaN</td>\n",
       "      <td>Right arm Fast</td>\n",
       "      <td>NaN</td>\n",
       "      <td>NaN</td>\n",
       "    </tr>\n",
       "    <tr>\n",
       "      <th>3</th>\n",
       "      <td>3</td>\n",
       "      <td>M Klinger</td>\n",
       "      <td>SL Malinga</td>\n",
       "      <td>AJ Finch</td>\n",
       "      <td>2</td>\n",
       "      <td>0</td>\n",
       "      <td>2</td>\n",
       "      <td>3</td>\n",
       "      <td>NaN</td>\n",
       "      <td>2</td>\n",
       "      <td>...</td>\n",
       "      <td>Sri Lanka</td>\n",
       "      <td>Australia</td>\n",
       "      <td>Sri Lanka</td>\n",
       "      <td>0.0</td>\n",
       "      <td>168</td>\n",
       "      <td>NaN</td>\n",
       "      <td>Right hand Bat</td>\n",
       "      <td>Right arm Fast</td>\n",
       "      <td>NaN</td>\n",
       "      <td>NaN</td>\n",
       "    </tr>\n",
       "    <tr>\n",
       "      <th>4</th>\n",
       "      <td>4</td>\n",
       "      <td>M Klinger</td>\n",
       "      <td>SL Malinga</td>\n",
       "      <td>AJ Finch</td>\n",
       "      <td>0</td>\n",
       "      <td>0</td>\n",
       "      <td>0</td>\n",
       "      <td>3</td>\n",
       "      <td>NaN</td>\n",
       "      <td>2</td>\n",
       "      <td>...</td>\n",
       "      <td>Sri Lanka</td>\n",
       "      <td>Australia</td>\n",
       "      <td>Sri Lanka</td>\n",
       "      <td>0.0</td>\n",
       "      <td>168</td>\n",
       "      <td>NaN</td>\n",
       "      <td>Right hand Bat</td>\n",
       "      <td>Right arm Fast</td>\n",
       "      <td>NaN</td>\n",
       "      <td>NaN</td>\n",
       "    </tr>\n",
       "  </tbody>\n",
       "</table>\n",
       "<p>5 rows × 35 columns</p>\n",
       "</div>"
      ],
      "text/plain": [
       "   Unnamed: 0     batter      bowler non_striker  runs_by_bat  extra_runs  \\\n",
       "0           0   AJ Finch  SL Malinga   M Klinger            0           0   \n",
       "1           1   AJ Finch  SL Malinga   M Klinger            0           0   \n",
       "2           2   AJ Finch  SL Malinga   M Klinger            1           0   \n",
       "3           3  M Klinger  SL Malinga    AJ Finch            2           0   \n",
       "4           4  M Klinger  SL Malinga    AJ Finch            0           0   \n",
       "\n",
       "   total_runs_delivery  current_team_total  runs_remain  batter_runs  ...  \\\n",
       "0                    0                   0          NaN            0  ...   \n",
       "1                    0                   0          NaN            0  ...   \n",
       "2                    1                   1          NaN            1  ...   \n",
       "3                    2                   3          NaN            2  ...   \n",
       "4                    0                   3          NaN            2  ...   \n",
       "\n",
       "   winning_team  batting_team bowling_team  won  final_team_total  \\\n",
       "0     Sri Lanka     Australia    Sri Lanka  0.0               168   \n",
       "1     Sri Lanka     Australia    Sri Lanka  0.0               168   \n",
       "2     Sri Lanka     Australia    Sri Lanka  0.0               168   \n",
       "3     Sri Lanka     Australia    Sri Lanka  0.0               168   \n",
       "4     Sri Lanka     Australia    Sri Lanka  0.0               168   \n",
       "\n",
       "      batter_type non_striker_type     bowler_type replacements review  \n",
       "0  Right hand Bat              NaN  Right arm Fast          NaN    NaN  \n",
       "1  Right hand Bat              NaN  Right arm Fast          NaN    NaN  \n",
       "2  Right hand Bat              NaN  Right arm Fast          NaN    NaN  \n",
       "3             NaN   Right hand Bat  Right arm Fast          NaN    NaN  \n",
       "4             NaN   Right hand Bat  Right arm Fast          NaN    NaN  \n",
       "\n",
       "[5 rows x 35 columns]"
      ]
     },
     "execution_count": 39,
     "metadata": {},
     "output_type": "execute_result"
    }
   ],
   "source": [
    "df.head()"
   ]
  },
  {
   "cell_type": "code",
   "execution_count": 40,
   "metadata": {},
   "outputs": [],
   "source": [
    "df.drop(columns=['Unnamed: 0',\"review\",\"fielder\"], inplace=True)"
   ]
  },
  {
   "cell_type": "code",
   "execution_count": 41,
   "metadata": {},
   "outputs": [
    {
     "name": "stdout",
     "output_type": "stream",
     "text": [
      "<class 'pandas.core.frame.DataFrame'>\n",
      "RangeIndex: 217242 entries, 0 to 217241\n",
      "Data columns (total 32 columns):\n",
      " #   Column               Non-Null Count   Dtype  \n",
      "---  ------               --------------   -----  \n",
      " 0   batter               217242 non-null  object \n",
      " 1   bowler               217242 non-null  object \n",
      " 2   non_striker          217242 non-null  object \n",
      " 3   runs_by_bat          217242 non-null  int64  \n",
      " 4   extra_runs           217242 non-null  int64  \n",
      " 5   total_runs_delivery  217242 non-null  int64  \n",
      " 6   current_team_total   217242 non-null  int64  \n",
      " 7   runs_remain          103118 non-null  float64\n",
      " 8   batter_runs          217242 non-null  int64  \n",
      " 9   balls_faced          217242 non-null  int64  \n",
      " 10  wickets_fallen       217242 non-null  int64  \n",
      " 11  extra_type           217242 non-null  object \n",
      " 12  delivery             217242 non-null  float64\n",
      " 13  over                 217242 non-null  int64  \n",
      " 14  wicket_type          217242 non-null  object \n",
      " 15  player_out           11704 non-null   object \n",
      " 16  toss_decision        217242 non-null  object \n",
      " 17  toss_winner          217242 non-null  object \n",
      " 18  innings              217242 non-null  int64  \n",
      " 19  venue                217242 non-null  object \n",
      " 20  year                 217242 non-null  int64  \n",
      " 21  month                217242 non-null  int64  \n",
      " 22  match_id             217242 non-null  object \n",
      " 23  winning_team         217242 non-null  object \n",
      " 24  batting_team         217242 non-null  object \n",
      " 25  bowling_team         216265 non-null  object \n",
      " 26  won                  211036 non-null  float64\n",
      " 27  final_team_total     217242 non-null  int64  \n",
      " 28  batter_type          187814 non-null  object \n",
      " 29  non_striker_type     187723 non-null  object \n",
      " 30  bowler_type          217240 non-null  object \n",
      " 31  replacements         40 non-null      object \n",
      "dtypes: float64(3), int64(12), object(17)\n",
      "memory usage: 53.0+ MB\n"
     ]
    }
   ],
   "source": [
    "df.info()"
   ]
  },
  {
   "cell_type": "code",
   "execution_count": 42,
   "metadata": {},
   "outputs": [
    {
     "name": "stdout",
     "output_type": "stream",
     "text": [
      "runs_remain         114124\n",
      "player_out          205538\n",
      "bowling_team           977\n",
      "won                   6206\n",
      "batter_type          29428\n",
      "non_striker_type     29519\n",
      "bowler_type              2\n",
      "replacements        217202\n",
      "dtype: int64\n"
     ]
    }
   ],
   "source": [
    "null_columns = df.isnull().sum()[df.isnull().sum() > 0]\n",
    "print(null_columns)"
   ]
  },
  {
   "cell_type": "code",
   "execution_count": 43,
   "metadata": {},
   "outputs": [],
   "source": [
    "df[\"runs_remain\"] = df[\"runs_remain\"].fillna(-1)\n",
    "df[\"replacements\"] = df[\"replacements\"].fillna(\"No Replacement\")\n",
    "df[\"player_out\"] = df[\"player_out\"].fillna(\"Not Out\")\n",
    "df[\"won\"] = df[\"won\"].fillna(-1)\n",
    "df[\"bowler_type\"] = df[\"bowler_type\"].fillna(\"Right arm Offbreak\")\n",
    "\n",
    "\n",
    "\n"
   ]
  },
  {
   "cell_type": "code",
   "execution_count": 44,
   "metadata": {},
   "outputs": [
    {
     "name": "stdout",
     "output_type": "stream",
     "text": [
      "bowling_team          977\n",
      "batter_type         29428\n",
      "non_striker_type    29519\n",
      "dtype: int64\n"
     ]
    }
   ],
   "source": [
    "null_columns = df.isnull().sum()[df.isnull().sum() > 0]\n",
    "print(null_columns)"
   ]
  },
  {
   "cell_type": "code",
   "execution_count": 48,
   "metadata": {},
   "outputs": [
    {
     "data": {
      "text/plain": [
       "array(['New Zealand_West Indies_2018-01-01', 'Australia_India_2018-11-23',\n",
       "       'England_Pakistan_2020-08-28',\n",
       "       'West Indies_New Zealand_2020-11-30',\n",
       "       'West Indies_Pakistan_2021-07-28',\n",
       "       'West Indies_Pakistan_2021-08-01',\n",
       "       'West Indies_Pakistan_2021-08-03', 'India_South Africa_2022-06-19',\n",
       "       'Bangladesh_West Indies_2022-07-02',\n",
       "       'New Zealand_Pakistan_2023-04-20',\n",
       "       'New Zealand_Bangladesh_2023-12-29',\n",
       "       'Afghanistan_India_2023-10-07', 'Ireland_West Indies_2012-09-24',\n",
       "       'England_New Zealand_2013-06-27',\n",
       "       'West Indies_Bangladesh_2014-08-27',\n",
       "       'Bangladesh_Ireland_2016-03-11'], dtype=object)"
      ]
     },
     "execution_count": 48,
     "metadata": {},
     "output_type": "execute_result"
    }
   ],
   "source": [
    "temp = df.loc[df[\"bowling_team\"].isnull()] \n",
    "temp[\"match_id\"].unique()"
   ]
  },
  {
   "cell_type": "code",
   "execution_count": 46,
   "metadata": {},
   "outputs": [
    {
     "data": {
      "text/plain": [
       "bowler_type\n",
       "Right arm Fast         66582\n",
       "Right arm Medium       38179\n",
       "Right arm Offbreak     29164\n",
       "Left arm Orthodox      24693\n",
       "Right arm Legbreak     24094\n",
       "Left arm Fast          21680\n",
       "Left arm Medium         9565\n",
       "Left arm Wrist spin     3285\n",
       "Name: count, dtype: int64"
      ]
     },
     "execution_count": 46,
     "metadata": {},
     "output_type": "execute_result"
    }
   ],
   "source": [
    "df[\"bowler_type\"].value_counts()"
   ]
  }
 ],
 "metadata": {
  "kernelspec": {
   "display_name": "Python 3",
   "language": "python",
   "name": "python3"
  },
  "language_info": {
   "codemirror_mode": {
    "name": "ipython",
    "version": 3
   },
   "file_extension": ".py",
   "mimetype": "text/x-python",
   "name": "python",
   "nbconvert_exporter": "python",
   "pygments_lexer": "ipython3",
   "version": "3.12.2"
  }
 },
 "nbformat": 4,
 "nbformat_minor": 2
}
