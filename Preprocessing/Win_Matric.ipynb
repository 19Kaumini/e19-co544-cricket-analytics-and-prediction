{
 "cells": [
  {
   "cell_type": "code",
   "execution_count": 1,
   "metadata": {},
   "outputs": [],
   "source": [
    "import pandas as pd\n",
    "df = pd.read_csv(\"../Data/selected_data/processed_data.csv\")"
   ]
  },
  {
   "cell_type": "code",
   "execution_count": 2,
   "metadata": {},
   "outputs": [
    {
     "name": "stdout",
     "output_type": "stream",
     "text": [
      "<class 'pandas.core.frame.DataFrame'>\n",
      "RangeIndex: 217242 entries, 0 to 217241\n",
      "Data columns (total 32 columns):\n",
      " #   Column               Non-Null Count   Dtype  \n",
      "---  ------               --------------   -----  \n",
      " 0   batter               217242 non-null  object \n",
      " 1   bowler               217242 non-null  object \n",
      " 2   non_striker          217242 non-null  object \n",
      " 3   runs_by_bat          217242 non-null  int64  \n",
      " 4   extra_runs           217242 non-null  int64  \n",
      " 5   total_runs_delivery  217242 non-null  int64  \n",
      " 6   current_team_total   217242 non-null  int64  \n",
      " 7   runs_remain          217242 non-null  float64\n",
      " 8   batter_runs          217242 non-null  int64  \n",
      " 9   balls_faced          217242 non-null  int64  \n",
      " 10  wickets_fallen       217242 non-null  int64  \n",
      " 11  extra_type           217242 non-null  object \n",
      " 12  delivery             217242 non-null  float64\n",
      " 13  over                 217242 non-null  int64  \n",
      " 14  wicket_type          217242 non-null  object \n",
      " 15  player_out           217242 non-null  object \n",
      " 16  toss_decision        217242 non-null  object \n",
      " 17  toss_winner          217242 non-null  object \n",
      " 18  innings              217242 non-null  int64  \n",
      " 19  venue                217242 non-null  object \n",
      " 20  year                 217242 non-null  int64  \n",
      " 21  month                217242 non-null  int64  \n",
      " 22  match_id             217242 non-null  object \n",
      " 23  winning_team         217242 non-null  object \n",
      " 24  batting_team         217242 non-null  object \n",
      " 25  bowling_team         217242 non-null  object \n",
      " 26  won                  217242 non-null  float64\n",
      " 27  final_team_total     217242 non-null  int64  \n",
      " 28  batter_type          217242 non-null  object \n",
      " 29  non_striker_type     217242 non-null  object \n",
      " 30  bowler_type          217242 non-null  object \n",
      " 31  replacements         217242 non-null  object \n",
      "dtypes: float64(3), int64(12), object(17)\n",
      "memory usage: 53.0+ MB\n"
     ]
    }
   ],
   "source": [
    "df.info()"
   ]
  },
  {
   "cell_type": "code",
   "execution_count": 12,
   "metadata": {},
   "outputs": [],
   "source": [
    "# check winning_team column and if it is \"no result\" then remove the row\n",
    "df = df[df[\"winning_team\"] != \"no result\"]"
   ]
  },
  {
   "cell_type": "code",
   "execution_count": 14,
   "metadata": {},
   "outputs": [],
   "source": [
    "# group data by match_id\n",
    "grouped = df.groupby(\"match_id\")\n",
    "\n",
    "# get net run rate for each team\n",
    "net_run_rate = {}\n",
    "for match_id, group in grouped:\n",
    "    team1 = group[group[\"innings\"] == 1]\n",
    "    team2 = group[group[\"innings\"] == 2]\n",
    "\n",
    "    team1_runs = team1[\"final_team_total\"].iloc[0]\n",
    "    team2_runs = team2[\"final_team_total\"].iloc[0]\n",
    "    \n",
    "    team1_overs = team1[\"over\"].iloc[-1] + (team1[\"delivery\"].iloc[-1] / 6)\n",
    "    team2_overs = team2[\"over\"].iloc[-1] + (team2[\"delivery\"].iloc[-1] / 6)\n",
    "    \n",
    "\n",
    "    # check if team1 is all out\n",
    "    if team1[\"wickets_fallen\"].iloc[-1] == 10:\n",
    "        team1_overs = 20\n",
    "\n",
    "    # check if team2 is all out\n",
    "    if team2[\"wickets_fallen\"].iloc[-1] == 10:\n",
    "        team2_overs = 20\n",
    "\n",
    "    team1_net_run_rate = (team1_runs / team1_overs) - (team2_runs / team2_overs)\n",
    "    team2_net_run_rate = (team2_runs / team2_overs) - (team1_runs / team1_overs)\n",
    "\n",
    "    # print(f\"Match ID: {match_id}\")\n",
    "    # print(f\"Team 1: {team1_net_run_rate}\")\n",
    "    # print(f\"Team 2: {team2_net_run_rate}\")\n",
    "    # print()\n",
    "\n",
    "\n",
    "    # introduce net_run_rate column for original dataframe df\n",
    "    for index, row in group.iterrows():\n",
    "        if row[\"innings\"] == 1:\n",
    "            df.at[index, \"net_run_rate\"] = team1_net_run_rate\n",
    "        else:\n",
    "            df.at[index, \"net_run_rate\"] = team2_net_run_rate\n",
    "\n",
    "df.to_csv(\"../Data/selected_data/processed_data_NRR.csv\", index=False)\n"
   ]
  }
 ],
 "metadata": {
  "kernelspec": {
   "display_name": "Python 3",
   "language": "python",
   "name": "python3"
  },
  "language_info": {
   "codemirror_mode": {
    "name": "ipython",
    "version": 3
   },
   "file_extension": ".py",
   "mimetype": "text/x-python",
   "name": "python",
   "nbconvert_exporter": "python",
   "pygments_lexer": "ipython3",
   "version": "3.11.2"
  }
 },
 "nbformat": 4,
 "nbformat_minor": 2
}
