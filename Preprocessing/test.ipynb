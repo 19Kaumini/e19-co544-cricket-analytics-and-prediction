{
 "cells": [
  {
   "cell_type": "code",
   "execution_count": 1,
   "metadata": {},
   "outputs": [],
   "source": [
    "import pandas as pd\n"
   ]
  },
  {
   "cell_type": "code",
   "execution_count": 2,
   "metadata": {},
   "outputs": [],
   "source": [
    "data = pd.read_csv(\"../Data/selected_data/processed_data.csv\")"
   ]
  },
  {
   "cell_type": "code",
   "execution_count": 5,
   "metadata": {},
   "outputs": [
    {
     "data": {
      "text/plain": [
       "array(['South Africa_Sri Lanka_2019-03-19',\n",
       "       'New Zealand_England_2019-11-10', 'New Zealand_India_2020-01-29',\n",
       "       'New Zealand_India_2020-01-31', 'Afghanistan_Ireland_2020-03-10',\n",
       "       'Australia_Sri Lanka_2022-02-13',\n",
       "       'Sri Lanka_New Zealand_2023-04-02', 'India_Afghanistan_2024-01-17',\n",
       "       'New Zealand_West Indies_2008-12-26',\n",
       "       'New Zealand_Australia_2010-02-28',\n",
       "       'Sri Lanka_New Zealand_2012-09-27',\n",
       "       'New Zealand_West Indies_2012-10-01',\n",
       "       'Australia_Pakistan_2012-09-07', 'England_Pakistan_2015-11-30'],\n",
       "      dtype=object)"
      ]
     },
     "execution_count": 5,
     "metadata": {},
     "output_type": "execute_result"
    }
   ],
   "source": [
    "data.loc[data[\"batting_team\"]==data[\"bowling_team\"]][\"match_id\"].unique()"
   ]
  }
 ],
 "metadata": {
  "kernelspec": {
   "display_name": "Python 3",
   "language": "python",
   "name": "python3"
  },
  "language_info": {
   "codemirror_mode": {
    "name": "ipython",
    "version": 3
   },
   "file_extension": ".py",
   "mimetype": "text/x-python",
   "name": "python",
   "nbconvert_exporter": "python",
   "pygments_lexer": "ipython3",
   "version": "3.12.2"
  }
 },
 "nbformat": 4,
 "nbformat_minor": 2
}
